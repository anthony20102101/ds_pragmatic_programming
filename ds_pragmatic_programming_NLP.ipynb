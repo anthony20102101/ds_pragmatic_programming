{
 "cells": [
  {
   "cell_type": "markdown",
   "metadata": {
    "ExecuteTime": {
     "end_time": "2018-09-11T18:09:18.303884Z",
     "start_time": "2018-09-11T18:09:18.300979Z"
    }
   },
   "source": [
    "# Data Science Pragmatic programming in NLP\n",
    "\n",
    "\n",
    "Code snippets for quick consult (copy n paste)"
   ]
  },
  {
   "cell_type": "code",
   "execution_count": 3,
   "metadata": {
    "ExecuteTime": {
     "end_time": "2019-05-08T22:25:27.597585Z",
     "start_time": "2019-05-08T22:25:27.185743Z"
    }
   },
   "outputs": [],
   "source": [
    "import numpy as np\n",
    "import pandas as pd\n",
    "\n",
    "from scipy import stats\n",
    "\n",
    "import matplotlib\n",
    "import matplotlib.pyplot as plt\n",
    "%matplotlib inline \n",
    "\n",
    "import IPython\n",
    "from IPython.core.interactiveshell import InteractiveShell\n",
    "InteractiveShell.ast_node_interactivity = \"all\"\n"
   ]
  },
  {
   "cell_type": "code",
   "execution_count": 2,
   "metadata": {
    "ExecuteTime": {
     "end_time": "2019-05-07T21:14:19.686361Z",
     "start_time": "2019-05-07T21:14:19.568970Z"
    }
   },
   "outputs": [
    {
     "name": "stdout",
     "output_type": "stream",
     "text": [
      "/media/leandroohf/sdb1/leandro/ds_pragmatic_programming\r\n"
     ]
    }
   ],
   "source": [
    "!pwd"
   ]
  },
  {
   "cell_type": "markdown",
   "metadata": {
    "ExecuteTime": {
     "end_time": "2019-03-07T21:07:04.863540Z",
     "start_time": "2019-03-07T21:07:04.855274Z"
    }
   },
   "source": [
    "## NLP\n",
    "\n",
    "\n",
    "### NLP terms\n",
    "refs: https://www.kdnuggets.com/2017/02/natural-language-processing-key-terms-explained.html\n",
    "\n",
    "1. corpora or corpus \n",
    "    * collection of text\n",
    "1. semantics\n",
    "    * semantcs = meaning of the text\n",
    "1. stop words\n",
    "    * They are words to be removed because they do not add information or contents to a sentence: Ex: \"the\", \"and\" and \"a\" \n",
    "\n",
    "1. Tokenization\n",
    "\n",
    "    * The process to convert long sentences in small pices called tokens (a word vsn be a token)\n",
    "\n",
    "1. n-gram: bi-grams and tri-grams\n",
    "1. skip_gram\n",
    "1. Stemming\n",
    "    * process to reduce worfds variations: run, runs, runnig and ran is map to run\n",
    "1. Lemmatization\n",
    "    * same idea as Stemming but capture a little bit of meaning. Ex: better, good, awsome can be map to good\n",
    "1. simillarity measures\n",
    "    * jaccard\n",
    "    * leveintein or edit distance\n",
    "\n"
   ]
  },
  {
   "cell_type": "markdown",
   "metadata": {},
   "source": [
    "TODO: ADD Code to do \n",
    "   \n",
    "0. BERT Google release in 2018 and beat all the previous model   <= #A very important\n",
    "1. bag of words\n",
    "2. use wrodvec\n",
    "3. glove\n",
    "\n",
    "\n",
    "for help with BERT\n",
    "https://blog.insightdatascience.com/using-bert-for-state-of-the-art-pre-training-for-natural-language-processing-1d87142c29e7\n",
    "\n",
    "https://towardsdatascience.com/bert-explained-state-of-the-art-language-model-for-nlp-f8b21a9b6270\n",
    "\n",
    "clone bert\n",
    "git clone https://github.com/google-research/bert.git\n",
    "\n",
    "\n",
    "Use kaglle competition (Good example of multi-label calssifier)\n",
    "https://medium.com/huggingface/multi-label-text-classification-using-bert-the-mighty-transformer-69714fa3fb3d\n",
    "\n",
    "Yuo can get the data from kaggle\n",
    "https://www.kaggle.com/c/jigsaw-toxic-comment-classification-challenge/overview"
   ]
  },
  {
   "cell_type": "code",
   "execution_count": null,
   "metadata": {},
   "outputs": [],
   "source": []
  }
 ],
 "metadata": {
  "kernelspec": {
   "display_name": "Python 3",
   "language": "python",
   "name": "python3"
  },
  "language_info": {
   "codemirror_mode": {
    "name": "ipython",
    "version": 3
   },
   "file_extension": ".py",
   "mimetype": "text/x-python",
   "name": "python",
   "nbconvert_exporter": "python",
   "pygments_lexer": "ipython3",
   "version": "3.7.4"
  }
 },
 "nbformat": 4,
 "nbformat_minor": 2
}
