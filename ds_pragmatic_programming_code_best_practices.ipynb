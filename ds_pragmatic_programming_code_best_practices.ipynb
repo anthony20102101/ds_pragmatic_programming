{
 "cells": [
  {
   "cell_type": "markdown",
   "metadata": {
    "ExecuteTime": {
     "end_time": "2018-09-11T18:09:18.303884Z",
     "start_time": "2018-09-11T18:09:18.300979Z"
    }
   },
   "source": [
    "# Data Science coding habits and useful tips\n",
    "\n",
    "Notes about how to organize better my analyses and code \n",
    "\n",
    "refs: \n",
    "* https://www.thoughtworks.com/insights/blog/coding-habits-data-scientists\n",
    "* https://github.com/zedr/clean-code-python\n"
   ]
  },
  {
   "cell_type": "code",
   "execution_count": 1,
   "metadata": {},
   "outputs": [],
   "source": [
    "import numpy as np\n",
    "import pandas as pd\n",
    "\n",
    "from scipy import stats\n",
    "\n",
    "import matplotlib\n",
    "import matplotlib.pyplot as plt\n",
    "%matplotlib inline \n",
    "\n",
    "import IPython\n",
    "from IPython.core.interactiveshell import InteractiveShell\n",
    "InteractiveShell.ast_node_interactivity = \"all\"\n"
   ]
  },
  {
   "cell_type": "code",
   "execution_count": 2,
   "metadata": {},
   "outputs": [
    {
     "name": "stdout",
     "output_type": "stream",
     "text": [
      "/home/leandroohf/Documents/leandro/ds_pragmatic_programming\n",
      "add_data.png\t\t     no_data_pipeline.png\n",
      "biasvariance.png\t     non-linear_and_linear_decision_edge.png\n",
      "data_frame.png\t\t     notebook_vs_code.png\n",
      "hig_bias_low_variance.png    onehot.png\n",
      "iris_petal_sepal.png\t     pathlib_cheatsheet_p1.png\n",
      "irr_error.png\t\t     pivot-table-datasheet.png\n",
      "layers.jpeg\t\t     refactor_notebooks.png\n",
      "learning_rate2.png\t     resampling.png\n",
      "learning_rate.png\t     smote.png\n",
      "loss_learning_rate.png\t     split-apply-combine.png\n",
      "low_high_var.png\t     tomek.png\n",
      "minibatch_learning_rate.png  with_data_pipeline.png\n",
      "neuron_ANN.png\n"
     ]
    }
   ],
   "source": [
    "!pwd\n",
    "!ls images"
   ]
  },
  {
   "cell_type": "markdown",
   "metadata": {},
   "source": [
    "## Useful tips"
   ]
  },
  {
   "cell_type": "markdown",
   "metadata": {},
   "source": [
    "### Get start with few rows \n",
    "\n",
    "Work with small data for speedup things or run things local before move to a powerfull machine\n",
    "1. code the model\n",
    "1. dev cleaning data \n"
   ]
  },
  {
   "cell_type": "code",
   "execution_count": null,
   "metadata": {},
   "outputs": [],
   "source": [
    "df = pd.read_csv('data/FremontBridge.csv', index_col='Date', parse_dates=True, nrows=150)\n",
    "df.shape"
   ]
  },
  {
   "cell_type": "markdown",
   "metadata": {},
   "source": [
    "### Report progress for long processing\n",
    "\n",
    "https://medium.com/modern-nlp/10-great-ml-practices-for-python-developers-b089eefc18fc\n",
    "\n",
    "https://github.com/tqdm/tqdm\n",
    "\n",
    "tqdm also works in bash\n",
    "\n",
    "run in bash\n",
    "```sh\n",
    "seq 9999999 | tqdm --bytes | wc -l\n",
    "\n",
    "# compress folder with a lot of files\n",
    "tar -zcf - docs/ | tqdm --bytes --total `du -sb docs/ | cut -f1` > backup.tgz\n",
    " ```\n"
   ]
  },
  {
   "cell_type": "code",
   "execution_count": 5,
   "metadata": {},
   "outputs": [
    {
     "name": "stderr",
     "output_type": "stream",
     "text": [
      "100%|██████████| 4/4 [00:01<00:00,  3.97it/s]\n"
     ]
    }
   ],
   "source": [
    "from tqdm import tqdm, tnrange\n",
    "from time import sleep\n",
    "import time\n",
    "\n",
    "text = \"\"\n",
    "\n",
    "for char in tqdm([\"a\", \"b\", \"c\", \"d\"]):\n",
    "    time.sleep(0.25)\n",
    "    text = text + char"
   ]
  },
  {
   "cell_type": "code",
   "execution_count": 9,
   "metadata": {},
   "outputs": [
    {
     "data": {
      "application/vnd.jupyter.widget-view+json": {
       "model_id": "f57e3abd56b84d0a9bf9dca64e45f68e",
       "version_major": 2,
       "version_minor": 0
      },
      "text/plain": [
       "HBox(children=(IntProgress(value=0, description='1st loop', max=3, style=ProgressStyle(description_width='init…"
      ]
     },
     "metadata": {},
     "output_type": "display_data"
    },
    {
     "data": {
      "application/vnd.jupyter.widget-view+json": {
       "model_id": "a29a253240ec45b3a4a5dde431b4ea24",
       "version_major": 2,
       "version_minor": 0
      },
      "text/plain": [
       "HBox(children=(IntProgress(value=0, description='2nd loop', max=10, style=ProgressStyle(description_width='ini…"
      ]
     },
     "metadata": {},
     "output_type": "display_data"
    },
    {
     "name": "stdout",
     "output_type": "stream",
     "text": [
      "\n"
     ]
    },
    {
     "data": {
      "application/vnd.jupyter.widget-view+json": {
       "model_id": "aca4bf3ca396476d96ef9bfeeceba944",
       "version_major": 2,
       "version_minor": 0
      },
      "text/plain": [
       "HBox(children=(IntProgress(value=0, description='2nd loop', max=10, style=ProgressStyle(description_width='ini…"
      ]
     },
     "metadata": {},
     "output_type": "display_data"
    },
    {
     "name": "stdout",
     "output_type": "stream",
     "text": [
      "\n"
     ]
    },
    {
     "data": {
      "application/vnd.jupyter.widget-view+json": {
       "model_id": "d6b32d192c2445598f08221826755728",
       "version_major": 2,
       "version_minor": 0
      },
      "text/plain": [
       "HBox(children=(IntProgress(value=0, description='2nd loop', max=10, style=ProgressStyle(description_width='ini…"
      ]
     },
     "metadata": {},
     "output_type": "display_data"
    },
    {
     "name": "stdout",
     "output_type": "stream",
     "text": [
      "\n",
      "\n"
     ]
    }
   ],
   "source": [
    "for i in tnrange(3, desc='1st loop'):\n",
    "    for j in tnrange(10, desc='2nd loop'):\n",
    "        sleep(0.03)"
   ]
  },
  {
   "cell_type": "code",
   "execution_count": 10,
   "metadata": {},
   "outputs": [
    {
     "name": "stderr",
     "output_type": "stream",
     "text": [
      "/home/leandroohf/anaconda3/lib/python3.7/site-packages/tqdm/std.py:648: FutureWarning: The Panel class is removed from pandas. Accessing it from the top-level namespace will also be removed in the next version\n",
      "  from pandas import Panel\n"
     ]
    },
    {
     "data": {
      "text/plain": [
       "(56160, 2)"
      ]
     },
     "execution_count": 10,
     "metadata": {},
     "output_type": "execute_result"
    },
    {
     "data": {
      "text/html": [
       "<div>\n",
       "<style scoped>\n",
       "    .dataframe tbody tr th:only-of-type {\n",
       "        vertical-align: middle;\n",
       "    }\n",
       "\n",
       "    .dataframe tbody tr th {\n",
       "        vertical-align: top;\n",
       "    }\n",
       "\n",
       "    .dataframe thead th {\n",
       "        text-align: right;\n",
       "    }\n",
       "</style>\n",
       "<table border=\"1\" class=\"dataframe\">\n",
       "  <thead>\n",
       "    <tr style=\"text-align: right;\">\n",
       "      <th></th>\n",
       "      <th>Fremont Bridge East Sidewalk</th>\n",
       "      <th>Fremont Bridge West Sidewalk</th>\n",
       "    </tr>\n",
       "    <tr>\n",
       "      <th>Date</th>\n",
       "      <th></th>\n",
       "      <th></th>\n",
       "    </tr>\n",
       "  </thead>\n",
       "  <tbody>\n",
       "    <tr>\n",
       "      <td>2019-02-28 23:00:00</td>\n",
       "      <td>5.0</td>\n",
       "      <td>6.0</td>\n",
       "    </tr>\n",
       "    <tr>\n",
       "      <td>2019-02-28 22:00:00</td>\n",
       "      <td>4.0</td>\n",
       "      <td>27.0</td>\n",
       "    </tr>\n",
       "    <tr>\n",
       "      <td>2019-02-28 21:00:00</td>\n",
       "      <td>16.0</td>\n",
       "      <td>32.0</td>\n",
       "    </tr>\n",
       "    <tr>\n",
       "      <td>2019-02-28 20:00:00</td>\n",
       "      <td>16.0</td>\n",
       "      <td>50.0</td>\n",
       "    </tr>\n",
       "    <tr>\n",
       "      <td>2019-02-28 19:00:00</td>\n",
       "      <td>39.0</td>\n",
       "      <td>59.0</td>\n",
       "    </tr>\n",
       "  </tbody>\n",
       "</table>\n",
       "</div>"
      ],
      "text/plain": [
       "                     Fremont Bridge East Sidewalk  \\\n",
       "Date                                                \n",
       "2019-02-28 23:00:00                           5.0   \n",
       "2019-02-28 22:00:00                           4.0   \n",
       "2019-02-28 21:00:00                          16.0   \n",
       "2019-02-28 20:00:00                          16.0   \n",
       "2019-02-28 19:00:00                          39.0   \n",
       "\n",
       "                     Fremont Bridge West Sidewalk  \n",
       "Date                                               \n",
       "2019-02-28 23:00:00                           6.0  \n",
       "2019-02-28 22:00:00                          27.0  \n",
       "2019-02-28 21:00:00                          32.0  \n",
       "2019-02-28 20:00:00                          50.0  \n",
       "2019-02-28 19:00:00                          59.0  "
      ]
     },
     "execution_count": 10,
     "metadata": {},
     "output_type": "execute_result"
    },
    {
     "name": "stderr",
     "output_type": "stream",
     "text": [
      "100%|██████████| 56160/56160 [00:00<00:00, 1072290.11it/s]\n"
     ]
    }
   ],
   "source": [
    "# To activate tqdm in a notebook  !?\n",
    "tqdm.pandas()\n",
    "\n",
    "# read all data\n",
    "bikes = pd.read_csv('data/FremontBridge.csv', index_col='Date', parse_dates=True)\n",
    "\n",
    "bikes.shape\n",
    "\n",
    "bikes.head()\n",
    "\n",
    "bikes['col'] = bikes['Fremont Bridge East Sidewalk'].progress_apply(lambda x: x**2)"
   ]
  },
  {
   "cell_type": "markdown",
   "metadata": {},
   "source": [
    "### Set all seed for reproducibility\n"
   ]
  },
  {
   "cell_type": "code",
   "execution_count": 11,
   "metadata": {},
   "outputs": [],
   "source": [
    "def set_seed(args):\n",
    "    \n",
    "    random.seed(args.seed)\n",
    "    np.random.seed(args.seed)\n",
    "    tf.random.set_seed(seed)\n",
    "    \n",
    "    #torch.manual_seed(args.seed) \n",
    "#     if args.n_gpu > 0:\n",
    "#         torch.cuda.manual_seed_all(args.seed)"
   ]
  },
  {
   "cell_type": "markdown",
   "metadata": {},
   "source": [
    "### Do not leave machines running in the cloud. Save money\n",
    "\n",
    "Some of our experiments can run for hours. It's difficult to keep a track of it and shutdown the cloud instance when it's done. We need to shutdown in oreder to save money\n",
    "\n",
    "* Put this code at the end of long process to shutdown the machine after few minutes or 1 hour\n",
    "\n"
   ]
  },
  {
   "cell_type": "code",
   "execution_count": 13,
   "metadata": {},
   "outputs": [],
   "source": [
    "import os\n",
    "\n",
    "def _run_command(cmd):\n",
    "    \n",
    "    return os.system(cmd)\n",
    "    \n",
    "## TODO: Send me an email or slack message \n",
    "# slack: https://keestalkstech.com/2019/10/simple-python-code-to-send-message-to-slack-channel-without-packages/\n",
    "# https://julien.danjou.info/sending-emails-in-python-tutorial-code-examples/\n",
    "# https://www.freecodecamp.org/news/send-emails-using-code-4fcea9df63f/\n",
    "def shutdown(seconds=0, os='linux'):\n",
    "    \"\"\"Shutdown system after seconds given. Useful for shutting EC2 to save costs.\"\"\"\n",
    "    \n",
    "    if os == 'linux':\n",
    "    \n",
    "        run_command('sudo shutdown -h -t sec %s' % seconds)\n",
    "    \n",
    "    elif os == 'windows':\n",
    "        \n",
    "        run_command('shutdown -s -t %s' % seconds)"
   ]
  },
  {
   "cell_type": "markdown",
   "metadata": {},
   "source": [
    "### Create and save model and report \n",
    "\n",
    "This is so common that makes sense to have a code for taht\n"
   ]
  },
  {
   "cell_type": "code",
   "execution_count": 15,
   "metadata": {},
   "outputs": [],
   "source": [
    "import json\n",
    "import os\n",
    "\n",
    "## TODO: personalize this code from: https://medium.com/modern-nlp/10-great-ml-practices-for-python-developers-b089eefc18fc\n",
    "\n",
    "from sklearn.metrics import (accuracy_score, classification_report,\n",
    "                             confusion_matrix, f1_score, fbeta_score)\n",
    "\n",
    "def get_metrics(y, y_pred, beta=2, average_method='macro', y_encoder=None):\n",
    "    \n",
    "    if y_encoder:\n",
    "\n",
    "        y = y_encoder.inverse_transform(y)\n",
    "        y_pred = y_encoder.inverse_transform(y_pred)\n",
    "\n",
    "    return {\n",
    "        'accuracy': round(accuracy_score(y, y_pred), 4),\n",
    "        'f1_score_macro': round(f1_score(y, y_pred, average=average_method), 4),\n",
    "        'fbeta_score_macro': round(fbeta_score(y, y_pred, beta, average=average_method), 4),\n",
    "        'report': classification_report(y, y_pred, output_dict=True),\n",
    "        'report_csv': classification_report(y, y_pred, output_dict=False).replace('\\n','\\r\\n')\n",
    "    }\n",
    "\n",
    "\n",
    "# TODO:\n",
    "# you call before:\n",
    "# file_name = get_filename(fname, desc, author)\n",
    "# returns: 2020-04-uuid-author-descrition\n",
    "def save_metrics(metrics: dict, model_directory, file_name):\n",
    "    \n",
    "    path = os.path.join(model_directory, file_name + '_report.txt')\n",
    "    \n",
    "    classification_report_to_csv(metrics['report_csv'], path)\n",
    "    \n",
    "    metrics.pop('report_csv')\n",
    "    \n",
    "    path = os.path.join(model_directory, file_name + '_metrics.json')\n",
    "    \n",
    "    json.dump(metrics, open(path, 'w'), indent=4)"
   ]
  },
  {
   "cell_type": "markdown",
   "metadata": {},
   "source": [
    "## Jupyter notebook analyses workflow\n",
    "\n",
    "\n",
    "2 folders workflow for working with jupyter notebook as data scientist. Once you have a model refactors as soon as possible the code to put in dev/production environment. See images bellow.\n",
    "\n",
    "\n",
    "1. dev/ quick test your ideas (do worry too much about code QA )\n",
    "\n",
    "    * dev code should be fast so, do not worry too much about code quality\n",
    "    * keep notebooks short as posisible. Do not try to address many questions in one notebook  \n",
    "    \n",
    "1. report/notebook/presentation: \n",
    "\n",
    "    * keep only important results and move to report folder (publish) \n",
    "\n",
    "    * refactor important result (code quality matters in this phase) \n",
    "\n",
    "1. Notebooks conventions\n",
    "\n",
    "    * Notebooks contents \n",
    "\n",
    "        * top: What are the mains questions and goals. Do not try to answer many questions at once in a notebook\n",
    "        * top: Main conclusions and finds \n",
    "        * top: small plan what to try next \n",
    "\n",
    "    * Names: Ex: 2019-12-14-lhof-short_description.ipynb \n",
    "    * Try to keep notebooks short. **Large notebooks is hard to understand and mantain**.  \n",
    "\n",
    "```sh\n",
    "\n",
    "# search notebooks by dates \n",
    "ls 2019-12-1*.ipynb\n",
    "\n",
    "# search by authors\n",
    "ls 2019*-lhof-*.ipynb\n",
    "\n",
    "# search by keyword in description\n",
    "ls 2019*_keyword*.ipynb\n",
    "\n",
    "\n",
    "# search a keyword in jupyter notebooks contents\n",
    "grep --include=\\*.ipynb -rnw '.' -e \"lstm\"\n",
    "\n",
    "``` \n",
    "\n",
    "1. As soon as possible you have a model, move all the code from notebooks to implement an API or ETLS and etc \n",
    "\n",
    "    * Refactor again and pay attention on code quality. Error handle and etc. Try to follow coding best practices \n",
    "    "
   ]
  },
  {
   "cell_type": "markdown",
   "metadata": {},
   "source": [
    "<div style=\"clear:both\">\n",
    "<img src=\"images/notebook_vs_code.png\" style=\"float:left\" width=\"400\" align=\"left\"/> \n",
    "</div>\n",
    "\n",
    "<br><br><br><br>\n",
    "\n",
    "<br>\n",
    "\n",
    "<div style=\"clear:both\">\n",
    "<img src=\"images/refactor_notebooks.png\" style=\"float:left\" width=\"600\" align=\"left\"/>  \n",
    "</div>\n",
    "\n",
    "\n",
    "<br><br><br>\n",
    "\n",
    "<div style=\"clear:both\">\n"
   ]
  },
  {
   "cell_type": "markdown",
   "metadata": {},
   "source": [
    "## Notes about best coding practices in jupyter notebooks\n"
   ]
  },
  {
   "cell_type": "markdown",
   "metadata": {},
   "source": [
    "###  keep code clean\n",
    "\n",
    "    * Don't expose your internals (Keep implementation details hidden). function and class are good for that\n",
    "        * Ex: categorize_column, encode_label or split_train_n_test\n",
    "    * Avoid print statements \n",
    "        * Ex: even glorified print statements such as df.head(), df.describe(), df.plot()  \n",
    "\n",
    "    * Good variables name: Variable names should reveal intent\n",
    "\n",
    "\n",
    "```python\n",
    "loans = pd.read_csv('loans.csv')\n",
    "\n",
    "monthly_loans = loans.groupby(['month']).sum()\n",
    "monthly_loans_in_december = filter_loans(monthly_loans, month=12)\n",
    "\n",
    "```\n",
    "    \n",
    "    * Avoid comments  \n",
    "\n",
    "\n",
    "```python\n",
    "## BAD\n",
    "\n",
    "# Check to see if employee is eligible for full benefits\n",
    "if (employee.flags and HOURLY_FLAG) and (employee.age > 65):\n",
    "    # do something\n",
    "\n",
    "## Better\n",
    "if employee.isEligibleForBenefits():\n",
    "    # do something\n",
    "    \n",
    "```\n",
    "\n",
    "    * Avoid mental map\n",
    "\n",
    "```python\n",
    "\n",
    "# Bad\n",
    "seq = ('Austin', 'New York', 'San Francisco')\n",
    "\n",
    "for item in seq:\n",
    "    do_stuff()\n",
    "    do_some_other_stuff()\n",
    "    # ...\n",
    "    # Wait, what's `item` for again?\n",
    "    dispatch(item)\n",
    "\n",
    "# Good\n",
    "locations = ('Austin', 'New York', 'San Francisco')\n",
    "\n",
    "for location in locations:\n",
    "    do_stuff()\n",
    "    do_some_other_stuff()\n",
    "    # ...\n",
    "    dispatch(location)\n",
    "```\n"
   ]
  },
  {
   "cell_type": "markdown",
   "metadata": {},
   "source": [
    "\n",
    "### Use code abstracting (Functions and class)\n",
    "\n",
    "    * Use functions to keep code “DRY” (Don’t Repeat Yourself)\n",
    "    * Functions should do one thing\n",
    "    * functions name are verbs\n",
    "    * Fewer arguments (try to keep 2 or 3)\n",
    "\n",
    "```python\n",
    "def create_menu(title, body, button_text, cancellable):\n",
    "    # ...\n",
    "\n",
    "## Good\n",
    "class Menu:\n",
    "    def __init__(self, config: dict):\n",
    "        title = config[\"title\"]\n",
    "        body = config[\"body\"]\n",
    "        # ...\n",
    "\n",
    "menu = Menu(\n",
    "    {\n",
    "        \"title\": \"My Menu\",\n",
    "        \"body\": \"Something about my menu\",\n",
    "        \"button_text\": \"OK\",\n",
    "        \"cancellable\": False\n",
    "    }\n",
    ")\n",
    "\n",
    "## Also Good \n",
    "class MenuConfig:\n",
    "    \"\"\"A configuration for the Menu.\n",
    "\n",
    "    Attributes:\n",
    "        title: The title of the Menu.\n",
    "        body: The body of the Menu.\n",
    "        button_text: The text for the button label.\n",
    "        cancellable: Can it be cancelled?\n",
    "    \"\"\"\n",
    "    title: str\n",
    "    body: str\n",
    "    button_text: str\n",
    "    cancellable: bool = False\n",
    "\n",
    "\n",
    "def create_menu(config: MenuConfig):\n",
    "    title = config.title\n",
    "    body = config.body\n",
    "    # ...\n",
    "\n",
    "\n",
    "config = MenuConfig\n",
    "config.title = \"My delicious menu\"\n",
    "config.body = \"A description of the various items on the menu\"\n",
    "config.button_text = \"Order now!\"\n",
    "# The instance attribute overrides the default class attribute.\n",
    "config.cancellable = True\n",
    "\n",
    "create_menu(config)\n",
    " \n",
    "```\n",
    "\n",
    "    \n",
    "    * class names are Noums and methods verbs\n",
    "    \n",
    "    \n",
    "    * Use default arguments instead of short circuiting or conditionals\n",
    "    \n",
    "```python\n",
    "\n",
    "def create_micro_brewery(name):\n",
    "    name = \"Hipster Brew Co.\" if name is None else name\n",
    "    slug = hashlib.sha1(name.encode()).hexdigest()\n",
    "    # etc.\n",
    "    \n",
    "## Better\n",
    "def create_micro_brewery(name: str = \"Hipster Brew Co.\"):\n",
    "    slug = hashlib.sha1(name.encode()).hexdigest()\n",
    "    # etc.\n",
    "\n",
    "```\n",
    "    \n",
    "Gains because of the use of functions\n",
    "\n",
    "* Readability \n",
    "\n",
    "    * Is focusing what while reading code instead of how. \n",
    "\n",
    "* Tetability (not realy sure. Only make sense when developyn the backe end code or API) \n",
    "\n",
    "    * we can easily write a unit test for it. \n",
    "\n",
    "* Resuability\n",
    "</div>\n",
    "\n"
   ]
  },
  {
   "cell_type": "code",
   "execution_count": null,
   "metadata": {},
   "outputs": [],
   "source": [
    "data = pd.read_csv('./data/phone_data.csv')\n",
    "data.info()\n",
    "data.head()"
   ]
  },
  {
   "cell_type": "code",
   "execution_count": null,
   "metadata": {},
   "outputs": [],
   "source": [
    "import utils \n",
    "import functools\n",
    "\n",
    "# # Shameless stolen from the comments of \n",
    "# # https://www.thoughtworks.com/insights/blog/coding-habits-data-scientists\n",
    "# def compose(*functions):\n",
    "    \n",
    "#     return functools.reduce(lambda f, g: lambda x: f(g(x)), functions, lambda x: x)\n",
    "\n",
    "# Examples of common functions\n",
    "# The implementation is only ilustrations\n",
    "\n",
    "def encode_column(df: pd.DataFrame, col_name: str):\n",
    "    \n",
    "    col_name_out = col_name + '_enc'\n",
    "    df[col_name_out] = df[col_name] + '_enc'\n",
    "    \n",
    "    \n",
    "    return df\n",
    "\n",
    "\n",
    "def add_categorical_column(df):\n",
    "    \n",
    "    df['cat'] = df['network']\n",
    "    \n",
    "    \n",
    "    return df\n",
    "\n",
    "def convert_to_minutes(df):\n",
    "    \n",
    "    df['duration'] = df['duration'] /60.00\n",
    "    \n",
    "    return df\n",
    "\n",
    "\n",
    "def split_features_and_labels(df):\n",
    "    \n",
    "    # XXX: You can use split_train form scikit learn.\n",
    "    # But the exampleas is enough to express the ideas\n",
    "    y = df['duration']\n",
    "    X = df.iloc[:, df.columns != 'duration']\n",
    "\n",
    "    \n",
    "    return X,y\n"
   ]
  },
  {
   "cell_type": "code",
   "execution_count": null,
   "metadata": {},
   "outputs": [],
   "source": [
    "## Good example\n",
    "\n",
    "df = encode_column(data, col_name='item')\n",
    "df = add_categorical_column(df)\n",
    "df = convert_to_minutes(df)\n",
    "X,y = split_features_and_labels(df)\n",
    "\n",
    "## Better example\n",
    "prepare_data = utils.compose(utils.function_with_args(encode_column, col_name='item'),\n",
    "                       add_categorical_column,\n",
    "                       convert_to_minutes\n",
    "                      )\n",
    "\n",
    "data_pre = prepare_data(data)\n",
    "X, y = split_features_and_labels(data_pre)"
   ]
  },
  {
   "cell_type": "code",
   "execution_count": null,
   "metadata": {},
   "outputs": [],
   "source": [
    "X.shape"
   ]
  },
  {
   "cell_type": "code",
   "execution_count": null,
   "metadata": {},
   "outputs": [],
   "source": [
    "data.head()\n",
    "\n",
    "data_pre.head()\n",
    "df.head()"
   ]
  },
  {
   "cell_type": "code",
   "execution_count": null,
   "metadata": {},
   "outputs": [],
   "source": []
  }
 ],
 "metadata": {
  "kernelspec": {
   "display_name": "Python 3",
   "language": "python",
   "name": "python3"
  },
  "language_info": {
   "codemirror_mode": {
    "name": "ipython",
    "version": 3
   },
   "file_extension": ".py",
   "mimetype": "text/x-python",
   "name": "python",
   "nbconvert_exporter": "python",
   "pygments_lexer": "ipython3",
   "version": "3.7.4"
  }
 },
 "nbformat": 4,
 "nbformat_minor": 2
}
