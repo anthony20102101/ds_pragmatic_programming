{
 "cells": [
  {
   "cell_type": "markdown",
   "metadata": {
    "ExecuteTime": {
     "end_time": "2018-09-11T18:09:18.303884Z",
     "start_time": "2018-09-11T18:09:18.300979Z"
    }
   },
   "source": [
    "# Data Science Pragmatic programming Modelling in Python\n",
    "\n",
    "\n",
    "Code snippets for quick consult (copy n paste)"
   ]
  },
  {
   "cell_type": "code",
   "execution_count": 7,
   "metadata": {
    "ExecuteTime": {
     "end_time": "2019-05-30T22:40:48.339652Z",
     "start_time": "2019-05-30T22:40:48.331541Z"
    }
   },
   "outputs": [],
   "source": [
    "import numpy as np\n",
    "import pandas as pd\n",
    "\n",
    "from scipy import stats\n",
    "\n",
    "import matplotlib\n",
    "import matplotlib.pyplot as plt\n",
    "%matplotlib inline \n",
    "\n",
    "import IPython\n",
    "from IPython.core.interactiveshell import InteractiveShell\n",
    "InteractiveShell.ast_node_interactivity = \"all\"\n"
   ]
  },
  {
   "cell_type": "code",
   "execution_count": 8,
   "metadata": {
    "ExecuteTime": {
     "end_time": "2019-05-30T22:40:48.885970Z",
     "start_time": "2019-05-30T22:40:48.768197Z"
    }
   },
   "outputs": [
    {
     "name": "stdout",
     "output_type": "stream",
     "text": [
      "/home/leandroohf/Documents/leandro/ds_pragmatic_programming\r\n"
     ]
    }
   ],
   "source": [
    "!pwd"
   ]
  },
  {
   "cell_type": "markdown",
   "metadata": {},
   "source": [
    "## Model validation\n",
    "\n",
    "* k-fold\n",
    "* split train, val n test"
   ]
  },
  {
   "cell_type": "markdown",
   "metadata": {},
   "source": [
    "## Sampling Imbalance data\n",
    "\n",
    "\n",
    "Install imbalanced-learn\n",
    "```sh\n",
    "conda install -c conda-forge imbalanced-learn \n",
    "```\n"
   ]
  },
  {
   "cell_type": "markdown",
   "metadata": {},
   "source": [
    "\n",
    "https://www.kaggle.com/rafjaa/resampling-strategies-for-imbalanced-datasets\n",
    "\n",
    "<img src=\"images/resampling.png\" width=\"800\" align=\"left\"/>\n"
   ]
  },
  {
   "cell_type": "markdown",
   "metadata": {},
   "source": [
    "Types of sampling\n",
    "\n",
    "* Under\n",
    "    * Random  (code snippet)\n",
    "    * Tomek links  (TODO) (This can be usefull for KNNN or SVM to define better regions)\n",
    "\n",
    "<img src=\"images/tomek.png\" width=\"800\" align=\"left\"/>  \n"
   ]
  },
  {
   "cell_type": "markdown",
   "metadata": {},
   "source": [
    "* Over\n",
    "    * Random (code snippet)\n",
    "    * SMOTE  (TODO)\n",
    "\n",
    "\n",
    "<img src=\"images/smote.png\" width=\"800\" align=\"left\"/>   \n",
    "    "
   ]
  },
  {
   "cell_type": "markdown",
   "metadata": {},
   "source": [
    "* **Genreate unbalanced data**"
   ]
  },
  {
   "cell_type": "code",
   "execution_count": 9,
   "metadata": {
    "ExecuteTime": {
     "end_time": "2019-05-30T22:40:54.402440Z",
     "start_time": "2019-05-30T22:40:54.185707Z"
    }
   },
   "outputs": [
    {
     "data": {
      "text/plain": [
       "<matplotlib.axes._subplots.AxesSubplot at 0x7f2e7fd3f470>"
      ]
     },
     "execution_count": 9,
     "metadata": {},
     "output_type": "execute_result"
    },
    {
     "data": {
      "image/png": "[encoded data removed]",
      "text/plain": [
       "<Figure size 432x288 with 1 Axes>"
      ]
     },
     "metadata": {},
     "output_type": "display_data"
    }
   ],
   "source": [
    "from sklearn.datasets import make_classification\n",
    "\n",
    "\n",
    "X, y = make_classification(\n",
    "    n_classes=2, class_sep=1.5, weights=[0.9, 0.1],\n",
    "    n_informative=3, n_redundant=1, flip_y=0,\n",
    "    n_features=20, n_clusters_per_class=1,\n",
    "    n_samples=100, random_state=10\n",
    ")\n",
    "\n",
    "df = pd.DataFrame(X)\n",
    "df['target'] = y\n",
    "df.target.value_counts().plot(kind='bar', title='Count (target)');\n",
    "\n",
    "def plot_2d_space(X, y, label='Classes'):   \n",
    "    colors = ['#1F77B4', '#FF7F0E']\n",
    "    markers = ['o', 's']\n",
    "    for l, c, m in zip(np.unique(y), colors, markers):\n",
    "        plt.scatter(\n",
    "            X[y==l, 0],\n",
    "            X[y==l, 1],\n",
    "            c=c, label=l, marker=m\n",
    "        )\n",
    "    plt.title(label)\n",
    "    plt.legend(loc='upper right')\n",
    "    plt.show()"
   ]
  },
  {
   "cell_type": "markdown",
   "metadata": {},
   "source": [
    "* **Random under sampling**"
   ]
  },
  {
   "cell_type": "code",
   "execution_count": 10,
   "metadata": {
    "ExecuteTime": {
     "end_time": "2019-05-30T22:40:59.245910Z",
     "start_time": "2019-05-30T22:40:58.777075Z"
    }
   },
   "outputs": [
    {
     "data": {
      "image/png": "[encoded data removed]",
      "text/plain": [
       "<Figure size 432x288 with 1 Axes>"
      ]
     },
     "metadata": {},
     "output_type": "display_data"
    },
    {
     "data": {
      "image/png": "[encoded data removed]",
      "text/plain": [
       "<Figure size 432x288 with 1 Axes>"
      ]
     },
     "metadata": {},
     "output_type": "display_data"
    }
   ],
   "source": [
    "from imblearn.under_sampling import RandomUnderSampler\n",
    "\n",
    "rus = RandomUnderSampler(return_indices=True)\n",
    "X_rus, y_rus, id_rus = rus.fit_sample(X, y)\n",
    "\n",
    "plot_2d_space(X_rus, y_rus, 'Random under-sampling')\n",
    "\n",
    "df2 = pd.DataFrame(X_rus)\n",
    "df2['target'] = y_rus\n",
    "df2.target.value_counts().plot(kind='bar', title='Count (target)');\n"
   ]
  },
  {
   "cell_type": "markdown",
   "metadata": {},
   "source": [
    "* **Random over sampling**"
   ]
  },
  {
   "cell_type": "code",
   "execution_count": 11,
   "metadata": {
    "ExecuteTime": {
     "end_time": "2019-05-30T22:41:02.630519Z",
     "start_time": "2019-05-30T22:41:02.409109Z"
    }
   },
   "outputs": [
    {
     "data": {
      "image/png": "[encoded data removed]",
      "text/plain": [
       "<Figure size 432x288 with 1 Axes>"
      ]
     },
     "metadata": {},
     "output_type": "display_data"
    },
    {
     "data": {
      "image/png": "[encoded data removed]",
      "text/plain": [
       "<Figure size 432x288 with 1 Axes>"
      ]
     },
     "metadata": {},
     "output_type": "display_data"
    }
   ],
   "source": [
    "from imblearn.over_sampling import RandomOverSampler\n",
    "\n",
    "ros = RandomOverSampler()\n",
    "X_ros, y_ros = ros.fit_sample(X, y)\n",
    "\n",
    "\n",
    "plot_2d_space(X_ros, y_ros, 'Random over-sampling')\n",
    "\n",
    "df2 = pd.DataFrame(X_ros)\n",
    "df2['target'] = y_ros\n",
    "df2.target.value_counts().plot(kind='bar', title='Count (target)');\n"
   ]
  },
  {
   "cell_type": "markdown",
   "metadata": {},
   "source": [
    "## Model tunning\n",
    "\n",
    "    1. gridseach\n",
    "    2. sthocastic search\n",
    "    3. bobh Auto-ml\n"
   ]
  },
  {
   "cell_type": "markdown",
   "metadata": {},
   "source": [
    "## Evaluation metrics"
   ]
  },
  {
   "cell_type": "markdown",
   "metadata": {
    "ExecuteTime": {
     "end_time": "2018-09-11T18:45:22.985857Z",
     "start_time": "2018-09-11T18:45:22.979639Z"
    },
    "heading_collapsed": true
   },
   "source": [
    "### Accuracy  and confusion matrix"
   ]
  },
  {
   "cell_type": "code",
   "execution_count": 12,
   "metadata": {
    "ExecuteTime": {
     "end_time": "2019-05-30T22:41:06.038884Z",
     "start_time": "2019-05-30T22:41:06.025272Z"
    },
    "hidden": true
   },
   "outputs": [
    {
     "name": "stdout",
     "output_type": "stream",
     "text": [
      "Fake data\n",
      "y_true: [ True False  True False False  True  True]\n",
      "y_pred: [ True  True False  True  True  True False]\n",
      "accuracy: 0.2857142857142857\n",
      "|                 |   Predicted Positive |   Predicted Negative |\n",
      "|-----------------+----------------------+----------------------|\n",
      "| Actual Positive |                    0 |                    3 |\n",
      "| Actual Negative |                    2 |                    2 |\n",
      "\n",
      "FPR: 1.0\n",
      "FNR: 0.5\n",
      "\n"
     ]
    }
   ],
   "source": [
    "## Accuracy \n",
    "\n",
    "from sklearn.metrics import accuracy_score, confusion_matrix\n",
    "from tabulate import tabulate\n",
    "\n",
    "np.random.seed(2018)\n",
    "\n",
    "y_true = np.random.uniform(size=7) > .5\n",
    "y_pred = np.random.uniform(size=7) > .4\n",
    "\n",
    "acc = accuracy_score(y_true, y_pred)\n",
    "print('Fake data')\n",
    "print('y_true: {}'.format(y_true))\n",
    "print('y_pred: {}'.format(y_pred))\n",
    "\n",
    "print('accuracy: {}'.format(acc))\n",
    "\n",
    "cf_m = confusion_matrix(y_true, y_pred)\n",
    "\n",
    "cf_df = pd.DataFrame(cf_m, index=[\"Actual Positive\", \"Actual Negative\"], columns = [\"Predicted Positive\", \"Predicted Negative\"])\n",
    "tn, fp, fn, tp = confusion_matrix(y_true, y_pred).ravel()\n",
    "\n",
    "FPR = fp/(fp+tn)\n",
    "FNR = fn/(tp+fn)\n",
    "\n",
    "print(tabulate(cf_df, tablefmt=\"orgtbl\",\n",
    "               headers=\"keys\"))\n",
    "\n",
    "\n",
    "print()\n",
    "print('FPR: {}'.format(FPR))\n",
    "print('FNR: {}'.format(FNR))\n",
    "\n",
    "print()\n"
   ]
  },
  {
   "cell_type": "markdown",
   "metadata": {
    "hidden": true,
    "variables": {
     "print(tabulate(cf_df, headers=\"keys\", tablefmt=\"html\"))": "<p><strong>NameError</strong>: name &#39;tabulate&#39; is not defined</p>\n"
    }
   },
   "source": [
    "=================================\n",
    "\n",
    "For markdwon cells, insert the code in a markdown cell. \n",
    "\n",
    "```python\n",
    "\\{\\{print(tabulate(cf_df, headers=\"keys\", tablefmt=\"html\"))\\}\\}\n",
    "```\n",
    "\n",
    "{{print(tabulate(cf_df, headers=\"keys\", tablefmt=\"html\"))}}\n"
   ]
  },
  {
   "cell_type": "markdown",
   "metadata": {
    "heading_collapsed": true
   },
   "source": [
    "### Precision Recall Curve, AUC and F score\n"
   ]
  },
  {
   "cell_type": "markdown",
   "metadata": {
    "hidden": true
   },
   "source": [
    "####  Downsampling data example\n",
    "\n",
    "Does need to run one time int he case we do not have data/creditcard_downsampled.csv.tar.bz2.\n",
    "\n",
    "Also is an example of downsampling data.\n",
    "\n",
    "Data downloaded from:\n",
    "https://www.kaggle.com/mlg-ulb/creditcardfraud\n",
    "\n",
    "\n",
    "* The original imbalance ratio (492:284315): 0.002\n",
    "* Downsample the majority to reach the ratio 1:3 , just to have small data set"
   ]
  },
  {
   "cell_type": "code",
   "execution_count": 14,
   "metadata": {
    "ExecuteTime": {
     "end_time": "2019-05-30T22:45:52.407255Z",
     "start_time": "2019-05-30T22:45:48.127395Z"
    },
    "hidden": true
   },
   "outputs": [
    {
     "data": {
      "text/html": [
       "<div>\n",
       "<style scoped>\n",
       "    .dataframe tbody tr th:only-of-type {\n",
       "        vertical-align: middle;\n",
       "    }\n",
       "\n",
       "    .dataframe tbody tr th {\n",
       "        vertical-align: top;\n",
       "    }\n",
       "\n",
       "    .dataframe thead th {\n",
       "        text-align: right;\n",
       "    }\n",
       "</style>\n",
       "<table border=\"1\" class=\"dataframe\">\n",
       "  <thead>\n",
       "    <tr style=\"text-align: right;\">\n",
       "      <th></th>\n",
       "      <th>Time</th>\n",
       "      <th>V1</th>\n",
       "      <th>V2</th>\n",
       "      <th>V3</th>\n",
       "      <th>V4</th>\n",
       "      <th>V5</th>\n",
       "      <th>V6</th>\n",
       "      <th>V7</th>\n",
       "      <th>V8</th>\n",
       "      <th>V9</th>\n",
       "      <th>...</th>\n",
       "      <th>V21</th>\n",
       "      <th>V22</th>\n",
       "      <th>V23</th>\n",
       "      <th>V24</th>\n",
       "      <th>V25</th>\n",
       "      <th>V26</th>\n",
       "      <th>V27</th>\n",
       "      <th>V28</th>\n",
       "      <th>Amount</th>\n",
       "      <th>Class</th>\n",
       "    </tr>\n",
       "  </thead>\n",
       "  <tbody>\n",
       "    <tr>\n",
       "      <th>284712</th>\n",
       "      <td>172704.0</td>\n",
       "      <td>0.470194</td>\n",
       "      <td>-1.619056</td>\n",
       "      <td>-2.258427</td>\n",
       "      <td>4.440719</td>\n",
       "      <td>0.202024</td>\n",
       "      <td>-0.458243</td>\n",
       "      <td>1.970565</td>\n",
       "      <td>-0.665303</td>\n",
       "      <td>-1.630737</td>\n",
       "      <td>...</td>\n",
       "      <td>0.603016</td>\n",
       "      <td>0.104952</td>\n",
       "      <td>-0.716836</td>\n",
       "      <td>0.121688</td>\n",
       "      <td>0.170587</td>\n",
       "      <td>0.082567</td>\n",
       "      <td>-0.218942</td>\n",
       "      <td>0.070955</td>\n",
       "      <td>787.95</td>\n",
       "      <td>0</td>\n",
       "    </tr>\n",
       "    <tr>\n",
       "      <th>108183</th>\n",
       "      <td>70800.0</td>\n",
       "      <td>-0.336279</td>\n",
       "      <td>0.237895</td>\n",
       "      <td>1.158456</td>\n",
       "      <td>-0.636549</td>\n",
       "      <td>-0.311637</td>\n",
       "      <td>-0.927103</td>\n",
       "      <td>0.216604</td>\n",
       "      <td>-0.403082</td>\n",
       "      <td>-0.869822</td>\n",
       "      <td>...</td>\n",
       "      <td>0.000923</td>\n",
       "      <td>0.143971</td>\n",
       "      <td>-0.129530</td>\n",
       "      <td>0.318251</td>\n",
       "      <td>-0.541146</td>\n",
       "      <td>-0.357414</td>\n",
       "      <td>-0.229982</td>\n",
       "      <td>-0.030124</td>\n",
       "      <td>24.20</td>\n",
       "      <td>0</td>\n",
       "    </tr>\n",
       "    <tr>\n",
       "      <th>29691</th>\n",
       "      <td>35588.0</td>\n",
       "      <td>-0.661606</td>\n",
       "      <td>1.170678</td>\n",
       "      <td>1.237694</td>\n",
       "      <td>-0.188206</td>\n",
       "      <td>0.164123</td>\n",
       "      <td>-0.605819</td>\n",
       "      <td>0.765953</td>\n",
       "      <td>-0.072226</td>\n",
       "      <td>-0.269068</td>\n",
       "      <td>...</td>\n",
       "      <td>-0.286087</td>\n",
       "      <td>-0.657133</td>\n",
       "      <td>-0.070964</td>\n",
       "      <td>-0.117952</td>\n",
       "      <td>-0.051093</td>\n",
       "      <td>0.105311</td>\n",
       "      <td>0.386870</td>\n",
       "      <td>0.175486</td>\n",
       "      <td>21.98</td>\n",
       "      <td>0</td>\n",
       "    </tr>\n",
       "  </tbody>\n",
       "</table>\n",
       "<p>3 rows × 31 columns</p>\n",
       "</div>"
      ],
      "text/plain": [
       "            Time        V1        V2        V3        V4        V5        V6  \\\n",
       "284712  172704.0  0.470194 -1.619056 -2.258427  4.440719  0.202024 -0.458243   \n",
       "108183   70800.0 -0.336279  0.237895  1.158456 -0.636549 -0.311637 -0.927103   \n",
       "29691    35588.0 -0.661606  1.170678  1.237694 -0.188206  0.164123 -0.605819   \n",
       "\n",
       "              V7        V8        V9  ...         V21       V22       V23  \\\n",
       "284712  1.970565 -0.665303 -1.630737  ...    0.603016  0.104952 -0.716836   \n",
       "108183  0.216604 -0.403082 -0.869822  ...    0.000923  0.143971 -0.129530   \n",
       "29691   0.765953 -0.072226 -0.269068  ...   -0.286087 -0.657133 -0.070964   \n",
       "\n",
       "             V24       V25       V26       V27       V28  Amount  Class  \n",
       "284712  0.121688  0.170587  0.082567 -0.218942  0.070955  787.95      0  \n",
       "108183  0.318251 -0.541146 -0.357414 -0.229982 -0.030124   24.20      0  \n",
       "29691  -0.117952 -0.051093  0.105311  0.386870  0.175486   21.98      0  \n",
       "\n",
       "[3 rows x 31 columns]"
      ]
     },
     "execution_count": 14,
     "metadata": {},
     "output_type": "execute_result"
    },
    {
     "name": "stdout",
     "output_type": "stream",
     "text": [
      "#positives: 492\n",
      "#negatives: 284315\n",
      "Imbalance data ratio (492:284315): 0.002\n"
     ]
    }
   ],
   "source": [
    "## Does not need to run this again once you have credicard_downsampled.csv.tar.bz2\n",
    "creditcard_df = pd.read_csv('data/creditcard.csv.zip', compression='zip', sep=',', quotechar='\"')\n",
    "\n",
    "creditcard_df.sample(3).head(3)\n",
    "\n",
    "n_pos = np.sum(creditcard_df.Class == True)\n",
    "print('#positives: {}'.format(n_pos))\n",
    "\n",
    "n_neg = np.sum(creditcard_df.Class == False)\n",
    "print('#negatives: {}'.format(n_neg))\n",
    "\n",
    "r = n_pos/(n_pos + n_neg)\n",
    "print('Imbalance data ratio ({0}:{1}): {2:.3f}'.format(n_pos,n_neg,r))"
   ]
  },
  {
   "cell_type": "markdown",
   "metadata": {
    "hidden": true
   },
   "source": [
    "downsample both class to have smaller dataset"
   ]
  },
  {
   "cell_type": "code",
   "execution_count": 15,
   "metadata": {
    "ExecuteTime": {
     "end_time": "2019-05-30T22:45:55.209230Z",
     "start_time": "2019-05-30T22:45:54.974042Z"
    },
    "hidden": true
   },
   "outputs": [],
   "source": [
    "from sklearn.utils import resample\n",
    "\n",
    "# Separate majority and minority classes\n",
    "df_majority = creditcard_df[creditcard_df.Class==0]\n",
    "df_minority = creditcard_df[creditcard_df.Class==1]\n",
    " \n",
    "# Downsample majority class\n",
    "df_majority_downsampled = resample(df_majority, \n",
    "                                 replace=False,    # sample without replacement\n",
    "                                 n_samples=2000,     # to match minority class\n",
    "                                 random_state=123) # reproducible results\n",
    " \n",
    "\n",
    "# Combine minority class with downsampled majority class\n",
    "df_downsampled = pd.concat([df_majority_downsampled, df_minority])\n",
    "df_downsampled = df_downsampled.reset_index(drop=True)\n",
    "\n",
    "\n",
    "# Saving\n",
    "df_downsampled.to_csv('data/creditcard_downsampled.csv', index=False)"
   ]
  },
  {
   "cell_type": "code",
   "execution_count": 16,
   "metadata": {
    "ExecuteTime": {
     "end_time": "2019-05-30T22:45:56.707874Z",
     "start_time": "2019-05-30T22:45:56.552469Z"
    },
    "collapsed": true,
    "hidden": true
   },
   "outputs": [
    {
     "name": "stdout",
     "output_type": "stream",
     "text": [
      "removed 'data/creditcard_downsampled.csv.tar.bz2'\n",
      "data/creditcard_downsampled.csv\n",
      "removed 'data/creditcard_downsampled.csv'\n",
      "864K\tdata/audio0_hH79HnEdo.wav\n",
      "864K\tdata/audio0KCVgexi4yU.wav\n",
      "864K\tdata/audio0Q1JLNfm8oU.wav\n",
      "864K\tdata/audio0vm7UpkSOnk.wav\n",
      "864K\tdata/audio2M9GSksX_ho.wav\n",
      "66M\tdata/creditcard.csv.zip\n",
      "544K\tdata/creditcard_downsampled.csv.tar.bz2\n",
      "4.0K\tdata/dict.csv\n",
      "4.0K\tdata/edge-list.csv\n",
      "5.2M\tdata/flights.db\n",
      "1.6M\tdata/FremontBridge.csv\n",
      "8.0K\tdata/logs.log\n",
      "1.2M\tdata/Moby-Dick.txt\n",
      "336K\tdata/ontology.json\n",
      "4.0K\tdata/output.tsv\n",
      "4.0K\tdata/output.txt\n",
      "4.0K\tdata/people.csv\n",
      "4.0K\tdata/people.json\n",
      "40K\tdata/phone_data.csv\n",
      "1.5M\tdata/test_signs.h5\n",
      "13M\tdata/train_signs.h5\n",
      "4.0K\tdata/users.parquet\n",
      "140M\tdata/Weather\n"
     ]
    }
   ],
   "source": [
    "%%bash\n",
    "\n",
    "# remove old file\n",
    "rm -v data/creditcard_downsampled.csv.tar.bz2 \n",
    "tar -cjvf  data/creditcard_downsampled.csv.tar.bz2 data/creditcard_downsampled.csv\n",
    "\n",
    "rm -v data/creditcard_downsampled.csv\n",
    "\n",
    "du -sh data/*"
   ]
  },
  {
   "cell_type": "markdown",
   "metadata": {
    "hidden": true
   },
   "source": [
    "#### Load downsampled data"
   ]
  },
  {
   "cell_type": "code",
   "execution_count": 17,
   "metadata": {
    "ExecuteTime": {
     "end_time": "2019-05-30T22:46:01.464376Z",
     "start_time": "2019-05-30T22:46:01.242946Z"
    },
    "code_folding": [],
    "hidden": true
   },
   "outputs": [
    {
     "data": {
      "text/html": [
       "<div>\n",
       "<style scoped>\n",
       "    .dataframe tbody tr th:only-of-type {\n",
       "        vertical-align: middle;\n",
       "    }\n",
       "\n",
       "    .dataframe tbody tr th {\n",
       "        vertical-align: top;\n",
       "    }\n",
       "\n",
       "    .dataframe thead th {\n",
       "        text-align: right;\n",
       "    }\n",
       "</style>\n",
       "<table border=\"1\" class=\"dataframe\">\n",
       "  <thead>\n",
       "    <tr style=\"text-align: right;\">\n",
       "      <th></th>\n",
       "      <th>Class</th>\n",
       "      <th>Amount</th>\n",
       "    </tr>\n",
       "  </thead>\n",
       "  <tbody>\n",
       "    <tr>\n",
       "      <th>count</th>\n",
       "      <td>2492.000000</td>\n",
       "      <td>2492.000000</td>\n",
       "    </tr>\n",
       "    <tr>\n",
       "      <th>mean</th>\n",
       "      <td>0.197432</td>\n",
       "      <td>97.498427</td>\n",
       "    </tr>\n",
       "    <tr>\n",
       "      <th>std</th>\n",
       "      <td>0.398141</td>\n",
       "      <td>224.284179</td>\n",
       "    </tr>\n",
       "    <tr>\n",
       "      <th>min</th>\n",
       "      <td>0.000000</td>\n",
       "      <td>0.000000</td>\n",
       "    </tr>\n",
       "    <tr>\n",
       "      <th>25%</th>\n",
       "      <td>0.000000</td>\n",
       "      <td>3.597500</td>\n",
       "    </tr>\n",
       "    <tr>\n",
       "      <th>50%</th>\n",
       "      <td>0.000000</td>\n",
       "      <td>21.030000</td>\n",
       "    </tr>\n",
       "    <tr>\n",
       "      <th>75%</th>\n",
       "      <td>0.000000</td>\n",
       "      <td>89.990000</td>\n",
       "    </tr>\n",
       "    <tr>\n",
       "      <th>max</th>\n",
       "      <td>1.000000</td>\n",
       "      <td>3249.730000</td>\n",
       "    </tr>\n",
       "  </tbody>\n",
       "</table>\n",
       "</div>"
      ],
      "text/plain": [
       "             Class       Amount\n",
       "count  2492.000000  2492.000000\n",
       "mean      0.197432    97.498427\n",
       "std       0.398141   224.284179\n",
       "min       0.000000     0.000000\n",
       "25%       0.000000     3.597500\n",
       "50%       0.000000    21.030000\n",
       "75%       0.000000    89.990000\n",
       "max       1.000000  3249.730000"
      ]
     },
     "execution_count": 17,
     "metadata": {},
     "output_type": "execute_result"
    },
    {
     "data": {
      "text/html": [
       "<div>\n",
       "<style scoped>\n",
       "    .dataframe tbody tr th:only-of-type {\n",
       "        vertical-align: middle;\n",
       "    }\n",
       "\n",
       "    .dataframe tbody tr th {\n",
       "        vertical-align: top;\n",
       "    }\n",
       "\n",
       "    .dataframe thead th {\n",
       "        text-align: right;\n",
       "    }\n",
       "</style>\n",
       "<table border=\"1\" class=\"dataframe\">\n",
       "  <thead>\n",
       "    <tr style=\"text-align: right;\">\n",
       "      <th></th>\n",
       "      <th>data/creditcard_downsampled.csv</th>\n",
       "      <th>V1</th>\n",
       "      <th>V2</th>\n",
       "      <th>V3</th>\n",
       "      <th>V4</th>\n",
       "      <th>V5</th>\n",
       "      <th>V6</th>\n",
       "      <th>V7</th>\n",
       "      <th>V8</th>\n",
       "      <th>V9</th>\n",
       "      <th>...</th>\n",
       "      <th>V21</th>\n",
       "      <th>V22</th>\n",
       "      <th>V23</th>\n",
       "      <th>V24</th>\n",
       "      <th>V25</th>\n",
       "      <th>V26</th>\n",
       "      <th>V27</th>\n",
       "      <th>V28</th>\n",
       "      <th>Amount</th>\n",
       "      <th>Class</th>\n",
       "    </tr>\n",
       "  </thead>\n",
       "  <tbody>\n",
       "    <tr>\n",
       "      <th>321</th>\n",
       "      <td>122241.0</td>\n",
       "      <td>-0.170614</td>\n",
       "      <td>1.274014</td>\n",
       "      <td>2.236537</td>\n",
       "      <td>4.467599</td>\n",
       "      <td>-0.039297</td>\n",
       "      <td>0.711163</td>\n",
       "      <td>0.100481</td>\n",
       "      <td>0.243372</td>\n",
       "      <td>-1.596784</td>\n",
       "      <td>...</td>\n",
       "      <td>-0.123947</td>\n",
       "      <td>-0.384079</td>\n",
       "      <td>0.078550</td>\n",
       "      <td>-0.036550</td>\n",
       "      <td>-0.804647</td>\n",
       "      <td>0.077865</td>\n",
       "      <td>0.192769</td>\n",
       "      <td>0.175780</td>\n",
       "      <td>15.17</td>\n",
       "      <td>0</td>\n",
       "    </tr>\n",
       "    <tr>\n",
       "      <th>500</th>\n",
       "      <td>62263.0</td>\n",
       "      <td>-0.742894</td>\n",
       "      <td>0.787240</td>\n",
       "      <td>1.904695</td>\n",
       "      <td>1.064987</td>\n",
       "      <td>0.027265</td>\n",
       "      <td>0.389513</td>\n",
       "      <td>0.744168</td>\n",
       "      <td>0.235986</td>\n",
       "      <td>-0.740287</td>\n",
       "      <td>...</td>\n",
       "      <td>0.045461</td>\n",
       "      <td>0.175320</td>\n",
       "      <td>-0.191189</td>\n",
       "      <td>0.227292</td>\n",
       "      <td>0.434215</td>\n",
       "      <td>-0.208920</td>\n",
       "      <td>0.071592</td>\n",
       "      <td>0.064520</td>\n",
       "      <td>59.95</td>\n",
       "      <td>0</td>\n",
       "    </tr>\n",
       "    <tr>\n",
       "      <th>682</th>\n",
       "      <td>136093.0</td>\n",
       "      <td>-0.877106</td>\n",
       "      <td>1.999401</td>\n",
       "      <td>-3.522441</td>\n",
       "      <td>-1.323421</td>\n",
       "      <td>1.234826</td>\n",
       "      <td>-0.807607</td>\n",
       "      <td>0.705130</td>\n",
       "      <td>0.846215</td>\n",
       "      <td>-0.864392</td>\n",
       "      <td>...</td>\n",
       "      <td>0.580456</td>\n",
       "      <td>1.639720</td>\n",
       "      <td>-0.060483</td>\n",
       "      <td>-0.229421</td>\n",
       "      <td>-0.795074</td>\n",
       "      <td>0.118283</td>\n",
       "      <td>0.122198</td>\n",
       "      <td>0.231562</td>\n",
       "      <td>6.00</td>\n",
       "      <td>0</td>\n",
       "    </tr>\n",
       "  </tbody>\n",
       "</table>\n",
       "<p>3 rows × 31 columns</p>\n",
       "</div>"
      ],
      "text/plain": [
       "     data/creditcard_downsampled.csv        V1        V2        V3        V4  \\\n",
       "321                         122241.0 -0.170614  1.274014  2.236537  4.467599   \n",
       "500                          62263.0 -0.742894  0.787240  1.904695  1.064987   \n",
       "682                         136093.0 -0.877106  1.999401 -3.522441 -1.323421   \n",
       "\n",
       "           V5        V6        V7        V8        V9  ...         V21  \\\n",
       "321 -0.039297  0.711163  0.100481  0.243372 -1.596784  ...   -0.123947   \n",
       "500  0.027265  0.389513  0.744168  0.235986 -0.740287  ...    0.045461   \n",
       "682  1.234826 -0.807607  0.705130  0.846215 -0.864392  ...    0.580456   \n",
       "\n",
       "          V22       V23       V24       V25       V26       V27       V28  \\\n",
       "321 -0.384079  0.078550 -0.036550 -0.804647  0.077865  0.192769  0.175780   \n",
       "500  0.175320 -0.191189  0.227292  0.434215 -0.208920  0.071592  0.064520   \n",
       "682  1.639720 -0.060483 -0.229421 -0.795074  0.118283  0.122198  0.231562   \n",
       "\n",
       "     Amount  Class  \n",
       "321   15.17      0  \n",
       "500   59.95      0  \n",
       "682    6.00      0  \n",
       "\n",
       "[3 rows x 31 columns]"
      ]
     },
     "execution_count": 17,
     "metadata": {},
     "output_type": "execute_result"
    },
    {
     "name": "stdout",
     "output_type": "stream",
     "text": [
      "#positives: 492\n",
      "#negatives: 2000\n",
      "Imbalance data ratio (492:2000): 0.197\n"
     ]
    }
   ],
   "source": [
    "## load\n",
    "creditcard_df = pd.read_csv('data/creditcard_downsampled.csv.tar.bz2', compression='bz2', \n",
    "                            sep=',', quotechar='\"', index_col=False)\n",
    "\n",
    "creditcard_df = creditcard_df.dropna()\n",
    "creditcard_df[['Class','Amount']].describe()\n",
    "\n",
    "creditcard_df['Class'] = creditcard_df.Class.astype(int)\n",
    "\n",
    "creditcard_df.sample(3).head(3)\n",
    "\n",
    "n_pos = np.sum(creditcard_df.Class == True)\n",
    "print('#positives: {}'.format(n_pos))\n",
    "\n",
    "n_neg = np.sum(creditcard_df.Class == False)\n",
    "print('#negatives: {}'.format(n_neg))\n",
    "\n",
    "r = n_pos/(n_pos + n_neg)\n",
    "print('Imbalance data ratio ({0}:{1}): {2:.3f}'.format(n_pos,n_neg,r))"
   ]
  },
  {
   "cell_type": "markdown",
   "metadata": {
    "ExecuteTime": {
     "end_time": "2018-09-11T22:48:44.360057Z",
     "start_time": "2018-09-11T22:48:44.354568Z"
    },
    "hidden": true
   },
   "source": [
    "#### Training 2 models"
   ]
  },
  {
   "cell_type": "code",
   "execution_count": 18,
   "metadata": {
    "ExecuteTime": {
     "end_time": "2019-05-30T22:46:13.538718Z",
     "start_time": "2019-05-30T22:46:13.528639Z"
    },
    "hidden": true
   },
   "outputs": [],
   "source": [
    "from sklearn.model_selection import train_test_split\n",
    "\n",
    "X = creditcard_df[creditcard_df.columns[:-1]]\n",
    "y = creditcard_df[creditcard_df.columns[-1]]\n",
    "\n",
    "X_train, X_test, y_train, y_test = train_test_split(X, y, random_state=2018, test_size=0.3)\n"
   ]
  },
  {
   "cell_type": "code",
   "execution_count": 19,
   "metadata": {
    "ExecuteTime": {
     "end_time": "2019-05-30T22:46:17.086416Z",
     "start_time": "2019-05-30T22:46:17.000292Z"
    },
    "hidden": true
   },
   "outputs": [],
   "source": [
    "# random forests\n",
    "from sklearn.ensemble import RandomForestClassifier\n",
    "from sklearn.linear_model import LogisticRegression\n",
    "\n",
    "rf = RandomForestClassifier(n_estimators = 15,max_depth=5,\n",
    "                            random_state=0).fit(X_train, y_train)\n",
    "\n",
    "\n",
    "lr = LogisticRegression().fit(X_train, y_train)\n"
   ]
  },
  {
   "cell_type": "markdown",
   "metadata": {
    "ExecuteTime": {
     "end_time": "2018-09-11T23:58:38.823835Z",
     "start_time": "2018-09-11T23:58:38.818282Z"
    },
    "hidden": true
   },
   "source": [
    "#### Precision n Recall Curves"
   ]
  },
  {
   "cell_type": "code",
   "execution_count": 23,
   "metadata": {
    "ExecuteTime": {
     "end_time": "2019-05-30T22:49:43.676609Z",
     "start_time": "2019-05-30T22:49:43.420188Z"
    },
    "hidden": true
   },
   "outputs": [
    {
     "name": "stdout",
     "output_type": "stream",
     "text": [
      "Imbalance data ratio (492:2000): 0.197\n"
     ]
    },
    {
     "data": {
      "image/png": "[encoded data removed]",
      "text/plain": [
       "<Figure size 432x288 with 1 Axes>"
      ]
     },
     "metadata": {},
     "output_type": "display_data"
    }
   ],
   "source": [
    "from sklearn.metrics import precision_recall_curve\n",
    "\n",
    "\n",
    "y_true = y_test > 0.5\n",
    "y_score_rf = rf.predict_proba(X_test)[:,-1]\n",
    "y_score_lr = lr.predict_proba(X_test)[:,-1]\n",
    "\n",
    "# random. is the imbalamnce ratio\n",
    "# Just doinf the sim to prove that\n",
    "np.random.seed(2018)\n",
    "y_score_rd = np.random.uniform(size=y_test.shape[0])\n",
    "y_score_perfect = y_test\n",
    "\n",
    "r = n_pos/(n_pos + n_neg)\n",
    "print('Imbalance data ratio ({0}:{1}): {2:.3f}'.format(n_pos,n_neg,r))\n",
    "\n",
    "precision1, recall1, thrs1 = precision_recall_curve(y_true, y_score_rf)\n",
    "\n",
    "precision2, recall2, thrs2 = precision_recall_curve(y_true, y_score_lr)\n",
    "\n",
    "precision3, recall3, thrs3 = precision_recall_curve(y_true, y_score_rd)\n",
    "\n",
    "precision4, recall4, thrs4 = precision_recall_curve(y_true, y_score_perfect)\n",
    "\n",
    "\n",
    "plt.plot(recall1, precision1, marker='.',label='random florest');\n",
    "plt.plot(recall2, precision2, marker='.', label='logistic regression');\n",
    "plt.plot(recall3, precision3, marker='.', label='random uniform');\n",
    "plt.plot(recall4, precision4, marker='.', label='perfect classifier');\n",
    "plt.plot([0, 1], [r, r], linestyle='--',label='Random');\n",
    "plt.plot([0, 1], [0, 1], color = 'black', linewidth = 2, label='45')\n",
    "plt.legend();\n",
    "                                              "
   ]
  },
  {
   "cell_type": "code",
   "execution_count": 24,
   "metadata": {
    "ExecuteTime": {
     "end_time": "2019-05-30T22:50:48.815520Z",
     "start_time": "2019-05-30T22:50:48.810929Z"
    },
    "hidden": true
   },
   "outputs": [],
   "source": [
    "# TODO: implement this later better. Give the options to pass multiple model for comparison\n",
    "def plot_prec_recall_vs_tresh(precisions, recalls, thresholds):\n",
    "    \n",
    "    plt.plot(thresholds, precisions[:-1], 'b--', label='precision')\n",
    "    plt.plot(thresholds, recalls[:-1], 'g--', label = 'recall')\n",
    "    plt.xlabel('Threshold')\n",
    "    plt.legend(loc='upper left')\n",
    "    plt.ylim([0,1])\n",
    "    "
   ]
  },
  {
   "cell_type": "code",
   "execution_count": 25,
   "metadata": {
    "ExecuteTime": {
     "end_time": "2019-05-30T22:50:53.373388Z",
     "start_time": "2019-05-30T22:50:53.193286Z"
    },
    "hidden": true
   },
   "outputs": [
    {
     "name": "stdout",
     "output_type": "stream",
     "text": [
      "AUCPRC: 0.9584156721781121\n",
      "f1 score: 0.9665775401069518\n"
     ]
    },
    {
     "data": {
      "image/png": "[encoded data removed]",
      "text/plain": [
       "<Figure size 432x288 with 1 Axes>"
      ]
     },
     "metadata": {},
     "output_type": "display_data"
    }
   ],
   "source": [
    "from sklearn.metrics import f1_score, auc\n",
    "\n",
    "area = auc(recall1, precision1)\n",
    "\n",
    "f = f1_score(y_true, y_score_rf > 0.5 , average='micro')\n",
    "\n",
    "print('AUCPRC: {}'.format(area))\n",
    "print('f1 score: {}'.format(f))\n",
    "\n",
    "\n",
    "# precision_recall_curve returns precision  and recall as a array od shape = [n_thresholds + 1] \n",
    "thrs1.shape\n",
    "recall1.shape\n",
    "precision1.shape\n",
    "\n",
    "precision = precision1[:-1]\n",
    "recall = recall1[:-1]\n",
    "\n",
    "precision.shape\n",
    "recall.shape\n",
    "\n",
    "f_scores = 2 * (precision * recall) / (precision + recall)\n",
    "\n",
    "plt.plot(thrs1, precision, marker='.',label='precision');\n",
    "plt.plot(thrs1, recall, marker='.', label='recall');\n",
    "plt.plot(thrs1, f_scores, marker='.', label='f score');\n",
    "plt.legend();"
   ]
  },
  {
   "cell_type": "markdown",
   "metadata": {
    "heading_collapsed": true
   },
   "source": [
    "### EER: Equal error"
   ]
  },
  {
   "cell_type": "code",
   "execution_count": 26,
   "metadata": {
    "ExecuteTime": {
     "end_time": "2019-05-30T22:50:53.871129Z",
     "start_time": "2019-05-30T22:50:53.864518Z"
    },
    "hidden": true
   },
   "outputs": [
    {
     "name": "stdout",
     "output_type": "stream",
     "text": [
      "thr @ EER: 0.09090308538043898\n",
      "fpr @ EER: 0.07407407407407407\n",
      "fnr @ EER: 0.07792207792207795\n"
     ]
    }
   ],
   "source": [
    "from sklearn.metrics import roc_curve\n",
    "\n",
    "fpr1, tpr1, thr1 = roc_curve(y_true, y_score_rf)\n",
    "fnr1 = 1.0 - tpr1\n",
    "\n",
    "EER1_pos = np.argmin(abs(fnr1-fpr1))\n",
    "EER1_thr1 = thr1[EER1_pos]\n",
    "\n",
    "print('thr @ EER: {}'.format(EER1_thr1))\n",
    "print('fpr @ EER: {}'.format(fpr1[EER1_pos]))\n",
    "print('fnr @ EER: {}'.format(fnr1[EER1_pos]))\n"
   ]
  },
  {
   "cell_type": "markdown",
   "metadata": {
    "ExecuteTime": {
     "end_time": "2019-03-07T21:06:25.029566Z",
     "start_time": "2019-03-07T21:06:25.022393Z"
    }
   },
   "source": [
    "## Model interpretation\n",
    "\n",
    "TODO: \n",
    "    \n",
    "1. importance plot\n",
    "2. LIME"
   ]
  },
  {
   "cell_type": "markdown",
   "metadata": {
    "heading_collapsed": true
   },
   "source": [
    "## Model report\n",
    "\n",
    "* Graphs, statistics n tables to report to business (non-thecnicak) persons\n",
    "* Prhases templates to use when describe n report the model performance (one per model type)\n"
   ]
  },
  {
   "cell_type": "code",
   "execution_count": null,
   "metadata": {
    "hidden": true
   },
   "outputs": [],
   "source": []
  }
 ],
 "metadata": {
  "kernelspec": {
   "display_name": "Python 3",
   "language": "python",
   "name": "python3"
  },
  "language_info": {
   "codemirror_mode": {
    "name": "ipython",
    "version": 3
   },
   "file_extension": ".py",
   "mimetype": "text/x-python",
   "name": "python",
   "nbconvert_exporter": "python",
   "pygments_lexer": "ipython3",
   "version": "3.7.4"
  }
 },
 "nbformat": 4,
 "nbformat_minor": 2
}
