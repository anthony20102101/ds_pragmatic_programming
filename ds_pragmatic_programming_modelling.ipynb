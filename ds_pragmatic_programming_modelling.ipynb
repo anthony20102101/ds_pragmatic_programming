{
 "cells": [
  {
   "cell_type": "markdown",
   "metadata": {
    "ExecuteTime": {
     "end_time": "2018-09-11T18:09:18.303884Z",
     "start_time": "2018-09-11T18:09:18.300979Z"
    }
   },
   "source": [
    "# Data Science Pragmatic programming Modelling in Python\n",
    "\n",
    "\n",
    "Code snippets for quick consult (copy n paste)"
   ]
  },
  {
   "cell_type": "code",
   "execution_count": 3,
   "metadata": {
    "ExecuteTime": {
     "end_time": "2019-05-08T22:25:27.597585Z",
     "start_time": "2019-05-08T22:25:27.185743Z"
    }
   },
   "outputs": [],
   "source": [
    "import numpy as np\n",
    "import pandas as pd\n",
    "\n",
    "from scipy import stats\n",
    "\n",
    "import matplotlib\n",
    "import matplotlib.pyplot as plt\n",
    "%matplotlib inline \n",
    "\n",
    "import IPython\n",
    "from IPython.core.interactiveshell import InteractiveShell\n",
    "InteractiveShell.ast_node_interactivity = \"all\"\n"
   ]
  },
  {
   "cell_type": "code",
   "execution_count": 2,
   "metadata": {
    "ExecuteTime": {
     "end_time": "2019-05-07T21:14:19.686361Z",
     "start_time": "2019-05-07T21:14:19.568970Z"
    }
   },
   "outputs": [
    {
     "name": "stdout",
     "output_type": "stream",
     "text": [
      "/media/leandroohf/sdb1/leandro/ds_pragmatic_programming\r\n"
     ]
    }
   ],
   "source": [
    "!pwd"
   ]
  },
  {
   "cell_type": "markdown",
   "metadata": {
    "heading_collapsed": true
   },
   "source": [
    "## Model validation\n",
    "\n",
    "* k-fold\n",
    "* split train, val n test"
   ]
  },
  {
   "cell_type": "markdown",
   "metadata": {},
   "source": [
    "## Sampling Imbalance data\n",
    "\n",
    "\n",
    "Install imbalanced-learn\n",
    "```sh\n",
    "conda install -c conda-forge imbalanced-learn \n",
    "```\n"
   ]
  },
  {
   "cell_type": "markdown",
   "metadata": {},
   "source": [
    "\n",
    "https://www.kaggle.com/rafjaa/resampling-strategies-for-imbalanced-datasets\n",
    "\n",
    "<img src=\"images/resampling.png\" width=\"800\" align=\"left\"/>\n"
   ]
  },
  {
   "cell_type": "markdown",
   "metadata": {},
   "source": [
    "Types of sampling\n",
    "\n",
    "* Under\n",
    "    * Random  (code snippet)\n",
    "    * Tomek links  (TODO)\n",
    "\n",
    "<img src=\"images/tomek.png\" width=\"800\" align=\"left\"/>  \n"
   ]
  },
  {
   "cell_type": "markdown",
   "metadata": {},
   "source": [
    "* Over\n",
    "    * Random (code snippet)\n",
    "    * SMOTE  (TODO)\n",
    "\n",
    "\n",
    "<img src=\"images/smote.png\" width=\"800\" align=\"left\"/>   \n",
    "    "
   ]
  },
  {
   "cell_type": "markdown",
   "metadata": {},
   "source": [
    "* **Genreate unbalanced data**"
   ]
  },
  {
   "cell_type": "code",
   "execution_count": 13,
   "metadata": {
    "ExecuteTime": {
     "end_time": "2019-05-08T22:37:54.638829Z",
     "start_time": "2019-05-08T22:37:54.515750Z"
    }
   },
   "outputs": [
    {
     "data": {
      "text/plain": [
       "<matplotlib.axes._subplots.AxesSubplot at 0x7f2d599887f0>"
      ]
     },
     "execution_count": 13,
     "metadata": {},
     "output_type": "execute_result"
    },
    {
     "data": {
      "image/png": "[encoded data removed]",
      "text/plain": [
       "<Figure size 432x288 with 1 Axes>"
      ]
     },
     "metadata": {},
     "output_type": "display_data"
    }
   ],
   "source": [
    "from sklearn.datasets import make_classification\n",
    "\n",
    "\n",
    "X, y = make_classification(\n",
    "    n_classes=2, class_sep=1.5, weights=[0.9, 0.1],\n",
    "    n_informative=3, n_redundant=1, flip_y=0,\n",
    "    n_features=20, n_clusters_per_class=1,\n",
    "    n_samples=100, random_state=10\n",
    ")\n",
    "\n",
    "df = pd.DataFrame(X)\n",
    "df['target'] = y\n",
    "df.target.value_counts().plot(kind='bar', title='Count (target)');\n",
    "\n",
    "def plot_2d_space(X, y, label='Classes'):   \n",
    "    colors = ['#1F77B4', '#FF7F0E']\n",
    "    markers = ['o', 's']\n",
    "    for l, c, m in zip(np.unique(y), colors, markers):\n",
    "        plt.scatter(\n",
    "            X[y==l, 0],\n",
    "            X[y==l, 1],\n",
    "            c=c, label=l, marker=m\n",
    "        )\n",
    "    plt.title(label)\n",
    "    plt.legend(loc='upper right')\n",
    "    plt.show()"
   ]
  },
  {
   "cell_type": "markdown",
   "metadata": {},
   "source": [
    "* **Random under sampling**"
   ]
  },
  {
   "cell_type": "code",
   "execution_count": 16,
   "metadata": {
    "ExecuteTime": {
     "end_time": "2019-05-08T22:38:53.747594Z",
     "start_time": "2019-05-08T22:38:53.490915Z"
    }
   },
   "outputs": [
    {
     "data": {
      "image/png": "[encoded data removed]",
      "text/plain": [
       "<Figure size 432x288 with 1 Axes>"
      ]
     },
     "metadata": {},
     "output_type": "display_data"
    },
    {
     "data": {
      "image/png": "[encoded data removed]",
      "text/plain": [
       "<Figure size 432x288 with 1 Axes>"
      ]
     },
     "metadata": {},
     "output_type": "display_data"
    }
   ],
   "source": [
    "from imblearn.under_sampling import RandomUnderSampler\n",
    "\n",
    "rus = RandomUnderSampler(return_indices=True)\n",
    "X_rus, y_rus, id_rus = rus.fit_sample(X, y)\n",
    "\n",
    "plot_2d_space(X_rus, y_rus, 'Random under-sampling')\n",
    "\n",
    "df2 = pd.DataFrame(X_rus)\n",
    "df2['target'] = y_rus\n",
    "df2.target.value_counts().plot(kind='bar', title='Count (target)');\n"
   ]
  },
  {
   "cell_type": "markdown",
   "metadata": {},
   "source": [
    "* **Random over sampling**"
   ]
  },
  {
   "cell_type": "code",
   "execution_count": 17,
   "metadata": {
    "ExecuteTime": {
     "end_time": "2019-05-08T22:39:11.326924Z",
     "start_time": "2019-05-08T22:39:11.107009Z"
    }
   },
   "outputs": [
    {
     "data": {
      "image/png": "[encoded data removed]",
      "text/plain": [
       "<Figure size 432x288 with 1 Axes>"
      ]
     },
     "metadata": {},
     "output_type": "display_data"
    },
    {
     "data": {
      "image/png": "[encoded data removed]",
      "text/plain": [
       "<Figure size 432x288 with 1 Axes>"
      ]
     },
     "metadata": {},
     "output_type": "display_data"
    }
   ],
   "source": [
    "from imblearn.over_sampling import RandomOverSampler\n",
    "\n",
    "ros = RandomOverSampler()\n",
    "X_ros, y_ros = ros.fit_sample(X, y)\n",
    "\n",
    "\n",
    "plot_2d_space(X_ros, y_ros, 'Random over-sampling')\n",
    "\n",
    "df2 = pd.DataFrame(X_ros)\n",
    "df2['target'] = y_ros\n",
    "df2.target.value_counts().plot(kind='bar', title='Count (target)');\n"
   ]
  },
  {
   "cell_type": "markdown",
   "metadata": {},
   "source": [
    "## Model tunning\n",
    "    1. gridseach\n",
    "    2. sthocastic search\n"
   ]
  },
  {
   "cell_type": "markdown",
   "metadata": {
    "heading_collapsed": true
   },
   "source": [
    "## Evaluation metrics"
   ]
  },
  {
   "cell_type": "markdown",
   "metadata": {
    "ExecuteTime": {
     "end_time": "2018-09-11T18:45:22.985857Z",
     "start_time": "2018-09-11T18:45:22.979639Z"
    },
    "heading_collapsed": true,
    "hidden": true
   },
   "source": [
    "### Accuracy  and confusion matrix"
   ]
  },
  {
   "cell_type": "code",
   "execution_count": 1,
   "metadata": {
    "ExecuteTime": {
     "end_time": "2019-05-08T23:34:47.802794Z",
     "start_time": "2019-05-08T23:34:47.443946Z"
    },
    "hidden": true
   },
   "outputs": [
    {
     "ename": "NameError",
     "evalue": "name 'np' is not defined",
     "output_type": "error",
     "traceback": [
      "\u001b[0;31m---------------------------------------------------------------------------\u001b[0m",
      "\u001b[0;31mNameError\u001b[0m                                 Traceback (most recent call last)",
      "\u001b[0;32m<ipython-input-1-a068776eb6a1>\u001b[0m in \u001b[0;36m<module>\u001b[0;34m()\u001b[0m\n\u001b[1;32m      4\u001b[0m \u001b[0;32mfrom\u001b[0m \u001b[0mtabulate\u001b[0m \u001b[0;32mimport\u001b[0m \u001b[0mtabulate\u001b[0m\u001b[0;34m\u001b[0m\u001b[0m\n\u001b[1;32m      5\u001b[0m \u001b[0;34m\u001b[0m\u001b[0m\n\u001b[0;32m----> 6\u001b[0;31m \u001b[0mnp\u001b[0m\u001b[0;34m.\u001b[0m\u001b[0mrandom\u001b[0m\u001b[0;34m.\u001b[0m\u001b[0mseed\u001b[0m\u001b[0;34m(\u001b[0m\u001b[0;36m2018\u001b[0m\u001b[0;34m)\u001b[0m\u001b[0;34m\u001b[0m\u001b[0m\n\u001b[0m\u001b[1;32m      7\u001b[0m \u001b[0;34m\u001b[0m\u001b[0m\n\u001b[1;32m      8\u001b[0m \u001b[0my_true\u001b[0m \u001b[0;34m=\u001b[0m \u001b[0mnp\u001b[0m\u001b[0;34m.\u001b[0m\u001b[0mrandom\u001b[0m\u001b[0;34m.\u001b[0m\u001b[0muniform\u001b[0m\u001b[0;34m(\u001b[0m\u001b[0msize\u001b[0m\u001b[0;34m=\u001b[0m\u001b[0;36m7\u001b[0m\u001b[0;34m)\u001b[0m \u001b[0;34m>\u001b[0m \u001b[0;36m.5\u001b[0m\u001b[0;34m\u001b[0m\u001b[0m\n",
      "\u001b[0;31mNameError\u001b[0m: name 'np' is not defined"
     ]
    }
   ],
   "source": [
    "## Accuracy \n",
    "\n",
    "from sklearn.metrics import accuracy_score, confusion_matrix\n",
    "from tabulate import tabulate\n",
    "\n",
    "np.random.seed(2018)\n",
    "\n",
    "y_true = np.random.uniform(size=7) > .5\n",
    "y_pred = np.random.uniform(size=7) > .4\n",
    "\n",
    "acc = accuracy_score(y_true, y_pred)\n",
    "print('Fake data')\n",
    "print('y_true: {}'.format(y_true))\n",
    "print('y_pred: {}'.format(y_pred))\n",
    "\n",
    "print('accuracy: {}'.format(acc))\n",
    "\n",
    "cf_m = confusion_matrix(y_true, y_pred)\n",
    "\n",
    "cf_df = pd.DataFrame(cf_m, index=[\"Actual Positive\", \"Actual Negative\"], columns = [\"Predicted Positive\", \"Predicted Negative\"])\n",
    "tn, fp, fn, tp = confusion_matrix(y_true, y_pred).ravel()\n",
    "\n",
    "FPR = fp/(fp+tn)\n",
    "FNR = fn/(tp+fn)\n",
    "\n",
    "print(tabulate(cf_df, tablefmt=\"orgtbl\",\n",
    "               headers=\"keys\"))\n",
    "\n",
    "\n",
    "print()\n",
    "print('FPR: {}'.format(FPR))\n",
    "print('FNR: {}'.format(FNR))\n",
    "\n",
    "print()\n"
   ]
  },
  {
   "cell_type": "markdown",
   "metadata": {
    "hidden": true,
    "variables": {
     "print(tabulate(cf_df, headers=\"keys\", tablefmt=\"html\"))": "<p><strong>NameError</strong>: name &#39;tabulate&#39; is not defined</p>\n"
    }
   },
   "source": [
    "=================================\n",
    "\n",
    "For markdwon cells, insert the code in a markdown cell. \n",
    "\n",
    "```python\n",
    "\\{\\{print(tabulate(cf_df, headers=\"keys\", tablefmt=\"html\"))\\}\\}\n",
    "```\n",
    "\n",
    "\n",
    "{{print(tabulate(cf_df, headers=\"keys\", tablefmt=\"html\"))}}\n"
   ]
  },
  {
   "cell_type": "markdown",
   "metadata": {
    "heading_collapsed": true,
    "hidden": true
   },
   "source": [
    "### Precision Recall Curve, AUC and F score\n"
   ]
  },
  {
   "cell_type": "markdown",
   "metadata": {
    "hidden": true
   },
   "source": [
    "####  Downsampling data example\n",
    "\n",
    "Does need to run one time int he case we do not have data/creditcard_downsampled.csv.tar.bz2.\n",
    "\n",
    "Also is an example of downsampling data.\n",
    "\n",
    "Data downloaded from:\n",
    "https://www.kaggle.com/mlg-ulb/creditcardfraud\n",
    "\n",
    "\n",
    "* The original imbalance ratio (492:284315): 0.002\n",
    "* Downsample the majority to reach the ratio 1:3 , just to have small data set"
   ]
  },
  {
   "cell_type": "code",
   "execution_count": null,
   "metadata": {
    "ExecuteTime": {
     "end_time": "2018-12-18T23:25:29.891165Z",
     "start_time": "2018-12-18T23:25:29.734852Z"
    },
    "hidden": true
   },
   "outputs": [],
   "source": [
    "## Does not need to run this again once you have credicard_downsampled.csv.tar.bz2\n",
    "creditcard_df = pd.read_csv('data/creditcard.csv.zip', compression='zip', sep=',', quotechar='\"')\n",
    "\n",
    "creditcard_df.sample(3).head(3)\n",
    "\n",
    "n_pos = np.sum(creditcard_df.Class == True)\n",
    "print('#positives: {}'.format(n_pos))\n",
    "\n",
    "n_neg = np.sum(creditcard_df.Class == False)\n",
    "print('#negatives: {}'.format(n_neg))\n",
    "\n",
    "r = n_pos/(n_pos + n_neg)\n",
    "print('Imbalance data ratio ({0}:{1}): {2:.3f}'.format(n_pos,n_neg,r))"
   ]
  },
  {
   "cell_type": "markdown",
   "metadata": {
    "hidden": true
   },
   "source": [
    "downsample both class to have smaller dataset"
   ]
  },
  {
   "cell_type": "code",
   "execution_count": null,
   "metadata": {
    "ExecuteTime": {
     "end_time": "2018-12-18T23:28:02.127736Z",
     "start_time": "2018-12-18T23:28:02.112351Z"
    },
    "hidden": true
   },
   "outputs": [],
   "source": [
    "from sklearn.utils import resample\n",
    "\n",
    "# Separate majority and minority classes\n",
    "df_majority = creditcard_df[creditcard_df.Class==0]\n",
    "df_minority = creditcard_df[creditcard_df.Class==1]\n",
    " \n",
    "# Downsample majority class\n",
    "df_majority_downsampled = resample(df_majority, \n",
    "                                 replace=False,    # sample without replacement\n",
    "                                 n_samples=2000,     # to match minority class\n",
    "                                 random_state=123) # reproducible results\n",
    " \n",
    "\n",
    "# Combine minority class with downsampled majority class\n",
    "df_downsampled = pd.concat([df_majority_downsampled, df_minority])\n",
    "df_downsampled = df_downsampled.reset_index(drop=True)\n",
    "\n",
    "\n",
    "# Saving\n",
    "df_downsampled.to_csv('data/creditcard_downsampled.csv', index=False)"
   ]
  },
  {
   "cell_type": "code",
   "execution_count": null,
   "metadata": {
    "ExecuteTime": {
     "end_time": "2018-09-12T00:54:20.033096Z",
     "start_time": "2018-09-12T00:54:19.895823Z"
    },
    "hidden": true,
    "scrolled": true
   },
   "outputs": [],
   "source": [
    "%%bash\n",
    "\n",
    "# remove old file\n",
    "rm -v data/creditcard_downsampled.csv.tar.bz2 \n",
    "tar -cjvf  data/creditcard_downsampled.csv.tar.bz2 data/creditcard_downsampled.csv\n",
    "\n",
    "rm -v data/creditcard_downsampled.csv\n",
    "\n",
    "du -sh data/*"
   ]
  },
  {
   "cell_type": "markdown",
   "metadata": {
    "hidden": true
   },
   "source": [
    "#### Load downsampled data"
   ]
  },
  {
   "cell_type": "code",
   "execution_count": null,
   "metadata": {
    "ExecuteTime": {
     "end_time": "2018-12-18T23:28:24.243220Z",
     "start_time": "2018-12-18T23:28:23.776243Z"
    },
    "code_folding": [],
    "hidden": true
   },
   "outputs": [],
   "source": [
    "## load\n",
    "creditcard_df = pd.read_csv('data/creditcard_downsampled.csv.tar.bz2', compression='bz2', \n",
    "                            sep=',', quotechar='\"', index_col=False)\n",
    "\n",
    "creditcard_df = creditcard_df.dropna()\n",
    "creditcard_df[['Class','Amount']].describe()\n",
    "\n",
    "creditcard_df['Class'] = creditcard_df.Class.astype(int)\n",
    "\n",
    "creditcard_df.sample(3).head(3)\n",
    "\n",
    "n_pos = np.sum(creditcard_df.Class == True)\n",
    "print('#positives: {}'.format(n_pos))\n",
    "\n",
    "n_neg = np.sum(creditcard_df.Class == False)\n",
    "print('#negatives: {}'.format(n_neg))\n",
    "\n",
    "r = n_pos/(n_pos + n_neg)\n",
    "print('Imbalance data ratio ({0}:{1}): {2:.3f}'.format(n_pos,n_neg,r))"
   ]
  },
  {
   "cell_type": "markdown",
   "metadata": {
    "ExecuteTime": {
     "end_time": "2018-09-11T22:48:44.360057Z",
     "start_time": "2018-09-11T22:48:44.354568Z"
    },
    "hidden": true
   },
   "source": [
    "#### Training 2 models"
   ]
  },
  {
   "cell_type": "code",
   "execution_count": null,
   "metadata": {
    "ExecuteTime": {
     "end_time": "2018-12-18T23:28:32.035711Z",
     "start_time": "2018-12-18T23:28:32.020487Z"
    },
    "hidden": true
   },
   "outputs": [],
   "source": [
    "from sklearn.model_selection import train_test_split\n",
    "\n",
    "X = creditcard_df[creditcard_df.columns[:-1]]\n",
    "y = creditcard_df[creditcard_df.columns[-1]]\n",
    "\n",
    "X_train, X_test, y_train, y_test = train_test_split(X, y, random_state=2018, test_size=0.3)\n"
   ]
  },
  {
   "cell_type": "code",
   "execution_count": null,
   "metadata": {
    "ExecuteTime": {
     "end_time": "2018-12-18T23:28:35.440899Z",
     "start_time": "2018-12-18T23:28:35.267603Z"
    },
    "hidden": true
   },
   "outputs": [],
   "source": [
    "# random forests\n",
    "from sklearn.ensemble import RandomForestClassifier\n",
    "from sklearn.linear_model import LogisticRegression\n",
    "\n",
    "rf = RandomForestClassifier(n_estimators = 15,max_depth=5,\n",
    "                            random_state=0).fit(X_train, y_train)\n",
    "\n",
    "\n",
    "lr = LogisticRegression().fit(X_train, y_train)\n"
   ]
  },
  {
   "cell_type": "markdown",
   "metadata": {
    "ExecuteTime": {
     "end_time": "2018-09-11T23:58:38.823835Z",
     "start_time": "2018-09-11T23:58:38.818282Z"
    },
    "heading_collapsed": true,
    "hidden": true
   },
   "source": [
    "#### Precision n Recall Curves"
   ]
  },
  {
   "cell_type": "code",
   "execution_count": null,
   "metadata": {
    "ExecuteTime": {
     "end_time": "2018-12-18T23:28:36.801429Z",
     "start_time": "2018-12-18T23:28:36.497983Z"
    },
    "hidden": true
   },
   "outputs": [],
   "source": [
    "from sklearn.metrics import precision_recall_curve\n",
    "\n",
    "\n",
    "y_true = y_test > 0.5\n",
    "y_score_rf = rf.predict_proba(X_test)[:,-1]\n",
    "y_score_lr = lr.predict_proba(X_test)[:,-1]\n",
    "np.random.seed(2018)\n",
    "y_score_rd = np.random.uniform(size=y_test.shape[0])\n",
    "y_score_perfect = y_test\n",
    "\n",
    "r = n_pos/(n_pos + n_neg)\n",
    "print('Imbalance data ratio ({0}:{1}): {2:.3f}'.format(n_pos,n_neg,r))\n",
    "\n",
    "precision1, recall1, thrs1 = precision_recall_curve(y_true, y_score_rf)\n",
    "\n",
    "precision2, recall2, thrs2 = precision_recall_curve(y_true, y_score_lr)\n",
    "\n",
    "precision3, recall3, thrs3 = precision_recall_curve(y_true, y_score_rd)\n",
    "\n",
    "precision4, recall4, thrs4 = precision_recall_curve(y_true, y_score_perfect)\n",
    "\n",
    "\n",
    "plt.plot(recall1, precision1, marker='.',label='random florest');\n",
    "plt.plot(recall2, precision2, marker='.', label='logistic regression');\n",
    "plt.plot(recall3, precision3, marker='.', label='random uniform');\n",
    "plt.plot(recall4, precision4, marker='.', label='perfect classifier');\n",
    "plt.plot([0, 1], [r, r], linestyle='--',label='Random');\n",
    "plt.legend();\n",
    "                                              "
   ]
  },
  {
   "cell_type": "code",
   "execution_count": null,
   "metadata": {
    "ExecuteTime": {
     "end_time": "2018-12-18T23:28:39.632561Z",
     "start_time": "2018-12-18T23:28:39.626206Z"
    },
    "hidden": true
   },
   "outputs": [],
   "source": [
    "# TODO: implement this later better. Give the options to pass multiple model for comparison\n",
    "def plot_prec_recall_vs_tresh(precisions, recalls, thresholds):\n",
    "    \n",
    "    plt.plot(thresholds, precisions[:-1], 'b--', label='precision')\n",
    "    plt.plot(thresholds, recalls[:-1], 'g--', label = 'recall')\n",
    "    plt.xlabel('Threshold')\n",
    "    plt.legend(loc='upper left')\n",
    "    plt.ylim([0,1])\n",
    "    "
   ]
  },
  {
   "cell_type": "code",
   "execution_count": null,
   "metadata": {
    "ExecuteTime": {
     "end_time": "2018-12-18T23:28:40.330398Z",
     "start_time": "2018-12-18T23:28:40.132008Z"
    },
    "hidden": true
   },
   "outputs": [],
   "source": [
    "from sklearn.metrics import f1_score, auc\n",
    "\n",
    "area = auc(recall1, precision1)\n",
    "\n",
    "f = f1_score(y_true, y_score_rf > 0.5 , average='micro')\n",
    "\n",
    "print('AUCPRC: {}'.format(area))\n",
    "print('f1 score: {}'.format(f))\n",
    "\n",
    "\n",
    "# precision_recall_curve returns precision  and recall as a array od shape = [n_thresholds + 1] \n",
    "thrs1.shape\n",
    "recall1.shape\n",
    "precision1.shape\n",
    "\n",
    "precision = precision1[:-1]\n",
    "recall = recall1[:-1]\n",
    "\n",
    "precision.shape\n",
    "recall.shape\n",
    "\n",
    "f_scores = 2 * (precision * recall) / (precision + recall)\n",
    "\n",
    "plt.plot(thrs1, precision, marker='.',label='precision');\n",
    "plt.plot(thrs1, recall, marker='.', label='recall');\n",
    "plt.plot(thrs1, f_scores, marker='.', label='f score');\n",
    "plt.legend();"
   ]
  },
  {
   "cell_type": "markdown",
   "metadata": {
    "hidden": true
   },
   "source": [
    "### EER: Equal error"
   ]
  },
  {
   "cell_type": "code",
   "execution_count": null,
   "metadata": {
    "ExecuteTime": {
     "end_time": "2018-12-18T23:30:21.681402Z",
     "start_time": "2018-12-18T23:30:21.674328Z"
    },
    "hidden": true
   },
   "outputs": [],
   "source": [
    "from sklearn.metrics import roc_curve\n",
    "\n",
    "fpr1, tpr1, thr1 = roc_curve(y_true, y_score_rf)\n",
    "fnr1 = 1.0 - tpr1\n",
    "\n",
    "EER1_pos = np.argmin(abs(fnr1-fpr1))\n",
    "EER1_thr1 = thr1[EER1_pos]\n",
    "\n",
    "print('thr @ EER: {}'.format(EER1_thr1))\n",
    "print('fpr @ EER: {}'.format(fpr1[EER1_pos]))\n",
    "print('fnr @ EER: {}'.format(fnr1[EER1_pos]))\n"
   ]
  },
  {
   "cell_type": "markdown",
   "metadata": {
    "ExecuteTime": {
     "end_time": "2019-03-07T21:06:25.029566Z",
     "start_time": "2019-03-07T21:06:25.022393Z"
    }
   },
   "source": [
    "## Model interpretation\n",
    "\n",
    "TODO: \n",
    "    \n",
    "1. importance plot\n",
    "2. LIME"
   ]
  },
  {
   "cell_type": "markdown",
   "metadata": {},
   "source": [
    "## Model report\n",
    "\n",
    "* Graphs, statistics n tables to report to business (non-thecnicak) persons\n",
    "* Prhases templates to use when describe n report the model performance (one per model type)\n"
   ]
  },
  {
   "cell_type": "code",
   "execution_count": null,
   "metadata": {},
   "outputs": [],
   "source": []
  }
 ],
 "metadata": {
  "kernelspec": {
   "display_name": "Python [default]",
   "language": "python",
   "name": "python3"
  },
  "language_info": {
   "codemirror_mode": {
    "name": "ipython",
    "version": 3
   },
   "file_extension": ".py",
   "mimetype": "text/x-python",
   "name": "python",
   "nbconvert_exporter": "python",
   "pygments_lexer": "ipython3",
   "version": "3.6.5"
  }
 },
 "nbformat": 4,
 "nbformat_minor": 2
}
