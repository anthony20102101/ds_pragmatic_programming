{
 "cells": [
  {
   "cell_type": "markdown",
   "metadata": {
    "ExecuteTime": {
     "end_time": "2018-09-11T18:09:18.303884Z",
     "start_time": "2018-09-11T18:09:18.300979Z"
    }
   },
   "source": [
    "# Data Science Pragmatic programming in Python\n",
    "\n",
    "\n",
    "Code snippets for quick consult (copy n paste)"
   ]
  },
  {
   "cell_type": "code",
   "execution_count": 19,
   "metadata": {
    "ExecuteTime": {
     "end_time": "2019-03-08T01:48:47.153645Z",
     "start_time": "2019-03-08T01:48:46.324505Z"
    }
   },
   "outputs": [],
   "source": [
    "import numpy as np\n",
    "import pandas as pd\n",
    "\n",
    "from scipy import stats\n",
    "\n",
    "import matplotlib\n",
    "import matplotlib.pyplot as plt\n",
    "%matplotlib inline \n",
    "\n",
    "import IPython\n",
    "from IPython.core.interactiveshell import InteractiveShell\n",
    "InteractiveShell.ast_node_interactivity = \"all\"\n"
   ]
  },
  {
   "cell_type": "code",
   "execution_count": 2,
   "metadata": {
    "ExecuteTime": {
     "end_time": "2019-02-25T23:44:50.166064Z",
     "start_time": "2019-02-25T23:44:50.049162Z"
    }
   },
   "outputs": [
    {
     "name": "stdout",
     "output_type": "stream",
     "text": [
      "/home/leandroohf/Documents/sdb1/leandro/ds_pragmatic_programming\r\n"
     ]
    }
   ],
   "source": [
    "!pwd"
   ]
  },
  {
   "cell_type": "markdown",
   "metadata": {
    "ExecuteTime": {
     "end_time": "2019-03-07T20:56:53.499721Z",
     "start_time": "2019-03-07T20:56:53.490921Z"
    },
    "heading_collapsed": true
   },
   "source": [
    "## Notebooks tricks \n",
    "\n",
    "This can help with interacting with shell"
   ]
  },
  {
   "cell_type": "markdown",
   "metadata": {
    "ExecuteTime": {
     "end_time": "2019-03-07T20:57:43.950467Z",
     "start_time": "2019-03-07T20:57:43.942384Z"
    },
    "hidden": true
   },
   "source": [
    "* share variables between python and bash cell"
   ]
  },
  {
   "cell_type": "code",
   "execution_count": 10,
   "metadata": {
    "ExecuteTime": {
     "end_time": "2019-03-07T21:00:33.191414Z",
     "start_time": "2019-03-07T21:00:33.188287Z"
    },
    "hidden": true
   },
   "outputs": [],
   "source": [
    "python_var = 'test1'\n",
    "var_test2 = 10.3"
   ]
  },
  {
   "cell_type": "code",
   "execution_count": 17,
   "metadata": {
    "ExecuteTime": {
     "end_time": "2019-03-07T21:09:26.516247Z",
     "start_time": "2019-03-07T21:09:26.507602Z"
    },
    "hidden": true
   },
   "outputs": [
    {
     "name": "stdout",
     "output_type": "stream",
     "text": [
      "test1\n",
      "10.3\n",
      "position_3\n"
     ]
    }
   ],
   "source": [
    "%%bash -s \"$python_var\" \"$var_test2\" \"position_3\"\n",
    "\n",
    "echo $1\n",
    "echo $2\n",
    "echo $3\n"
   ]
  },
  {
   "cell_type": "markdown",
   "metadata": {
    "hidden": true
   },
   "source": [
    "* define enviroment variable shared between bash cells"
   ]
  },
  {
   "cell_type": "code",
   "execution_count": 12,
   "metadata": {
    "ExecuteTime": {
     "end_time": "2019-03-07T21:00:39.525129Z",
     "start_time": "2019-03-07T21:00:39.520079Z"
    },
    "hidden": true
   },
   "outputs": [
    {
     "name": "stdout",
     "output_type": "stream",
     "text": [
      "env: MY_VAR=env_test_var\n",
      "env: v1=test1\n"
     ]
    }
   ],
   "source": [
    "%env MY_VAR=env_test_var\n",
    "%env  v1=$python_var"
   ]
  },
  {
   "cell_type": "code",
   "execution_count": 13,
   "metadata": {
    "ExecuteTime": {
     "end_time": "2019-03-07T21:00:40.608121Z",
     "start_time": "2019-03-07T21:00:40.600269Z"
    },
    "hidden": true
   },
   "outputs": [
    {
     "name": "stdout",
     "output_type": "stream",
     "text": [
      "env_test_var\n",
      "test1\n"
     ]
    }
   ],
   "source": [
    "%%bash \n",
    "\n",
    "echo $MY_VAR\n",
    "echo $v1"
   ]
  },
  {
   "cell_type": "markdown",
   "metadata": {},
   "source": [
    "## Generate data \n",
    "\n",
    "* random numbers generation\n",
    "* generate data\n",
    "* load data sets (toy)\n",
    "\n",
    "http://scikit-learn.org/stable/datasets/index.html"
   ]
  },
  {
   "cell_type": "markdown",
   "metadata": {},
   "source": [
    "### Gen random numbers\n",
    "\n",
    "* uniform\n",
    "* normal\n",
    "* multivariate\n",
    "* bolean\n",
    "* integer"
   ]
  },
  {
   "cell_type": "code",
   "execution_count": null,
   "metadata": {
    "ExecuteTime": {
     "end_time": "2018-09-12T00:53:28.393935Z",
     "start_time": "2018-09-12T00:53:28.346725Z"
    }
   },
   "outputs": [],
   "source": [
    "## random numbers\n",
    "np.random.seed(seed=2018)\n",
    "\n",
    "# random boolean\n",
    "b = np.random.uniform(size=3) > .5\n",
    "b\n",
    "\n",
    "# uniform\n",
    "u = np.random.uniform(size=3)\n",
    "u\n",
    "\n",
    "# random int\n",
    "i = np.random.randint(0,9,size=3)\n",
    "i\n",
    "\n",
    "# random choice\n",
    "c = np.random.choice(['a','b','c','e'],size=7)\n",
    "c\n",
    "\n",
    "# normal\n",
    "n = np.random.normal(size=5)\n",
    "n\n",
    "\n",
    "# multivariated normal 2d;\n",
    "_mean = (1, 2)\n",
    "_cov = [[1, 0], [0, 1]]\n",
    "m = np.random.multivariate_normal(_mean, _cov, 3 )\n",
    "m.shape\n",
    "m"
   ]
  },
  {
   "cell_type": "markdown",
   "metadata": {},
   "source": [
    "### Create dataframes"
   ]
  },
  {
   "cell_type": "code",
   "execution_count": 88,
   "metadata": {
    "ExecuteTime": {
     "end_time": "2019-03-08T04:51:48.059784Z",
     "start_time": "2019-03-08T04:51:48.051824Z"
    }
   },
   "outputs": [
    {
     "data": {
      "text/html": [
       "<div>\n",
       "<style scoped>\n",
       "    .dataframe tbody tr th:only-of-type {\n",
       "        vertical-align: middle;\n",
       "    }\n",
       "\n",
       "    .dataframe tbody tr th {\n",
       "        vertical-align: top;\n",
       "    }\n",
       "\n",
       "    .dataframe thead th {\n",
       "        text-align: right;\n",
       "    }\n",
       "</style>\n",
       "<table border=\"1\" class=\"dataframe\">\n",
       "  <thead>\n",
       "    <tr style=\"text-align: right;\">\n",
       "      <th></th>\n",
       "      <th>col_1</th>\n",
       "      <th>col_2</th>\n",
       "    </tr>\n",
       "  </thead>\n",
       "  <tbody>\n",
       "    <tr>\n",
       "      <th>0</th>\n",
       "      <td>3</td>\n",
       "      <td>a</td>\n",
       "    </tr>\n",
       "    <tr>\n",
       "      <th>1</th>\n",
       "      <td>2</td>\n",
       "      <td>b</td>\n",
       "    </tr>\n",
       "    <tr>\n",
       "      <th>2</th>\n",
       "      <td>1</td>\n",
       "      <td>c</td>\n",
       "    </tr>\n",
       "    <tr>\n",
       "      <th>3</th>\n",
       "      <td>0</td>\n",
       "      <td>d</td>\n",
       "    </tr>\n",
       "  </tbody>\n",
       "</table>\n",
       "</div>"
      ],
      "text/plain": [
       "   col_1 col_2\n",
       "0      3     a\n",
       "1      2     b\n",
       "2      1     c\n",
       "3      0     d"
      ]
     },
     "execution_count": 88,
     "metadata": {},
     "output_type": "execute_result"
    }
   ],
   "source": [
    "data = {'col_1': [3, 2, 1, 0], 'col_2': ['a', 'b', 'c', 'd']}\n",
    "\n",
    "pd.DataFrame.from_dict(data)\n"
   ]
  },
  {
   "cell_type": "markdown",
   "metadata": {
    "heading_collapsed": true
   },
   "source": [
    "### Gen data for classifications and clustering\n",
    "\n",
    "Shameless stolen from:\n",
    "http://scikit-learn.org/stable/auto_examples/datasets/plot_random_dataset.html#sphx-glr-auto-examples-datasets-plot-random-dataset-py\n"
   ]
  },
  {
   "cell_type": "markdown",
   "metadata": {
    "hidden": true
   },
   "source": [
    "* **make_classification** create multiclass datasets by allocating each class one or more **normally-distributed** clusters of points\n",
    "\n",
    "   make_classification introducing noise by way of: correlated, redundant and uninformative features; multiple Gaussian clusters per class; and linear transformations of the feature space."
   ]
  },
  {
   "cell_type": "code",
   "execution_count": 25,
   "metadata": {
    "ExecuteTime": {
     "end_time": "2018-12-03T07:41:12.482847Z",
     "start_time": "2018-12-03T07:41:11.864863Z"
    },
    "code_folding": [],
    "hidden": true
   },
   "outputs": [
    {
     "data": {
      "image/png": "[encoded data removed]",
      "text/plain": [
       "<Figure size 720x1080 with 4 Axes>"
      ]
     },
     "metadata": {},
     "output_type": "display_data"
    }
   ],
   "source": [
    "## classification (normal distributed)\n",
    "from sklearn.datasets import make_classification\n",
    "\n",
    "plt.figure(figsize=(10, 15));\n",
    "\n",
    "plt.subplots_adjust(bottom=.05, top=.9, left=.05, right=.95);\n",
    "\n",
    "X1, Y1 = make_classification(n_features=2, n_redundant=0, n_informative=1,\n",
    "                             n_clusters_per_class=1)\n",
    "\n",
    "plt.subplot(321);\n",
    "plt.title(\"One informative feature, one cluster per class\", fontsize='small');\n",
    "plt.scatter(X1[:, 0], X1[:, 1], marker='o', c=Y1,\n",
    "            s=25, edgecolor='k')\n",
    "\n",
    "X1, Y1 = make_classification(n_features=2, n_redundant=0, n_informative=2,\n",
    "                             n_clusters_per_class=1)\n",
    "\n",
    "plt.subplot(322);\n",
    "plt.title(\"Two informative features, one cluster per class\", fontsize='small');\n",
    "\n",
    "plt.scatter(X1[:, 0], X1[:, 1], marker='o', c=Y1,\n",
    "            s=25, edgecolor='k');\n",
    "\n",
    "\n",
    "X2, Y2 = make_classification(n_features=2, n_redundant=0, n_informative=2)\n",
    "\n",
    "plt.subplot(323);\n",
    "plt.title(\"Two informative features, two clusters per class\",\n",
    "          fontsize='small');\n",
    "\n",
    "plt.scatter(X2[:, 0], X2[:, 1], marker='o', c=Y2,\n",
    "            s=25, edgecolor='k')\n",
    "\n",
    "\n",
    "X1, Y1 = make_classification(n_features=2, n_redundant=0, n_informative=2,\n",
    "                             n_clusters_per_class=1, n_classes=3)\n",
    "\n",
    "plt.subplot(324);\n",
    "plt.title(\"Multi-class, two informative features, one cluster\",\n",
    "          fontsize='small');\n",
    "\n",
    "plt.scatter(X1[:, 0], X1[:, 1], marker='o', c=Y1,\n",
    "            s=25, edgecolor='k');\n",
    "\n",
    "plt.show();"
   ]
  },
  {
   "cell_type": "markdown",
   "metadata": {
    "ExecuteTime": {
     "end_time": "2018-09-11T18:37:11.959944Z",
     "start_time": "2018-09-11T18:37:11.956913Z"
    },
    "hidden": true
   },
   "source": [
    "* **make_blobs**: Generate isotropic (uniformity in all orientations) Gaussian blobs for clustering. \n",
    "\n",
    "* **make_gaussian_quantiles**: Generate isotropic Gaussian and label samples by quantile"
   ]
  },
  {
   "cell_type": "code",
   "execution_count": null,
   "metadata": {
    "ExecuteTime": {
     "end_time": "2018-09-12T00:53:37.806512Z",
     "start_time": "2018-09-12T00:53:37.536558Z"
    },
    "code_folding": [],
    "hidden": true
   },
   "outputs": [],
   "source": [
    "## Blobs n gaussian qunatiles\n",
    "from sklearn.datasets import make_blobs\n",
    "from sklearn.datasets import make_gaussian_quantiles\n",
    "\n",
    "X1, Y1 = make_blobs(n_features=2, centers=3, random_state=2018)\n",
    "\n",
    "plt.figure(figsize=(11,5));\n",
    "\n",
    "ax1 = plt.subplot(121);\n",
    "plt.title(\"Three blobs\", fontsize='small');\n",
    "plt.scatter(X1[:, 0], X1[:, 1], marker='o', c=Y1,\n",
    "            s=25, edgecolor='k');\n",
    "\n",
    "X1, Y1 = make_gaussian_quantiles(n_features=2, n_classes=3,n_samples=256,random_state=2018)\n",
    "\n",
    "ax2 = plt.subplot(122);\n",
    "plt.title(\"Gaussian divided into three quantiles\", fontsize='small');\n",
    "\n",
    "plt.scatter(X1[:, 0], X1[:, 1], marker='o', c=Y1,\n",
    "            s=25, edgecolor='k');\n",
    "\n",
    "ax2.set_xlim(-4,4);\n",
    "ax2.set_ylim(-4,4);\n",
    "\n",
    "plt.show()"
   ]
  },
  {
   "cell_type": "markdown",
   "metadata": {
    "hidden": true
   },
   "source": [
    "* **make_circles**: Make a large circle containing a smaller circle in 2d.\n",
    "\n",
    "* **make_moons**: Make two interleaving half circles"
   ]
  },
  {
   "cell_type": "code",
   "execution_count": null,
   "metadata": {
    "ExecuteTime": {
     "end_time": "2018-09-12T00:53:41.025344Z",
     "start_time": "2018-09-12T00:53:40.817521Z"
    },
    "hidden": true
   },
   "outputs": [],
   "source": [
    "## Clustering\n",
    "from sklearn.datasets import make_moons, make_circles\n",
    "\n",
    "X, y = make_circles(n_samples=400, factor=.3, noise=.05, random_state=2018)\n",
    "\n",
    "# scatter plot of original and reduced data\n",
    "fig = plt.figure(figsize=(9, 8));\n",
    "\n",
    "ax1 = plt.subplot(121,aspect='equal');\n",
    "ax1.scatter(X[:, 0], X[:, 1], c=y, s=50, edgecolor='k');\n",
    "ax1.set_title(\"Circle Data (2d)\");\n",
    "ax1.set_xticks(());\n",
    "ax1.set_yticks(());\n",
    "\n",
    "\n",
    "X, y = make_moons(n_samples=400, noise=.05,random_state=2018)\n",
    "\n",
    "ax2 = plt.subplot(122,aspect='equal');\n",
    "ax2.scatter(X[:, 0], X[:, 1], c=y, s=50, edgecolor='k');\n",
    "ax2.set_title(\"Moons Data (2d)\");\n",
    "ax2.set_xticks(());\n",
    "ax2.set_yticks(());\n",
    "\n",
    "plt.tight_layout();\n",
    "plt.show;\n"
   ]
  },
  {
   "cell_type": "markdown",
   "metadata": {},
   "source": [
    "### Load data sets\n"
   ]
  },
  {
   "cell_type": "markdown",
   "metadata": {},
   "source": [
    "* **load_iris** Load and return the iris dataset (classification).\n",
    "\n",
    "<img src=\"images/iris_petal_sepal.png\" width=\"250\" align=\"left\"/>\n"
   ]
  },
  {
   "cell_type": "code",
   "execution_count": null,
   "metadata": {
    "ExecuteTime": {
     "end_time": "2018-09-12T00:53:47.632419Z",
     "start_time": "2018-09-12T00:53:47.487355Z"
    },
    "code_folding": []
   },
   "outputs": [],
   "source": [
    "## datasets\n",
    "\n",
    "from sklearn.datasets import load_iris\n",
    "\n",
    "# Load the Iris flower dataset:\n",
    "iris = load_iris()\n",
    "X_iris = iris.data\n",
    "Y_iris = iris.target\n",
    "\n",
    "print('data size: {}'.format(X_iris.shape))\n",
    "print('features: {}'.format(iris.feature_names))\n",
    "print('labels: {}'.format(iris.target_names))\n",
    "\n",
    "print()\n",
    "\n",
    "plt.figure(2, figsize=(4, 3));\n",
    "plt.clf();\n",
    "\n",
    "# Plot \n",
    "plt.scatter(X_iris[:, 0], X_iris[:, 1], c=Y_iris, cmap=plt.cm.Set1,\n",
    "            edgecolor='k');\n",
    "plt.xlabel('Sepal length');\n",
    "plt.ylabel('Sepal width');"
   ]
  },
  {
   "cell_type": "markdown",
   "metadata": {},
   "source": [
    "* **load_boston**: Load and return the boston house-prices dataset (regression)."
   ]
  },
  {
   "cell_type": "code",
   "execution_count": 46,
   "metadata": {
    "ExecuteTime": {
     "end_time": "2018-10-26T18:34:37.108941Z",
     "start_time": "2018-10-26T18:34:37.071503Z"
    }
   },
   "outputs": [
    {
     "name": "stdout",
     "output_type": "stream",
     "text": [
      "data size: (506, 13)\n",
      "features: ['CRIM' 'ZN' 'INDUS' 'CHAS' 'NOX' 'RM' 'AGE' 'DIS' 'RAD' 'TAX' 'PTRATIO'\n",
      " 'B' 'LSTAT']\n"
     ]
    },
    {
     "data": {
      "text/html": [
       "<div>\n",
       "<style scoped>\n",
       "    .dataframe tbody tr th:only-of-type {\n",
       "        vertical-align: middle;\n",
       "    }\n",
       "\n",
       "    .dataframe tbody tr th {\n",
       "        vertical-align: top;\n",
       "    }\n",
       "\n",
       "    .dataframe thead th {\n",
       "        text-align: right;\n",
       "    }\n",
       "</style>\n",
       "<table border=\"1\" class=\"dataframe\">\n",
       "  <thead>\n",
       "    <tr style=\"text-align: right;\">\n",
       "      <th></th>\n",
       "      <th>CRIM</th>\n",
       "      <th>ZN</th>\n",
       "      <th>INDUS</th>\n",
       "      <th>CHAS</th>\n",
       "      <th>NOX</th>\n",
       "      <th>RM</th>\n",
       "      <th>AGE</th>\n",
       "      <th>DIS</th>\n",
       "      <th>RAD</th>\n",
       "      <th>TAX</th>\n",
       "      <th>PTRATIO</th>\n",
       "      <th>B</th>\n",
       "      <th>LSTAT</th>\n",
       "      <th>target</th>\n",
       "    </tr>\n",
       "  </thead>\n",
       "  <tbody>\n",
       "    <tr>\n",
       "      <th>0</th>\n",
       "      <td>0.00632</td>\n",
       "      <td>18.0</td>\n",
       "      <td>2.31</td>\n",
       "      <td>0.0</td>\n",
       "      <td>0.538</td>\n",
       "      <td>6.575</td>\n",
       "      <td>65.2</td>\n",
       "      <td>4.0900</td>\n",
       "      <td>1.0</td>\n",
       "      <td>296.0</td>\n",
       "      <td>15.3</td>\n",
       "      <td>396.90</td>\n",
       "      <td>4.98</td>\n",
       "      <td>24.0</td>\n",
       "    </tr>\n",
       "    <tr>\n",
       "      <th>1</th>\n",
       "      <td>0.02731</td>\n",
       "      <td>0.0</td>\n",
       "      <td>7.07</td>\n",
       "      <td>0.0</td>\n",
       "      <td>0.469</td>\n",
       "      <td>6.421</td>\n",
       "      <td>78.9</td>\n",
       "      <td>4.9671</td>\n",
       "      <td>2.0</td>\n",
       "      <td>242.0</td>\n",
       "      <td>17.8</td>\n",
       "      <td>396.90</td>\n",
       "      <td>9.14</td>\n",
       "      <td>21.6</td>\n",
       "    </tr>\n",
       "    <tr>\n",
       "      <th>2</th>\n",
       "      <td>0.02729</td>\n",
       "      <td>0.0</td>\n",
       "      <td>7.07</td>\n",
       "      <td>0.0</td>\n",
       "      <td>0.469</td>\n",
       "      <td>7.185</td>\n",
       "      <td>61.1</td>\n",
       "      <td>4.9671</td>\n",
       "      <td>2.0</td>\n",
       "      <td>242.0</td>\n",
       "      <td>17.8</td>\n",
       "      <td>392.83</td>\n",
       "      <td>4.03</td>\n",
       "      <td>34.7</td>\n",
       "    </tr>\n",
       "    <tr>\n",
       "      <th>3</th>\n",
       "      <td>0.03237</td>\n",
       "      <td>0.0</td>\n",
       "      <td>2.18</td>\n",
       "      <td>0.0</td>\n",
       "      <td>0.458</td>\n",
       "      <td>6.998</td>\n",
       "      <td>45.8</td>\n",
       "      <td>6.0622</td>\n",
       "      <td>3.0</td>\n",
       "      <td>222.0</td>\n",
       "      <td>18.7</td>\n",
       "      <td>394.63</td>\n",
       "      <td>2.94</td>\n",
       "      <td>33.4</td>\n",
       "    </tr>\n",
       "  </tbody>\n",
       "</table>\n",
       "</div>"
      ],
      "text/plain": [
       "      CRIM    ZN  INDUS  CHAS    NOX     RM   AGE     DIS  RAD    TAX  \\\n",
       "0  0.00632  18.0   2.31   0.0  0.538  6.575  65.2  4.0900  1.0  296.0   \n",
       "1  0.02731   0.0   7.07   0.0  0.469  6.421  78.9  4.9671  2.0  242.0   \n",
       "2  0.02729   0.0   7.07   0.0  0.469  7.185  61.1  4.9671  2.0  242.0   \n",
       "3  0.03237   0.0   2.18   0.0  0.458  6.998  45.8  6.0622  3.0  222.0   \n",
       "\n",
       "   PTRATIO       B  LSTAT  target  \n",
       "0     15.3  396.90   4.98    24.0  \n",
       "1     17.8  396.90   9.14    21.6  \n",
       "2     17.8  392.83   4.03    34.7  \n",
       "3     18.7  394.63   2.94    33.4  "
      ]
     },
     "execution_count": 46,
     "metadata": {},
     "output_type": "execute_result"
    }
   ],
   "source": [
    "# Boston house pricing\n",
    "\n",
    "from sklearn.datasets import load_boston\n",
    "\n",
    "boston = load_boston()\n",
    "\n",
    "print('data size: {}'.format(boston.data.shape))\n",
    "print('features: {}'.format(boston.feature_names))\n",
    "\n",
    "# convert to data frame (but may times is not necessary)\n",
    "boston_df = pd.DataFrame(boston.data)\n",
    "boston_df.columns = boston.feature_names\n",
    "\n",
    "boston_df['target'] = boston.target\n",
    "\n",
    "boston_df.head(4)"
   ]
  },
  {
   "cell_type": "code",
   "execution_count": 41,
   "metadata": {
    "ExecuteTime": {
     "end_time": "2018-10-26T18:26:47.338288Z",
     "start_time": "2018-10-26T18:26:47.041497Z"
    }
   },
   "outputs": [
    {
     "data": {
      "text/plain": [
       "(830, 7)"
      ]
     },
     "execution_count": 41,
     "metadata": {},
     "output_type": "execute_result"
    },
    {
     "data": {
      "text/html": [
       "<div>\n",
       "<style scoped>\n",
       "    .dataframe tbody tr th:only-of-type {\n",
       "        vertical-align: middle;\n",
       "    }\n",
       "\n",
       "    .dataframe tbody tr th {\n",
       "        vertical-align: top;\n",
       "    }\n",
       "\n",
       "    .dataframe thead th {\n",
       "        text-align: right;\n",
       "    }\n",
       "</style>\n",
       "<table border=\"1\" class=\"dataframe\">\n",
       "  <thead>\n",
       "    <tr style=\"text-align: right;\">\n",
       "      <th></th>\n",
       "      <th>index</th>\n",
       "      <th>date</th>\n",
       "      <th>duration</th>\n",
       "      <th>item</th>\n",
       "      <th>month</th>\n",
       "      <th>network</th>\n",
       "      <th>network_type</th>\n",
       "    </tr>\n",
       "  </thead>\n",
       "  <tbody>\n",
       "    <tr>\n",
       "      <th>0</th>\n",
       "      <td>0</td>\n",
       "      <td>15/10/14 06:58</td>\n",
       "      <td>34.429</td>\n",
       "      <td>data</td>\n",
       "      <td>2014-11</td>\n",
       "      <td>data</td>\n",
       "      <td>data</td>\n",
       "    </tr>\n",
       "    <tr>\n",
       "      <th>1</th>\n",
       "      <td>1</td>\n",
       "      <td>15/10/14 06:58</td>\n",
       "      <td>13.000</td>\n",
       "      <td>call</td>\n",
       "      <td>2014-11</td>\n",
       "      <td>Vodafone</td>\n",
       "      <td>mobile</td>\n",
       "    </tr>\n",
       "    <tr>\n",
       "      <th>2</th>\n",
       "      <td>2</td>\n",
       "      <td>15/10/14 14:46</td>\n",
       "      <td>23.000</td>\n",
       "      <td>call</td>\n",
       "      <td>2014-11</td>\n",
       "      <td>Meteor</td>\n",
       "      <td>mobile</td>\n",
       "    </tr>\n",
       "    <tr>\n",
       "      <th>3</th>\n",
       "      <td>3</td>\n",
       "      <td>15/10/14 14:48</td>\n",
       "      <td>4.000</td>\n",
       "      <td>call</td>\n",
       "      <td>2014-11</td>\n",
       "      <td>Tesco</td>\n",
       "      <td>mobile</td>\n",
       "    </tr>\n",
       "    <tr>\n",
       "      <th>4</th>\n",
       "      <td>4</td>\n",
       "      <td>15/10/14 17:27</td>\n",
       "      <td>4.000</td>\n",
       "      <td>call</td>\n",
       "      <td>2014-11</td>\n",
       "      <td>Tesco</td>\n",
       "      <td>mobile</td>\n",
       "    </tr>\n",
       "  </tbody>\n",
       "</table>\n",
       "</div>"
      ],
      "text/plain": [
       "   index            date  duration  item    month   network network_type\n",
       "0      0  15/10/14 06:58    34.429  data  2014-11      data         data\n",
       "1      1  15/10/14 06:58    13.000  call  2014-11  Vodafone       mobile\n",
       "2      2  15/10/14 14:46    23.000  call  2014-11    Meteor       mobile\n",
       "3      3  15/10/14 14:48     4.000  call  2014-11     Tesco       mobile\n",
       "4      4  15/10/14 17:27     4.000  call  2014-11     Tesco       mobile"
      ]
     },
     "execution_count": 41,
     "metadata": {},
     "output_type": "execute_result"
    }
   ],
   "source": [
    "data = pd.read_csv('data/phone_data.csv')\n",
    "\n",
    "data.shape\n",
    "data.head(5)"
   ]
  },
  {
   "cell_type": "markdown",
   "metadata": {},
   "source": [
    "## Read and write data\n",
    "\n",
    "* pandas\n",
    "* dict\n",
    "* file handle\n"
   ]
  },
  {
   "cell_type": "markdown",
   "metadata": {
    "ExecuteTime": {
     "end_time": "2018-11-15T23:24:46.074944Z",
     "start_time": "2018-11-15T23:24:46.071949Z"
    }
   },
   "source": [
    "### Pandas\n",
    "\n",
    "* read from compressed csv\n",
    "* read from sql db"
   ]
  },
  {
   "cell_type": "code",
   "execution_count": null,
   "metadata": {},
   "outputs": [],
   "source": [
    "## load\n",
    "creditcard_df = pd.read_csv('data/creditcard_downsampled.csv.tar.bz2', compression='bz2', \n",
    "                            sep=',', quotechar='\"', index_col=False)"
   ]
  },
  {
   "cell_type": "code",
   "execution_count": 3,
   "metadata": {
    "ExecuteTime": {
     "end_time": "2018-11-15T23:23:36.850539Z",
     "start_time": "2018-11-15T23:23:36.702654Z"
    }
   },
   "outputs": [
    {
     "data": {
      "text/html": [
       "<div>\n",
       "<style scoped>\n",
       "    .dataframe tbody tr th:only-of-type {\n",
       "        vertical-align: middle;\n",
       "    }\n",
       "\n",
       "    .dataframe tbody tr th {\n",
       "        vertical-align: top;\n",
       "    }\n",
       "\n",
       "    .dataframe thead th {\n",
       "        text-align: right;\n",
       "    }\n",
       "</style>\n",
       "<table border=\"1\" class=\"dataframe\">\n",
       "  <thead>\n",
       "    <tr style=\"text-align: right;\">\n",
       "      <th></th>\n",
       "      <th>index</th>\n",
       "      <th>id</th>\n",
       "      <th>name</th>\n",
       "      <th>alias</th>\n",
       "      <th>iata</th>\n",
       "      <th>icao</th>\n",
       "      <th>callsign</th>\n",
       "      <th>country</th>\n",
       "      <th>active</th>\n",
       "    </tr>\n",
       "  </thead>\n",
       "  <tbody>\n",
       "    <tr>\n",
       "      <th>0</th>\n",
       "      <td>0</td>\n",
       "      <td>1</td>\n",
       "      <td>Private flight</td>\n",
       "      <td>\\N</td>\n",
       "      <td>-</td>\n",
       "      <td>None</td>\n",
       "      <td>None</td>\n",
       "      <td>None</td>\n",
       "      <td>Y</td>\n",
       "    </tr>\n",
       "    <tr>\n",
       "      <th>1</th>\n",
       "      <td>1</td>\n",
       "      <td>2</td>\n",
       "      <td>135 Airways</td>\n",
       "      <td>\\N</td>\n",
       "      <td>None</td>\n",
       "      <td>GNL</td>\n",
       "      <td>GENERAL</td>\n",
       "      <td>United States</td>\n",
       "      <td>N</td>\n",
       "    </tr>\n",
       "    <tr>\n",
       "      <th>2</th>\n",
       "      <td>2</td>\n",
       "      <td>3</td>\n",
       "      <td>1Time Airline</td>\n",
       "      <td>\\N</td>\n",
       "      <td>1T</td>\n",
       "      <td>RNX</td>\n",
       "      <td>NEXTIME</td>\n",
       "      <td>South Africa</td>\n",
       "      <td>Y</td>\n",
       "    </tr>\n",
       "  </tbody>\n",
       "</table>\n",
       "</div>"
      ],
      "text/plain": [
       "   index id            name alias  iata  icao callsign        country active\n",
       "0      0  1  Private flight    \\N     -  None     None           None      Y\n",
       "1      1  2     135 Airways    \\N  None   GNL  GENERAL  United States      N\n",
       "2      2  3   1Time Airline    \\N    1T   RNX  NEXTIME   South Africa      Y"
      ]
     },
     "execution_count": 3,
     "metadata": {},
     "output_type": "execute_result"
    }
   ],
   "source": [
    "# reads form database\n",
    "import pandas as pd\n",
    "import sqlite3\n",
    "\n",
    "#conn = sqlite3.connect(\"data/flights.db\")\n",
    "with sqlite3.connect(\"data/flights.db\") as conn:\n",
    "    df = pd.read_sql_query(\"select * from airlines limit 11;\", conn)\n",
    "    \n",
    "df.head(3)"
   ]
  },
  {
   "cell_type": "code",
   "execution_count": 5,
   "metadata": {
    "ExecuteTime": {
     "end_time": "2018-11-15T23:24:27.164758Z",
     "start_time": "2018-11-15T23:24:26.868410Z"
    }
   },
   "outputs": [
    {
     "data": {
      "text/html": [
       "<div>\n",
       "<style scoped>\n",
       "    .dataframe tbody tr th:only-of-type {\n",
       "        vertical-align: middle;\n",
       "    }\n",
       "\n",
       "    .dataframe tbody tr th {\n",
       "        vertical-align: top;\n",
       "    }\n",
       "\n",
       "    .dataframe thead th {\n",
       "        text-align: right;\n",
       "    }\n",
       "</style>\n",
       "<table border=\"1\" class=\"dataframe\">\n",
       "  <thead>\n",
       "    <tr style=\"text-align: right;\">\n",
       "      <th></th>\n",
       "      <th>index</th>\n",
       "      <th>date</th>\n",
       "      <th>duration</th>\n",
       "      <th>item</th>\n",
       "      <th>month</th>\n",
       "      <th>network</th>\n",
       "      <th>network_type</th>\n",
       "    </tr>\n",
       "  </thead>\n",
       "  <tbody>\n",
       "    <tr>\n",
       "      <th>0</th>\n",
       "      <td>0</td>\n",
       "      <td>15/10/14 06:58</td>\n",
       "      <td>34.429</td>\n",
       "      <td>data</td>\n",
       "      <td>2014-11</td>\n",
       "      <td>data</td>\n",
       "      <td>data</td>\n",
       "    </tr>\n",
       "    <tr>\n",
       "      <th>1</th>\n",
       "      <td>1</td>\n",
       "      <td>15/10/14 06:58</td>\n",
       "      <td>13.000</td>\n",
       "      <td>call</td>\n",
       "      <td>2014-11</td>\n",
       "      <td>Vodafone</td>\n",
       "      <td>mobile</td>\n",
       "    </tr>\n",
       "    <tr>\n",
       "      <th>2</th>\n",
       "      <td>2</td>\n",
       "      <td>15/10/14 14:46</td>\n",
       "      <td>23.000</td>\n",
       "      <td>call</td>\n",
       "      <td>2014-11</td>\n",
       "      <td>Meteor</td>\n",
       "      <td>mobile</td>\n",
       "    </tr>\n",
       "  </tbody>\n",
       "</table>\n",
       "</div>"
      ],
      "text/plain": [
       "   index            date  duration  item    month   network network_type\n",
       "0      0  15/10/14 06:58    34.429  data  2014-11      data         data\n",
       "1      1  15/10/14 06:58    13.000  call  2014-11  Vodafone       mobile\n",
       "2      2  15/10/14 14:46    23.000  call  2014-11    Meteor       mobile"
      ]
     },
     "execution_count": 5,
     "metadata": {},
     "output_type": "execute_result"
    }
   ],
   "source": [
    "df = pd.read_csv('data/phone_data.csv')\n",
    "df.head(3)"
   ]
  },
  {
   "cell_type": "markdown",
   "metadata": {},
   "source": [
    "## Get data from internet "
   ]
  },
  {
   "cell_type": "code",
   "execution_count": 100,
   "metadata": {
    "ExecuteTime": {
     "end_time": "2019-03-08T05:01:30.751603Z",
     "start_time": "2019-03-08T05:01:27.275688Z"
    }
   },
   "outputs": [
    {
     "name": "stdout",
     "output_type": "stream",
     "text": [
      "  % Total    % Received % Xferd  Average Speed   Time    Time     Time  Current\n",
      "                                 Dload  Upload   Total   Spent    Left  Speed\n",
      "100 1575k    0 1575k    0     0   470k      0 --:--:--  0:00:03 --:--:--  470k\n"
     ]
    }
   ],
   "source": [
    "!curl -o data/FremontBridge.csv https://data.seattle.gov/api/views/65db-xm6k/rows.csv?accessType=DOWNLOAD"
   ]
  },
  {
   "cell_type": "code",
   "execution_count": 101,
   "metadata": {
    "ExecuteTime": {
     "end_time": "2019-03-08T05:01:44.151728Z",
     "start_time": "2019-03-08T05:01:33.234614Z"
    }
   },
   "outputs": [
    {
     "data": {
      "text/html": [
       "<div>\n",
       "<style scoped>\n",
       "    .dataframe tbody tr th:only-of-type {\n",
       "        vertical-align: middle;\n",
       "    }\n",
       "\n",
       "    .dataframe tbody tr th {\n",
       "        vertical-align: top;\n",
       "    }\n",
       "\n",
       "    .dataframe thead th {\n",
       "        text-align: right;\n",
       "    }\n",
       "</style>\n",
       "<table border=\"1\" class=\"dataframe\">\n",
       "  <thead>\n",
       "    <tr style=\"text-align: right;\">\n",
       "      <th></th>\n",
       "      <th>Fremont Bridge East Sidewalk</th>\n",
       "      <th>Fremont Bridge West Sidewalk</th>\n",
       "    </tr>\n",
       "    <tr>\n",
       "      <th>Date</th>\n",
       "      <th></th>\n",
       "      <th></th>\n",
       "    </tr>\n",
       "  </thead>\n",
       "  <tbody>\n",
       "    <tr>\n",
       "      <th>2019-02-28 23:00:00</th>\n",
       "      <td>5.0</td>\n",
       "      <td>6.0</td>\n",
       "    </tr>\n",
       "    <tr>\n",
       "      <th>2019-02-28 22:00:00</th>\n",
       "      <td>4.0</td>\n",
       "      <td>27.0</td>\n",
       "    </tr>\n",
       "    <tr>\n",
       "      <th>2019-02-28 21:00:00</th>\n",
       "      <td>16.0</td>\n",
       "      <td>32.0</td>\n",
       "    </tr>\n",
       "    <tr>\n",
       "      <th>2019-02-28 20:00:00</th>\n",
       "      <td>16.0</td>\n",
       "      <td>50.0</td>\n",
       "    </tr>\n",
       "    <tr>\n",
       "      <th>2019-02-28 19:00:00</th>\n",
       "      <td>39.0</td>\n",
       "      <td>59.0</td>\n",
       "    </tr>\n",
       "  </tbody>\n",
       "</table>\n",
       "</div>"
      ],
      "text/plain": [
       "                     Fremont Bridge East Sidewalk  \\\n",
       "Date                                                \n",
       "2019-02-28 23:00:00                           5.0   \n",
       "2019-02-28 22:00:00                           4.0   \n",
       "2019-02-28 21:00:00                          16.0   \n",
       "2019-02-28 20:00:00                          16.0   \n",
       "2019-02-28 19:00:00                          39.0   \n",
       "\n",
       "                     Fremont Bridge West Sidewalk  \n",
       "Date                                               \n",
       "2019-02-28 23:00:00                           6.0  \n",
       "2019-02-28 22:00:00                          27.0  \n",
       "2019-02-28 21:00:00                          32.0  \n",
       "2019-02-28 20:00:00                          50.0  \n",
       "2019-02-28 19:00:00                          59.0  "
      ]
     },
     "execution_count": 101,
     "metadata": {},
     "output_type": "execute_result"
    }
   ],
   "source": [
    "bikes = pd.read_csv('data/FremontBridge.csv', index_col='Date', parse_dates=True)\n",
    "bikes.head()"
   ]
  },
  {
   "cell_type": "markdown",
   "metadata": {},
   "source": [
    "### Basic and dict IO\n",
    " "
   ]
  },
  {
   "cell_type": "code",
   "execution_count": null,
   "metadata": {
    "ExecuteTime": {
     "end_time": "2018-09-18T17:22:55.236101Z",
     "start_time": "2018-09-18T17:22:55.122782Z"
    }
   },
   "outputs": [],
   "source": [
    "!rm -v data/output.tsv"
   ]
  },
  {
   "cell_type": "markdown",
   "metadata": {},
   "source": [
    "* **Write txt file line by line**"
   ]
  },
  {
   "cell_type": "code",
   "execution_count": 21,
   "metadata": {
    "ExecuteTime": {
     "end_time": "2018-10-01T05:12:56.284048Z",
     "start_time": "2018-10-01T05:12:56.276134Z"
    }
   },
   "outputs": [
    {
     "name": "stdout",
     "output_type": "stream",
     "text": [
      "Processing: 0\n",
      "Processing: 2\n",
      "Processing: 0\n",
      "Processing: 2\n"
     ]
    }
   ],
   "source": [
    "# lazzy way\n",
    "for k in range(0,3):\n",
    "    \n",
    "    if k % 2 == 0:\n",
    "        print('Processing: {}'.format(k))\n",
    "\n",
    "    score =  np.random.normal(size=1)[0]\n",
    "    print(\"{k:d}\\t{score:.2f}\".format(k=k, score=score), file=open(\"data/output.tsv\", \"a\"))\n",
    "\n",
    "# better way\n",
    "with open('data/output.txt', 'a') as f:\n",
    "    for k in range(0,3):\n",
    "    \n",
    "        if k % 2 == 0:\n",
    "            print('Processing: {}'.format(k))\n",
    "\n",
    "        score =  np.random.normal(size=1)[0]\n",
    "        print(\"{k:d}\\t{score:.2f}\".format(k=k, score=score), file=f)\n"
   ]
  },
  {
   "cell_type": "code",
   "execution_count": null,
   "metadata": {
    "ExecuteTime": {
     "end_time": "2018-09-18T17:22:58.536626Z",
     "start_time": "2018-09-18T17:22:58.418764Z"
    }
   },
   "outputs": [],
   "source": [
    "!cat data/output.tsv"
   ]
  },
  {
   "cell_type": "code",
   "execution_count": 3,
   "metadata": {
    "ExecuteTime": {
     "end_time": "2018-10-01T02:47:32.115397Z",
     "start_time": "2018-10-01T02:47:32.101680Z"
    }
   },
   "outputs": [
    {
     "data": {
      "text/plain": [
       "[13, 7, 9]"
      ]
     },
     "execution_count": 3,
     "metadata": {},
     "output_type": "execute_result"
    },
    {
     "data": {
      "text/plain": [
       "{'key1': 'value_a', 'key2': '1', 'key3': '2.0'}"
      ]
     },
     "execution_count": 3,
     "metadata": {},
     "output_type": "execute_result"
    }
   ],
   "source": [
    "import csv\n",
    "\n",
    "my_dict = {'key1': 'value_a', 'key2': 1, 'key3': 2.0}\n",
    "\n",
    "# write\n",
    "with open('data/dict.csv', 'w') as f:\n",
    "    [f.write('{0},{1}\\n'.format(key, value)) for key, value in my_dict.items()];\n",
    "\n",
    "\n",
    "# read\n",
    "with open('data/dict.csv', 'r') as csv_file:\n",
    "    \n",
    "    reader = csv.reader(csv_file)\n",
    "    my_dict2 = dict(reader)\n",
    "    \n",
    "my_dict2"
   ]
  },
  {
   "cell_type": "code",
   "execution_count": 4,
   "metadata": {
    "ExecuteTime": {
     "end_time": "2018-10-01T02:47:32.833929Z",
     "start_time": "2018-10-01T02:47:32.721161Z"
    }
   },
   "outputs": [
    {
     "name": "stdout",
     "output_type": "stream",
     "text": [
      "key1,value_a\r\n",
      "key2,1\r\n",
      "key3,2.0\r\n"
     ]
    }
   ],
   "source": [
    "!cat data/dict.csv"
   ]
  },
  {
   "cell_type": "code",
   "execution_count": 18,
   "metadata": {
    "ExecuteTime": {
     "end_time": "2018-10-01T02:59:22.441551Z",
     "start_time": "2018-10-01T02:59:22.424276Z"
    }
   },
   "outputs": [
    {
     "data": {
      "text/plain": [
       "[{'key1': '1', 'key2': 'a'}, {'key1': '2', 'key2': 'b'}]"
      ]
     },
     "execution_count": 18,
     "metadata": {},
     "output_type": "execute_result"
    }
   ],
   "source": [
    "dict_list = [ {'key1': 1, 'key2': 'a'}, {'key1': 2, 'key2': 'b'}]\n",
    "\n",
    "fieldnames = dict_list[0].keys()\n",
    "\n",
    "# write\n",
    "with open('data/people.csv', 'w') as output_file:\n",
    "    dict_writer = csv.DictWriter(output_file, fieldnames=fieldnames)\n",
    "    dict_writer.writeheader()\n",
    "    dict_writer.writerows(dict_list)\n",
    "    \n",
    "# read\n",
    "with open('data/people.csv', mode='r') as infile:\n",
    "    \n",
    "    reader = csv.reader(infile)\n",
    "    _ = next(reader, None)  # skip the headers\n",
    "    mydict = [{'key1': rows[0], 'key2': rows[1]} for rows in reader]\n",
    "    \n",
    "mydict"
   ]
  },
  {
   "cell_type": "code",
   "execution_count": 19,
   "metadata": {
    "ExecuteTime": {
     "end_time": "2018-10-01T02:59:34.177256Z",
     "start_time": "2018-10-01T02:59:34.065673Z"
    }
   },
   "outputs": [
    {
     "name": "stdout",
     "output_type": "stream",
     "text": [
      "key1,key2\r",
      "\r\n",
      "1,a\r",
      "\r\n",
      "2,b\r",
      "\r\n"
     ]
    }
   ],
   "source": [
    "!cat data/people.csv"
   ]
  },
  {
   "cell_type": "markdown",
   "metadata": {},
   "source": [
    "## Data wrangler (Remember, 80% of the project time is spent here)\n",
    "\n",
    "\n",
    "[pandas cheat sheet](http://pandas.pydata.org/Pandas_Cheat_Sheet.pdf)"
   ]
  },
  {
   "cell_type": "markdown",
   "metadata": {},
   "source": [
    "### Missings"
   ]
  },
  {
   "cell_type": "code",
   "execution_count": 87,
   "metadata": {
    "ExecuteTime": {
     "end_time": "2019-03-08T04:46:54.534947Z",
     "start_time": "2019-03-08T04:46:44.034255Z"
    }
   },
   "outputs": [
    {
     "data": {
      "text/plain": [
       "(56160, 2)"
      ]
     },
     "execution_count": 87,
     "metadata": {},
     "output_type": "execute_result"
    },
    {
     "data": {
      "text/plain": [
       "(56151, 2)"
      ]
     },
     "execution_count": 87,
     "metadata": {},
     "output_type": "execute_result"
    },
    {
     "data": {
      "text/html": [
       "<div>\n",
       "<style scoped>\n",
       "    .dataframe tbody tr th:only-of-type {\n",
       "        vertical-align: middle;\n",
       "    }\n",
       "\n",
       "    .dataframe tbody tr th {\n",
       "        vertical-align: top;\n",
       "    }\n",
       "\n",
       "    .dataframe thead th {\n",
       "        text-align: right;\n",
       "    }\n",
       "</style>\n",
       "<table border=\"1\" class=\"dataframe\">\n",
       "  <thead>\n",
       "    <tr style=\"text-align: right;\">\n",
       "      <th></th>\n",
       "      <th>West</th>\n",
       "      <th>East</th>\n",
       "    </tr>\n",
       "    <tr>\n",
       "      <th>Date</th>\n",
       "      <th></th>\n",
       "      <th></th>\n",
       "    </tr>\n",
       "  </thead>\n",
       "  <tbody>\n",
       "    <tr>\n",
       "      <th>2019-02-28 23:00:00</th>\n",
       "      <td>5.0</td>\n",
       "      <td>6.0</td>\n",
       "    </tr>\n",
       "    <tr>\n",
       "      <th>2019-02-28 22:00:00</th>\n",
       "      <td>4.0</td>\n",
       "      <td>27.0</td>\n",
       "    </tr>\n",
       "    <tr>\n",
       "      <th>2019-02-28 21:00:00</th>\n",
       "      <td>16.0</td>\n",
       "      <td>32.0</td>\n",
       "    </tr>\n",
       "    <tr>\n",
       "      <th>2019-02-28 20:00:00</th>\n",
       "      <td>16.0</td>\n",
       "      <td>50.0</td>\n",
       "    </tr>\n",
       "    <tr>\n",
       "      <th>2019-02-28 19:00:00</th>\n",
       "      <td>39.0</td>\n",
       "      <td>59.0</td>\n",
       "    </tr>\n",
       "  </tbody>\n",
       "</table>\n",
       "</div>"
      ],
      "text/plain": [
       "                     West  East\n",
       "Date                           \n",
       "2019-02-28 23:00:00   5.0   6.0\n",
       "2019-02-28 22:00:00   4.0  27.0\n",
       "2019-02-28 21:00:00  16.0  32.0\n",
       "2019-02-28 20:00:00  16.0  50.0\n",
       "2019-02-28 19:00:00  39.0  59.0"
      ]
     },
     "execution_count": 87,
     "metadata": {},
     "output_type": "execute_result"
    }
   ],
   "source": [
    "bikes = pd.read_csv('data/FremontBridge.csv', index_col='Date', parse_dates=True)\n",
    "\n",
    "bikes.columns = ['West', 'East']\n",
    "\n",
    "bikes.shape\n",
    "\n",
    "bikes = bikes.dropna()\n",
    "bikes.shape\n",
    "\n",
    "bikes.head()"
   ]
  },
  {
   "cell_type": "markdown",
   "metadata": {},
   "source": [
    "### duplicates"
   ]
  },
  {
   "cell_type": "code",
   "execution_count": 90,
   "metadata": {
    "ExecuteTime": {
     "end_time": "2019-03-08T04:54:00.735506Z",
     "start_time": "2019-03-08T04:54:00.713827Z"
    }
   },
   "outputs": [
    {
     "data": {
      "text/html": [
       "<div>\n",
       "<style scoped>\n",
       "    .dataframe tbody tr th:only-of-type {\n",
       "        vertical-align: middle;\n",
       "    }\n",
       "\n",
       "    .dataframe tbody tr th {\n",
       "        vertical-align: top;\n",
       "    }\n",
       "\n",
       "    .dataframe thead th {\n",
       "        text-align: right;\n",
       "    }\n",
       "</style>\n",
       "<table border=\"1\" class=\"dataframe\">\n",
       "  <thead>\n",
       "    <tr style=\"text-align: right;\">\n",
       "      <th></th>\n",
       "      <th>col_1</th>\n",
       "      <th>col_2</th>\n",
       "    </tr>\n",
       "  </thead>\n",
       "  <tbody>\n",
       "    <tr>\n",
       "      <th>0</th>\n",
       "      <td>3</td>\n",
       "      <td>a</td>\n",
       "    </tr>\n",
       "    <tr>\n",
       "      <th>1</th>\n",
       "      <td>2</td>\n",
       "      <td>b</td>\n",
       "    </tr>\n",
       "    <tr>\n",
       "      <th>2</th>\n",
       "      <td>3</td>\n",
       "      <td>a</td>\n",
       "    </tr>\n",
       "    <tr>\n",
       "      <th>3</th>\n",
       "      <td>0</td>\n",
       "      <td>d</td>\n",
       "    </tr>\n",
       "  </tbody>\n",
       "</table>\n",
       "</div>"
      ],
      "text/plain": [
       "   col_1 col_2\n",
       "0      3     a\n",
       "1      2     b\n",
       "2      3     a\n",
       "3      0     d"
      ]
     },
     "execution_count": 90,
     "metadata": {},
     "output_type": "execute_result"
    },
    {
     "data": {
      "text/html": [
       "<div>\n",
       "<style scoped>\n",
       "    .dataframe tbody tr th:only-of-type {\n",
       "        vertical-align: middle;\n",
       "    }\n",
       "\n",
       "    .dataframe tbody tr th {\n",
       "        vertical-align: top;\n",
       "    }\n",
       "\n",
       "    .dataframe thead th {\n",
       "        text-align: right;\n",
       "    }\n",
       "</style>\n",
       "<table border=\"1\" class=\"dataframe\">\n",
       "  <thead>\n",
       "    <tr style=\"text-align: right;\">\n",
       "      <th></th>\n",
       "      <th>col_1</th>\n",
       "      <th>col_2</th>\n",
       "    </tr>\n",
       "  </thead>\n",
       "  <tbody>\n",
       "    <tr>\n",
       "      <th>0</th>\n",
       "      <td>3</td>\n",
       "      <td>a</td>\n",
       "    </tr>\n",
       "    <tr>\n",
       "      <th>1</th>\n",
       "      <td>2</td>\n",
       "      <td>b</td>\n",
       "    </tr>\n",
       "    <tr>\n",
       "      <th>3</th>\n",
       "      <td>0</td>\n",
       "      <td>d</td>\n",
       "    </tr>\n",
       "  </tbody>\n",
       "</table>\n",
       "</div>"
      ],
      "text/plain": [
       "   col_1 col_2\n",
       "0      3     a\n",
       "1      2     b\n",
       "3      0     d"
      ]
     },
     "execution_count": 90,
     "metadata": {},
     "output_type": "execute_result"
    }
   ],
   "source": [
    "data = {'col_1': [3, 2, 3, 0], 'col_2': ['a', 'b', 'a', 'd']}\n",
    "\n",
    "df = pd.DataFrame.from_dict(data)\n",
    "df.head()\n",
    "\n",
    "df = df.drop_duplicates()\n",
    "\n",
    "df.head()"
   ]
  },
  {
   "cell_type": "markdown",
   "metadata": {},
   "source": [
    "### Summarize data\n",
    "\n",
    "\n",
    "* descriptive (tables)\n",
    "* groupby\n",
    "\n"
   ]
  },
  {
   "cell_type": "markdown",
   "metadata": {},
   "source": [
    "#### Groupby\n"
   ]
  },
  {
   "cell_type": "markdown",
   "metadata": {},
   "source": [
    "\n",
    "Split-Apply-Combine\n",
    "\n",
    "<img src=\"images/split-apply-combine.png\" width=\"400\" align=\"left\"/>\n"
   ]
  },
  {
   "cell_type": "code",
   "execution_count": 4,
   "metadata": {
    "ExecuteTime": {
     "end_time": "2018-12-03T06:28:39.758311Z",
     "start_time": "2018-12-03T06:28:39.428437Z"
    }
   },
   "outputs": [
    {
     "data": {
      "text/plain": [
       "(830, 7)"
      ]
     },
     "execution_count": 4,
     "metadata": {},
     "output_type": "execute_result"
    },
    {
     "data": {
      "text/html": [
       "<div>\n",
       "<style scoped>\n",
       "    .dataframe tbody tr th:only-of-type {\n",
       "        vertical-align: middle;\n",
       "    }\n",
       "\n",
       "    .dataframe tbody tr th {\n",
       "        vertical-align: top;\n",
       "    }\n",
       "\n",
       "    .dataframe thead th {\n",
       "        text-align: right;\n",
       "    }\n",
       "</style>\n",
       "<table border=\"1\" class=\"dataframe\">\n",
       "  <thead>\n",
       "    <tr style=\"text-align: right;\">\n",
       "      <th></th>\n",
       "      <th>index</th>\n",
       "      <th>date</th>\n",
       "      <th>duration</th>\n",
       "      <th>item</th>\n",
       "      <th>month</th>\n",
       "      <th>network</th>\n",
       "      <th>network_type</th>\n",
       "    </tr>\n",
       "  </thead>\n",
       "  <tbody>\n",
       "    <tr>\n",
       "      <th>0</th>\n",
       "      <td>0</td>\n",
       "      <td>15/10/14 06:58</td>\n",
       "      <td>34.429</td>\n",
       "      <td>data</td>\n",
       "      <td>2014-11</td>\n",
       "      <td>data</td>\n",
       "      <td>data</td>\n",
       "    </tr>\n",
       "    <tr>\n",
       "      <th>1</th>\n",
       "      <td>1</td>\n",
       "      <td>15/10/14 06:58</td>\n",
       "      <td>13.000</td>\n",
       "      <td>call</td>\n",
       "      <td>2014-11</td>\n",
       "      <td>Vodafone</td>\n",
       "      <td>mobile</td>\n",
       "    </tr>\n",
       "    <tr>\n",
       "      <th>2</th>\n",
       "      <td>2</td>\n",
       "      <td>15/10/14 14:46</td>\n",
       "      <td>23.000</td>\n",
       "      <td>call</td>\n",
       "      <td>2014-11</td>\n",
       "      <td>Meteor</td>\n",
       "      <td>mobile</td>\n",
       "    </tr>\n",
       "    <tr>\n",
       "      <th>3</th>\n",
       "      <td>3</td>\n",
       "      <td>15/10/14 14:48</td>\n",
       "      <td>4.000</td>\n",
       "      <td>call</td>\n",
       "      <td>2014-11</td>\n",
       "      <td>Tesco</td>\n",
       "      <td>mobile</td>\n",
       "    </tr>\n",
       "    <tr>\n",
       "      <th>4</th>\n",
       "      <td>4</td>\n",
       "      <td>15/10/14 17:27</td>\n",
       "      <td>4.000</td>\n",
       "      <td>call</td>\n",
       "      <td>2014-11</td>\n",
       "      <td>Tesco</td>\n",
       "      <td>mobile</td>\n",
       "    </tr>\n",
       "  </tbody>\n",
       "</table>\n",
       "</div>"
      ],
      "text/plain": [
       "   index            date  duration  item    month   network network_type\n",
       "0      0  15/10/14 06:58    34.429  data  2014-11      data         data\n",
       "1      1  15/10/14 06:58    13.000  call  2014-11  Vodafone       mobile\n",
       "2      2  15/10/14 14:46    23.000  call  2014-11    Meteor       mobile\n",
       "3      3  15/10/14 14:48     4.000  call  2014-11     Tesco       mobile\n",
       "4      4  15/10/14 17:27     4.000  call  2014-11     Tesco       mobile"
      ]
     },
     "execution_count": 4,
     "metadata": {},
     "output_type": "execute_result"
    }
   ],
   "source": [
    "data = pd.read_csv('./data/phone_data.csv')\n",
    "\n",
    "data.shape\n",
    "\n",
    "data.head(5)"
   ]
  },
  {
   "cell_type": "code",
   "execution_count": 5,
   "metadata": {
    "ExecuteTime": {
     "end_time": "2018-12-03T06:28:46.720821Z",
     "start_time": "2018-12-03T06:28:46.655432Z"
    }
   },
   "outputs": [
    {
     "data": {
      "text/html": [
       "<div>\n",
       "<style scoped>\n",
       "    .dataframe tbody tr th:only-of-type {\n",
       "        vertical-align: middle;\n",
       "    }\n",
       "\n",
       "    .dataframe tbody tr th {\n",
       "        vertical-align: top;\n",
       "    }\n",
       "\n",
       "    .dataframe thead tr th {\n",
       "        text-align: left;\n",
       "    }\n",
       "</style>\n",
       "<table border=\"1\" class=\"dataframe\">\n",
       "  <thead>\n",
       "    <tr>\n",
       "      <th></th>\n",
       "      <th>month</th>\n",
       "      <th>item</th>\n",
       "      <th colspan=\"4\" halign=\"left\">duration</th>\n",
       "      <th>date</th>\n",
       "      <th colspan=\"2\" halign=\"left\">network_type</th>\n",
       "    </tr>\n",
       "    <tr>\n",
       "      <th></th>\n",
       "      <th></th>\n",
       "      <th></th>\n",
       "      <th>std</th>\n",
       "      <th>median</th>\n",
       "      <th>sum</th>\n",
       "      <th>&lt;lambda&gt;</th>\n",
       "      <th>first</th>\n",
       "      <th>nunique</th>\n",
       "      <th>count</th>\n",
       "    </tr>\n",
       "  </thead>\n",
       "  <tbody>\n",
       "    <tr>\n",
       "      <th>0</th>\n",
       "      <td>2014-11</td>\n",
       "      <td>call</td>\n",
       "      <td>387.128905</td>\n",
       "      <td>48.000</td>\n",
       "      <td>25547.000</td>\n",
       "      <td>0.615149</td>\n",
       "      <td>15/10/14 06:58</td>\n",
       "      <td>3</td>\n",
       "      <td>107</td>\n",
       "    </tr>\n",
       "    <tr>\n",
       "      <th>1</th>\n",
       "      <td>2014-11</td>\n",
       "      <td>data</td>\n",
       "      <td>0.000000</td>\n",
       "      <td>34.429</td>\n",
       "      <td>998.441</td>\n",
       "      <td>34.429000</td>\n",
       "      <td>15/10/14 06:58</td>\n",
       "      <td>1</td>\n",
       "      <td>29</td>\n",
       "    </tr>\n",
       "    <tr>\n",
       "      <th>2</th>\n",
       "      <td>2014-11</td>\n",
       "      <td>sms</td>\n",
       "      <td>0.000000</td>\n",
       "      <td>1.000</td>\n",
       "      <td>94.000</td>\n",
       "      <td>1.000000</td>\n",
       "      <td>16/10/14 22:18</td>\n",
       "      <td>2</td>\n",
       "      <td>94</td>\n",
       "    </tr>\n",
       "    <tr>\n",
       "      <th>3</th>\n",
       "      <td>2014-12</td>\n",
       "      <td>call</td>\n",
       "      <td>324.731798</td>\n",
       "      <td>55.000</td>\n",
       "      <td>13561.000</td>\n",
       "      <td>0.526993</td>\n",
       "      <td>14/11/14 17:24</td>\n",
       "      <td>3</td>\n",
       "      <td>79</td>\n",
       "    </tr>\n",
       "    <tr>\n",
       "      <th>4</th>\n",
       "      <td>2014-12</td>\n",
       "      <td>data</td>\n",
       "      <td>0.000000</td>\n",
       "      <td>34.429</td>\n",
       "      <td>1032.870</td>\n",
       "      <td>34.429000</td>\n",
       "      <td>13/11/14 06:58</td>\n",
       "      <td>1</td>\n",
       "      <td>30</td>\n",
       "    </tr>\n",
       "    <tr>\n",
       "      <th>5</th>\n",
       "      <td>2014-12</td>\n",
       "      <td>sms</td>\n",
       "      <td>0.000000</td>\n",
       "      <td>1.000</td>\n",
       "      <td>48.000</td>\n",
       "      <td>1.000000</td>\n",
       "      <td>14/11/14 17:28</td>\n",
       "      <td>2</td>\n",
       "      <td>48</td>\n",
       "    </tr>\n",
       "    <tr>\n",
       "      <th>6</th>\n",
       "      <td>2015-01</td>\n",
       "      <td>call</td>\n",
       "      <td>300.671661</td>\n",
       "      <td>55.500</td>\n",
       "      <td>17070.000</td>\n",
       "      <td>0.643008</td>\n",
       "      <td>15/12/14 20:03</td>\n",
       "      <td>3</td>\n",
       "      <td>88</td>\n",
       "    </tr>\n",
       "    <tr>\n",
       "      <th>7</th>\n",
       "      <td>2015-01</td>\n",
       "      <td>data</td>\n",
       "      <td>0.000000</td>\n",
       "      <td>34.429</td>\n",
       "      <td>1067.299</td>\n",
       "      <td>34.429000</td>\n",
       "      <td>13/12/14 06:58</td>\n",
       "      <td>1</td>\n",
       "      <td>31</td>\n",
       "    </tr>\n",
       "    <tr>\n",
       "      <th>8</th>\n",
       "      <td>2015-01</td>\n",
       "      <td>sms</td>\n",
       "      <td>0.000000</td>\n",
       "      <td>1.000</td>\n",
       "      <td>86.000</td>\n",
       "      <td>1.000000</td>\n",
       "      <td>15/12/14 19:56</td>\n",
       "      <td>1</td>\n",
       "      <td>86</td>\n",
       "    </tr>\n",
       "    <tr>\n",
       "      <th>9</th>\n",
       "      <td>2015-02</td>\n",
       "      <td>call</td>\n",
       "      <td>329.672914</td>\n",
       "      <td>89.000</td>\n",
       "      <td>14416.000</td>\n",
       "      <td>0.650686</td>\n",
       "      <td>15/01/15 10:36</td>\n",
       "      <td>3</td>\n",
       "      <td>67</td>\n",
       "    </tr>\n",
       "    <tr>\n",
       "      <th>10</th>\n",
       "      <td>2015-02</td>\n",
       "      <td>data</td>\n",
       "      <td>0.000000</td>\n",
       "      <td>34.429</td>\n",
       "      <td>1067.299</td>\n",
       "      <td>34.429000</td>\n",
       "      <td>13/01/15 06:58</td>\n",
       "      <td>1</td>\n",
       "      <td>31</td>\n",
       "    </tr>\n",
       "    <tr>\n",
       "      <th>11</th>\n",
       "      <td>2015-02</td>\n",
       "      <td>sms</td>\n",
       "      <td>0.000000</td>\n",
       "      <td>1.000</td>\n",
       "      <td>39.000</td>\n",
       "      <td>1.000000</td>\n",
       "      <td>15/01/15 12:23</td>\n",
       "      <td>2</td>\n",
       "      <td>39</td>\n",
       "    </tr>\n",
       "    <tr>\n",
       "      <th>12</th>\n",
       "      <td>2015-03</td>\n",
       "      <td>call</td>\n",
       "      <td>1552.192218</td>\n",
       "      <td>107.000</td>\n",
       "      <td>21727.000</td>\n",
       "      <td>0.297630</td>\n",
       "      <td>12/02/15 20:15</td>\n",
       "      <td>3</td>\n",
       "      <td>47</td>\n",
       "    </tr>\n",
       "    <tr>\n",
       "      <th>13</th>\n",
       "      <td>2015-03</td>\n",
       "      <td>data</td>\n",
       "      <td>0.000000</td>\n",
       "      <td>34.429</td>\n",
       "      <td>998.441</td>\n",
       "      <td>34.429000</td>\n",
       "      <td>13/02/15 06:58</td>\n",
       "      <td>1</td>\n",
       "      <td>29</td>\n",
       "    </tr>\n",
       "    <tr>\n",
       "      <th>14</th>\n",
       "      <td>2015-03</td>\n",
       "      <td>sms</td>\n",
       "      <td>0.000000</td>\n",
       "      <td>1.000</td>\n",
       "      <td>25.000</td>\n",
       "      <td>1.000000</td>\n",
       "      <td>19/02/15 18:46</td>\n",
       "      <td>2</td>\n",
       "      <td>25</td>\n",
       "    </tr>\n",
       "  </tbody>\n",
       "</table>\n",
       "</div>"
      ],
      "text/plain": [
       "      month  item     duration                                           date  \\\n",
       "                           std   median        sum   <lambda>           first   \n",
       "0   2014-11  call   387.128905   48.000  25547.000   0.615149  15/10/14 06:58   \n",
       "1   2014-11  data     0.000000   34.429    998.441  34.429000  15/10/14 06:58   \n",
       "2   2014-11   sms     0.000000    1.000     94.000   1.000000  16/10/14 22:18   \n",
       "3   2014-12  call   324.731798   55.000  13561.000   0.526993  14/11/14 17:24   \n",
       "4   2014-12  data     0.000000   34.429   1032.870  34.429000  13/11/14 06:58   \n",
       "5   2014-12   sms     0.000000    1.000     48.000   1.000000  14/11/14 17:28   \n",
       "6   2015-01  call   300.671661   55.500  17070.000   0.643008  15/12/14 20:03   \n",
       "7   2015-01  data     0.000000   34.429   1067.299  34.429000  13/12/14 06:58   \n",
       "8   2015-01   sms     0.000000    1.000     86.000   1.000000  15/12/14 19:56   \n",
       "9   2015-02  call   329.672914   89.000  14416.000   0.650686  15/01/15 10:36   \n",
       "10  2015-02  data     0.000000   34.429   1067.299  34.429000  13/01/15 06:58   \n",
       "11  2015-02   sms     0.000000    1.000     39.000   1.000000  15/01/15 12:23   \n",
       "12  2015-03  call  1552.192218  107.000  21727.000   0.297630  12/02/15 20:15   \n",
       "13  2015-03  data     0.000000   34.429    998.441  34.429000  13/02/15 06:58   \n",
       "14  2015-03   sms     0.000000    1.000     25.000   1.000000  19/02/15 18:46   \n",
       "\n",
       "   network_type        \n",
       "        nunique count  \n",
       "0             3   107  \n",
       "1             1    29  \n",
       "2             2    94  \n",
       "3             3    79  \n",
       "4             1    30  \n",
       "5             2    48  \n",
       "6             3    88  \n",
       "7             1    31  \n",
       "8             1    86  \n",
       "9             3    67  \n",
       "10            1    31  \n",
       "11            2    39  \n",
       "12            3    47  \n",
       "13            1    29  \n",
       "14            2    25  "
      ]
     },
     "execution_count": 5,
     "metadata": {},
     "output_type": "execute_result"
    }
   ],
   "source": [
    "# Group the data frame by month and item and extract a number of stats from each group\n",
    "data.groupby(['month', 'item'], as_index=False).aggregate({\n",
    "                                 'duration': [ 'std','median', sum, lambda d: d.mean()/(d.std()+1)],          # find the sum of the durations for each group\n",
    "                                 'date':  'first',       # get the first date per group\n",
    "                                 'network_type': ['nunique', 'count']\n",
    "                                    })"
   ]
  },
  {
   "cell_type": "markdown",
   "metadata": {},
   "source": [
    "#### crosstab"
   ]
  },
  {
   "cell_type": "code",
   "execution_count": 10,
   "metadata": {
    "ExecuteTime": {
     "end_time": "2018-12-03T06:31:58.058543Z",
     "start_time": "2018-12-03T06:31:57.994453Z"
    }
   },
   "outputs": [
    {
     "data": {
      "text/html": [
       "<div>\n",
       "<style scoped>\n",
       "    .dataframe tbody tr th:only-of-type {\n",
       "        vertical-align: middle;\n",
       "    }\n",
       "\n",
       "    .dataframe tbody tr th {\n",
       "        vertical-align: top;\n",
       "    }\n",
       "\n",
       "    .dataframe thead th {\n",
       "        text-align: right;\n",
       "    }\n",
       "</style>\n",
       "<table border=\"1\" class=\"dataframe\">\n",
       "  <thead>\n",
       "    <tr style=\"text-align: right;\">\n",
       "      <th>item</th>\n",
       "      <th>call</th>\n",
       "      <th>data</th>\n",
       "      <th>sms</th>\n",
       "      <th>Total</th>\n",
       "    </tr>\n",
       "    <tr>\n",
       "      <th>network_type</th>\n",
       "      <th></th>\n",
       "      <th></th>\n",
       "      <th></th>\n",
       "      <th></th>\n",
       "    </tr>\n",
       "  </thead>\n",
       "  <tbody>\n",
       "    <tr>\n",
       "      <th>data</th>\n",
       "      <td>0</td>\n",
       "      <td>150</td>\n",
       "      <td>0</td>\n",
       "      <td>150</td>\n",
       "    </tr>\n",
       "    <tr>\n",
       "      <th>landline</th>\n",
       "      <td>42</td>\n",
       "      <td>0</td>\n",
       "      <td>0</td>\n",
       "      <td>42</td>\n",
       "    </tr>\n",
       "    <tr>\n",
       "      <th>mobile</th>\n",
       "      <td>319</td>\n",
       "      <td>0</td>\n",
       "      <td>282</td>\n",
       "      <td>601</td>\n",
       "    </tr>\n",
       "    <tr>\n",
       "      <th>special</th>\n",
       "      <td>0</td>\n",
       "      <td>0</td>\n",
       "      <td>3</td>\n",
       "      <td>3</td>\n",
       "    </tr>\n",
       "    <tr>\n",
       "      <th>voicemail</th>\n",
       "      <td>27</td>\n",
       "      <td>0</td>\n",
       "      <td>0</td>\n",
       "      <td>27</td>\n",
       "    </tr>\n",
       "    <tr>\n",
       "      <th>world</th>\n",
       "      <td>0</td>\n",
       "      <td>0</td>\n",
       "      <td>7</td>\n",
       "      <td>7</td>\n",
       "    </tr>\n",
       "    <tr>\n",
       "      <th>Total</th>\n",
       "      <td>388</td>\n",
       "      <td>150</td>\n",
       "      <td>292</td>\n",
       "      <td>830</td>\n",
       "    </tr>\n",
       "  </tbody>\n",
       "</table>\n",
       "</div>"
      ],
      "text/plain": [
       "item          call  data  sms  Total\n",
       "network_type                        \n",
       "data             0   150    0    150\n",
       "landline        42     0    0     42\n",
       "mobile         319     0  282    601\n",
       "special          0     0    3      3\n",
       "voicemail       27     0    0     27\n",
       "world            0     0    7      7\n",
       "Total          388   150  292    830"
      ]
     },
     "execution_count": 10,
     "metadata": {},
     "output_type": "execute_result"
    },
    {
     "data": {
      "text/html": [
       "<div>\n",
       "<style scoped>\n",
       "    .dataframe tbody tr th:only-of-type {\n",
       "        vertical-align: middle;\n",
       "    }\n",
       "\n",
       "    .dataframe tbody tr th {\n",
       "        vertical-align: top;\n",
       "    }\n",
       "\n",
       "    .dataframe thead th {\n",
       "        text-align: right;\n",
       "    }\n",
       "</style>\n",
       "<table border=\"1\" class=\"dataframe\">\n",
       "  <thead>\n",
       "    <tr style=\"text-align: right;\">\n",
       "      <th>item</th>\n",
       "      <th>call</th>\n",
       "      <th>data</th>\n",
       "      <th>sms</th>\n",
       "    </tr>\n",
       "    <tr>\n",
       "      <th>network_type</th>\n",
       "      <th></th>\n",
       "      <th></th>\n",
       "      <th></th>\n",
       "    </tr>\n",
       "  </thead>\n",
       "  <tbody>\n",
       "    <tr>\n",
       "      <th>data</th>\n",
       "      <td>0.000000</td>\n",
       "      <td>0.180723</td>\n",
       "      <td>0.000000</td>\n",
       "    </tr>\n",
       "    <tr>\n",
       "      <th>landline</th>\n",
       "      <td>0.050602</td>\n",
       "      <td>0.000000</td>\n",
       "      <td>0.000000</td>\n",
       "    </tr>\n",
       "    <tr>\n",
       "      <th>mobile</th>\n",
       "      <td>0.384337</td>\n",
       "      <td>0.000000</td>\n",
       "      <td>0.339759</td>\n",
       "    </tr>\n",
       "    <tr>\n",
       "      <th>special</th>\n",
       "      <td>0.000000</td>\n",
       "      <td>0.000000</td>\n",
       "      <td>0.003614</td>\n",
       "    </tr>\n",
       "    <tr>\n",
       "      <th>voicemail</th>\n",
       "      <td>0.032530</td>\n",
       "      <td>0.000000</td>\n",
       "      <td>0.000000</td>\n",
       "    </tr>\n",
       "    <tr>\n",
       "      <th>world</th>\n",
       "      <td>0.000000</td>\n",
       "      <td>0.000000</td>\n",
       "      <td>0.008434</td>\n",
       "    </tr>\n",
       "  </tbody>\n",
       "</table>\n",
       "</div>"
      ],
      "text/plain": [
       "item              call      data       sms\n",
       "network_type                              \n",
       "data          0.000000  0.180723  0.000000\n",
       "landline      0.050602  0.000000  0.000000\n",
       "mobile        0.384337  0.000000  0.339759\n",
       "special       0.000000  0.000000  0.003614\n",
       "voicemail     0.032530  0.000000  0.000000\n",
       "world         0.000000  0.000000  0.008434"
      ]
     },
     "execution_count": 10,
     "metadata": {},
     "output_type": "execute_result"
    }
   ],
   "source": [
    "pd.crosstab(data.network_type, data.item, margins=True, margins_name=\"Total\")\n",
    "\n",
    "pd.crosstab(data.network_type, data.item, normalize=True)"
   ]
  },
  {
   "cell_type": "markdown",
   "metadata": {},
   "source": [
    "**comparing with groub by and pivot table**\n",
    "\n",
    "crosstabe is more easy to read and do not have the extr steps"
   ]
  },
  {
   "cell_type": "code",
   "execution_count": 13,
   "metadata": {
    "ExecuteTime": {
     "end_time": "2018-12-03T06:36:33.987575Z",
     "start_time": "2018-12-03T06:36:33.936219Z"
    }
   },
   "outputs": [
    {
     "data": {
      "text/html": [
       "<div>\n",
       "<style scoped>\n",
       "    .dataframe tbody tr th:only-of-type {\n",
       "        vertical-align: middle;\n",
       "    }\n",
       "\n",
       "    .dataframe tbody tr th {\n",
       "        vertical-align: top;\n",
       "    }\n",
       "\n",
       "    .dataframe thead th {\n",
       "        text-align: right;\n",
       "    }\n",
       "</style>\n",
       "<table border=\"1\" class=\"dataframe\">\n",
       "  <thead>\n",
       "    <tr style=\"text-align: right;\">\n",
       "      <th>item</th>\n",
       "      <th>call</th>\n",
       "      <th>data</th>\n",
       "      <th>sms</th>\n",
       "    </tr>\n",
       "    <tr>\n",
       "      <th>network_type</th>\n",
       "      <th></th>\n",
       "      <th></th>\n",
       "      <th></th>\n",
       "    </tr>\n",
       "  </thead>\n",
       "  <tbody>\n",
       "    <tr>\n",
       "      <th>data</th>\n",
       "      <td>0</td>\n",
       "      <td>150</td>\n",
       "      <td>0</td>\n",
       "    </tr>\n",
       "    <tr>\n",
       "      <th>landline</th>\n",
       "      <td>42</td>\n",
       "      <td>0</td>\n",
       "      <td>0</td>\n",
       "    </tr>\n",
       "    <tr>\n",
       "      <th>mobile</th>\n",
       "      <td>319</td>\n",
       "      <td>0</td>\n",
       "      <td>282</td>\n",
       "    </tr>\n",
       "    <tr>\n",
       "      <th>special</th>\n",
       "      <td>0</td>\n",
       "      <td>0</td>\n",
       "      <td>3</td>\n",
       "    </tr>\n",
       "    <tr>\n",
       "      <th>voicemail</th>\n",
       "      <td>27</td>\n",
       "      <td>0</td>\n",
       "      <td>0</td>\n",
       "    </tr>\n",
       "    <tr>\n",
       "      <th>world</th>\n",
       "      <td>0</td>\n",
       "      <td>0</td>\n",
       "      <td>7</td>\n",
       "    </tr>\n",
       "  </tbody>\n",
       "</table>\n",
       "</div>"
      ],
      "text/plain": [
       "item          call  data  sms\n",
       "network_type                 \n",
       "data             0   150    0\n",
       "landline        42     0    0\n",
       "mobile         319     0  282\n",
       "special          0     0    3\n",
       "voicemail       27     0    0\n",
       "world            0     0    7"
      ]
     },
     "execution_count": 13,
     "metadata": {},
     "output_type": "execute_result"
    },
    {
     "data": {
      "text/html": [
       "<div>\n",
       "<style scoped>\n",
       "    .dataframe tbody tr th:only-of-type {\n",
       "        vertical-align: middle;\n",
       "    }\n",
       "\n",
       "    .dataframe tbody tr th {\n",
       "        vertical-align: top;\n",
       "    }\n",
       "\n",
       "    .dataframe thead th {\n",
       "        text-align: right;\n",
       "    }\n",
       "</style>\n",
       "<table border=\"1\" class=\"dataframe\">\n",
       "  <thead>\n",
       "    <tr style=\"text-align: right;\">\n",
       "      <th>item</th>\n",
       "      <th>call</th>\n",
       "      <th>data</th>\n",
       "      <th>sms</th>\n",
       "    </tr>\n",
       "    <tr>\n",
       "      <th>network_type</th>\n",
       "      <th></th>\n",
       "      <th></th>\n",
       "      <th></th>\n",
       "    </tr>\n",
       "  </thead>\n",
       "  <tbody>\n",
       "    <tr>\n",
       "      <th>data</th>\n",
       "      <td>0.0</td>\n",
       "      <td>150.0</td>\n",
       "      <td>0.0</td>\n",
       "    </tr>\n",
       "    <tr>\n",
       "      <th>landline</th>\n",
       "      <td>42.0</td>\n",
       "      <td>0.0</td>\n",
       "      <td>0.0</td>\n",
       "    </tr>\n",
       "    <tr>\n",
       "      <th>mobile</th>\n",
       "      <td>319.0</td>\n",
       "      <td>0.0</td>\n",
       "      <td>282.0</td>\n",
       "    </tr>\n",
       "    <tr>\n",
       "      <th>special</th>\n",
       "      <td>0.0</td>\n",
       "      <td>0.0</td>\n",
       "      <td>3.0</td>\n",
       "    </tr>\n",
       "    <tr>\n",
       "      <th>voicemail</th>\n",
       "      <td>27.0</td>\n",
       "      <td>0.0</td>\n",
       "      <td>0.0</td>\n",
       "    </tr>\n",
       "    <tr>\n",
       "      <th>world</th>\n",
       "      <td>0.0</td>\n",
       "      <td>0.0</td>\n",
       "      <td>7.0</td>\n",
       "    </tr>\n",
       "  </tbody>\n",
       "</table>\n",
       "</div>"
      ],
      "text/plain": [
       "item           call   data    sms\n",
       "network_type                     \n",
       "data            0.0  150.0    0.0\n",
       "landline       42.0    0.0    0.0\n",
       "mobile        319.0    0.0  282.0\n",
       "special         0.0    0.0    3.0\n",
       "voicemail      27.0    0.0    0.0\n",
       "world           0.0    0.0    7.0"
      ]
     },
     "execution_count": 13,
     "metadata": {},
     "output_type": "execute_result"
    },
    {
     "data": {
      "text/html": [
       "<div>\n",
       "<style scoped>\n",
       "    .dataframe tbody tr th:only-of-type {\n",
       "        vertical-align: middle;\n",
       "    }\n",
       "\n",
       "    .dataframe tbody tr th {\n",
       "        vertical-align: top;\n",
       "    }\n",
       "\n",
       "    .dataframe thead tr th {\n",
       "        text-align: left;\n",
       "    }\n",
       "\n",
       "    .dataframe thead tr:last-of-type th {\n",
       "        text-align: right;\n",
       "    }\n",
       "</style>\n",
       "<table border=\"1\" class=\"dataframe\">\n",
       "  <thead>\n",
       "    <tr>\n",
       "      <th></th>\n",
       "      <th colspan=\"6\" halign=\"left\">network_type</th>\n",
       "    </tr>\n",
       "    <tr>\n",
       "      <th>network_type</th>\n",
       "      <th>data</th>\n",
       "      <th>landline</th>\n",
       "      <th>mobile</th>\n",
       "      <th>special</th>\n",
       "      <th>voicemail</th>\n",
       "      <th>world</th>\n",
       "    </tr>\n",
       "    <tr>\n",
       "      <th>item</th>\n",
       "      <th></th>\n",
       "      <th></th>\n",
       "      <th></th>\n",
       "      <th></th>\n",
       "      <th></th>\n",
       "      <th></th>\n",
       "    </tr>\n",
       "  </thead>\n",
       "  <tbody>\n",
       "    <tr>\n",
       "      <th>call</th>\n",
       "      <td>0</td>\n",
       "      <td>42</td>\n",
       "      <td>319</td>\n",
       "      <td>0</td>\n",
       "      <td>27</td>\n",
       "      <td>0</td>\n",
       "    </tr>\n",
       "    <tr>\n",
       "      <th>data</th>\n",
       "      <td>150</td>\n",
       "      <td>0</td>\n",
       "      <td>0</td>\n",
       "      <td>0</td>\n",
       "      <td>0</td>\n",
       "      <td>0</td>\n",
       "    </tr>\n",
       "    <tr>\n",
       "      <th>sms</th>\n",
       "      <td>0</td>\n",
       "      <td>0</td>\n",
       "      <td>282</td>\n",
       "      <td>3</td>\n",
       "      <td>0</td>\n",
       "      <td>7</td>\n",
       "    </tr>\n",
       "  </tbody>\n",
       "</table>\n",
       "</div>"
      ],
      "text/plain": [
       "             network_type                                        \n",
       "network_type         data landline mobile special voicemail world\n",
       "item                                                             \n",
       "call                    0       42    319       0        27     0\n",
       "data                  150        0      0       0         0     0\n",
       "sms                     0        0    282       3         0     7"
      ]
     },
     "execution_count": 13,
     "metadata": {},
     "output_type": "execute_result"
    }
   ],
   "source": [
    "pd.crosstab(data.network_type, data.item)\n",
    "\n",
    "data.groupby(['network_type', 'item'])['network_type'].count().unstack().fillna(0)\n",
    "\n",
    "data.pivot_table(index='item', columns='network_type', aggfunc={'network_type':len}, fill_value=0)\n"
   ]
  },
  {
   "cell_type": "markdown",
   "metadata": {
    "ExecuteTime": {
     "end_time": "2018-12-03T06:42:36.398408Z",
     "start_time": "2018-12-03T06:42:36.392896Z"
    }
   },
   "source": [
    "#### pivot table\n",
    "\n",
    "http://pbpython.com/pandas-pivot-table-explained.html\n",
    "\n"
   ]
  },
  {
   "cell_type": "markdown",
   "metadata": {},
   "source": [
    "<img src=\"images/pivot-table-datasheet.png\" width=\"500\" align=\"left\"/>"
   ]
  },
  {
   "cell_type": "code",
   "execution_count": 18,
   "metadata": {
    "ExecuteTime": {
     "end_time": "2018-12-03T06:49:40.134135Z",
     "start_time": "2018-12-03T06:49:40.091664Z"
    },
    "scrolled": true
   },
   "outputs": [
    {
     "data": {
      "text/html": [
       "<div>\n",
       "<style scoped>\n",
       "    .dataframe tbody tr th:only-of-type {\n",
       "        vertical-align: middle;\n",
       "    }\n",
       "\n",
       "    .dataframe tbody tr th {\n",
       "        vertical-align: top;\n",
       "    }\n",
       "\n",
       "    .dataframe thead tr th {\n",
       "        text-align: left;\n",
       "    }\n",
       "\n",
       "    .dataframe thead tr:last-of-type th {\n",
       "        text-align: right;\n",
       "    }\n",
       "</style>\n",
       "<table border=\"1\" class=\"dataframe\">\n",
       "  <thead>\n",
       "    <tr>\n",
       "      <th></th>\n",
       "      <th></th>\n",
       "      <th>sum</th>\n",
       "      <th>mean</th>\n",
       "    </tr>\n",
       "    <tr>\n",
       "      <th></th>\n",
       "      <th></th>\n",
       "      <th>duration</th>\n",
       "      <th>duration</th>\n",
       "    </tr>\n",
       "    <tr>\n",
       "      <th>item</th>\n",
       "      <th>network_type</th>\n",
       "      <th></th>\n",
       "      <th></th>\n",
       "    </tr>\n",
       "  </thead>\n",
       "  <tbody>\n",
       "    <tr>\n",
       "      <th rowspan=\"3\" valign=\"top\">call</th>\n",
       "      <th>landline</th>\n",
       "      <td>18433.00</td>\n",
       "      <td>438.880952</td>\n",
       "    </tr>\n",
       "    <tr>\n",
       "      <th>mobile</th>\n",
       "      <td>72113.00</td>\n",
       "      <td>226.059561</td>\n",
       "    </tr>\n",
       "    <tr>\n",
       "      <th>voicemail</th>\n",
       "      <td>1775.00</td>\n",
       "      <td>65.740741</td>\n",
       "    </tr>\n",
       "    <tr>\n",
       "      <th>data</th>\n",
       "      <th>data</th>\n",
       "      <td>5164.35</td>\n",
       "      <td>34.429000</td>\n",
       "    </tr>\n",
       "    <tr>\n",
       "      <th rowspan=\"3\" valign=\"top\">sms</th>\n",
       "      <th>mobile</th>\n",
       "      <td>282.00</td>\n",
       "      <td>1.000000</td>\n",
       "    </tr>\n",
       "    <tr>\n",
       "      <th>special</th>\n",
       "      <td>3.00</td>\n",
       "      <td>1.000000</td>\n",
       "    </tr>\n",
       "    <tr>\n",
       "      <th>world</th>\n",
       "      <td>7.00</td>\n",
       "      <td>1.000000</td>\n",
       "    </tr>\n",
       "    <tr>\n",
       "      <th>All</th>\n",
       "      <th></th>\n",
       "      <td>97777.35</td>\n",
       "      <td>117.804036</td>\n",
       "    </tr>\n",
       "  </tbody>\n",
       "</table>\n",
       "</div>"
      ],
      "text/plain": [
       "                        sum        mean\n",
       "                   duration    duration\n",
       "item network_type                      \n",
       "call landline      18433.00  438.880952\n",
       "     mobile        72113.00  226.059561\n",
       "     voicemail      1775.00   65.740741\n",
       "data data           5164.35   34.429000\n",
       "sms  mobile          282.00    1.000000\n",
       "     special           3.00    1.000000\n",
       "     world             7.00    1.000000\n",
       "All                97777.35  117.804036"
      ]
     },
     "execution_count": 18,
     "metadata": {},
     "output_type": "execute_result"
    }
   ],
   "source": [
    "table = pd.pivot_table(data,index=[\"item\",\"network_type\"],\n",
    "               values=[\"duration\"],\n",
    "               aggfunc=[np.sum,np.mean],fill_value=0,margins=True)\n",
    "\n",
    "table"
   ]
  },
  {
   "cell_type": "code",
   "execution_count": 20,
   "metadata": {
    "ExecuteTime": {
     "end_time": "2018-12-03T06:56:33.823133Z",
     "start_time": "2018-12-03T06:56:33.805852Z"
    }
   },
   "outputs": [
    {
     "data": {
      "text/html": [
       "<div>\n",
       "<style scoped>\n",
       "    .dataframe tbody tr th:only-of-type {\n",
       "        vertical-align: middle;\n",
       "    }\n",
       "\n",
       "    .dataframe tbody tr th {\n",
       "        vertical-align: top;\n",
       "    }\n",
       "\n",
       "    .dataframe thead tr th {\n",
       "        text-align: left;\n",
       "    }\n",
       "\n",
       "    .dataframe thead tr:last-of-type th {\n",
       "        text-align: right;\n",
       "    }\n",
       "</style>\n",
       "<table border=\"1\" class=\"dataframe\">\n",
       "  <thead>\n",
       "    <tr>\n",
       "      <th></th>\n",
       "      <th></th>\n",
       "      <th>sum</th>\n",
       "      <th>mean</th>\n",
       "    </tr>\n",
       "    <tr>\n",
       "      <th></th>\n",
       "      <th></th>\n",
       "      <th>duration</th>\n",
       "      <th>duration</th>\n",
       "    </tr>\n",
       "    <tr>\n",
       "      <th>item</th>\n",
       "      <th>network_type</th>\n",
       "      <th></th>\n",
       "      <th></th>\n",
       "    </tr>\n",
       "  </thead>\n",
       "  <tbody>\n",
       "    <tr>\n",
       "      <th>call</th>\n",
       "      <th>mobile</th>\n",
       "      <td>72113.00</td>\n",
       "      <td>226.059561</td>\n",
       "    </tr>\n",
       "    <tr>\n",
       "      <th>data</th>\n",
       "      <th>data</th>\n",
       "      <td>5164.35</td>\n",
       "      <td>34.429000</td>\n",
       "    </tr>\n",
       "    <tr>\n",
       "      <th>sms</th>\n",
       "      <th>mobile</th>\n",
       "      <td>282.00</td>\n",
       "      <td>1.000000</td>\n",
       "    </tr>\n",
       "  </tbody>\n",
       "</table>\n",
       "</div>"
      ],
      "text/plain": [
       "                        sum        mean\n",
       "                   duration    duration\n",
       "item network_type                      \n",
       "call mobile        72113.00  226.059561\n",
       "data data           5164.35   34.429000\n",
       "sms  mobile          282.00    1.000000"
      ]
     },
     "execution_count": 20,
     "metadata": {},
     "output_type": "execute_result"
    }
   ],
   "source": [
    "table.query('network_type == [\"data\", \"sms\", \"mobile\"]')"
   ]
  },
  {
   "cell_type": "markdown",
   "metadata": {},
   "source": [
    "#### Joins\n",
    "\n",
    "\n",
    "left , right n inner join\n",
    "\n",
    "| Merge method | SQL Join Name    | Description                               |  \n",
    "|--------------|----------------- |-------------------------------------------|  \n",
    "| left         | LEFT OUTER JOIN  | Use keys from left frame only             |  \n",
    "| right        | RIGHT OUTER JOIN | Use keys from right frame only            |  \n",
    "| outer        | FULL OUTER JOIN  | Use union of keys from both frames        |  \n",
    "| inner        | INNER JOIN       | Use intersection of keys from both frames |\n",
    "\n"
   ]
  },
  {
   "cell_type": "code",
   "execution_count": 5,
   "metadata": {
    "ExecuteTime": {
     "end_time": "2018-11-19T22:43:45.755883Z",
     "start_time": "2018-11-19T22:43:45.710753Z"
    }
   },
   "outputs": [
    {
     "data": {
      "text/html": [
       "<div>\n",
       "<style scoped>\n",
       "    .dataframe tbody tr th:only-of-type {\n",
       "        vertical-align: middle;\n",
       "    }\n",
       "\n",
       "    .dataframe tbody tr th {\n",
       "        vertical-align: top;\n",
       "    }\n",
       "\n",
       "    .dataframe thead th {\n",
       "        text-align: right;\n",
       "    }\n",
       "</style>\n",
       "<table border=\"1\" class=\"dataframe\">\n",
       "  <thead>\n",
       "    <tr style=\"text-align: right;\">\n",
       "      <th></th>\n",
       "      <th>key1</th>\n",
       "      <th>key2</th>\n",
       "      <th>A</th>\n",
       "      <th>B</th>\n",
       "    </tr>\n",
       "  </thead>\n",
       "  <tbody>\n",
       "    <tr>\n",
       "      <th>0</th>\n",
       "      <td>K0</td>\n",
       "      <td>K0</td>\n",
       "      <td>A0</td>\n",
       "      <td>B0</td>\n",
       "    </tr>\n",
       "    <tr>\n",
       "      <th>1</th>\n",
       "      <td>K0</td>\n",
       "      <td>K1</td>\n",
       "      <td>A1</td>\n",
       "      <td>B1</td>\n",
       "    </tr>\n",
       "    <tr>\n",
       "      <th>2</th>\n",
       "      <td>K1</td>\n",
       "      <td>K0</td>\n",
       "      <td>A2</td>\n",
       "      <td>B2</td>\n",
       "    </tr>\n",
       "    <tr>\n",
       "      <th>3</th>\n",
       "      <td>K2</td>\n",
       "      <td>K1</td>\n",
       "      <td>A3</td>\n",
       "      <td>B3</td>\n",
       "    </tr>\n",
       "  </tbody>\n",
       "</table>\n",
       "</div>"
      ],
      "text/plain": [
       "  key1 key2   A   B\n",
       "0   K0   K0  A0  B0\n",
       "1   K0   K1  A1  B1\n",
       "2   K1   K0  A2  B2\n",
       "3   K2   K1  A3  B3"
      ]
     },
     "execution_count": 5,
     "metadata": {},
     "output_type": "execute_result"
    },
    {
     "data": {
      "text/html": [
       "<div>\n",
       "<style scoped>\n",
       "    .dataframe tbody tr th:only-of-type {\n",
       "        vertical-align: middle;\n",
       "    }\n",
       "\n",
       "    .dataframe tbody tr th {\n",
       "        vertical-align: top;\n",
       "    }\n",
       "\n",
       "    .dataframe thead th {\n",
       "        text-align: right;\n",
       "    }\n",
       "</style>\n",
       "<table border=\"1\" class=\"dataframe\">\n",
       "  <thead>\n",
       "    <tr style=\"text-align: right;\">\n",
       "      <th></th>\n",
       "      <th>key1</th>\n",
       "      <th>key2</th>\n",
       "      <th>C</th>\n",
       "      <th>D</th>\n",
       "    </tr>\n",
       "  </thead>\n",
       "  <tbody>\n",
       "    <tr>\n",
       "      <th>0</th>\n",
       "      <td>K0</td>\n",
       "      <td>K0</td>\n",
       "      <td>C0</td>\n",
       "      <td>D0</td>\n",
       "    </tr>\n",
       "    <tr>\n",
       "      <th>1</th>\n",
       "      <td>K1</td>\n",
       "      <td>K0</td>\n",
       "      <td>C1</td>\n",
       "      <td>D1</td>\n",
       "    </tr>\n",
       "    <tr>\n",
       "      <th>2</th>\n",
       "      <td>K1</td>\n",
       "      <td>K0</td>\n",
       "      <td>C2</td>\n",
       "      <td>D2</td>\n",
       "    </tr>\n",
       "    <tr>\n",
       "      <th>3</th>\n",
       "      <td>K2</td>\n",
       "      <td>K0</td>\n",
       "      <td>C3</td>\n",
       "      <td>D3</td>\n",
       "    </tr>\n",
       "  </tbody>\n",
       "</table>\n",
       "</div>"
      ],
      "text/plain": [
       "  key1 key2   C   D\n",
       "0   K0   K0  C0  D0\n",
       "1   K1   K0  C1  D1\n",
       "2   K1   K0  C2  D2\n",
       "3   K2   K0  C3  D3"
      ]
     },
     "execution_count": 5,
     "metadata": {},
     "output_type": "execute_result"
    },
    {
     "data": {
      "text/html": [
       "<div>\n",
       "<style scoped>\n",
       "    .dataframe tbody tr th:only-of-type {\n",
       "        vertical-align: middle;\n",
       "    }\n",
       "\n",
       "    .dataframe tbody tr th {\n",
       "        vertical-align: top;\n",
       "    }\n",
       "\n",
       "    .dataframe thead th {\n",
       "        text-align: right;\n",
       "    }\n",
       "</style>\n",
       "<table border=\"1\" class=\"dataframe\">\n",
       "  <thead>\n",
       "    <tr style=\"text-align: right;\">\n",
       "      <th></th>\n",
       "      <th>key1</th>\n",
       "      <th>key2</th>\n",
       "      <th>A</th>\n",
       "      <th>B</th>\n",
       "      <th>C</th>\n",
       "      <th>D</th>\n",
       "    </tr>\n",
       "  </thead>\n",
       "  <tbody>\n",
       "    <tr>\n",
       "      <th>0</th>\n",
       "      <td>K0</td>\n",
       "      <td>K0</td>\n",
       "      <td>A0</td>\n",
       "      <td>B0</td>\n",
       "      <td>C0</td>\n",
       "      <td>D0</td>\n",
       "    </tr>\n",
       "    <tr>\n",
       "      <th>1</th>\n",
       "      <td>K0</td>\n",
       "      <td>K1</td>\n",
       "      <td>A1</td>\n",
       "      <td>B1</td>\n",
       "      <td>NaN</td>\n",
       "      <td>NaN</td>\n",
       "    </tr>\n",
       "    <tr>\n",
       "      <th>2</th>\n",
       "      <td>K1</td>\n",
       "      <td>K0</td>\n",
       "      <td>A2</td>\n",
       "      <td>B2</td>\n",
       "      <td>C1</td>\n",
       "      <td>D1</td>\n",
       "    </tr>\n",
       "    <tr>\n",
       "      <th>3</th>\n",
       "      <td>K1</td>\n",
       "      <td>K0</td>\n",
       "      <td>A2</td>\n",
       "      <td>B2</td>\n",
       "      <td>C2</td>\n",
       "      <td>D2</td>\n",
       "    </tr>\n",
       "    <tr>\n",
       "      <th>4</th>\n",
       "      <td>K2</td>\n",
       "      <td>K1</td>\n",
       "      <td>A3</td>\n",
       "      <td>B3</td>\n",
       "      <td>NaN</td>\n",
       "      <td>NaN</td>\n",
       "    </tr>\n",
       "  </tbody>\n",
       "</table>\n",
       "</div>"
      ],
      "text/plain": [
       "  key1 key2   A   B    C    D\n",
       "0   K0   K0  A0  B0   C0   D0\n",
       "1   K0   K1  A1  B1  NaN  NaN\n",
       "2   K1   K0  A2  B2   C1   D1\n",
       "3   K1   K0  A2  B2   C2   D2\n",
       "4   K2   K1  A3  B3  NaN  NaN"
      ]
     },
     "execution_count": 5,
     "metadata": {},
     "output_type": "execute_result"
    }
   ],
   "source": [
    "left = pd.DataFrame({'key1': ['K0', 'K0', 'K1', 'K2'],\n",
    "                     'key2': ['K0', 'K1', 'K0', 'K1'],\n",
    "                     'A': ['A0', 'A1', 'A2', 'A3'], \n",
    "                     'B': ['B0', 'B1', 'B2', 'B3']})\n",
    "\n",
    "\n",
    "right = pd.DataFrame({'key1': ['K0', 'K1', 'K1', 'K2'],\n",
    "                      'key2': ['K0', 'K0', 'K0', 'K0'],  \n",
    "                      'C': ['C0', 'C1', 'C2', 'C3'],\n",
    "                      'D': ['D0', 'D1', 'D2', 'D3']})\n",
    "\n",
    "\n",
    "\n",
    "result = pd.merge(left, right, how='left', on=['key1', 'key2'])\n",
    "\n",
    "left\n",
    "\n",
    "right\n",
    "\n",
    "result"
   ]
  },
  {
   "cell_type": "markdown",
   "metadata": {
    "ExecuteTime": {
     "end_time": "2018-12-03T07:31:05.742891Z",
     "start_time": "2018-12-03T07:31:05.736887Z"
    }
   },
   "source": [
    "### Path manipulations\n",
    "\n",
    "http://pbpython.com/pathlib-intro.html\n"
   ]
  },
  {
   "cell_type": "markdown",
   "metadata": {},
   "source": [
    "<img src=\"images/pathlib_cheatsheet_p1.png\" width=\"600\" align=\"left\"/>"
   ]
  },
  {
   "cell_type": "code",
   "execution_count": 24,
   "metadata": {
    "ExecuteTime": {
     "end_time": "2018-12-03T07:35:23.231606Z",
     "start_time": "2018-12-03T07:35:23.211789Z"
    }
   },
   "outputs": [
    {
     "name": "stdout",
     "output_type": "stream",
     "text": [
      "logical checks: is a dir , is a file?\n"
     ]
    },
    {
     "data": {
      "text/plain": [
       "True"
      ]
     },
     "execution_count": 24,
     "metadata": {},
     "output_type": "execute_result"
    },
    {
     "data": {
      "text/plain": [
       "False"
      ]
     },
     "execution_count": 24,
     "metadata": {},
     "output_type": "execute_result"
    },
    {
     "name": "stdout",
     "output_type": "stream",
     "text": [
      "Get parts (split)\n"
     ]
    },
    {
     "data": {
      "text/plain": [
       "('/', 'media', 'leandroohf', 'sdb1', 'leandro', 'ds_pragmatic_programming')"
      ]
     },
     "execution_count": 24,
     "metadata": {},
     "output_type": "execute_result"
    },
    {
     "name": "stdout",
     "output_type": "stream",
     "text": [
      "paths, parents ...\n"
     ]
    },
    {
     "data": {
      "text/plain": [
       "PosixPath('/media/leandroohf/sdb1/leandro/ds_pragmatic_programming')"
      ]
     },
     "execution_count": 24,
     "metadata": {},
     "output_type": "execute_result"
    },
    {
     "data": {
      "text/plain": [
       "PosixPath('/media/leandroohf/sdb1/leandro')"
      ]
     },
     "execution_count": 24,
     "metadata": {},
     "output_type": "execute_result"
    },
    {
     "data": {
      "text/plain": [
       "'file:///media/leandroohf/sdb1/leandro/ds_pragmatic_programming'"
      ]
     },
     "execution_count": 24,
     "metadata": {},
     "output_type": "execute_result"
    }
   ],
   "source": [
    "from pathlib import Path\n",
    "\n",
    "in_file_1 = Path.cwd() / \"in\" / \"input.xlsx\"\n",
    "\n",
    "p = Path.cwd()\n",
    "\n",
    "\n",
    "print('logical checks: is a dir , is a file?')\n",
    "p.is_dir()\n",
    "\n",
    "p.is_file()\n",
    "\n",
    "\n",
    "print('Get parts (split)')\n",
    "p.parts\n",
    "\n",
    "\n",
    "print('paths, parents ...')\n",
    "p.absolute()\n",
    "\n",
    "p.parent\n",
    "\n",
    "p.as_uri()\n"
   ]
  },
  {
   "cell_type": "markdown",
   "metadata": {
    "heading_collapsed": true
   },
   "source": [
    "### String manipulation \n",
    "\n",
    "\n",
    "* basic string manipulation\n",
    "* vectorized string manipulation\n",
    "  (take notes of the pros n crons)\n",
    "    \n",
    "    https://jakevdp.github.io/PythonDataScienceHandbook/03.10-working-with-strings.html\n",
    "        "
   ]
  },
  {
   "cell_type": "markdown",
   "metadata": {},
   "source": [
    "### High performance eval n query\n",
    "\n",
    "https://jakevdp.github.io/PythonDataScienceHandbook/03.12-performance-eval-and-query.html\n",
    "\n",
    "Motivations\n",
    "for large df n arrays eval n query are faster\n"
   ]
  },
  {
   "cell_type": "markdown",
   "metadata": {},
   "source": [
    "## Time Series\n",
    "\n",
    "https://jakevdp.github.io/PythonDataScienceHandbook/03.11-working-with-time-series.html\n"
   ]
  },
  {
   "cell_type": "markdown",
   "metadata": {},
   "source": [
    "### Data wrangler"
   ]
  },
  {
   "cell_type": "markdown",
   "metadata": {},
   "source": [
    "#### Date manipulation"
   ]
  },
  {
   "cell_type": "code",
   "execution_count": 10,
   "metadata": {
    "ExecuteTime": {
     "end_time": "2018-10-25T19:25:36.135120Z",
     "start_time": "2018-10-25T19:25:36.101863Z"
    }
   },
   "outputs": [
    {
     "data": {
      "text/plain": [
       "datetime.datetime(2015, 7, 4, 0, 0)"
      ]
     },
     "execution_count": 10,
     "metadata": {},
     "output_type": "execute_result"
    },
    {
     "data": {
      "text/plain": [
       "datetime.datetime(2015, 7, 4, 0, 0)"
      ]
     },
     "execution_count": 10,
     "metadata": {},
     "output_type": "execute_result"
    },
    {
     "data": {
      "text/plain": [
       "array('2015-07-04', dtype='datetime64[D]')"
      ]
     },
     "execution_count": 10,
     "metadata": {},
     "output_type": "execute_result"
    },
    {
     "data": {
      "text/plain": [
       "array(['2015-07-04', '2015-07-05', '2015-07-06'], dtype='datetime64[D]')"
      ]
     },
     "execution_count": 10,
     "metadata": {},
     "output_type": "execute_result"
    },
    {
     "data": {
      "text/plain": [
       "Timestamp('2015-07-04 00:00:00')"
      ]
     },
     "execution_count": 10,
     "metadata": {},
     "output_type": "execute_result"
    },
    {
     "data": {
      "text/plain": [
       "DatetimeIndex(['2015-07-04', '2015-07-05', '2015-07-06'], dtype='datetime64[ns]', freq=None)"
      ]
     },
     "execution_count": 10,
     "metadata": {},
     "output_type": "execute_result"
    }
   ],
   "source": [
    "from datetime import datetime\n",
    "from dateutil import parser\n",
    "\n",
    "date = datetime(year=2015, month=7, day=4)\n",
    "date\n",
    "\n",
    "date = parser.parse(\"4th of July, 2015\")\n",
    "date\n",
    "\n",
    "date = pd.to_datetime(\"4th of July, 2015\")\n",
    "date\n",
    "\n",
    "\n",
    "date = np.array('2015-07-04', dtype=np.datetime64)\n",
    "date\n",
    "\n",
    "date + np.arange(3)\n"
   ]
  },
  {
   "cell_type": "markdown",
   "metadata": {},
   "source": [
    "**Pandas freq meanings**\n",
    "\n",
    "* D\tCalendar day\t\n",
    "* W\tWeekly\t\t\n",
    "* M\tMonth end\t\n",
    "* Q\tQuarter end\t\n",
    "* A\tYear end\t\n",
    "* H\tHours\t\n",
    "* T\tMinutes\t\t\n",
    "* S\tSeconds\t\t\n",
    "* L\tMilliseonds\t\t\n",
    "* U\tMicroseconds\t\t\n",
    "* N\tnanoseconds\n",
    "* B\tBusiness day\n",
    "* BM\tBusiness month end\n",
    "* BQ\tBusiness quarter end\n",
    "* BA\tBusiness year end\n",
    "* BH\tBusiness hours"
   ]
  },
  {
   "cell_type": "code",
   "execution_count": 16,
   "metadata": {
    "ExecuteTime": {
     "end_time": "2018-10-25T19:31:52.578678Z",
     "start_time": "2018-10-25T19:31:52.558550Z"
    }
   },
   "outputs": [
    {
     "data": {
      "text/plain": [
       "DatetimeIndex(['2015-07-03', '2015-07-04', '2015-07-05'], dtype='datetime64[ns]', freq='D')"
      ]
     },
     "execution_count": 16,
     "metadata": {},
     "output_type": "execute_result"
    },
    {
     "data": {
      "text/plain": [
       "PeriodIndex(['2015-11', '2015-12', '2016-01'], dtype='period[M]', freq='M')"
      ]
     },
     "execution_count": 16,
     "metadata": {},
     "output_type": "execute_result"
    },
    {
     "data": {
      "text/plain": [
       "TimedeltaIndex(['00:00:00', '01:00:00', '02:00:00'], dtype='timedelta64[ns]', freq='H')"
      ]
     },
     "execution_count": 16,
     "metadata": {},
     "output_type": "execute_result"
    }
   ],
   "source": [
    "pd.date_range('2015-07-03', periods=3, freq='D')\n",
    "\n",
    "pd.period_range('2015-11', periods=3, freq='M')\n",
    "\n",
    "pd.timedelta_range(0, periods=3, freq='H')"
   ]
  },
  {
   "cell_type": "markdown",
   "metadata": {},
   "source": [
    "#### Indexing dataframe by date\n",
    "\n",
    "It is useful because you can pass any valu that can be coerced into dates:"
   ]
  },
  {
   "cell_type": "code",
   "execution_count": 20,
   "metadata": {
    "ExecuteTime": {
     "end_time": "2019-03-08T01:48:56.037657Z",
     "start_time": "2019-03-08T01:48:56.024864Z"
    }
   },
   "outputs": [
    {
     "data": {
      "text/plain": [
       "2014-07-04    0\n",
       "2014-08-04    1\n",
       "2015-07-04    2\n",
       "2015-08-04    3\n",
       "dtype: int64"
      ]
     },
     "execution_count": 20,
     "metadata": {},
     "output_type": "execute_result"
    }
   ],
   "source": [
    "index = pd.DatetimeIndex(['2014-07-04', '2014-08-04',\n",
    "                          '2015-07-04', '2015-08-04'])\n",
    "data = pd.Series([0, 1, 2, 3], index=index)\n",
    "data"
   ]
  },
  {
   "cell_type": "code",
   "execution_count": 22,
   "metadata": {
    "ExecuteTime": {
     "end_time": "2019-03-08T01:49:59.135387Z",
     "start_time": "2019-03-08T01:49:59.121520Z"
    }
   },
   "outputs": [
    {
     "name": "stdout",
     "output_type": "stream",
     "text": [
      "Filter by selected days\n"
     ]
    },
    {
     "data": {
      "text/plain": [
       "2014-07-04    0\n",
       "2014-08-04    1\n",
       "2015-07-04    2\n",
       "dtype: int64"
      ]
     },
     "execution_count": 22,
     "metadata": {},
     "output_type": "execute_result"
    },
    {
     "name": "stdout",
     "output_type": "stream",
     "text": [
      "\n",
      "get all rows in a year\n"
     ]
    },
    {
     "data": {
      "text/plain": [
       "2015-07-04    2\n",
       "2015-08-04    3\n",
       "dtype: int64"
      ]
     },
     "execution_count": 22,
     "metadata": {},
     "output_type": "execute_result"
    }
   ],
   "source": [
    "print('Filter by selected days')\n",
    "data['2014-07-04':'2015-07-04']\n",
    "print()\n",
    "\n",
    "print('get all rows in a year')\n",
    "data['2015']"
   ]
  },
  {
   "cell_type": "code",
   "execution_count": 73,
   "metadata": {
    "ExecuteTime": {
     "end_time": "2019-03-08T04:30:05.902477Z",
     "start_time": "2019-03-08T04:30:03.824686Z"
    }
   },
   "outputs": [
    {
     "data": {
      "text/plain": [
       "pandas.core.frame.DataFrame"
      ]
     },
     "execution_count": 73,
     "metadata": {},
     "output_type": "execute_result"
    },
    {
     "data": {
      "text/html": [
       "<div>\n",
       "<style scoped>\n",
       "    .dataframe tbody tr th:only-of-type {\n",
       "        vertical-align: middle;\n",
       "    }\n",
       "\n",
       "    .dataframe tbody tr th {\n",
       "        vertical-align: top;\n",
       "    }\n",
       "\n",
       "    .dataframe thead th {\n",
       "        text-align: right;\n",
       "    }\n",
       "</style>\n",
       "<table border=\"1\" class=\"dataframe\">\n",
       "  <thead>\n",
       "    <tr style=\"text-align: right;\">\n",
       "      <th></th>\n",
       "      <th>Open</th>\n",
       "      <th>High</th>\n",
       "      <th>Low</th>\n",
       "      <th>Close</th>\n",
       "      <th>Volume</th>\n",
       "      <th>Ex-Dividend</th>\n",
       "      <th>Split Ratio</th>\n",
       "      <th>Adj. Open</th>\n",
       "      <th>Adj. High</th>\n",
       "      <th>Adj. Low</th>\n",
       "      <th>Adj. Close</th>\n",
       "      <th>Adj. Volume</th>\n",
       "    </tr>\n",
       "    <tr>\n",
       "      <th>Date</th>\n",
       "      <th></th>\n",
       "      <th></th>\n",
       "      <th></th>\n",
       "      <th></th>\n",
       "      <th></th>\n",
       "      <th></th>\n",
       "      <th></th>\n",
       "      <th></th>\n",
       "      <th></th>\n",
       "      <th></th>\n",
       "      <th></th>\n",
       "      <th></th>\n",
       "    </tr>\n",
       "  </thead>\n",
       "  <tbody>\n",
       "    <tr>\n",
       "      <th>2004-01-02</th>\n",
       "      <td>21.55</td>\n",
       "      <td>21.75</td>\n",
       "      <td>21.18</td>\n",
       "      <td>21.28</td>\n",
       "      <td>2582900.0</td>\n",
       "      <td>0.0</td>\n",
       "      <td>1.0</td>\n",
       "      <td>1.384738</td>\n",
       "      <td>1.397589</td>\n",
       "      <td>1.360963</td>\n",
       "      <td>1.367388</td>\n",
       "      <td>36160600.0</td>\n",
       "    </tr>\n",
       "    <tr>\n",
       "      <th>2004-01-05</th>\n",
       "      <td>21.42</td>\n",
       "      <td>22.39</td>\n",
       "      <td>21.42</td>\n",
       "      <td>22.17</td>\n",
       "      <td>7053900.0</td>\n",
       "      <td>0.0</td>\n",
       "      <td>1.0</td>\n",
       "      <td>1.376384</td>\n",
       "      <td>1.438714</td>\n",
       "      <td>1.376384</td>\n",
       "      <td>1.424577</td>\n",
       "      <td>98754600.0</td>\n",
       "    </tr>\n",
       "    <tr>\n",
       "      <th>2004-01-06</th>\n",
       "      <td>22.25</td>\n",
       "      <td>22.42</td>\n",
       "      <td>21.71</td>\n",
       "      <td>22.09</td>\n",
       "      <td>9095500.0</td>\n",
       "      <td>0.0</td>\n",
       "      <td>1.0</td>\n",
       "      <td>1.429718</td>\n",
       "      <td>1.440641</td>\n",
       "      <td>1.395019</td>\n",
       "      <td>1.419436</td>\n",
       "      <td>127337000.0</td>\n",
       "    </tr>\n",
       "  </tbody>\n",
       "</table>\n",
       "</div>"
      ],
      "text/plain": [
       "             Open   High    Low  Close     Volume  Ex-Dividend  Split Ratio  \\\n",
       "Date                                                                          \n",
       "2004-01-02  21.55  21.75  21.18  21.28  2582900.0          0.0          1.0   \n",
       "2004-01-05  21.42  22.39  21.42  22.17  7053900.0          0.0          1.0   \n",
       "2004-01-06  22.25  22.42  21.71  22.09  9095500.0          0.0          1.0   \n",
       "\n",
       "            Adj. Open  Adj. High  Adj. Low  Adj. Close  Adj. Volume  \n",
       "Date                                                                 \n",
       "2004-01-02   1.384738   1.397589  1.360963    1.367388   36160600.0  \n",
       "2004-01-05   1.376384   1.438714  1.376384    1.424577   98754600.0  \n",
       "2004-01-06   1.429718   1.440641  1.395019    1.419436  127337000.0  "
      ]
     },
     "execution_count": 73,
     "metadata": {},
     "output_type": "execute_result"
    }
   ],
   "source": [
    "import quandl\n",
    "import datetime\n",
    "\n",
    "# We will look at stock prices over the past year, starting at January 1, 2016\n",
    "start = datetime.datetime(2004,1,1)\n",
    "end = datetime.date.today()\n",
    "\n",
    "s = \"AAPL\"\n",
    "apple = quandl.get(\"WIKI/\" + s, start_date=start, end_date=end)\n",
    " \n",
    "type(apple)\n",
    "\n",
    "apple.head(3)"
   ]
  },
  {
   "cell_type": "code",
   "execution_count": 74,
   "metadata": {
    "ExecuteTime": {
     "end_time": "2019-03-08T04:30:08.766723Z",
     "start_time": "2019-03-08T04:30:08.562256Z"
    }
   },
   "outputs": [
    {
     "data": {
      "image/png": "[encoded data removed]",
      "text/plain": [
       "<Figure size 432x288 with 1 Axes>"
      ]
     },
     "metadata": {},
     "output_type": "display_data"
    }
   ],
   "source": [
    "import matplotlib.pyplot as plt\n",
    "import seaborn; seaborn.set()\n",
    "\n",
    "apple.plot(y='Open');"
   ]
  },
  {
   "cell_type": "markdown",
   "metadata": {},
   "source": [
    "### resampling\n",
    "\n",
    "see pandas frequency legends  \n",
    "BA =>  Business year end\n"
   ]
  },
  {
   "cell_type": "code",
   "execution_count": 76,
   "metadata": {
    "ExecuteTime": {
     "end_time": "2019-03-08T04:31:06.507607Z",
     "start_time": "2019-03-08T04:31:06.260671Z"
    }
   },
   "outputs": [
    {
     "data": {
      "image/png": "[encoded data removed]",
      "text/plain": [
       "<Figure size 432x288 with 1 Axes>"
      ]
     },
     "metadata": {},
     "output_type": "display_data"
    }
   ],
   "source": [
    "apple = apple.Close\n",
    "\n",
    "apple.plot(alpha=0.5, style='-')\n",
    "apple.resample('BA').mean().plot(style=':')\n",
    "apple.asfreq('BA').plot(style='--');\n",
    "plt.legend(['input', 'resample', 'asfreq'],\n",
    "           loc='upper left');"
   ]
  },
  {
   "cell_type": "markdown",
   "metadata": {},
   "source": [
    "**Summarize data: daily, weekly n monthly **\n"
   ]
  },
  {
   "cell_type": "code",
   "execution_count": 79,
   "metadata": {
    "ExecuteTime": {
     "end_time": "2019-03-08T04:33:07.773218Z",
     "start_time": "2019-03-08T04:33:07.650461Z"
    }
   },
   "outputs": [
    {
     "data": {
      "text/plain": [
       "pandas.core.series.Series"
      ]
     },
     "execution_count": 79,
     "metadata": {},
     "output_type": "execute_result"
    },
    {
     "data": {
      "text/plain": [
       "Date\n",
       "2004-01-04     21.28\n",
       "2004-01-11    113.21\n",
       "2004-01-18    117.62\n",
       "2004-01-25     90.08\n",
       "2004-02-01    113.84\n",
       "Freq: W-SUN, Name: Close, dtype: float64"
      ]
     },
     "execution_count": 79,
     "metadata": {},
     "output_type": "execute_result"
    },
    {
     "name": "stdout",
     "output_type": "stream",
     "text": [
      "\n"
     ]
    },
    {
     "data": {
      "text/plain": [
       "Date\n",
       "2004-01-31    456.030\n",
       "2004-02-29    433.287\n",
       "2004-03-31    602.560\n",
       "Freq: M, Name: Close, dtype: float64"
      ]
     },
     "execution_count": 79,
     "metadata": {},
     "output_type": "execute_result"
    },
    {
     "name": "stdout",
     "output_type": "stream",
     "text": [
      "\n"
     ]
    },
    {
     "data": {
      "text/plain": [
       "Date\n",
       "2004-03-31    1491.877\n",
       "2004-06-30    1777.580\n",
       "2004-09-30    2125.940\n",
       "Freq: Q-DEC, Name: Close, dtype: float64"
      ]
     },
     "execution_count": 79,
     "metadata": {},
     "output_type": "execute_result"
    }
   ],
   "source": [
    "daily = apple.resample('D').sum()\n",
    "weekly = apple.resample('W').sum()\n",
    "monthly = apple.resample('M').sum()\n",
    "quartely = apple.resample('Q').sum()\n",
    "\n",
    "type(weekly)\n",
    "weekly.head(5)\n",
    "\n",
    "print()\n",
    "monthly.head(3)\n",
    "\n",
    "print()\n",
    "quartely.head(3)"
   ]
  },
  {
   "cell_type": "code",
   "execution_count": 80,
   "metadata": {
    "ExecuteTime": {
     "end_time": "2019-03-08T04:33:36.039499Z",
     "start_time": "2019-03-08T04:33:35.842398Z"
    }
   },
   "outputs": [
    {
     "data": {
      "image/png": "[encoded data removed]",
      "text/plain": [
       "<Figure size 432x288 with 1 Axes>"
      ]
     },
     "metadata": {},
     "output_type": "display_data"
    }
   ],
   "source": [
    "weekly.plot(style=[':', '--', '-'])\n",
    "plt.ylabel('Weekly bicycle count');"
   ]
  },
  {
   "cell_type": "markdown",
   "metadata": {},
   "source": [
    "#### Rolling windows (TODO)\n",
    "https://jakevdp.github.io/PythonDataScienceHandbook/03.11-working-with-time-series.html"
   ]
  },
  {
   "cell_type": "code",
   "execution_count": 51,
   "metadata": {
    "ExecuteTime": {
     "end_time": "2019-03-08T04:09:47.383382Z",
     "start_time": "2019-03-08T04:09:47.133646Z"
    }
   },
   "outputs": [
    {
     "data": {
      "image/png": "[encoded data removed]",
      "text/plain": [
       "<Figure size 432x288 with 1 Axes>"
      ]
     },
     "metadata": {},
     "output_type": "display_data"
    }
   ],
   "source": [
    "rolling = apple.rolling(182, center=True)\n",
    "\n",
    "data = pd.DataFrame({'input': apple,\n",
    "                     'one-year rolling_mean': rolling.mean(),\n",
    "                     'one-year rolling_std': rolling.std()})\n",
    "ax = data.plot(style=['-', '--', ':'])\n",
    "ax.lines[0].set_alpha(0.3)"
   ]
  },
  {
   "cell_type": "markdown",
   "metadata": {},
   "source": [
    "**Get smoother version of a rolling mean using a window function–for example, a Gaussian window.**"
   ]
  },
  {
   "cell_type": "code",
   "execution_count": 77,
   "metadata": {
    "ExecuteTime": {
     "end_time": "2019-03-08T04:31:12.818428Z",
     "start_time": "2019-03-08T04:31:12.541914Z"
    }
   },
   "outputs": [
    {
     "data": {
      "image/png": "[encoded data removed]",
      "text/plain": [
       "<Figure size 432x288 with 1 Axes>"
      ]
     },
     "metadata": {},
     "output_type": "display_data"
    }
   ],
   "source": [
    "\n",
    "daily.rolling(30, center=True).sum().plot(style=[':', '--', '-'])\n",
    "plt.ylabel('mean hourly count');\n",
    "\n",
    "\n",
    "# smotth version\n",
    "daily.rolling(50, center=True,\n",
    "              win_type='gaussian').sum(std=10).plot(style=[':', '--', '-']);\n"
   ]
  },
  {
   "cell_type": "markdown",
   "metadata": {},
   "source": [
    "## lag (shift) operations\n",
    "\n",
    "shift is specified in multiples of the frequency. So we need to set it first\n"
   ]
  },
  {
   "cell_type": "code",
   "execution_count": 55,
   "metadata": {
    "ExecuteTime": {
     "end_time": "2019-03-08T04:15:23.877223Z",
     "start_time": "2019-03-08T04:15:23.646284Z"
    }
   },
   "outputs": [
    {
     "data": {
      "image/png": "[encoded data removed]",
      "text/plain": [
       "<Figure size 432x288 with 1 Axes>"
      ]
     },
     "metadata": {},
     "output_type": "display_data"
    }
   ],
   "source": [
    "# apply a frequency to the data\n",
    "apple = apple.asfreq('D', method='pad')\n",
    "\n",
    "ROI = 100 * (apple.tshift(-365) / apple - 1)\n",
    "ROI.plot()\n",
    "plt.ylabel('% Return on Investment');"
   ]
  },
  {
   "cell_type": "markdown",
   "metadata": {},
   "source": [
    "## Aggregation n group by\n",
    "\n",
    "\n",
    "data is bike sharing in seattle\n",
    "\n",
    "\n",
    "we  can use aggregation to see sazonality in the data"
   ]
  },
  {
   "cell_type": "code",
   "execution_count": 91,
   "metadata": {
    "ExecuteTime": {
     "end_time": "2019-03-08T04:54:48.510988Z",
     "start_time": "2019-03-08T04:54:37.482924Z"
    }
   },
   "outputs": [
    {
     "data": {
      "text/html": [
       "<div>\n",
       "<style scoped>\n",
       "    .dataframe tbody tr th:only-of-type {\n",
       "        vertical-align: middle;\n",
       "    }\n",
       "\n",
       "    .dataframe tbody tr th {\n",
       "        vertical-align: top;\n",
       "    }\n",
       "\n",
       "    .dataframe thead th {\n",
       "        text-align: right;\n",
       "    }\n",
       "</style>\n",
       "<table border=\"1\" class=\"dataframe\">\n",
       "  <thead>\n",
       "    <tr style=\"text-align: right;\">\n",
       "      <th></th>\n",
       "      <th>West</th>\n",
       "      <th>East</th>\n",
       "      <th>Total</th>\n",
       "    </tr>\n",
       "    <tr>\n",
       "      <th>Date</th>\n",
       "      <th></th>\n",
       "      <th></th>\n",
       "      <th></th>\n",
       "    </tr>\n",
       "  </thead>\n",
       "  <tbody>\n",
       "    <tr>\n",
       "      <th>2019-02-28 23:00:00</th>\n",
       "      <td>5.0</td>\n",
       "      <td>6.0</td>\n",
       "      <td>11.0</td>\n",
       "    </tr>\n",
       "    <tr>\n",
       "      <th>2019-02-28 22:00:00</th>\n",
       "      <td>4.0</td>\n",
       "      <td>27.0</td>\n",
       "      <td>31.0</td>\n",
       "    </tr>\n",
       "    <tr>\n",
       "      <th>2019-02-28 21:00:00</th>\n",
       "      <td>16.0</td>\n",
       "      <td>32.0</td>\n",
       "      <td>48.0</td>\n",
       "    </tr>\n",
       "    <tr>\n",
       "      <th>2019-02-28 20:00:00</th>\n",
       "      <td>16.0</td>\n",
       "      <td>50.0</td>\n",
       "      <td>66.0</td>\n",
       "    </tr>\n",
       "    <tr>\n",
       "      <th>2019-02-28 19:00:00</th>\n",
       "      <td>39.0</td>\n",
       "      <td>59.0</td>\n",
       "      <td>98.0</td>\n",
       "    </tr>\n",
       "  </tbody>\n",
       "</table>\n",
       "</div>"
      ],
      "text/plain": [
       "                     West  East  Total\n",
       "Date                                  \n",
       "2019-02-28 23:00:00   5.0   6.0   11.0\n",
       "2019-02-28 22:00:00   4.0  27.0   31.0\n",
       "2019-02-28 21:00:00  16.0  32.0   48.0\n",
       "2019-02-28 20:00:00  16.0  50.0   66.0\n",
       "2019-02-28 19:00:00  39.0  59.0   98.0"
      ]
     },
     "execution_count": 91,
     "metadata": {},
     "output_type": "execute_result"
    }
   ],
   "source": [
    "bikes = pd.read_csv('data/FremontBridge.csv', index_col='Date', parse_dates=True)\n",
    "\n",
    "bikes.columns = ['West', 'East']\n",
    "bikes['Total'] = bikes.eval('West + East')\n",
    "\n",
    "bikes.head()"
   ]
  },
  {
   "cell_type": "code",
   "execution_count": 86,
   "metadata": {
    "ExecuteTime": {
     "end_time": "2019-03-08T04:42:56.341130Z",
     "start_time": "2019-03-08T04:42:56.300102Z"
    }
   },
   "outputs": [
    {
     "data": {
      "text/html": [
       "<div>\n",
       "<style scoped>\n",
       "    .dataframe tbody tr th:only-of-type {\n",
       "        vertical-align: middle;\n",
       "    }\n",
       "\n",
       "    .dataframe tbody tr th {\n",
       "        vertical-align: top;\n",
       "    }\n",
       "\n",
       "    .dataframe thead th {\n",
       "        text-align: right;\n",
       "    }\n",
       "</style>\n",
       "<table border=\"1\" class=\"dataframe\">\n",
       "  <thead>\n",
       "    <tr style=\"text-align: right;\">\n",
       "      <th></th>\n",
       "      <th>West</th>\n",
       "      <th>East</th>\n",
       "      <th>Total</th>\n",
       "    </tr>\n",
       "  </thead>\n",
       "  <tbody>\n",
       "    <tr>\n",
       "      <th>count</th>\n",
       "      <td>56151.000000</td>\n",
       "      <td>56151.000000</td>\n",
       "      <td>56151.000000</td>\n",
       "    </tr>\n",
       "    <tr>\n",
       "      <th>mean</th>\n",
       "      <td>52.049883</td>\n",
       "      <td>58.014212</td>\n",
       "      <td>110.064095</td>\n",
       "    </tr>\n",
       "    <tr>\n",
       "      <th>std</th>\n",
       "      <td>67.635627</td>\n",
       "      <td>84.552751</td>\n",
       "      <td>139.523235</td>\n",
       "    </tr>\n",
       "    <tr>\n",
       "      <th>min</th>\n",
       "      <td>0.000000</td>\n",
       "      <td>0.000000</td>\n",
       "      <td>0.000000</td>\n",
       "    </tr>\n",
       "    <tr>\n",
       "      <th>25%</th>\n",
       "      <td>6.000000</td>\n",
       "      <td>7.000000</td>\n",
       "      <td>14.000000</td>\n",
       "    </tr>\n",
       "    <tr>\n",
       "      <th>50%</th>\n",
       "      <td>28.000000</td>\n",
       "      <td>29.000000</td>\n",
       "      <td>59.000000</td>\n",
       "    </tr>\n",
       "    <tr>\n",
       "      <th>75%</th>\n",
       "      <td>69.000000</td>\n",
       "      <td>70.000000</td>\n",
       "      <td>143.000000</td>\n",
       "    </tr>\n",
       "    <tr>\n",
       "      <th>max</th>\n",
       "      <td>698.000000</td>\n",
       "      <td>717.000000</td>\n",
       "      <td>957.000000</td>\n",
       "    </tr>\n",
       "  </tbody>\n",
       "</table>\n",
       "</div>"
      ],
      "text/plain": [
       "               West          East         Total\n",
       "count  56151.000000  56151.000000  56151.000000\n",
       "mean      52.049883     58.014212    110.064095\n",
       "std       67.635627     84.552751    139.523235\n",
       "min        0.000000      0.000000      0.000000\n",
       "25%        6.000000      7.000000     14.000000\n",
       "50%       28.000000     29.000000     59.000000\n",
       "75%       69.000000     70.000000    143.000000\n",
       "max      698.000000    717.000000    957.000000"
      ]
     },
     "execution_count": 86,
     "metadata": {},
     "output_type": "execute_result"
    }
   ],
   "source": [
    "bikes.dropna().describe()"
   ]
  },
  {
   "cell_type": "code",
   "execution_count": 92,
   "metadata": {
    "ExecuteTime": {
     "end_time": "2019-03-08T04:56:38.007440Z",
     "start_time": "2019-03-08T04:56:37.797502Z"
    }
   },
   "outputs": [
    {
     "data": {
      "image/png": "[encoded data removed]",
      "text/plain": [
       "<Figure size 432x288 with 1 Axes>"
      ]
     },
     "metadata": {},
     "output_type": "display_data"
    }
   ],
   "source": [
    "by_time = bikes.groupby(bikes.index.time).mean()\n",
    "hourly_ticks = 4 * 60 * 60 * np.arange(6)\n",
    "by_time.plot(xticks=hourly_ticks, style=[':', '--', '-']);"
   ]
  },
  {
   "cell_type": "markdown",
   "metadata": {},
   "source": [
    "The hourly traffic is a strongly bimodal distribution, with peaks around 8:00 in the morning and 5:00 in the evening. This is likely evidence of a strong component of commuter traffic crossing the bridge. "
   ]
  },
  {
   "cell_type": "code",
   "execution_count": 94,
   "metadata": {
    "ExecuteTime": {
     "end_time": "2019-03-08T04:57:33.327440Z",
     "start_time": "2019-03-08T04:57:33.183032Z"
    }
   },
   "outputs": [
    {
     "data": {
      "image/png": "[encoded data removed]",
      "text/plain": [
       "<Figure size 432x288 with 1 Axes>"
      ]
     },
     "metadata": {},
     "output_type": "display_data"
    }
   ],
   "source": [
    "by_weekday = bikes.groupby(bikes.index.dayofweek).mean()\n",
    "by_weekday.index = ['Mon', 'Tues', 'Wed', 'Thurs', 'Fri', 'Sat', 'Sun']\n",
    "by_weekday.plot(style=[':', '--', '-']);"
   ]
  },
  {
   "cell_type": "markdown",
   "metadata": {},
   "source": [
    "This shows a strong distinction between weekday and weekend totals, with around twice as many average riders crossing the bridge on Monday through Friday than on Saturday and Sunday.\n",
    "\n",
    "\n",
    "With this in mind, let's do a compound GroupBy and look at the hourly trend on weekdays versus weekends.\n"
   ]
  },
  {
   "cell_type": "code",
   "execution_count": 97,
   "metadata": {
    "ExecuteTime": {
     "end_time": "2019-03-08T04:59:29.208381Z",
     "start_time": "2019-03-08T04:59:29.144279Z"
    }
   },
   "outputs": [],
   "source": [
    "weekend = np.where(bikes.index.weekday < 5, 'Weekday', 'Weekend')\n",
    "by_time = bikes.groupby([weekend, bikes.index.time]).mean()\n"
   ]
  },
  {
   "cell_type": "code",
   "execution_count": 99,
   "metadata": {
    "ExecuteTime": {
     "end_time": "2019-03-08T05:00:00.093909Z",
     "start_time": "2019-03-08T04:59:59.792573Z"
    }
   },
   "outputs": [
    {
     "name": "stderr",
     "output_type": "stream",
     "text": [
      "/home/leandroohf/anaconda3/lib/python3.6/site-packages/ipykernel/__main__.py:3: DeprecationWarning: \n",
      ".ix is deprecated. Please use\n",
      ".loc for label based indexing or\n",
      ".iloc for positional indexing\n",
      "\n",
      "See the documentation here:\n",
      "http://pandas.pydata.org/pandas-docs/stable/indexing.html#ix-indexer-is-deprecated\n",
      "  app.launch_new_instance()\n",
      "/home/leandroohf/anaconda3/lib/python3.6/site-packages/ipykernel/__main__.py:5: DeprecationWarning: \n",
      ".ix is deprecated. Please use\n",
      ".loc for label based indexing or\n",
      ".iloc for positional indexing\n",
      "\n",
      "See the documentation here:\n",
      "http://pandas.pydata.org/pandas-docs/stable/indexing.html#ix-indexer-is-deprecated\n"
     ]
    },
    {
     "data": {
      "image/png": "[encoded data removed]",
      "text/plain": [
       "<Figure size 1008x360 with 2 Axes>"
      ]
     },
     "metadata": {},
     "output_type": "display_data"
    }
   ],
   "source": [
    "import matplotlib.pyplot as plt\n",
    "fig, ax = plt.subplots(1, 2, figsize=(14, 5));\n",
    "by_time.ix['Weekday'].plot(ax=ax[0], title='Weekdays',\n",
    "                           xticks=hourly_ticks, style=[':', '--', '-']);\n",
    "by_time.ix['Weekend'].plot(ax=ax[1], title='Weekends',\n",
    "                           xticks=hourly_ticks, style=[':', '--', '-']);"
   ]
  },
  {
   "cell_type": "markdown",
   "metadata": {},
   "source": [
    "### Time series visualization (TODO)"
   ]
  },
  {
   "cell_type": "code",
   "execution_count": 16,
   "metadata": {
    "ExecuteTime": {
     "end_time": "2019-03-07T21:07:09.602573Z",
     "start_time": "2019-03-07T21:07:09.599417Z"
    }
   },
   "outputs": [],
   "source": [
    "# TODO\n",
    "\n"
   ]
  },
  {
   "cell_type": "markdown",
   "metadata": {
    "ExecuteTime": {
     "end_time": "2019-03-07T21:07:04.863540Z",
     "start_time": "2019-03-07T21:07:04.855274Z"
    }
   },
   "source": [
    "## NLP\n",
    "\n",
    "TODO: Code to do \n",
    "    \n",
    "1. bag of words\n",
    "2. use wrodvec\n",
    "3. glove\n",
    "4. \n"
   ]
  },
  {
   "cell_type": "markdown",
   "metadata": {
    "heading_collapsed": true
   },
   "source": [
    "## Geo located data"
   ]
  },
  {
   "cell_type": "markdown",
   "metadata": {
    "ExecuteTime": {
     "end_time": "2018-10-27T00:05:22.990380Z",
     "start_time": "2018-10-27T00:05:22.977717Z"
    },
    "heading_collapsed": true
   },
   "source": [
    "## Visualizations\n",
    "\n",
    "\n",
    "Plotly does not work vercy well with large data (too slow), at least with jupyter  notebook\n",
    "https://plot.ly/python/ipython-notebook-tutorial/\n",
    "\n",
    "about license offiline plotly\n",
    "https://stackoverflow.com/questions/35511111/plotly-python-totally-free\n",
    "\n",
    "1. free\n",
    "2. open source\n",
    "\n",
    "All the libraries API; Matlab, Python n R alwasy were free. pltly.js only form 2015\n",
    "\n",
    "The Accounts you can create on their website are just to host graphs online. Like with a free account you can host one private graph, with a professional account you can host unlimited private/public graphs\n"
   ]
  },
  {
   "cell_type": "markdown",
   "metadata": {
    "hidden": true
   },
   "source": [
    "\n",
    "================\n",
    "* Interactive plots  (good to examine the data)\n",
    "    1. Sactter plot\n",
    "    2. Boxplot per category n try the width is sample size\n",
    "    3. Histograms subplot\n",
    "    4. financial data https://help.plot.ly/make-a-candlestick/ candles and select periodo tool\n",
    "    5. maps (geo located plots)\n",
    "    6. tables with filters \n",
    "    7. mini plot inside a plot https://help.plot.ly/getting-data/\n",
    "    8. network graphs: https://plot.ly/python/network-graphs/\n",
    "\n",
    "* Analysis plots\n",
    "    1. correlation matrix with scatter plot\n",
    "    2. "
   ]
  },
  {
   "cell_type": "markdown",
   "metadata": {
    "hidden": true
   },
   "source": [
    "### Load data"
   ]
  },
  {
   "cell_type": "code",
   "execution_count": 3,
   "metadata": {
    "ExecuteTime": {
     "end_time": "2019-02-25T23:45:08.588586Z",
     "start_time": "2019-02-25T23:45:08.409498Z"
    },
    "hidden": true
   },
   "outputs": [
    {
     "data": {
      "text/plain": [
       "Index(['sepal length (cm)', 'sepal width (cm)', 'petal length (cm)',\n",
       "       'petal width (cm)', 'target', 'target_name'],\n",
       "      dtype='object')"
      ]
     },
     "execution_count": 3,
     "metadata": {},
     "output_type": "execute_result"
    },
    {
     "data": {
      "text/html": [
       "<div>\n",
       "<style scoped>\n",
       "    .dataframe tbody tr th:only-of-type {\n",
       "        vertical-align: middle;\n",
       "    }\n",
       "\n",
       "    .dataframe tbody tr th {\n",
       "        vertical-align: top;\n",
       "    }\n",
       "\n",
       "    .dataframe thead th {\n",
       "        text-align: right;\n",
       "    }\n",
       "</style>\n",
       "<table border=\"1\" class=\"dataframe\">\n",
       "  <thead>\n",
       "    <tr style=\"text-align: right;\">\n",
       "      <th></th>\n",
       "      <th>sepal length (cm)</th>\n",
       "      <th>sepal width (cm)</th>\n",
       "      <th>petal length (cm)</th>\n",
       "      <th>petal width (cm)</th>\n",
       "      <th>target</th>\n",
       "      <th>target_name</th>\n",
       "    </tr>\n",
       "  </thead>\n",
       "  <tbody>\n",
       "    <tr>\n",
       "      <th>0</th>\n",
       "      <td>5.1</td>\n",
       "      <td>3.5</td>\n",
       "      <td>1.4</td>\n",
       "      <td>0.2</td>\n",
       "      <td>0</td>\n",
       "      <td>setosa</td>\n",
       "    </tr>\n",
       "    <tr>\n",
       "      <th>1</th>\n",
       "      <td>4.9</td>\n",
       "      <td>3.0</td>\n",
       "      <td>1.4</td>\n",
       "      <td>0.2</td>\n",
       "      <td>0</td>\n",
       "      <td>setosa</td>\n",
       "    </tr>\n",
       "    <tr>\n",
       "      <th>2</th>\n",
       "      <td>4.7</td>\n",
       "      <td>3.2</td>\n",
       "      <td>1.3</td>\n",
       "      <td>0.2</td>\n",
       "      <td>0</td>\n",
       "      <td>setosa</td>\n",
       "    </tr>\n",
       "  </tbody>\n",
       "</table>\n",
       "</div>"
      ],
      "text/plain": [
       "   sepal length (cm)  sepal width (cm)  petal length (cm)  petal width (cm)  \\\n",
       "0                5.1               3.5                1.4               0.2   \n",
       "1                4.9               3.0                1.4               0.2   \n",
       "2                4.7               3.2                1.3               0.2   \n",
       "\n",
       "   target target_name  \n",
       "0       0      setosa  \n",
       "1       0      setosa  \n",
       "2       0      setosa  "
      ]
     },
     "execution_count": 3,
     "metadata": {},
     "output_type": "execute_result"
    }
   ],
   "source": [
    "from sklearn.datasets import load_iris\n",
    "\n",
    "# Load the Iris flower dataset:\n",
    "iris = load_iris()\n",
    "\n",
    "iris_df = pd.DataFrame(iris.data)\n",
    "iris_df.columns = iris.feature_names\n",
    "\n",
    "iris_df['target'] = iris.target\n",
    "\n",
    "iris_df['target_name'] = iris_df.target.map(lambda t: iris.target_names[int(t)])\n",
    "\n",
    "iris_df.columns\n",
    "iris_df.head(3)"
   ]
  },
  {
   "cell_type": "markdown",
   "metadata": {
    "hidden": true
   },
   "source": [
    "### Boxplot\n",
    "\n",
    "plotly does not support boxplot width proportional to variable or sample size"
   ]
  },
  {
   "cell_type": "code",
   "execution_count": 4,
   "metadata": {
    "ExecuteTime": {
     "end_time": "2019-02-25T23:45:15.243840Z",
     "start_time": "2019-02-25T23:45:13.959358Z"
    },
    "hidden": true
   },
   "outputs": [
    {
     "data": {
      "text/html": [
       "<script>requirejs.config({paths: { 'plotly': ['https://cdn.plot.ly/plotly-latest.min']},});if(!window.Plotly) {{require(['plotly'],function(plotly) {window.Plotly=plotly;});}}</script>"
      ],
      "text/vnd.plotly.v1+html": [
       "<script>requirejs.config({paths: { 'plotly': ['https://cdn.plot.ly/plotly-latest.min']},});if(!window.Plotly) {{require(['plotly'],function(plotly) {window.Plotly=plotly;});}}</script>"
      ]
     },
     "metadata": {},
     "output_type": "display_data"
    },
    {
     "name": "stdout",
     "output_type": "stream",
     "text": [
      "size of group setosa: 50\n",
      "size of group versicolor: 50\n",
      "size of group virginica: 50\n"
     ]
    },
    {
     "data": {
      "application/vnd.plotly.v1+json": {
       "data": [
        {
         "name": "setosa",
         "showlegend": false,
         "type": "box",
         "uid": "65d5cbd2-3957-11e9-8ae3-080027daca25",
         "y": [
          5.1,
          4.9,
          4.7,
          4.6,
          5,
          5.4,
          4.6,
          5,
          4.4,
          4.9,
          5.4,
          4.8,
          4.8,
          4.3,
          5.8,
          5.7,
          5.4,
          5.1,
          5.7,
          5.1,
          5.4,
          5.1,
          4.6,
          5.1,
          4.8,
          5,
          5,
          5.2,
          5.2,
          4.7,
          4.8,
          5.4,
          5.2,
          5.5,
          4.9,
          5,
          5.5,
          4.9,
          4.4,
          5.1,
          5,
          4.5,
          4.4,
          5,
          5.1,
          4.8,
          5.1,
          4.6,
          5.3,
          5
         ]
        },
        {
         "name": "versicolor",
         "showlegend": false,
         "type": "box",
         "uid": "65d5cbd3-3957-11e9-8ae3-080027daca25",
         "y": [
          7,
          6.4,
          6.9,
          5.5,
          6.5,
          5.7,
          6.3,
          4.9,
          6.6,
          5.2,
          5,
          5.9,
          6,
          6.1,
          5.6,
          6.7,
          5.6,
          5.8,
          6.2,
          5.6,
          5.9,
          6.1,
          6.3,
          6.1,
          6.4,
          6.6,
          6.8,
          6.7,
          6,
          5.7,
          5.5,
          5.5,
          5.8,
          6,
          5.4,
          6,
          6.7,
          6.3,
          5.6,
          5.5,
          5.5,
          6.1,
          5.8,
          5,
          5.6,
          5.7,
          5.7,
          6.2,
          5.1,
          5.7
         ]
        },
        {
         "name": "virginica",
         "showlegend": false,
         "type": "box",
         "uid": "65d5cbd4-3957-11e9-8ae3-080027daca25",
         "y": [
          6.3,
          5.8,
          7.1,
          6.3,
          6.5,
          7.6,
          4.9,
          7.3,
          6.7,
          7.2,
          6.5,
          6.4,
          6.8,
          5.7,
          5.8,
          6.4,
          6.5,
          7.7,
          7.7,
          6,
          6.9,
          5.6,
          7.7,
          6.3,
          6.7,
          7.2,
          6.2,
          6.1,
          6.4,
          7.2,
          7.4,
          7.9,
          6.4,
          6.3,
          6.1,
          7.7,
          6.3,
          6.4,
          6,
          6.9,
          6.7,
          6.9,
          5.8,
          6.8,
          6.7,
          6.7,
          6.3,
          6.5,
          6.2,
          5.9
         ]
        }
       ],
       "layout": {}
      },
      "text/html": [
       "<div id=\"98af2387-95a7-4121-92ce-59925e596e8a\" style=\"height: 525px; width: 100%;\" class=\"plotly-graph-div\"></div><script type=\"text/javascript\">require([\"plotly\"], function(Plotly) { window.PLOTLYENV=window.PLOTLYENV || {};window.PLOTLYENV.BASE_URL=\"https://plot.ly\";Plotly.newPlot(\"98af2387-95a7-4121-92ce-59925e596e8a\", [{\"name\": \"setosa\", \"showlegend\": false, \"y\": [5.1, 4.9, 4.7, 4.6, 5.0, 5.4, 4.6, 5.0, 4.4, 4.9, 5.4, 4.8, 4.8, 4.3, 5.8, 5.7, 5.4, 5.1, 5.7, 5.1, 5.4, 5.1, 4.6, 5.1, 4.8, 5.0, 5.0, 5.2, 5.2, 4.7, 4.8, 5.4, 5.2, 5.5, 4.9, 5.0, 5.5, 4.9, 4.4, 5.1, 5.0, 4.5, 4.4, 5.0, 5.1, 4.8, 5.1, 4.6, 5.3, 5.0], \"type\": \"box\", \"uid\": \"65d5cbd5-3957-11e9-8ae3-080027daca25\"}, {\"name\": \"versicolor\", \"showlegend\": false, \"y\": [7.0, 6.4, 6.9, 5.5, 6.5, 5.7, 6.3, 4.9, 6.6, 5.2, 5.0, 5.9, 6.0, 6.1, 5.6, 6.7, 5.6, 5.8, 6.2, 5.6, 5.9, 6.1, 6.3, 6.1, 6.4, 6.6, 6.8, 6.7, 6.0, 5.7, 5.5, 5.5, 5.8, 6.0, 5.4, 6.0, 6.7, 6.3, 5.6, 5.5, 5.5, 6.1, 5.8, 5.0, 5.6, 5.7, 5.7, 6.2, 5.1, 5.7], \"type\": \"box\", \"uid\": \"65d5cbd6-3957-11e9-8ae3-080027daca25\"}, {\"name\": \"virginica\", \"showlegend\": false, \"y\": [6.3, 5.8, 7.1, 6.3, 6.5, 7.6, 4.9, 7.3, 6.7, 7.2, 6.5, 6.4, 6.8, 5.7, 5.8, 6.4, 6.5, 7.7, 7.7, 6.0, 6.9, 5.6, 7.7, 6.3, 6.7, 7.2, 6.2, 6.1, 6.4, 7.2, 7.4, 7.9, 6.4, 6.3, 6.1, 7.7, 6.3, 6.4, 6.0, 6.9, 6.7, 6.9, 5.8, 6.8, 6.7, 6.7, 6.3, 6.5, 6.2, 5.9], \"type\": \"box\", \"uid\": \"65d5cbd7-3957-11e9-8ae3-080027daca25\"}], {}, {\"showLink\": true, \"linkText\": \"Export to plot.ly\"})});</script>"
      ],
      "text/vnd.plotly.v1+html": [
       "<div id=\"98af2387-95a7-4121-92ce-59925e596e8a\" style=\"height: 525px; width: 100%;\" class=\"plotly-graph-div\"></div><script type=\"text/javascript\">require([\"plotly\"], function(Plotly) { window.PLOTLYENV=window.PLOTLYENV || {};window.PLOTLYENV.BASE_URL=\"https://plot.ly\";Plotly.newPlot(\"98af2387-95a7-4121-92ce-59925e596e8a\", [{\"name\": \"setosa\", \"showlegend\": false, \"y\": [5.1, 4.9, 4.7, 4.6, 5.0, 5.4, 4.6, 5.0, 4.4, 4.9, 5.4, 4.8, 4.8, 4.3, 5.8, 5.7, 5.4, 5.1, 5.7, 5.1, 5.4, 5.1, 4.6, 5.1, 4.8, 5.0, 5.0, 5.2, 5.2, 4.7, 4.8, 5.4, 5.2, 5.5, 4.9, 5.0, 5.5, 4.9, 4.4, 5.1, 5.0, 4.5, 4.4, 5.0, 5.1, 4.8, 5.1, 4.6, 5.3, 5.0], \"type\": \"box\", \"uid\": \"65d5cbd5-3957-11e9-8ae3-080027daca25\"}, {\"name\": \"versicolor\", \"showlegend\": false, \"y\": [7.0, 6.4, 6.9, 5.5, 6.5, 5.7, 6.3, 4.9, 6.6, 5.2, 5.0, 5.9, 6.0, 6.1, 5.6, 6.7, 5.6, 5.8, 6.2, 5.6, 5.9, 6.1, 6.3, 6.1, 6.4, 6.6, 6.8, 6.7, 6.0, 5.7, 5.5, 5.5, 5.8, 6.0, 5.4, 6.0, 6.7, 6.3, 5.6, 5.5, 5.5, 6.1, 5.8, 5.0, 5.6, 5.7, 5.7, 6.2, 5.1, 5.7], \"type\": \"box\", \"uid\": \"65d5cbd6-3957-11e9-8ae3-080027daca25\"}, {\"name\": \"virginica\", \"showlegend\": false, \"y\": [6.3, 5.8, 7.1, 6.3, 6.5, 7.6, 4.9, 7.3, 6.7, 7.2, 6.5, 6.4, 6.8, 5.7, 5.8, 6.4, 6.5, 7.7, 7.7, 6.0, 6.9, 5.6, 7.7, 6.3, 6.7, 7.2, 6.2, 6.1, 6.4, 7.2, 7.4, 7.9, 6.4, 6.3, 6.1, 7.7, 6.3, 6.4, 6.0, 6.9, 6.7, 6.9, 5.8, 6.8, 6.7, 6.7, 6.3, 6.5, 6.2, 5.9], \"type\": \"box\", \"uid\": \"65d5cbd7-3957-11e9-8ae3-080027daca25\"}], {}, {\"showLink\": true, \"linkText\": \"Export to plot.ly\"})});</script>"
      ]
     },
     "metadata": {},
     "output_type": "display_data"
    }
   ],
   "source": [
    "## offline plot\n",
    "import plotly\n",
    "import plotly.graph_objs as go\n",
    "from plotly.offline import download_plotlyjs, init_notebook_mode, plot, iplot\n",
    "\n",
    "init_notebook_mode(connected=True)\n",
    "\n",
    "data = []\n",
    "\n",
    "for tn in iris_df.target_name.unique():\n",
    "    \n",
    "    df = iris_df[iris_df.target_name == tn]\n",
    "    print('size of group {}: {}'.format(tn, df.shape[0]))\n",
    "    \n",
    "    data.append(  go.Box( y=df['sepal length (cm)'] , name=str(tn), showlegend=False ) )\n",
    "\n",
    "plotly.offline.iplot(data)"
   ]
  },
  {
   "cell_type": "code",
   "execution_count": 5,
   "metadata": {
    "ExecuteTime": {
     "end_time": "2019-02-25T23:45:18.371932Z",
     "start_time": "2019-02-25T23:45:18.299249Z"
    },
    "hidden": true
   },
   "outputs": [
    {
     "name": "stdout",
     "output_type": "stream",
     "text": [
      "size of group setosa: 50\n",
      "size of group versicolor: 50\n",
      "size of group virginica: 50\n"
     ]
    },
    {
     "data": {
      "application/vnd.plotly.v1+json": {
       "data": [
        {
         "name": "setosa",
         "showlegend": false,
         "type": "box",
         "uid": "681d4fb4-3957-11e9-8ae3-080027daca25",
         "x": [
          5.1,
          4.9,
          4.7,
          4.6,
          5,
          5.4,
          4.6,
          5,
          4.4,
          4.9,
          5.4,
          4.8,
          4.8,
          4.3,
          5.8,
          5.7,
          5.4,
          5.1,
          5.7,
          5.1,
          5.4,
          5.1,
          4.6,
          5.1,
          4.8,
          5,
          5,
          5.2,
          5.2,
          4.7,
          4.8,
          5.4,
          5.2,
          5.5,
          4.9,
          5,
          5.5,
          4.9,
          4.4,
          5.1,
          5,
          4.5,
          4.4,
          5,
          5.1,
          4.8,
          5.1,
          4.6,
          5.3,
          5
         ]
        },
        {
         "name": "versicolor",
         "showlegend": false,
         "type": "box",
         "uid": "681d4fb5-3957-11e9-8ae3-080027daca25",
         "x": [
          7,
          6.4,
          6.9,
          5.5,
          6.5,
          5.7,
          6.3,
          4.9,
          6.6,
          5.2,
          5,
          5.9,
          6,
          6.1,
          5.6,
          6.7,
          5.6,
          5.8,
          6.2,
          5.6,
          5.9,
          6.1,
          6.3,
          6.1,
          6.4,
          6.6,
          6.8,
          6.7,
          6,
          5.7,
          5.5,
          5.5,
          5.8,
          6,
          5.4,
          6,
          6.7,
          6.3,
          5.6,
          5.5,
          5.5,
          6.1,
          5.8,
          5,
          5.6,
          5.7,
          5.7,
          6.2,
          5.1,
          5.7
         ]
        },
        {
         "name": "virginica",
         "showlegend": false,
         "type": "box",
         "uid": "681d4fb6-3957-11e9-8ae3-080027daca25",
         "x": [
          6.3,
          5.8,
          7.1,
          6.3,
          6.5,
          7.6,
          4.9,
          7.3,
          6.7,
          7.2,
          6.5,
          6.4,
          6.8,
          5.7,
          5.8,
          6.4,
          6.5,
          7.7,
          7.7,
          6,
          6.9,
          5.6,
          7.7,
          6.3,
          6.7,
          7.2,
          6.2,
          6.1,
          6.4,
          7.2,
          7.4,
          7.9,
          6.4,
          6.3,
          6.1,
          7.7,
          6.3,
          6.4,
          6,
          6.9,
          6.7,
          6.9,
          5.8,
          6.8,
          6.7,
          6.7,
          6.3,
          6.5,
          6.2,
          5.9
         ]
        }
       ],
       "layout": {}
      },
      "text/html": [
       "<div id=\"b7db60a0-4dde-4b67-891f-ece125685a3c\" style=\"height: 525px; width: 100%;\" class=\"plotly-graph-div\"></div><script type=\"text/javascript\">require([\"plotly\"], function(Plotly) { window.PLOTLYENV=window.PLOTLYENV || {};window.PLOTLYENV.BASE_URL=\"https://plot.ly\";Plotly.newPlot(\"b7db60a0-4dde-4b67-891f-ece125685a3c\", [{\"name\": \"setosa\", \"showlegend\": false, \"x\": [5.1, 4.9, 4.7, 4.6, 5.0, 5.4, 4.6, 5.0, 4.4, 4.9, 5.4, 4.8, 4.8, 4.3, 5.8, 5.7, 5.4, 5.1, 5.7, 5.1, 5.4, 5.1, 4.6, 5.1, 4.8, 5.0, 5.0, 5.2, 5.2, 4.7, 4.8, 5.4, 5.2, 5.5, 4.9, 5.0, 5.5, 4.9, 4.4, 5.1, 5.0, 4.5, 4.4, 5.0, 5.1, 4.8, 5.1, 4.6, 5.3, 5.0], \"type\": \"box\", \"uid\": \"681d4fb7-3957-11e9-8ae3-080027daca25\"}, {\"name\": \"versicolor\", \"showlegend\": false, \"x\": [7.0, 6.4, 6.9, 5.5, 6.5, 5.7, 6.3, 4.9, 6.6, 5.2, 5.0, 5.9, 6.0, 6.1, 5.6, 6.7, 5.6, 5.8, 6.2, 5.6, 5.9, 6.1, 6.3, 6.1, 6.4, 6.6, 6.8, 6.7, 6.0, 5.7, 5.5, 5.5, 5.8, 6.0, 5.4, 6.0, 6.7, 6.3, 5.6, 5.5, 5.5, 6.1, 5.8, 5.0, 5.6, 5.7, 5.7, 6.2, 5.1, 5.7], \"type\": \"box\", \"uid\": \"681d4fb8-3957-11e9-8ae3-080027daca25\"}, {\"name\": \"virginica\", \"showlegend\": false, \"x\": [6.3, 5.8, 7.1, 6.3, 6.5, 7.6, 4.9, 7.3, 6.7, 7.2, 6.5, 6.4, 6.8, 5.7, 5.8, 6.4, 6.5, 7.7, 7.7, 6.0, 6.9, 5.6, 7.7, 6.3, 6.7, 7.2, 6.2, 6.1, 6.4, 7.2, 7.4, 7.9, 6.4, 6.3, 6.1, 7.7, 6.3, 6.4, 6.0, 6.9, 6.7, 6.9, 5.8, 6.8, 6.7, 6.7, 6.3, 6.5, 6.2, 5.9], \"type\": \"box\", \"uid\": \"681d4fb9-3957-11e9-8ae3-080027daca25\"}], {}, {\"showLink\": true, \"linkText\": \"Export to plot.ly\"})});</script>"
      ],
      "text/vnd.plotly.v1+html": [
       "<div id=\"b7db60a0-4dde-4b67-891f-ece125685a3c\" style=\"height: 525px; width: 100%;\" class=\"plotly-graph-div\"></div><script type=\"text/javascript\">require([\"plotly\"], function(Plotly) { window.PLOTLYENV=window.PLOTLYENV || {};window.PLOTLYENV.BASE_URL=\"https://plot.ly\";Plotly.newPlot(\"b7db60a0-4dde-4b67-891f-ece125685a3c\", [{\"name\": \"setosa\", \"showlegend\": false, \"x\": [5.1, 4.9, 4.7, 4.6, 5.0, 5.4, 4.6, 5.0, 4.4, 4.9, 5.4, 4.8, 4.8, 4.3, 5.8, 5.7, 5.4, 5.1, 5.7, 5.1, 5.4, 5.1, 4.6, 5.1, 4.8, 5.0, 5.0, 5.2, 5.2, 4.7, 4.8, 5.4, 5.2, 5.5, 4.9, 5.0, 5.5, 4.9, 4.4, 5.1, 5.0, 4.5, 4.4, 5.0, 5.1, 4.8, 5.1, 4.6, 5.3, 5.0], \"type\": \"box\", \"uid\": \"681d4fb7-3957-11e9-8ae3-080027daca25\"}, {\"name\": \"versicolor\", \"showlegend\": false, \"x\": [7.0, 6.4, 6.9, 5.5, 6.5, 5.7, 6.3, 4.9, 6.6, 5.2, 5.0, 5.9, 6.0, 6.1, 5.6, 6.7, 5.6, 5.8, 6.2, 5.6, 5.9, 6.1, 6.3, 6.1, 6.4, 6.6, 6.8, 6.7, 6.0, 5.7, 5.5, 5.5, 5.8, 6.0, 5.4, 6.0, 6.7, 6.3, 5.6, 5.5, 5.5, 6.1, 5.8, 5.0, 5.6, 5.7, 5.7, 6.2, 5.1, 5.7], \"type\": \"box\", \"uid\": \"681d4fb8-3957-11e9-8ae3-080027daca25\"}, {\"name\": \"virginica\", \"showlegend\": false, \"x\": [6.3, 5.8, 7.1, 6.3, 6.5, 7.6, 4.9, 7.3, 6.7, 7.2, 6.5, 6.4, 6.8, 5.7, 5.8, 6.4, 6.5, 7.7, 7.7, 6.0, 6.9, 5.6, 7.7, 6.3, 6.7, 7.2, 6.2, 6.1, 6.4, 7.2, 7.4, 7.9, 6.4, 6.3, 6.1, 7.7, 6.3, 6.4, 6.0, 6.9, 6.7, 6.9, 5.8, 6.8, 6.7, 6.7, 6.3, 6.5, 6.2, 5.9], \"type\": \"box\", \"uid\": \"681d4fb9-3957-11e9-8ae3-080027daca25\"}], {}, {\"showLink\": true, \"linkText\": \"Export to plot.ly\"})});</script>"
      ]
     },
     "metadata": {},
     "output_type": "display_data"
    }
   ],
   "source": [
    "data = []\n",
    "\n",
    "for tn in iris_df.target_name.unique():\n",
    "    \n",
    "    df = iris_df[iris_df.target_name == tn]\n",
    "    print('size of group {}: {}'.format(tn, df.shape[0]))\n",
    "    \n",
    "    data.append(  go.Box( x=df['sepal length (cm)'] , name=str(tn), showlegend=False ) )\n",
    "\n",
    "plotly.offline.iplot(data)"
   ]
  },
  {
   "cell_type": "code",
   "execution_count": 6,
   "metadata": {
    "ExecuteTime": {
     "end_time": "2019-02-25T23:45:22.680984Z",
     "start_time": "2019-02-25T23:45:21.456687Z"
    },
    "hidden": true
   },
   "outputs": [
    {
     "name": "stdout",
     "output_type": "stream",
     "text": [
      "\n",
      "\n"
     ]
    },
    {
     "data": {
      "image/png": "[encoded data removed]",
      "text/plain": [
       "<Figure size 720x288 with 1 Axes>"
      ]
     },
     "metadata": {},
     "output_type": "display_data"
    },
    {
     "data": {
      "image/png": "[encoded data removed]",
      "text/plain": [
       "<Figure size 720x288 with 1 Axes>"
      ]
     },
     "metadata": {},
     "output_type": "display_data"
    },
    {
     "data": {
      "image/png": "[encoded data removed]",
      "text/plain": [
       "<Figure size 720x576 with 4 Axes>"
      ]
     },
     "metadata": {},
     "output_type": "display_data"
    }
   ],
   "source": [
    "iris_df.boxplot(column=['sepal length (cm)', 'sepal width (cm)', 'petal length (cm)'],\n",
    "               figsize=(10,4));\n",
    "\n",
    "print()\n",
    "# The iris is not a good example for this visualization because the classes are balanced\n",
    "# This is better in ggplot n R\n",
    "dfg = iris_df.groupby('target_name')\n",
    "\n",
    "counts = [len(v) for k, v in dfg]\n",
    "total = float(sum(counts))\n",
    "cases = len(counts)\n",
    "\n",
    "widths = [c/total for c in counts] \n",
    "\n",
    "ax = iris_df.boxplot(by='target_name', \n",
    "                column=['sepal length (cm)'],\n",
    "                widths=widths,\n",
    "                   figsize=(10,4));\n",
    "\n",
    "ax.set_xticklabels(['%s\\n$n$=%d'%(k, len(v)) for k, v in dfg])\n",
    "\n",
    "print()\n",
    "ax = iris_df.boxplot(by='target_name', \n",
    "                column=['sepal length (cm)', 'sepal width (cm)', 'petal length (cm)'],\n",
    "               figsize=(10,8));"
   ]
  },
  {
   "cell_type": "markdown",
   "metadata": {
    "hidden": true
   },
   "source": [
    "### Histograms"
   ]
  },
  {
   "cell_type": "code",
   "execution_count": 7,
   "metadata": {
    "ExecuteTime": {
     "end_time": "2019-02-25T23:45:26.900414Z",
     "start_time": "2019-02-25T23:45:26.633300Z"
    },
    "hidden": true
   },
   "outputs": [
    {
     "data": {
      "application/vnd.plotly.v1+json": {
       "data": [
        {
         "nbinsx": 8,
         "type": "histogram",
         "uid": "6d2b7008-3957-11e9-8ae3-080027daca25",
         "x": [
          5.1,
          4.9,
          4.7,
          4.6,
          5,
          5.4,
          4.6,
          5,
          4.4,
          4.9,
          5.4,
          4.8,
          4.8,
          4.3,
          5.8,
          5.7,
          5.4,
          5.1,
          5.7,
          5.1,
          5.4,
          5.1,
          4.6,
          5.1,
          4.8,
          5,
          5,
          5.2,
          5.2,
          4.7,
          4.8,
          5.4,
          5.2,
          5.5,
          4.9,
          5,
          5.5,
          4.9,
          4.4,
          5.1,
          5,
          4.5,
          4.4,
          5,
          5.1,
          4.8,
          5.1,
          4.6,
          5.3,
          5,
          7,
          6.4,
          6.9,
          5.5,
          6.5,
          5.7,
          6.3,
          4.9,
          6.6,
          5.2,
          5,
          5.9,
          6,
          6.1,
          5.6,
          6.7,
          5.6,
          5.8,
          6.2,
          5.6,
          5.9,
          6.1,
          6.3,
          6.1,
          6.4,
          6.6,
          6.8,
          6.7,
          6,
          5.7,
          5.5,
          5.5,
          5.8,
          6,
          5.4,
          6,
          6.7,
          6.3,
          5.6,
          5.5,
          5.5,
          6.1,
          5.8,
          5,
          5.6,
          5.7,
          5.7,
          6.2,
          5.1,
          5.7,
          6.3,
          5.8,
          7.1,
          6.3,
          6.5,
          7.6,
          4.9,
          7.3,
          6.7,
          7.2,
          6.5,
          6.4,
          6.8,
          5.7,
          5.8,
          6.4,
          6.5,
          7.7,
          7.7,
          6,
          6.9,
          5.6,
          7.7,
          6.3,
          6.7,
          7.2,
          6.2,
          6.1,
          6.4,
          7.2,
          7.4,
          7.9,
          6.4,
          6.3,
          6.1,
          7.7,
          6.3,
          6.4,
          6,
          6.9,
          6.7,
          6.9,
          5.8,
          6.8,
          6.7,
          6.7,
          6.3,
          6.5,
          6.2,
          5.9
         ]
        }
       ],
       "layout": {}
      },
      "text/html": [
       "<div id=\"34a4a419-7de6-4914-a623-b7ac995b6f07\" style=\"height: 525px; width: 100%;\" class=\"plotly-graph-div\"></div><script type=\"text/javascript\">require([\"plotly\"], function(Plotly) { window.PLOTLYENV=window.PLOTLYENV || {};window.PLOTLYENV.BASE_URL=\"https://plot.ly\";Plotly.newPlot(\"34a4a419-7de6-4914-a623-b7ac995b6f07\", [{\"nbinsx\": 8, \"x\": [5.1, 4.9, 4.7, 4.6, 5.0, 5.4, 4.6, 5.0, 4.4, 4.9, 5.4, 4.8, 4.8, 4.3, 5.8, 5.7, 5.4, 5.1, 5.7, 5.1, 5.4, 5.1, 4.6, 5.1, 4.8, 5.0, 5.0, 5.2, 5.2, 4.7, 4.8, 5.4, 5.2, 5.5, 4.9, 5.0, 5.5, 4.9, 4.4, 5.1, 5.0, 4.5, 4.4, 5.0, 5.1, 4.8, 5.1, 4.6, 5.3, 5.0, 7.0, 6.4, 6.9, 5.5, 6.5, 5.7, 6.3, 4.9, 6.6, 5.2, 5.0, 5.9, 6.0, 6.1, 5.6, 6.7, 5.6, 5.8, 6.2, 5.6, 5.9, 6.1, 6.3, 6.1, 6.4, 6.6, 6.8, 6.7, 6.0, 5.7, 5.5, 5.5, 5.8, 6.0, 5.4, 6.0, 6.7, 6.3, 5.6, 5.5, 5.5, 6.1, 5.8, 5.0, 5.6, 5.7, 5.7, 6.2, 5.1, 5.7, 6.3, 5.8, 7.1, 6.3, 6.5, 7.6, 4.9, 7.3, 6.7, 7.2, 6.5, 6.4, 6.8, 5.7, 5.8, 6.4, 6.5, 7.7, 7.7, 6.0, 6.9, 5.6, 7.7, 6.3, 6.7, 7.2, 6.2, 6.1, 6.4, 7.2, 7.4, 7.9, 6.4, 6.3, 6.1, 7.7, 6.3, 6.4, 6.0, 6.9, 6.7, 6.9, 5.8, 6.8, 6.7, 6.7, 6.3, 6.5, 6.2, 5.9], \"type\": \"histogram\", \"uid\": \"6d2b7009-3957-11e9-8ae3-080027daca25\"}], {}, {\"showLink\": true, \"linkText\": \"Export to plot.ly\"})});</script>"
      ],
      "text/vnd.plotly.v1+html": [
       "<div id=\"34a4a419-7de6-4914-a623-b7ac995b6f07\" style=\"height: 525px; width: 100%;\" class=\"plotly-graph-div\"></div><script type=\"text/javascript\">require([\"plotly\"], function(Plotly) { window.PLOTLYENV=window.PLOTLYENV || {};window.PLOTLYENV.BASE_URL=\"https://plot.ly\";Plotly.newPlot(\"34a4a419-7de6-4914-a623-b7ac995b6f07\", [{\"nbinsx\": 8, \"x\": [5.1, 4.9, 4.7, 4.6, 5.0, 5.4, 4.6, 5.0, 4.4, 4.9, 5.4, 4.8, 4.8, 4.3, 5.8, 5.7, 5.4, 5.1, 5.7, 5.1, 5.4, 5.1, 4.6, 5.1, 4.8, 5.0, 5.0, 5.2, 5.2, 4.7, 4.8, 5.4, 5.2, 5.5, 4.9, 5.0, 5.5, 4.9, 4.4, 5.1, 5.0, 4.5, 4.4, 5.0, 5.1, 4.8, 5.1, 4.6, 5.3, 5.0, 7.0, 6.4, 6.9, 5.5, 6.5, 5.7, 6.3, 4.9, 6.6, 5.2, 5.0, 5.9, 6.0, 6.1, 5.6, 6.7, 5.6, 5.8, 6.2, 5.6, 5.9, 6.1, 6.3, 6.1, 6.4, 6.6, 6.8, 6.7, 6.0, 5.7, 5.5, 5.5, 5.8, 6.0, 5.4, 6.0, 6.7, 6.3, 5.6, 5.5, 5.5, 6.1, 5.8, 5.0, 5.6, 5.7, 5.7, 6.2, 5.1, 5.7, 6.3, 5.8, 7.1, 6.3, 6.5, 7.6, 4.9, 7.3, 6.7, 7.2, 6.5, 6.4, 6.8, 5.7, 5.8, 6.4, 6.5, 7.7, 7.7, 6.0, 6.9, 5.6, 7.7, 6.3, 6.7, 7.2, 6.2, 6.1, 6.4, 7.2, 7.4, 7.9, 6.4, 6.3, 6.1, 7.7, 6.3, 6.4, 6.0, 6.9, 6.7, 6.9, 5.8, 6.8, 6.7, 6.7, 6.3, 6.5, 6.2, 5.9], \"type\": \"histogram\", \"uid\": \"6d2b7009-3957-11e9-8ae3-080027daca25\"}], {}, {\"showLink\": true, \"linkText\": \"Export to plot.ly\"})});</script>"
      ]
     },
     "metadata": {},
     "output_type": "display_data"
    }
   ],
   "source": [
    "x = iris_df['sepal length (cm)']\n",
    "data = [ go.Histogram(x=x, nbinsx=8) ]\n",
    "\n",
    "# trace3 = go.Histogram(\n",
    "#     x=x,\n",
    "#     xbins=dict(\n",
    "#         start='1969-11-15',\n",
    "#         end='1972-03-31',\n",
    "#         size= 'M18'),\n",
    "#     autobinx = False\n",
    "# )\n",
    "\n",
    "plotly.offline.iplot(data)"
   ]
  },
  {
   "cell_type": "code",
   "execution_count": 8,
   "metadata": {
    "ExecuteTime": {
     "end_time": "2019-02-25T23:45:30.431968Z",
     "start_time": "2019-02-25T23:45:30.421984Z"
    },
    "hidden": true
   },
   "outputs": [
    {
     "data": {
      "text/plain": [
       "array([0.16666667, 0.42592593, 0.25925926, 0.5       , 0.2962963 ,\n",
       "       0.48148148, 0.33333333, 0.11111111, 0.09259259, 0.11111111])"
      ]
     },
     "execution_count": 8,
     "metadata": {},
     "output_type": "execute_result"
    },
    {
     "data": {
      "text/plain": [
       "array([4.3 , 4.66, 5.02, 5.38, 5.74, 6.1 , 6.46, 6.82, 7.18, 7.54, 7.9 ])"
      ]
     },
     "execution_count": 8,
     "metadata": {},
     "output_type": "execute_result"
    }
   ],
   "source": [
    "hist, bin_edges = np.histogram(iris_df['sepal length (cm)'], density=True)\n",
    "\n",
    "\n",
    "hist\n",
    "bin_edges"
   ]
  },
  {
   "cell_type": "code",
   "execution_count": 9,
   "metadata": {
    "ExecuteTime": {
     "end_time": "2019-02-25T23:45:34.746750Z",
     "start_time": "2019-02-25T23:45:34.605926Z"
    },
    "hidden": true
   },
   "outputs": [
    {
     "data": {
      "application/vnd.plotly.v1+json": {
       "data": [
        {
         "opacity": 0.75,
         "type": "histogram",
         "uid": "71d88ba6-3957-11e9-8ae3-080027daca25",
         "x": [
          -0.695386130527704,
          -0.2549275232044555,
          0.9757239331963491,
          -0.5446094602679131,
          0.13086705826368633,
          -0.28013068655360346,
          -0.09895425674944629,
          0.728287126797521,
          0.9874272749961541,
          -0.6708728022362168,
          -0.5581404958477804,
          -0.27746663451338793,
          -1.079335573470375,
          1.5046110832732356,
          0.15068477344199238,
          0.3929102609302357,
          -0.9227609539079674,
          0.94939386148756,
          1.1758344638393379,
          0.40755900051328514,
          -0.4571945173491019,
          0.22522410345811636,
          0.31387524091767677,
          -0.8249732984760033,
          1.063744952557693,
          -0.08371985528835256,
          -0.618976730112502,
          0.8402018702037637,
          1.873049642637753,
          0.08234430114995428,
          -0.020092736353683367,
          0.40843525029861005,
          -0.1772350152743163,
          0.8199538618871692,
          -1.8420657353329253,
          0.23390939613295875,
          -0.5982108840968874,
          0.7174490710783621,
          -0.19388209950524535,
          0.6807495997272374,
          -0.43411490798396246,
          0.03761852530920552,
          0.41971712777085995,
          0.6725739143065191,
          -0.9920373180177323,
          -1.948283899930615,
          -1.3824471510627865,
          0.48247819774365586,
          0.18170173938971465,
          0.3116266156026919,
          -0.34327506141687364,
          -0.1684831338592807,
          -0.6055859678031728,
          -0.3848934254217825,
          0.7692070846998041,
          1.7684026986493484,
          0.5688351389342376,
          0.4915134514921277,
          -0.03534991601108235,
          0.16024431901481578,
          1.8325918738983697,
          -0.7321677931674588,
          0.6813839131165554,
          -0.20470195053259374,
          -0.25632467853764745,
          0.2950857124910912,
          -1.422200214249028,
          -0.5908200046713894,
          -0.18325712859197454,
          -0.5357071398762631,
          -1.7317951616517608,
          0.08599475731716945,
          0.32604389615550383,
          0.21712138708140155,
          0.904586362094066,
          0.0004590186494888802,
          0.4092345218462116,
          -0.3220714354599827,
          0.052856885047667716,
          -0.4055123885382882,
          -0.770471030546946,
          -0.3600043760209097,
          0.3934553131691991,
          1.8820661971745885,
          -0.26986179907891544,
          1.6491231014071925,
          0.028541504210774626,
          -0.32546977958792733,
          -0.4864724168969307,
          -0.48356318449693786,
          1.0280746327484587,
          1.09601683731581,
          -0.8885278342930291,
          1.7146814098087295,
          1.897320753230588,
          0.31120758758730455,
          0.6225872874297439,
          -1.4423957242195276,
          -1.1014823297063174,
          1.7159599798507834,
          0.8530758672304513,
          0.3156882853839498,
          0.06414490491742077,
          0.30980544949708094,
          -0.33118767734669186,
          1.178673802521931,
          -0.19228667916961653,
          -0.34963090735963237,
          -0.3067545648549721,
          -0.44181983725710877,
          0.38756515368112643,
          0.40130108946749604,
          -0.5174814198728949,
          -0.9221473171703918,
          0.36251875546992535,
          -0.5957639231017348,
          0.49231922957016366,
          0.17512437514410428,
          1.0572421387213184,
          -0.3952788005546904,
          -0.9753769573405778,
          1.610774272038057,
          -0.15104126679341132,
          1.8984354394315746,
          -0.37469430794067415,
          1.0785520289130848,
          0.3328714287360226,
          0.006450045068375355,
          2.2057435557620084,
          -0.7308760254509958,
          -0.5809499708395985,
          1.8496635465113311,
          -0.0006289440168920955,
          2.1292654877698802,
          -0.0816225026784558,
          -0.49589187585533,
          0.4736595712310818,
          -0.9668700620269518,
          0.0010685199699228811,
          0.30727222320747727,
          -0.9790411930002051,
          -0.5086441013538036,
          0.9558483001678062,
          1.0035024236713799,
          0.873749054386647,
          -0.27720907658920335,
          0.6175736901310133,
          1.5041942098344465,
          0.1106945190624222,
          1.1133930230389077,
          0.04769622676259371,
          0.8154424051770006,
          0.07188503566603495,
          0.051621248863558684,
          -0.6602224091308708,
          0.9278840200667249,
          -0.19715451569351763,
          -0.589277447546863,
          0.08101373918970275,
          1.1190037491044857,
          -1.440982101492585,
          0.4009396890274601,
          0.9739702942301742,
          -0.9976837223028135,
          -0.4592645745563684,
          -1.8000917770497324,
          -0.5530031910923522,
          0.3922136307472619,
          1.1195063287491855,
          -2.6230347313372895,
          -0.4096419882812429,
          -0.8628214661959415,
          -0.2813242676788209,
          0.28323585945808066,
          1.2185745180204381,
          -2.3428420421357843,
          1.184663832752695,
          -0.4572452596703489,
          0.135771857355556,
          -0.564804065669843,
          1.8790846411959723,
          0.715759799037184,
          -1.0131867094679798,
          -0.2744594124846175,
          2.54886734794425,
          1.357890991338221,
          1.6509564761879372,
          -0.9983150560689042,
          -0.7424172178312032,
          -0.3602363507957421,
          -0.5828904660680477,
          -0.6215685310588167,
          -1.477052559681069,
          0.812059017839315,
          -0.41700170263258873,
          -0.26877548795130846,
          1.6360241725646463,
          -0.014240027794991023,
          0.42600683540314865,
          0.04784020528567586,
          0.670098457894214,
          -0.7703245687530628,
          -1.487344661122886,
          1.9478495580759725,
          1.4057635260082646,
          0.04747711406084877,
          1.7899109578177776,
          1.232078557232743,
          0.2550312021460059,
          1.3241076924751036,
          1.1441360729320056,
          -0.16307375638895233,
          0.8961196062747963,
          -1.6280111857166362,
          0.44191340694199627,
          -0.970336413319823,
          1.0840007736961046,
          -1.8317910796595556,
          -1.76460555369556,
          1.0910441194518028,
          1.9381068606120824,
          -0.25315291639870946,
          0.2385142201665347,
          -1.4016746498796975,
          1.175458628237868,
          1.919609126276153,
          1.5675080668405792,
          0.6755216441337093,
          0.20317523778255522,
          -1.6973683966212136,
          0.26458678017926746,
          -0.48263593680686284,
          1.7537228414889972,
          -1.040449222059955,
          0.6353461533112084,
          0.2833167883658786,
          -0.37223459770925427,
          0.3272239419582054,
          1.9660622027693384,
          0.2970597500177597,
          -0.49360279946676416,
          -2.112547650471852,
          -0.037895333108804115,
          -0.840643472120267,
          -0.31829254981037375,
          0.40639894410998556,
          -0.02116339131585719,
          -0.3914754453042211,
          1.0217329609104,
          0.19014115558514758,
          -0.767717621852702,
          -0.9876585691127796,
          0.17352403036504943,
          -0.09789731520732796,
          0.37227289870204205,
          0.31092164385949206,
          0.641242127049437,
          0.8273442906028701,
          0.856992560203665,
          -0.28597246823500383,
          0.8206694814940957,
          -0.13864880903349475,
          0.533578838193798,
          -0.09709952045906747,
          0.42364343369772983,
          -1.5151732789060364,
          0.689964914706096,
          0.14688072894841467,
          -0.004609968764397549,
          -0.16442600305921098,
          -0.536964661185714,
          -1.167224225590233,
          0.14543054990769647,
          0.9394655915376516,
          -1.6861101495545394,
          0.9885219509995367,
          -0.5431217091925453,
          -1.2869317218701386,
          0.2968063309920827,
          0.9577555606605798,
          0.6995304277533355,
          -1.0660369970807602,
          1.43753557208953,
          0.33863969578198444,
          -0.304108469061392,
          0.46601635810771486,
          1.729139353384869,
          -1.3740822552595293,
          0.6624670139782655,
          0.5410184901855903,
          0.6742893933613131,
          1.2991811544726783,
          -0.9172180517808703,
          0.341842615714299,
          -0.11169887003676632,
          -0.7895538418940602,
          0.44570604026490773,
          2.0259707181431454,
          1.2629448928220908,
          -0.8613637026341172,
          -1.4853695914144294,
          -1.2097007827707362,
          -0.04906883258542031,
          -1.092561214978353,
          -0.515242212072,
          -2.0220147741426477,
          -0.5177510732799376,
          0.16755125420468184,
          -0.4559678139826295,
          -0.7436078310647756,
          -0.23401116241789152,
          -0.44633318272151334,
          -0.17727054695298278,
          0.07760701596533781,
          -0.6806724826674598,
          0.4597109942164998,
          0.4465826673231265,
          -0.8247941488772271,
          -0.8856491555825509,
          -0.7186023399076678,
          -0.94640279338282,
          0.7370529955309937,
          0.9394306456850408,
          -2.395488928930964,
          -1.6189360523899903,
          -1.78077426467051,
          -0.2390361499496274,
          1.5715858064759156,
          3.397134695403061,
          -0.7601935914936304,
          -0.3383919233835353,
          0.191989868369994,
          1.0160069555766265,
          -0.3964818730940356,
          3.1141657934404408,
          1.774196038553807,
          0.816368868195841,
          -1.115352322760092,
          -0.0973511832124866,
          1.8218849497411116,
          0.03220116706675453,
          -1.4343153984441261,
          -1.2306860913836504,
          0.13524275381175688,
          -0.10883888600949533,
          -1.634697805850937,
          0.4072156171169224,
          -0.0057803811418684755,
          0.8794116410396825,
          -0.6806803695608016,
          0.18930740063103607,
          0.5314608430625004,
          -0.3081221815748004,
          -0.6731151504556786,
          -2.0971635219264417,
          1.8876046394689976,
          1.1102809873594541,
          -0.4669871092293899,
          1.0530633945034724,
          -0.07677366528276702,
          -0.3188944231928216,
          -1.2074228519462822,
          0.9363403102045214,
          -0.6108447056138844,
          0.6917439929938619,
          0.9678459562225744,
          0.3138357429623477,
          -1.077199131393589,
          -0.614278238037201,
          -0.9273541630999609,
          0.4775291950871454,
          0.13974639841919467,
          -0.5373528733001961,
          0.5599223302524088,
          0.11844090522092675,
          0.07073983140006462,
          -0.062241309091070764,
          0.8825980769012345,
          -0.5572533671924619,
          1.2681199631613058,
          -0.05689608161413374,
          0.02330718005003244,
          -0.10699377043326111,
          1.2695366097256136,
          0.819793389082851,
          0.38304862631013376,
          1.0728191585460314,
          -1.0655924552328202,
          0.1770279864748822,
          -0.32267307284606733,
          0.8643342437430306,
          -1.1571514180288132,
          -1.3043852512099812,
          0.512887439677329,
          0.07116674745063883,
          1.4110923429197355,
          1.1403069308938465,
          -1.0630144722959014,
          -0.24887790450436872,
          -1.1480407963759418,
          0.3175122505483102,
          -0.02676827081220196,
          -0.811675389636369,
          -0.649965940436166,
          0.9771862677620536,
          0.25120470619567464,
          -1.427920198915453,
          1.7297088568372665,
          0.23381297000317294,
          0.3834937224300476,
          1.1658008007078116,
          0.6864509433405478,
          1.7844666233110995,
          0.2209026090717218,
          0.37044891842125344,
          0.16264184717164856,
          0.716461206458533,
          0.4739974956626251,
          -0.6088351462633919,
          0.4906994113518158,
          0.39102584436336524,
          1.0095240100447793,
          -1.3841811675610085,
          -0.8507608674389278,
          -0.6377978855437586,
          -1.0352981425841024,
          1.788340728295934,
          -1.5264821979443213,
          -0.70021354080894,
          0.25123432538607837,
          -2.1996741282530206,
          0.8710024295648972,
          0.6222834998875229,
          0.10452710062687681,
          0.8053990730607853,
          0.5278888228314931,
          0.29875845809478135,
          -1.8308772523263352,
          1.4229351544347382,
          2.31772541288809,
          0.3880081492088789,
          -0.49490084580911575,
          -1.866669087173222,
          1.2214478004827543,
          0.2869424355092756,
          -0.6807012333088177,
          1.253728728052363,
          -0.5262968423209111,
          0.680678727960924,
          -0.07493278338530968,
          0.1311562047622897,
          0.909557412926352,
          0.028272391438831458,
          -0.5972153553456977,
          -1.9270036331653526,
          0.3703285293092776,
          -0.3358382099643665,
          1.0278158077427308,
          -1.2109226112463025,
          -1.0008698381434664,
          -0.45247392741145176,
          -1.5729856877903097,
          -1.7900207538964257,
          -0.21649383908326783,
          -0.5103735416020141,
          1.1358989979664125,
          2.1046775144593997,
          -0.2313273095728943,
          -0.2433213030600783,
          -1.4636632384107906,
          0.5854413815330219,
          0.0059255567698399654,
          0.255806212250945,
          1.0375353166684786,
          -1.3916484749519449,
          0.21007204139584806,
          -0.4162607566347398,
          0.326763653111473,
          0.22822566113930878,
          0.0196918696077844,
          -0.7073495190594333,
          -1.6442554119175588,
          -2.1670397816609985,
          -0.5394046099965512,
          -0.36597622447330236,
          -0.6512957066236231,
          -1.0954001759283487,
          -1.673163125443696,
          -0.023652236205625964,
          0.02076578853324739,
          -0.12648251008842998,
          -0.4558136756565612,
          1.5695133641261465,
          -0.09279656549334853,
          0.9847827762997983,
          0.15729117591222763,
          0.6520657210421967,
          -0.03952121054321116,
          0.9413582173854221,
          -0.3908952049971204
         ]
        },
        {
         "opacity": 0.75,
         "type": "histogram",
         "uid": "71d88ba7-3957-11e9-8ae3-080027daca25",
         "x": [
          0.903115444477272,
          1.1712314392608607,
          0.5933343160746886,
          3.302617571571859,
          0.904378641683533,
          1.6202037960130293,
          1.2305993997774676,
          2.4535739132171726,
          1.9012015984718666,
          2.745299362016265,
          3.430016894573199,
          2.684333489290242,
          1.930655846187687,
          2.4583151473921565,
          0.9678875582043838,
          2.3429143320904755,
          1.0636434489977713,
          0.9276186067970067,
          2.0942907683783267,
          2.475281204774305,
          2.986155943351177,
          -0.34557337405490207,
          1.6872361819619597,
          -0.6651815227613547,
          1.9576137917937413,
          -0.029396428518168927,
          2.6111710293922874,
          0.0912995516929127,
          0.9163720334457925,
          2.3807940222043564,
          2.105518849016686,
          0.9646634625205668,
          1.14391285581058,
          1.2866311984864507,
          0.3873048974537241,
          1.7110534844556284,
          1.1574222608974951,
          1.007070566448367,
          1.0575926182664426,
          0.9910368759363233,
          0.8446774766598358,
          1.2837797866205864,
          2.057989296601912,
          2.5843677877336932,
          1.0872335053760358,
          2.411546307166817,
          2.3685243275562624,
          0.18837314649370018,
          1.4260674941323306,
          0.8081954758765048,
          0.5584270054406334,
          2.626765829144089,
          -1.098556978089615,
          2.502764660018932,
          1.5516453051583698,
          1.332564520533059,
          3.0658943543836177,
          2.2639998779207944,
          -0.057149296487743806,
          1.312859575989127,
          0.831670726404288,
          0.48250655856450675,
          3.2176602446019196,
          1.8207750741761042,
          -0.5272311528120888,
          0.9082644716551928,
          1.61452321422651,
          0.6921503492354472,
          3.5570081929437087,
          1.0464763627309601,
          0.8540716213472597,
          3.4662943553587224,
          3.9549313997380025,
          1.3294474391524171,
          2.4913576662011407,
          -0.6947333453466347,
          2.0838116964672424,
          -1.0387247243207347,
          4.008446587624661,
          0.9861916301630661,
          1.0377288919211667,
          0.5435602971688447,
          2.0645947945261374,
          2.510007081080321,
          0.3850190904752804,
          0.5486773754703548,
          3.387699068987593,
          0.3452996674845912,
          2.064596916930719,
          0.804341469608687,
          1.742291519341465,
          0.169723168280413,
          0.3648787424129907,
          2.514365590239075,
          1.577598246326136,
          1.731104258024255,
          -0.6575445486637839,
          1.012654130638386,
          2.361555320397603,
          -0.016536666731391092,
          1.4711024002182167,
          2.4523783406943234,
          1.2396453883720153,
          0.09954124611242343,
          2.3623935647041208,
          2.7701395659277166,
          2.6019468970216413,
          2.2456559100141282,
          2.217545329582753,
          1.0419260420285463,
          1.6222568212119084,
          1.506336138298437,
          0.9648069217789823,
          1.8001096697933316,
          2.9204253854537248,
          1.9382932100533734,
          1.9807066618843028,
          0.9052342159599603,
          0.1476077416129593,
          1.4514216267401396,
          0.3852577922628584,
          1.8023443792964888,
          2.04791843050416,
          2.378722649676071,
          2.185289233708505,
          2.676333255373691,
          0.25653214014156145,
          2.8035143349616742,
          1.3349194986420794,
          1.541838498806712,
          1.79477070561998,
          2.2898248090379667,
          0.954412136549419,
          2.154383347723569,
          2.621711643412904,
          1.5285914548037884,
          1.217471919569181,
          0.8668707670930946,
          0.7025788983327106,
          1.5586942996991737,
          0.7728710196665403,
          0.4065021515950671,
          2.8583106439738666,
          3.362111441851413,
          0.9363362275088544,
          1.6617244492003174,
          0.8776471324595261,
          1.5848323270616258,
          1.406492065021671,
          1.6507978133739118,
          -0.0030415174924702804,
          0.47906905965596014,
          1.3584572002922302,
          2.205196908970843,
          2.3736983294433194,
          1.8615035774796762,
          1.55805621905167,
          2.2133655377183032,
          1.2118153134363636,
          1.3426568847984186,
          0.993133356887046,
          1.3176349641894893,
          1.0481433494220287,
          0.8125638488419183,
          -0.07627362882843336,
          1.3309462499299456,
          0.5891249908904329,
          0.09783992651284557,
          2.0165125968439632,
          0.7904884801364074,
          0.47725000977224297,
          1.4516779961986879,
          2.4651280281740418,
          0.4085342137960237,
          -0.6211826411609911,
          1.4250211998958897,
          1.9488796677843097,
          2.128115984866227,
          2.942668770626808,
          2.0502050450352183,
          -0.5492221560439448,
          0.6219241610813031,
          1.7210027515670578,
          2.849983679094215,
          3.1680861451727758,
          2.244726530792465,
          0.4098609975218259,
          0.035518400837842856,
          1.9137467678985596,
          2.116762822615695,
          1.857064762638494,
          2.4428407690116187,
          3.243626495423614,
          0.7694318818351408,
          2.774101316385484,
          -1.332152882498677,
          3.272877506347644,
          2.7490020196737186,
          2.7357173280463325,
          0.13140488762554448,
          0.6731877290392637,
          3.8084406726326447,
          4.030693132180483,
          2.2206815022950517,
          -0.14013057164085652,
          2.366420584326153,
          0.06410808400816559,
          1.643297017676503,
          -0.8804896827307744,
          1.0578917828184204,
          0.3282170595188625,
          1.24819371048052,
          2.637913900962345,
          0.689461406476075,
          2.312391271054992,
          3.0267238432483694,
          1.3394883913510724,
          1.1762689497565206,
          2.758422954624791,
          2.2667821445338934,
          1.0338955656638098,
          2.5006938358024504,
          2.3029104574272417,
          1.5711194300677878,
          1.4266727508991215,
          2.7126865708666,
          0.5597792853881604,
          2.2851793535376865,
          0.09117624516011325,
          0.11917698872877591,
          1.5915286265502133,
          2.9235723429558713,
          1.304414694815672,
          1.574992145043069,
          2.356599914374766,
          2.4376933123781077,
          1.509629727150574,
          1.6471132846097016,
          1.0891821246685138,
          1.8004408837143795,
          3.0896262395981426,
          0.7580377000741897,
          0.8160054719207929,
          2.4031633657633034,
          1.852950936259725,
          1.8050109287761522,
          1.738757544396679,
          1.494874341430209,
          2.3793680931990604,
          1.6444778222806606,
          0.5942126974430134,
          1.4551169296761826,
          1.9675613038321909,
          1.569456214735615,
          0.9864721794483535,
          0.43229081550395687,
          2.2226397081139346,
          1.4738213193677254,
          1.7563795004421838,
          0.8085476933846283,
          1.6183876429012616,
          2.7098781006891115,
          3.33577231134959,
          0.5132854532365776,
          0.6382989882942821,
          0.8384510015231581,
          2.5976916454337715,
          1.9079232392553511,
          1.593871391093283,
          0.8264616439665838,
          1.4623172271817892,
          1.7729329590704057,
          0.21789455831740945,
          -1.4806652003866523,
          1.5413400756748337,
          0.81507620538315,
          0.5798074266661488,
          1.2371014107789704,
          2.5602617988961622,
          0.6310529414721952,
          2.974803093095719,
          1.2036074220478914,
          3.1701375530190163,
          1.4922263002132583,
          1.277528005472817,
          0.7291263669880199,
          2.383168019086609,
          1.4998927467102965,
          0.3002533741363931,
          2.2969284272871766,
          -0.2492506879344465,
          1.8357909693463361,
          0.7517619721337403,
          2.7792581246352235,
          0.4574129959913289,
          2.6665186205083073,
          1.284124409420264,
          1.2875886256910252,
          1.3771658822257389,
          1.1223348397441264,
          1.3104417000240722,
          2.231311182506479,
          0.36629285830491964,
          0.8979469422965746,
          0.7802544793943301,
          1.9009532384515375,
          2.2384576638602005,
          0.6634503874937867,
          1.9513953243867461,
          1.4244753191763915,
          2.255295989002774,
          1.803580202387331,
          1.1778290405644118,
          2.2384968574190065,
          2.3254268214765856,
          1.7258246933325612,
          0.4649403451063514,
          2.3047175273716283,
          2.3926410177432125,
          3.2213813591295004,
          0.423058969705959,
          -0.24165696901466505,
          1.987492585470908,
          3.457575800635875,
          0.38410129670227033,
          2.6764966572509206,
          1.3115915864761938,
          1.7754607593517975,
          0.2053221868831563,
          2.0374091244780086,
          1.8361247281057382,
          1.695074156886261,
          1.320542176227256,
          2.1789959270239123,
          3.5527642332709255,
          2.571240440818876,
          2.0226419580862394,
          0.9833352576323688,
          1.062338126331523,
          1.1806340898500443,
          1.1762808921519965,
          1.3399410385760304,
          0.19617631720241535,
          0.922124300935798,
          2.2413297517410213,
          0.020773767284733236,
          0.8981317488594996,
          0.2806333832169443,
          0.6782864873414806,
          0.36309931597064926,
          0.9908307070835481,
          -0.43652167370188466,
          0.49974356730348224,
          0.18851574333077603,
          0.02345326852634355,
          0.12516557719043475,
          0.03143401080048136,
          1.2045386075047726,
          1.8232860059172884,
          2.7622868473676188,
          -0.23072746669446875,
          0.9504035571394664,
          0.5807833660437639,
          1.2994070280689765,
          1.626993796669138,
          1.3083991399043,
          1.7563522417769637,
          0.603658026484569,
          1.9471521960323952,
          0.5850055158824542,
          0.8539111802256933,
          2.5637864392961305,
          -0.48212692463134044,
          2.1213794301648625,
          1.0725447082181876,
          1.449731311537076,
          1.4543413702001013,
          2.2970682137229135,
          0.9501758609460096,
          1.6717202626227676,
          1.7671298817981147,
          1.4608185722834648,
          1.3610261681274658,
          1.7675470865139316,
          0.6849767633510161,
          2.2578910504810352,
          1.9251981728436376,
          1.4649980229162785,
          2.3255307317844043,
          0.6578702487002429,
          1.283659408582027,
          1.4197460275674663,
          1.5662120407012692,
          1.374856229148543,
          0.890463328743864,
          1.1081888879624993,
          1.5741728697468378,
          3.557696769497799,
          1.2302236455591895,
          0.7109285349584139,
          2.3845867697909924,
          -0.366271771123607,
          2.1718302911571197,
          2.3048274750588265,
          1.6214226469516984,
          1.642517075265383,
          1.9966082203963706,
          1.2977840283779705,
          2.6595950146114014,
          1.3756606011355006,
          2.3397392675244366,
          -0.2088017354133378,
          2.872991674718205,
          1.541019374323962,
          2.9623523355995216,
          1.496007226834463,
          2.8213047287668163,
          1.5635077702996354,
          2.3870660864444924,
          -0.6728726215838532,
          0.6622575843960058,
          1.138090906799907,
          1.933594297407191,
          2.3990119315819722,
          1.565059625736139,
          1.777664147230472,
          1.7032632512495995,
          0.38087493664268046,
          0.002908785921891699,
          2.4953175568507913,
          0.46019423200927956,
          0.5369608026958467,
          0.759136353596802,
          1.7243506421872805,
          0.796261291241777,
          0.9047411646333451,
          0.3340861094233707,
          1.1902857669529225,
          1.3707996187866383,
          1.7512161185713697,
          3.194447769636822,
          0.7361773913904975,
          1.7616421892959317,
          2.0615328402578874,
          1.6562157167661768,
          0.8486898468364222,
          0.5600974165262791,
          2.4420205441371357,
          2.466291207302538,
          2.768938385652213,
          0.7933333885947469,
          1.984792804479485,
          1.6429909963902856,
          1.8147427722343836,
          2.526628936354439,
          1.2835824139037797,
          0.024046253331774903,
          0.8593787457460366,
          1.3506143014030854,
          2.811858462978136,
          0.9756088751390762,
          2.325688381146573,
          2.431777999705866,
          2.2540716662433784,
          1.4451787809710426,
          2.1641473919558925,
          0.7412865307854892,
          0.04918432929795391,
          -0.04192248387890318,
          2.2671211632531665,
          0.5496402155999641,
          0.787066587733972,
          2.0248393489850387,
          3.0849992499013,
          0.5487528036473185,
          1.3799640542473461,
          3.0858971326661866,
          1.9020413190968894,
          1.3200639801816618,
          0.3561822302425979,
          0.4449920293214411,
          2.3793379146227305,
          2.350454832634119,
          2.0452970633360716,
          -0.4983267273008094,
          1.5598315852041909,
          1.7109615937698006,
          1.2579720814871473,
          2.2439036705490225,
          -1.6979932574107734,
          2.9625253393287503,
          0.9748823321691162,
          3.312200217199849,
          1.2645597984020107,
          2.1910501864048904,
          2.6611032139027673,
          2.196741479893303,
          3.3417268740060484,
          1.0435278710074738,
          -0.07213730038926758
         ]
        }
       ],
       "layout": {}
      },
      "text/html": [
       "<div id=\"887fe51c-4f8b-4631-997d-79b09fde4d24\" style=\"height: 525px; width: 100%;\" class=\"plotly-graph-div\"></div><script type=\"text/javascript\">require([\"plotly\"], function(Plotly) { window.PLOTLYENV=window.PLOTLYENV || {};window.PLOTLYENV.BASE_URL=\"https://plot.ly\";Plotly.newPlot(\"887fe51c-4f8b-4631-997d-79b09fde4d24\", [{\"opacity\": 0.75, \"x\": [-0.695386130527704, -0.2549275232044555, 0.9757239331963491, -0.5446094602679131, 0.13086705826368633, -0.28013068655360346, -0.09895425674944629, 0.728287126797521, 0.9874272749961541, -0.6708728022362168, -0.5581404958477804, -0.27746663451338793, -1.079335573470375, 1.5046110832732356, 0.15068477344199238, 0.3929102609302357, -0.9227609539079674, 0.94939386148756, 1.1758344638393379, 0.40755900051328514, -0.4571945173491019, 0.22522410345811636, 0.31387524091767677, -0.8249732984760033, 1.063744952557693, -0.08371985528835256, -0.618976730112502, 0.8402018702037637, 1.873049642637753, 0.08234430114995428, -0.020092736353683367, 0.40843525029861005, -0.1772350152743163, 0.8199538618871692, -1.8420657353329253, 0.23390939613295875, -0.5982108840968874, 0.7174490710783621, -0.19388209950524535, 0.6807495997272374, -0.43411490798396246, 0.03761852530920552, 0.41971712777085995, 0.6725739143065191, -0.9920373180177323, -1.948283899930615, -1.3824471510627865, 0.48247819774365586, 0.18170173938971465, 0.3116266156026919, -0.34327506141687364, -0.1684831338592807, -0.6055859678031728, -0.3848934254217825, 0.7692070846998041, 1.7684026986493484, 0.5688351389342376, 0.4915134514921277, -0.03534991601108235, 0.16024431901481578, 1.8325918738983697, -0.7321677931674588, 0.6813839131165554, -0.20470195053259374, -0.25632467853764745, 0.2950857124910912, -1.422200214249028, -0.5908200046713894, -0.18325712859197454, -0.5357071398762631, -1.7317951616517608, 0.08599475731716945, 0.32604389615550383, 0.21712138708140155, 0.904586362094066, 0.0004590186494888802, 0.4092345218462116, -0.3220714354599827, 0.052856885047667716, -0.4055123885382882, -0.770471030546946, -0.3600043760209097, 0.3934553131691991, 1.8820661971745885, -0.26986179907891544, 1.6491231014071925, 0.028541504210774626, -0.32546977958792733, -0.4864724168969307, -0.48356318449693786, 1.0280746327484587, 1.09601683731581, -0.8885278342930291, 1.7146814098087295, 1.897320753230588, 0.31120758758730455, 0.6225872874297439, -1.4423957242195276, -1.1014823297063174, 1.7159599798507834, 0.8530758672304513, 0.3156882853839498, 0.06414490491742077, 0.30980544949708094, -0.33118767734669186, 1.178673802521931, -0.19228667916961653, -0.34963090735963237, -0.3067545648549721, -0.44181983725710877, 0.38756515368112643, 0.40130108946749604, -0.5174814198728949, -0.9221473171703918, 0.36251875546992535, -0.5957639231017348, 0.49231922957016366, 0.17512437514410428, 1.0572421387213184, -0.3952788005546904, -0.9753769573405778, 1.610774272038057, -0.15104126679341132, 1.8984354394315746, -0.37469430794067415, 1.0785520289130848, 0.3328714287360226, 0.006450045068375355, 2.2057435557620084, -0.7308760254509958, -0.5809499708395985, 1.8496635465113311, -0.0006289440168920955, 2.1292654877698802, -0.0816225026784558, -0.49589187585533, 0.4736595712310818, -0.9668700620269518, 0.0010685199699228811, 0.30727222320747727, -0.9790411930002051, -0.5086441013538036, 0.9558483001678062, 1.0035024236713799, 0.873749054386647, -0.27720907658920335, 0.6175736901310133, 1.5041942098344465, 0.1106945190624222, 1.1133930230389077, 0.04769622676259371, 0.8154424051770006, 0.07188503566603495, 0.051621248863558684, -0.6602224091308708, 0.9278840200667249, -0.19715451569351763, -0.589277447546863, 0.08101373918970275, 1.1190037491044857, -1.440982101492585, 0.4009396890274601, 0.9739702942301742, -0.9976837223028135, -0.4592645745563684, -1.8000917770497324, -0.5530031910923522, 0.3922136307472619, 1.1195063287491855, -2.6230347313372895, -0.4096419882812429, -0.8628214661959415, -0.2813242676788209, 0.28323585945808066, 1.2185745180204381, -2.3428420421357843, 1.184663832752695, -0.4572452596703489, 0.135771857355556, -0.564804065669843, 1.8790846411959723, 0.715759799037184, -1.0131867094679798, -0.2744594124846175, 2.54886734794425, 1.357890991338221, 1.6509564761879372, -0.9983150560689042, -0.7424172178312032, -0.3602363507957421, -0.5828904660680477, -0.6215685310588167, -1.477052559681069, 0.812059017839315, -0.41700170263258873, -0.26877548795130846, 1.6360241725646463, -0.014240027794991023, 0.42600683540314865, 0.04784020528567586, 0.670098457894214, -0.7703245687530628, -1.487344661122886, 1.9478495580759725, 1.4057635260082646, 0.04747711406084877, 1.7899109578177776, 1.232078557232743, 0.2550312021460059, 1.3241076924751036, 1.1441360729320056, -0.16307375638895233, 0.8961196062747963, -1.6280111857166362, 0.44191340694199627, -0.970336413319823, 1.0840007736961046, -1.8317910796595556, -1.76460555369556, 1.0910441194518028, 1.9381068606120824, -0.25315291639870946, 0.2385142201665347, -1.4016746498796975, 1.175458628237868, 1.919609126276153, 1.5675080668405792, 0.6755216441337093, 0.20317523778255522, -1.6973683966212136, 0.26458678017926746, -0.48263593680686284, 1.7537228414889972, -1.040449222059955, 0.6353461533112084, 0.2833167883658786, -0.37223459770925427, 0.3272239419582054, 1.9660622027693384, 0.2970597500177597, -0.49360279946676416, -2.112547650471852, -0.037895333108804115, -0.840643472120267, -0.31829254981037375, 0.40639894410998556, -0.02116339131585719, -0.3914754453042211, 1.0217329609104, 0.19014115558514758, -0.767717621852702, -0.9876585691127796, 0.17352403036504943, -0.09789731520732796, 0.37227289870204205, 0.31092164385949206, 0.641242127049437, 0.8273442906028701, 0.856992560203665, -0.28597246823500383, 0.8206694814940957, -0.13864880903349475, 0.533578838193798, -0.09709952045906747, 0.42364343369772983, -1.5151732789060364, 0.689964914706096, 0.14688072894841467, -0.004609968764397549, -0.16442600305921098, -0.536964661185714, -1.167224225590233, 0.14543054990769647, 0.9394655915376516, -1.6861101495545394, 0.9885219509995367, -0.5431217091925453, -1.2869317218701386, 0.2968063309920827, 0.9577555606605798, 0.6995304277533355, -1.0660369970807602, 1.43753557208953, 0.33863969578198444, -0.304108469061392, 0.46601635810771486, 1.729139353384869, -1.3740822552595293, 0.6624670139782655, 0.5410184901855903, 0.6742893933613131, 1.2991811544726783, -0.9172180517808703, 0.341842615714299, -0.11169887003676632, -0.7895538418940602, 0.44570604026490773, 2.0259707181431454, 1.2629448928220908, -0.8613637026341172, -1.4853695914144294, -1.2097007827707362, -0.04906883258542031, -1.092561214978353, -0.515242212072, -2.0220147741426477, -0.5177510732799376, 0.16755125420468184, -0.4559678139826295, -0.7436078310647756, -0.23401116241789152, -0.44633318272151334, -0.17727054695298278, 0.07760701596533781, -0.6806724826674598, 0.4597109942164998, 0.4465826673231265, -0.8247941488772271, -0.8856491555825509, -0.7186023399076678, -0.94640279338282, 0.7370529955309937, 0.9394306456850408, -2.395488928930964, -1.6189360523899903, -1.78077426467051, -0.2390361499496274, 1.5715858064759156, 3.397134695403061, -0.7601935914936304, -0.3383919233835353, 0.191989868369994, 1.0160069555766265, -0.3964818730940356, 3.1141657934404408, 1.774196038553807, 0.816368868195841, -1.115352322760092, -0.0973511832124866, 1.8218849497411116, 0.03220116706675453, -1.4343153984441261, -1.2306860913836504, 0.13524275381175688, -0.10883888600949533, -1.634697805850937, 0.4072156171169224, -0.0057803811418684755, 0.8794116410396825, -0.6806803695608016, 0.18930740063103607, 0.5314608430625004, -0.3081221815748004, -0.6731151504556786, -2.0971635219264417, 1.8876046394689976, 1.1102809873594541, -0.4669871092293899, 1.0530633945034724, -0.07677366528276702, -0.3188944231928216, -1.2074228519462822, 0.9363403102045214, -0.6108447056138844, 0.6917439929938619, 0.9678459562225744, 0.3138357429623477, -1.077199131393589, -0.614278238037201, -0.9273541630999609, 0.4775291950871454, 0.13974639841919467, -0.5373528733001961, 0.5599223302524088, 0.11844090522092675, 0.07073983140006462, -0.062241309091070764, 0.8825980769012345, -0.5572533671924619, 1.2681199631613058, -0.05689608161413374, 0.02330718005003244, -0.10699377043326111, 1.2695366097256136, 0.819793389082851, 0.38304862631013376, 1.0728191585460314, -1.0655924552328202, 0.1770279864748822, -0.32267307284606733, 0.8643342437430306, -1.1571514180288132, -1.3043852512099812, 0.512887439677329, 0.07116674745063883, 1.4110923429197355, 1.1403069308938465, -1.0630144722959014, -0.24887790450436872, -1.1480407963759418, 0.3175122505483102, -0.02676827081220196, -0.811675389636369, -0.649965940436166, 0.9771862677620536, 0.25120470619567464, -1.427920198915453, 1.7297088568372665, 0.23381297000317294, 0.3834937224300476, 1.1658008007078116, 0.6864509433405478, 1.7844666233110995, 0.2209026090717218, 0.37044891842125344, 0.16264184717164856, 0.716461206458533, 0.4739974956626251, -0.6088351462633919, 0.4906994113518158, 0.39102584436336524, 1.0095240100447793, -1.3841811675610085, -0.8507608674389278, -0.6377978855437586, -1.0352981425841024, 1.788340728295934, -1.5264821979443213, -0.70021354080894, 0.25123432538607837, -2.1996741282530206, 0.8710024295648972, 0.6222834998875229, 0.10452710062687681, 0.8053990730607853, 0.5278888228314931, 0.29875845809478135, -1.8308772523263352, 1.4229351544347382, 2.31772541288809, 0.3880081492088789, -0.49490084580911575, -1.866669087173222, 1.2214478004827543, 0.2869424355092756, -0.6807012333088177, 1.253728728052363, -0.5262968423209111, 0.680678727960924, -0.07493278338530968, 0.1311562047622897, 0.909557412926352, 0.028272391438831458, -0.5972153553456977, -1.9270036331653526, 0.3703285293092776, -0.3358382099643665, 1.0278158077427308, -1.2109226112463025, -1.0008698381434664, -0.45247392741145176, -1.5729856877903097, -1.7900207538964257, -0.21649383908326783, -0.5103735416020141, 1.1358989979664125, 2.1046775144593997, -0.2313273095728943, -0.2433213030600783, -1.4636632384107906, 0.5854413815330219, 0.0059255567698399654, 0.255806212250945, 1.0375353166684786, -1.3916484749519449, 0.21007204139584806, -0.4162607566347398, 0.326763653111473, 0.22822566113930878, 0.0196918696077844, -0.7073495190594333, -1.6442554119175588, -2.1670397816609985, -0.5394046099965512, -0.36597622447330236, -0.6512957066236231, -1.0954001759283487, -1.673163125443696, -0.023652236205625964, 0.02076578853324739, -0.12648251008842998, -0.4558136756565612, 1.5695133641261465, -0.09279656549334853, 0.9847827762997983, 0.15729117591222763, 0.6520657210421967, -0.03952121054321116, 0.9413582173854221, -0.3908952049971204], \"type\": \"histogram\", \"uid\": \"71d88ba8-3957-11e9-8ae3-080027daca25\"}, {\"opacity\": 0.75, \"x\": [0.903115444477272, 1.1712314392608607, 0.5933343160746886, 3.302617571571859, 0.904378641683533, 1.6202037960130293, 1.2305993997774676, 2.4535739132171726, 1.9012015984718666, 2.745299362016265, 3.430016894573199, 2.684333489290242, 1.930655846187687, 2.4583151473921565, 0.9678875582043838, 2.3429143320904755, 1.0636434489977713, 0.9276186067970067, 2.0942907683783267, 2.475281204774305, 2.986155943351177, -0.34557337405490207, 1.6872361819619597, -0.6651815227613547, 1.9576137917937413, -0.029396428518168927, 2.6111710293922874, 0.0912995516929127, 0.9163720334457925, 2.3807940222043564, 2.105518849016686, 0.9646634625205668, 1.14391285581058, 1.2866311984864507, 0.3873048974537241, 1.7110534844556284, 1.1574222608974951, 1.007070566448367, 1.0575926182664426, 0.9910368759363233, 0.8446774766598358, 1.2837797866205864, 2.057989296601912, 2.5843677877336932, 1.0872335053760358, 2.411546307166817, 2.3685243275562624, 0.18837314649370018, 1.4260674941323306, 0.8081954758765048, 0.5584270054406334, 2.626765829144089, -1.098556978089615, 2.502764660018932, 1.5516453051583698, 1.332564520533059, 3.0658943543836177, 2.2639998779207944, -0.057149296487743806, 1.312859575989127, 0.831670726404288, 0.48250655856450675, 3.2176602446019196, 1.8207750741761042, -0.5272311528120888, 0.9082644716551928, 1.61452321422651, 0.6921503492354472, 3.5570081929437087, 1.0464763627309601, 0.8540716213472597, 3.4662943553587224, 3.9549313997380025, 1.3294474391524171, 2.4913576662011407, -0.6947333453466347, 2.0838116964672424, -1.0387247243207347, 4.008446587624661, 0.9861916301630661, 1.0377288919211667, 0.5435602971688447, 2.0645947945261374, 2.510007081080321, 0.3850190904752804, 0.5486773754703548, 3.387699068987593, 0.3452996674845912, 2.064596916930719, 0.804341469608687, 1.742291519341465, 0.169723168280413, 0.3648787424129907, 2.514365590239075, 1.577598246326136, 1.731104258024255, -0.6575445486637839, 1.012654130638386, 2.361555320397603, -0.016536666731391092, 1.4711024002182167, 2.4523783406943234, 1.2396453883720153, 0.09954124611242343, 2.3623935647041208, 2.7701395659277166, 2.6019468970216413, 2.2456559100141282, 2.217545329582753, 1.0419260420285463, 1.6222568212119084, 1.506336138298437, 0.9648069217789823, 1.8001096697933316, 2.9204253854537248, 1.9382932100533734, 1.9807066618843028, 0.9052342159599603, 0.1476077416129593, 1.4514216267401396, 0.3852577922628584, 1.8023443792964888, 2.04791843050416, 2.378722649676071, 2.185289233708505, 2.676333255373691, 0.25653214014156145, 2.8035143349616742, 1.3349194986420794, 1.541838498806712, 1.79477070561998, 2.2898248090379667, 0.954412136549419, 2.154383347723569, 2.621711643412904, 1.5285914548037884, 1.217471919569181, 0.8668707670930946, 0.7025788983327106, 1.5586942996991737, 0.7728710196665403, 0.4065021515950671, 2.8583106439738666, 3.362111441851413, 0.9363362275088544, 1.6617244492003174, 0.8776471324595261, 1.5848323270616258, 1.406492065021671, 1.6507978133739118, -0.0030415174924702804, 0.47906905965596014, 1.3584572002922302, 2.205196908970843, 2.3736983294433194, 1.8615035774796762, 1.55805621905167, 2.2133655377183032, 1.2118153134363636, 1.3426568847984186, 0.993133356887046, 1.3176349641894893, 1.0481433494220287, 0.8125638488419183, -0.07627362882843336, 1.3309462499299456, 0.5891249908904329, 0.09783992651284557, 2.0165125968439632, 0.7904884801364074, 0.47725000977224297, 1.4516779961986879, 2.4651280281740418, 0.4085342137960237, -0.6211826411609911, 1.4250211998958897, 1.9488796677843097, 2.128115984866227, 2.942668770626808, 2.0502050450352183, -0.5492221560439448, 0.6219241610813031, 1.7210027515670578, 2.849983679094215, 3.1680861451727758, 2.244726530792465, 0.4098609975218259, 0.035518400837842856, 1.9137467678985596, 2.116762822615695, 1.857064762638494, 2.4428407690116187, 3.243626495423614, 0.7694318818351408, 2.774101316385484, -1.332152882498677, 3.272877506347644, 2.7490020196737186, 2.7357173280463325, 0.13140488762554448, 0.6731877290392637, 3.8084406726326447, 4.030693132180483, 2.2206815022950517, -0.14013057164085652, 2.366420584326153, 0.06410808400816559, 1.643297017676503, -0.8804896827307744, 1.0578917828184204, 0.3282170595188625, 1.24819371048052, 2.637913900962345, 0.689461406476075, 2.312391271054992, 3.0267238432483694, 1.3394883913510724, 1.1762689497565206, 2.758422954624791, 2.2667821445338934, 1.0338955656638098, 2.5006938358024504, 2.3029104574272417, 1.5711194300677878, 1.4266727508991215, 2.7126865708666, 0.5597792853881604, 2.2851793535376865, 0.09117624516011325, 0.11917698872877591, 1.5915286265502133, 2.9235723429558713, 1.304414694815672, 1.574992145043069, 2.356599914374766, 2.4376933123781077, 1.509629727150574, 1.6471132846097016, 1.0891821246685138, 1.8004408837143795, 3.0896262395981426, 0.7580377000741897, 0.8160054719207929, 2.4031633657633034, 1.852950936259725, 1.8050109287761522, 1.738757544396679, 1.494874341430209, 2.3793680931990604, 1.6444778222806606, 0.5942126974430134, 1.4551169296761826, 1.9675613038321909, 1.569456214735615, 0.9864721794483535, 0.43229081550395687, 2.2226397081139346, 1.4738213193677254, 1.7563795004421838, 0.8085476933846283, 1.6183876429012616, 2.7098781006891115, 3.33577231134959, 0.5132854532365776, 0.6382989882942821, 0.8384510015231581, 2.5976916454337715, 1.9079232392553511, 1.593871391093283, 0.8264616439665838, 1.4623172271817892, 1.7729329590704057, 0.21789455831740945, -1.4806652003866523, 1.5413400756748337, 0.81507620538315, 0.5798074266661488, 1.2371014107789704, 2.5602617988961622, 0.6310529414721952, 2.974803093095719, 1.2036074220478914, 3.1701375530190163, 1.4922263002132583, 1.277528005472817, 0.7291263669880199, 2.383168019086609, 1.4998927467102965, 0.3002533741363931, 2.2969284272871766, -0.2492506879344465, 1.8357909693463361, 0.7517619721337403, 2.7792581246352235, 0.4574129959913289, 2.6665186205083073, 1.284124409420264, 1.2875886256910252, 1.3771658822257389, 1.1223348397441264, 1.3104417000240722, 2.231311182506479, 0.36629285830491964, 0.8979469422965746, 0.7802544793943301, 1.9009532384515375, 2.2384576638602005, 0.6634503874937867, 1.9513953243867461, 1.4244753191763915, 2.255295989002774, 1.803580202387331, 1.1778290405644118, 2.2384968574190065, 2.3254268214765856, 1.7258246933325612, 0.4649403451063514, 2.3047175273716283, 2.3926410177432125, 3.2213813591295004, 0.423058969705959, -0.24165696901466505, 1.987492585470908, 3.457575800635875, 0.38410129670227033, 2.6764966572509206, 1.3115915864761938, 1.7754607593517975, 0.2053221868831563, 2.0374091244780086, 1.8361247281057382, 1.695074156886261, 1.320542176227256, 2.1789959270239123, 3.5527642332709255, 2.571240440818876, 2.0226419580862394, 0.9833352576323688, 1.062338126331523, 1.1806340898500443, 1.1762808921519965, 1.3399410385760304, 0.19617631720241535, 0.922124300935798, 2.2413297517410213, 0.020773767284733236, 0.8981317488594996, 0.2806333832169443, 0.6782864873414806, 0.36309931597064926, 0.9908307070835481, -0.43652167370188466, 0.49974356730348224, 0.18851574333077603, 0.02345326852634355, 0.12516557719043475, 0.03143401080048136, 1.2045386075047726, 1.8232860059172884, 2.7622868473676188, -0.23072746669446875, 0.9504035571394664, 0.5807833660437639, 1.2994070280689765, 1.626993796669138, 1.3083991399043, 1.7563522417769637, 0.603658026484569, 1.9471521960323952, 0.5850055158824542, 0.8539111802256933, 2.5637864392961305, -0.48212692463134044, 2.1213794301648625, 1.0725447082181876, 1.449731311537076, 1.4543413702001013, 2.2970682137229135, 0.9501758609460096, 1.6717202626227676, 1.7671298817981147, 1.4608185722834648, 1.3610261681274658, 1.7675470865139316, 0.6849767633510161, 2.2578910504810352, 1.9251981728436376, 1.4649980229162785, 2.3255307317844043, 0.6578702487002429, 1.283659408582027, 1.4197460275674663, 1.5662120407012692, 1.374856229148543, 0.890463328743864, 1.1081888879624993, 1.5741728697468378, 3.557696769497799, 1.2302236455591895, 0.7109285349584139, 2.3845867697909924, -0.366271771123607, 2.1718302911571197, 2.3048274750588265, 1.6214226469516984, 1.642517075265383, 1.9966082203963706, 1.2977840283779705, 2.6595950146114014, 1.3756606011355006, 2.3397392675244366, -0.2088017354133378, 2.872991674718205, 1.541019374323962, 2.9623523355995216, 1.496007226834463, 2.8213047287668163, 1.5635077702996354, 2.3870660864444924, -0.6728726215838532, 0.6622575843960058, 1.138090906799907, 1.933594297407191, 2.3990119315819722, 1.565059625736139, 1.777664147230472, 1.7032632512495995, 0.38087493664268046, 0.002908785921891699, 2.4953175568507913, 0.46019423200927956, 0.5369608026958467, 0.759136353596802, 1.7243506421872805, 0.796261291241777, 0.9047411646333451, 0.3340861094233707, 1.1902857669529225, 1.3707996187866383, 1.7512161185713697, 3.194447769636822, 0.7361773913904975, 1.7616421892959317, 2.0615328402578874, 1.6562157167661768, 0.8486898468364222, 0.5600974165262791, 2.4420205441371357, 2.466291207302538, 2.768938385652213, 0.7933333885947469, 1.984792804479485, 1.6429909963902856, 1.8147427722343836, 2.526628936354439, 1.2835824139037797, 0.024046253331774903, 0.8593787457460366, 1.3506143014030854, 2.811858462978136, 0.9756088751390762, 2.325688381146573, 2.431777999705866, 2.2540716662433784, 1.4451787809710426, 2.1641473919558925, 0.7412865307854892, 0.04918432929795391, -0.04192248387890318, 2.2671211632531665, 0.5496402155999641, 0.787066587733972, 2.0248393489850387, 3.0849992499013, 0.5487528036473185, 1.3799640542473461, 3.0858971326661866, 1.9020413190968894, 1.3200639801816618, 0.3561822302425979, 0.4449920293214411, 2.3793379146227305, 2.350454832634119, 2.0452970633360716, -0.4983267273008094, 1.5598315852041909, 1.7109615937698006, 1.2579720814871473, 2.2439036705490225, -1.6979932574107734, 2.9625253393287503, 0.9748823321691162, 3.312200217199849, 1.2645597984020107, 2.1910501864048904, 2.6611032139027673, 2.196741479893303, 3.3417268740060484, 1.0435278710074738, -0.07213730038926758], \"type\": \"histogram\", \"uid\": \"71d88ba9-3957-11e9-8ae3-080027daca25\"}], {}, {\"showLink\": true, \"linkText\": \"Export to plot.ly\"})});</script>"
      ],
      "text/vnd.plotly.v1+html": [
       "<div id=\"887fe51c-4f8b-4631-997d-79b09fde4d24\" style=\"height: 525px; width: 100%;\" class=\"plotly-graph-div\"></div><script type=\"text/javascript\">require([\"plotly\"], function(Plotly) { window.PLOTLYENV=window.PLOTLYENV || {};window.PLOTLYENV.BASE_URL=\"https://plot.ly\";Plotly.newPlot(\"887fe51c-4f8b-4631-997d-79b09fde4d24\", [{\"opacity\": 0.75, \"x\": [-0.695386130527704, -0.2549275232044555, 0.9757239331963491, -0.5446094602679131, 0.13086705826368633, -0.28013068655360346, -0.09895425674944629, 0.728287126797521, 0.9874272749961541, -0.6708728022362168, -0.5581404958477804, -0.27746663451338793, -1.079335573470375, 1.5046110832732356, 0.15068477344199238, 0.3929102609302357, -0.9227609539079674, 0.94939386148756, 1.1758344638393379, 0.40755900051328514, -0.4571945173491019, 0.22522410345811636, 0.31387524091767677, -0.8249732984760033, 1.063744952557693, -0.08371985528835256, -0.618976730112502, 0.8402018702037637, 1.873049642637753, 0.08234430114995428, -0.020092736353683367, 0.40843525029861005, -0.1772350152743163, 0.8199538618871692, -1.8420657353329253, 0.23390939613295875, -0.5982108840968874, 0.7174490710783621, -0.19388209950524535, 0.6807495997272374, -0.43411490798396246, 0.03761852530920552, 0.41971712777085995, 0.6725739143065191, -0.9920373180177323, -1.948283899930615, -1.3824471510627865, 0.48247819774365586, 0.18170173938971465, 0.3116266156026919, -0.34327506141687364, -0.1684831338592807, -0.6055859678031728, -0.3848934254217825, 0.7692070846998041, 1.7684026986493484, 0.5688351389342376, 0.4915134514921277, -0.03534991601108235, 0.16024431901481578, 1.8325918738983697, -0.7321677931674588, 0.6813839131165554, -0.20470195053259374, -0.25632467853764745, 0.2950857124910912, -1.422200214249028, -0.5908200046713894, -0.18325712859197454, -0.5357071398762631, -1.7317951616517608, 0.08599475731716945, 0.32604389615550383, 0.21712138708140155, 0.904586362094066, 0.0004590186494888802, 0.4092345218462116, -0.3220714354599827, 0.052856885047667716, -0.4055123885382882, -0.770471030546946, -0.3600043760209097, 0.3934553131691991, 1.8820661971745885, -0.26986179907891544, 1.6491231014071925, 0.028541504210774626, -0.32546977958792733, -0.4864724168969307, -0.48356318449693786, 1.0280746327484587, 1.09601683731581, -0.8885278342930291, 1.7146814098087295, 1.897320753230588, 0.31120758758730455, 0.6225872874297439, -1.4423957242195276, -1.1014823297063174, 1.7159599798507834, 0.8530758672304513, 0.3156882853839498, 0.06414490491742077, 0.30980544949708094, -0.33118767734669186, 1.178673802521931, -0.19228667916961653, -0.34963090735963237, -0.3067545648549721, -0.44181983725710877, 0.38756515368112643, 0.40130108946749604, -0.5174814198728949, -0.9221473171703918, 0.36251875546992535, -0.5957639231017348, 0.49231922957016366, 0.17512437514410428, 1.0572421387213184, -0.3952788005546904, -0.9753769573405778, 1.610774272038057, -0.15104126679341132, 1.8984354394315746, -0.37469430794067415, 1.0785520289130848, 0.3328714287360226, 0.006450045068375355, 2.2057435557620084, -0.7308760254509958, -0.5809499708395985, 1.8496635465113311, -0.0006289440168920955, 2.1292654877698802, -0.0816225026784558, -0.49589187585533, 0.4736595712310818, -0.9668700620269518, 0.0010685199699228811, 0.30727222320747727, -0.9790411930002051, -0.5086441013538036, 0.9558483001678062, 1.0035024236713799, 0.873749054386647, -0.27720907658920335, 0.6175736901310133, 1.5041942098344465, 0.1106945190624222, 1.1133930230389077, 0.04769622676259371, 0.8154424051770006, 0.07188503566603495, 0.051621248863558684, -0.6602224091308708, 0.9278840200667249, -0.19715451569351763, -0.589277447546863, 0.08101373918970275, 1.1190037491044857, -1.440982101492585, 0.4009396890274601, 0.9739702942301742, -0.9976837223028135, -0.4592645745563684, -1.8000917770497324, -0.5530031910923522, 0.3922136307472619, 1.1195063287491855, -2.6230347313372895, -0.4096419882812429, -0.8628214661959415, -0.2813242676788209, 0.28323585945808066, 1.2185745180204381, -2.3428420421357843, 1.184663832752695, -0.4572452596703489, 0.135771857355556, -0.564804065669843, 1.8790846411959723, 0.715759799037184, -1.0131867094679798, -0.2744594124846175, 2.54886734794425, 1.357890991338221, 1.6509564761879372, -0.9983150560689042, -0.7424172178312032, -0.3602363507957421, -0.5828904660680477, -0.6215685310588167, -1.477052559681069, 0.812059017839315, -0.41700170263258873, -0.26877548795130846, 1.6360241725646463, -0.014240027794991023, 0.42600683540314865, 0.04784020528567586, 0.670098457894214, -0.7703245687530628, -1.487344661122886, 1.9478495580759725, 1.4057635260082646, 0.04747711406084877, 1.7899109578177776, 1.232078557232743, 0.2550312021460059, 1.3241076924751036, 1.1441360729320056, -0.16307375638895233, 0.8961196062747963, -1.6280111857166362, 0.44191340694199627, -0.970336413319823, 1.0840007736961046, -1.8317910796595556, -1.76460555369556, 1.0910441194518028, 1.9381068606120824, -0.25315291639870946, 0.2385142201665347, -1.4016746498796975, 1.175458628237868, 1.919609126276153, 1.5675080668405792, 0.6755216441337093, 0.20317523778255522, -1.6973683966212136, 0.26458678017926746, -0.48263593680686284, 1.7537228414889972, -1.040449222059955, 0.6353461533112084, 0.2833167883658786, -0.37223459770925427, 0.3272239419582054, 1.9660622027693384, 0.2970597500177597, -0.49360279946676416, -2.112547650471852, -0.037895333108804115, -0.840643472120267, -0.31829254981037375, 0.40639894410998556, -0.02116339131585719, -0.3914754453042211, 1.0217329609104, 0.19014115558514758, -0.767717621852702, -0.9876585691127796, 0.17352403036504943, -0.09789731520732796, 0.37227289870204205, 0.31092164385949206, 0.641242127049437, 0.8273442906028701, 0.856992560203665, -0.28597246823500383, 0.8206694814940957, -0.13864880903349475, 0.533578838193798, -0.09709952045906747, 0.42364343369772983, -1.5151732789060364, 0.689964914706096, 0.14688072894841467, -0.004609968764397549, -0.16442600305921098, -0.536964661185714, -1.167224225590233, 0.14543054990769647, 0.9394655915376516, -1.6861101495545394, 0.9885219509995367, -0.5431217091925453, -1.2869317218701386, 0.2968063309920827, 0.9577555606605798, 0.6995304277533355, -1.0660369970807602, 1.43753557208953, 0.33863969578198444, -0.304108469061392, 0.46601635810771486, 1.729139353384869, -1.3740822552595293, 0.6624670139782655, 0.5410184901855903, 0.6742893933613131, 1.2991811544726783, -0.9172180517808703, 0.341842615714299, -0.11169887003676632, -0.7895538418940602, 0.44570604026490773, 2.0259707181431454, 1.2629448928220908, -0.8613637026341172, -1.4853695914144294, -1.2097007827707362, -0.04906883258542031, -1.092561214978353, -0.515242212072, -2.0220147741426477, -0.5177510732799376, 0.16755125420468184, -0.4559678139826295, -0.7436078310647756, -0.23401116241789152, -0.44633318272151334, -0.17727054695298278, 0.07760701596533781, -0.6806724826674598, 0.4597109942164998, 0.4465826673231265, -0.8247941488772271, -0.8856491555825509, -0.7186023399076678, -0.94640279338282, 0.7370529955309937, 0.9394306456850408, -2.395488928930964, -1.6189360523899903, -1.78077426467051, -0.2390361499496274, 1.5715858064759156, 3.397134695403061, -0.7601935914936304, -0.3383919233835353, 0.191989868369994, 1.0160069555766265, -0.3964818730940356, 3.1141657934404408, 1.774196038553807, 0.816368868195841, -1.115352322760092, -0.0973511832124866, 1.8218849497411116, 0.03220116706675453, -1.4343153984441261, -1.2306860913836504, 0.13524275381175688, -0.10883888600949533, -1.634697805850937, 0.4072156171169224, -0.0057803811418684755, 0.8794116410396825, -0.6806803695608016, 0.18930740063103607, 0.5314608430625004, -0.3081221815748004, -0.6731151504556786, -2.0971635219264417, 1.8876046394689976, 1.1102809873594541, -0.4669871092293899, 1.0530633945034724, -0.07677366528276702, -0.3188944231928216, -1.2074228519462822, 0.9363403102045214, -0.6108447056138844, 0.6917439929938619, 0.9678459562225744, 0.3138357429623477, -1.077199131393589, -0.614278238037201, -0.9273541630999609, 0.4775291950871454, 0.13974639841919467, -0.5373528733001961, 0.5599223302524088, 0.11844090522092675, 0.07073983140006462, -0.062241309091070764, 0.8825980769012345, -0.5572533671924619, 1.2681199631613058, -0.05689608161413374, 0.02330718005003244, -0.10699377043326111, 1.2695366097256136, 0.819793389082851, 0.38304862631013376, 1.0728191585460314, -1.0655924552328202, 0.1770279864748822, -0.32267307284606733, 0.8643342437430306, -1.1571514180288132, -1.3043852512099812, 0.512887439677329, 0.07116674745063883, 1.4110923429197355, 1.1403069308938465, -1.0630144722959014, -0.24887790450436872, -1.1480407963759418, 0.3175122505483102, -0.02676827081220196, -0.811675389636369, -0.649965940436166, 0.9771862677620536, 0.25120470619567464, -1.427920198915453, 1.7297088568372665, 0.23381297000317294, 0.3834937224300476, 1.1658008007078116, 0.6864509433405478, 1.7844666233110995, 0.2209026090717218, 0.37044891842125344, 0.16264184717164856, 0.716461206458533, 0.4739974956626251, -0.6088351462633919, 0.4906994113518158, 0.39102584436336524, 1.0095240100447793, -1.3841811675610085, -0.8507608674389278, -0.6377978855437586, -1.0352981425841024, 1.788340728295934, -1.5264821979443213, -0.70021354080894, 0.25123432538607837, -2.1996741282530206, 0.8710024295648972, 0.6222834998875229, 0.10452710062687681, 0.8053990730607853, 0.5278888228314931, 0.29875845809478135, -1.8308772523263352, 1.4229351544347382, 2.31772541288809, 0.3880081492088789, -0.49490084580911575, -1.866669087173222, 1.2214478004827543, 0.2869424355092756, -0.6807012333088177, 1.253728728052363, -0.5262968423209111, 0.680678727960924, -0.07493278338530968, 0.1311562047622897, 0.909557412926352, 0.028272391438831458, -0.5972153553456977, -1.9270036331653526, 0.3703285293092776, -0.3358382099643665, 1.0278158077427308, -1.2109226112463025, -1.0008698381434664, -0.45247392741145176, -1.5729856877903097, -1.7900207538964257, -0.21649383908326783, -0.5103735416020141, 1.1358989979664125, 2.1046775144593997, -0.2313273095728943, -0.2433213030600783, -1.4636632384107906, 0.5854413815330219, 0.0059255567698399654, 0.255806212250945, 1.0375353166684786, -1.3916484749519449, 0.21007204139584806, -0.4162607566347398, 0.326763653111473, 0.22822566113930878, 0.0196918696077844, -0.7073495190594333, -1.6442554119175588, -2.1670397816609985, -0.5394046099965512, -0.36597622447330236, -0.6512957066236231, -1.0954001759283487, -1.673163125443696, -0.023652236205625964, 0.02076578853324739, -0.12648251008842998, -0.4558136756565612, 1.5695133641261465, -0.09279656549334853, 0.9847827762997983, 0.15729117591222763, 0.6520657210421967, -0.03952121054321116, 0.9413582173854221, -0.3908952049971204], \"type\": \"histogram\", \"uid\": \"71d88ba8-3957-11e9-8ae3-080027daca25\"}, {\"opacity\": 0.75, \"x\": [0.903115444477272, 1.1712314392608607, 0.5933343160746886, 3.302617571571859, 0.904378641683533, 1.6202037960130293, 1.2305993997774676, 2.4535739132171726, 1.9012015984718666, 2.745299362016265, 3.430016894573199, 2.684333489290242, 1.930655846187687, 2.4583151473921565, 0.9678875582043838, 2.3429143320904755, 1.0636434489977713, 0.9276186067970067, 2.0942907683783267, 2.475281204774305, 2.986155943351177, -0.34557337405490207, 1.6872361819619597, -0.6651815227613547, 1.9576137917937413, -0.029396428518168927, 2.6111710293922874, 0.0912995516929127, 0.9163720334457925, 2.3807940222043564, 2.105518849016686, 0.9646634625205668, 1.14391285581058, 1.2866311984864507, 0.3873048974537241, 1.7110534844556284, 1.1574222608974951, 1.007070566448367, 1.0575926182664426, 0.9910368759363233, 0.8446774766598358, 1.2837797866205864, 2.057989296601912, 2.5843677877336932, 1.0872335053760358, 2.411546307166817, 2.3685243275562624, 0.18837314649370018, 1.4260674941323306, 0.8081954758765048, 0.5584270054406334, 2.626765829144089, -1.098556978089615, 2.502764660018932, 1.5516453051583698, 1.332564520533059, 3.0658943543836177, 2.2639998779207944, -0.057149296487743806, 1.312859575989127, 0.831670726404288, 0.48250655856450675, 3.2176602446019196, 1.8207750741761042, -0.5272311528120888, 0.9082644716551928, 1.61452321422651, 0.6921503492354472, 3.5570081929437087, 1.0464763627309601, 0.8540716213472597, 3.4662943553587224, 3.9549313997380025, 1.3294474391524171, 2.4913576662011407, -0.6947333453466347, 2.0838116964672424, -1.0387247243207347, 4.008446587624661, 0.9861916301630661, 1.0377288919211667, 0.5435602971688447, 2.0645947945261374, 2.510007081080321, 0.3850190904752804, 0.5486773754703548, 3.387699068987593, 0.3452996674845912, 2.064596916930719, 0.804341469608687, 1.742291519341465, 0.169723168280413, 0.3648787424129907, 2.514365590239075, 1.577598246326136, 1.731104258024255, -0.6575445486637839, 1.012654130638386, 2.361555320397603, -0.016536666731391092, 1.4711024002182167, 2.4523783406943234, 1.2396453883720153, 0.09954124611242343, 2.3623935647041208, 2.7701395659277166, 2.6019468970216413, 2.2456559100141282, 2.217545329582753, 1.0419260420285463, 1.6222568212119084, 1.506336138298437, 0.9648069217789823, 1.8001096697933316, 2.9204253854537248, 1.9382932100533734, 1.9807066618843028, 0.9052342159599603, 0.1476077416129593, 1.4514216267401396, 0.3852577922628584, 1.8023443792964888, 2.04791843050416, 2.378722649676071, 2.185289233708505, 2.676333255373691, 0.25653214014156145, 2.8035143349616742, 1.3349194986420794, 1.541838498806712, 1.79477070561998, 2.2898248090379667, 0.954412136549419, 2.154383347723569, 2.621711643412904, 1.5285914548037884, 1.217471919569181, 0.8668707670930946, 0.7025788983327106, 1.5586942996991737, 0.7728710196665403, 0.4065021515950671, 2.8583106439738666, 3.362111441851413, 0.9363362275088544, 1.6617244492003174, 0.8776471324595261, 1.5848323270616258, 1.406492065021671, 1.6507978133739118, -0.0030415174924702804, 0.47906905965596014, 1.3584572002922302, 2.205196908970843, 2.3736983294433194, 1.8615035774796762, 1.55805621905167, 2.2133655377183032, 1.2118153134363636, 1.3426568847984186, 0.993133356887046, 1.3176349641894893, 1.0481433494220287, 0.8125638488419183, -0.07627362882843336, 1.3309462499299456, 0.5891249908904329, 0.09783992651284557, 2.0165125968439632, 0.7904884801364074, 0.47725000977224297, 1.4516779961986879, 2.4651280281740418, 0.4085342137960237, -0.6211826411609911, 1.4250211998958897, 1.9488796677843097, 2.128115984866227, 2.942668770626808, 2.0502050450352183, -0.5492221560439448, 0.6219241610813031, 1.7210027515670578, 2.849983679094215, 3.1680861451727758, 2.244726530792465, 0.4098609975218259, 0.035518400837842856, 1.9137467678985596, 2.116762822615695, 1.857064762638494, 2.4428407690116187, 3.243626495423614, 0.7694318818351408, 2.774101316385484, -1.332152882498677, 3.272877506347644, 2.7490020196737186, 2.7357173280463325, 0.13140488762554448, 0.6731877290392637, 3.8084406726326447, 4.030693132180483, 2.2206815022950517, -0.14013057164085652, 2.366420584326153, 0.06410808400816559, 1.643297017676503, -0.8804896827307744, 1.0578917828184204, 0.3282170595188625, 1.24819371048052, 2.637913900962345, 0.689461406476075, 2.312391271054992, 3.0267238432483694, 1.3394883913510724, 1.1762689497565206, 2.758422954624791, 2.2667821445338934, 1.0338955656638098, 2.5006938358024504, 2.3029104574272417, 1.5711194300677878, 1.4266727508991215, 2.7126865708666, 0.5597792853881604, 2.2851793535376865, 0.09117624516011325, 0.11917698872877591, 1.5915286265502133, 2.9235723429558713, 1.304414694815672, 1.574992145043069, 2.356599914374766, 2.4376933123781077, 1.509629727150574, 1.6471132846097016, 1.0891821246685138, 1.8004408837143795, 3.0896262395981426, 0.7580377000741897, 0.8160054719207929, 2.4031633657633034, 1.852950936259725, 1.8050109287761522, 1.738757544396679, 1.494874341430209, 2.3793680931990604, 1.6444778222806606, 0.5942126974430134, 1.4551169296761826, 1.9675613038321909, 1.569456214735615, 0.9864721794483535, 0.43229081550395687, 2.2226397081139346, 1.4738213193677254, 1.7563795004421838, 0.8085476933846283, 1.6183876429012616, 2.7098781006891115, 3.33577231134959, 0.5132854532365776, 0.6382989882942821, 0.8384510015231581, 2.5976916454337715, 1.9079232392553511, 1.593871391093283, 0.8264616439665838, 1.4623172271817892, 1.7729329590704057, 0.21789455831740945, -1.4806652003866523, 1.5413400756748337, 0.81507620538315, 0.5798074266661488, 1.2371014107789704, 2.5602617988961622, 0.6310529414721952, 2.974803093095719, 1.2036074220478914, 3.1701375530190163, 1.4922263002132583, 1.277528005472817, 0.7291263669880199, 2.383168019086609, 1.4998927467102965, 0.3002533741363931, 2.2969284272871766, -0.2492506879344465, 1.8357909693463361, 0.7517619721337403, 2.7792581246352235, 0.4574129959913289, 2.6665186205083073, 1.284124409420264, 1.2875886256910252, 1.3771658822257389, 1.1223348397441264, 1.3104417000240722, 2.231311182506479, 0.36629285830491964, 0.8979469422965746, 0.7802544793943301, 1.9009532384515375, 2.2384576638602005, 0.6634503874937867, 1.9513953243867461, 1.4244753191763915, 2.255295989002774, 1.803580202387331, 1.1778290405644118, 2.2384968574190065, 2.3254268214765856, 1.7258246933325612, 0.4649403451063514, 2.3047175273716283, 2.3926410177432125, 3.2213813591295004, 0.423058969705959, -0.24165696901466505, 1.987492585470908, 3.457575800635875, 0.38410129670227033, 2.6764966572509206, 1.3115915864761938, 1.7754607593517975, 0.2053221868831563, 2.0374091244780086, 1.8361247281057382, 1.695074156886261, 1.320542176227256, 2.1789959270239123, 3.5527642332709255, 2.571240440818876, 2.0226419580862394, 0.9833352576323688, 1.062338126331523, 1.1806340898500443, 1.1762808921519965, 1.3399410385760304, 0.19617631720241535, 0.922124300935798, 2.2413297517410213, 0.020773767284733236, 0.8981317488594996, 0.2806333832169443, 0.6782864873414806, 0.36309931597064926, 0.9908307070835481, -0.43652167370188466, 0.49974356730348224, 0.18851574333077603, 0.02345326852634355, 0.12516557719043475, 0.03143401080048136, 1.2045386075047726, 1.8232860059172884, 2.7622868473676188, -0.23072746669446875, 0.9504035571394664, 0.5807833660437639, 1.2994070280689765, 1.626993796669138, 1.3083991399043, 1.7563522417769637, 0.603658026484569, 1.9471521960323952, 0.5850055158824542, 0.8539111802256933, 2.5637864392961305, -0.48212692463134044, 2.1213794301648625, 1.0725447082181876, 1.449731311537076, 1.4543413702001013, 2.2970682137229135, 0.9501758609460096, 1.6717202626227676, 1.7671298817981147, 1.4608185722834648, 1.3610261681274658, 1.7675470865139316, 0.6849767633510161, 2.2578910504810352, 1.9251981728436376, 1.4649980229162785, 2.3255307317844043, 0.6578702487002429, 1.283659408582027, 1.4197460275674663, 1.5662120407012692, 1.374856229148543, 0.890463328743864, 1.1081888879624993, 1.5741728697468378, 3.557696769497799, 1.2302236455591895, 0.7109285349584139, 2.3845867697909924, -0.366271771123607, 2.1718302911571197, 2.3048274750588265, 1.6214226469516984, 1.642517075265383, 1.9966082203963706, 1.2977840283779705, 2.6595950146114014, 1.3756606011355006, 2.3397392675244366, -0.2088017354133378, 2.872991674718205, 1.541019374323962, 2.9623523355995216, 1.496007226834463, 2.8213047287668163, 1.5635077702996354, 2.3870660864444924, -0.6728726215838532, 0.6622575843960058, 1.138090906799907, 1.933594297407191, 2.3990119315819722, 1.565059625736139, 1.777664147230472, 1.7032632512495995, 0.38087493664268046, 0.002908785921891699, 2.4953175568507913, 0.46019423200927956, 0.5369608026958467, 0.759136353596802, 1.7243506421872805, 0.796261291241777, 0.9047411646333451, 0.3340861094233707, 1.1902857669529225, 1.3707996187866383, 1.7512161185713697, 3.194447769636822, 0.7361773913904975, 1.7616421892959317, 2.0615328402578874, 1.6562157167661768, 0.8486898468364222, 0.5600974165262791, 2.4420205441371357, 2.466291207302538, 2.768938385652213, 0.7933333885947469, 1.984792804479485, 1.6429909963902856, 1.8147427722343836, 2.526628936354439, 1.2835824139037797, 0.024046253331774903, 0.8593787457460366, 1.3506143014030854, 2.811858462978136, 0.9756088751390762, 2.325688381146573, 2.431777999705866, 2.2540716662433784, 1.4451787809710426, 2.1641473919558925, 0.7412865307854892, 0.04918432929795391, -0.04192248387890318, 2.2671211632531665, 0.5496402155999641, 0.787066587733972, 2.0248393489850387, 3.0849992499013, 0.5487528036473185, 1.3799640542473461, 3.0858971326661866, 1.9020413190968894, 1.3200639801816618, 0.3561822302425979, 0.4449920293214411, 2.3793379146227305, 2.350454832634119, 2.0452970633360716, -0.4983267273008094, 1.5598315852041909, 1.7109615937698006, 1.2579720814871473, 2.2439036705490225, -1.6979932574107734, 2.9625253393287503, 0.9748823321691162, 3.312200217199849, 1.2645597984020107, 2.1910501864048904, 2.6611032139027673, 2.196741479893303, 3.3417268740060484, 1.0435278710074738, -0.07213730038926758], \"type\": \"histogram\", \"uid\": \"71d88ba9-3957-11e9-8ae3-080027daca25\"}], {}, {\"showLink\": true, \"linkText\": \"Export to plot.ly\"})});</script>"
      ]
     },
     "metadata": {},
     "output_type": "display_data"
    }
   ],
   "source": [
    "x0 = np.random.randn(500)\n",
    "x1 = np.random.randn(500) + 1.5\n",
    "\n",
    "trace1 = go.Histogram(\n",
    "    x=x0,\n",
    "    opacity=0.75\n",
    ")\n",
    "\n",
    "trace2 = go.Histogram(\n",
    "    x=x1,\n",
    "    opacity=0.75\n",
    ")\n",
    "\n",
    "data = [ trace1, trace2 ]\n",
    "layout = go.Layout(barmode='overlay')\n",
    "fig = go.Figure(data=data, layout=layout)\n",
    "\n",
    "plotly.offline.iplot(data)"
   ]
  },
  {
   "cell_type": "markdown",
   "metadata": {
    "hidden": true
   },
   "source": [
    "### Subplot"
   ]
  },
  {
   "cell_type": "code",
   "execution_count": 11,
   "metadata": {
    "ExecuteTime": {
     "end_time": "2019-02-25T23:47:57.067426Z",
     "start_time": "2019-02-25T23:47:56.626179Z"
    },
    "hidden": true
   },
   "outputs": [
    {
     "ename": "ModuleNotFoundError",
     "evalue": "No module named 'cufflinks'",
     "output_type": "error",
     "traceback": [
      "\u001b[0;31m---------------------------------------------------------------------------\u001b[0m",
      "\u001b[0;31mModuleNotFoundError\u001b[0m                       Traceback (most recent call last)",
      "\u001b[0;32m<ipython-input-11-3178e833bc72>\u001b[0m in \u001b[0;36m<module>\u001b[0;34m()\u001b[0m\n\u001b[0;32m----> 1\u001b[0;31m \u001b[0;32mimport\u001b[0m \u001b[0mcufflinks\u001b[0m \u001b[0;32mas\u001b[0m \u001b[0mcf\u001b[0m\u001b[0;34m\u001b[0m\u001b[0m\n\u001b[0m",
      "\u001b[0;31mModuleNotFoundError\u001b[0m: No module named 'cufflinks'"
     ]
    }
   ],
   "source": [
    "import cufflinks as cf"
   ]
  },
  {
   "cell_type": "markdown",
   "metadata": {
    "hidden": true
   },
   "source": [
    "### Scatter plot\n",
    "\n",
    "* text\n",
    "* vline n hline\n",
    "* legends\n",
    "* xlabel n ylabel\n",
    "* title\n"
   ]
  },
  {
   "cell_type": "code",
   "execution_count": 18,
   "metadata": {
    "ExecuteTime": {
     "end_time": "2019-02-26T01:53:04.529025Z",
     "start_time": "2019-02-26T01:53:04.355104Z"
    },
    "hidden": true
   },
   "outputs": [
    {
     "data": {
      "text/html": [
       "<div>\n",
       "<style scoped>\n",
       "    .dataframe tbody tr th:only-of-type {\n",
       "        vertical-align: middle;\n",
       "    }\n",
       "\n",
       "    .dataframe tbody tr th {\n",
       "        vertical-align: top;\n",
       "    }\n",
       "\n",
       "    .dataframe thead th {\n",
       "        text-align: right;\n",
       "    }\n",
       "</style>\n",
       "<table border=\"1\" class=\"dataframe\">\n",
       "  <thead>\n",
       "    <tr style=\"text-align: right;\">\n",
       "      <th></th>\n",
       "      <th>x</th>\n",
       "      <th>y</th>\n",
       "    </tr>\n",
       "  </thead>\n",
       "  <tbody>\n",
       "    <tr>\n",
       "      <th>0</th>\n",
       "      <td>0</td>\n",
       "      <td>0</td>\n",
       "    </tr>\n",
       "    <tr>\n",
       "      <th>1</th>\n",
       "      <td>1</td>\n",
       "      <td>1</td>\n",
       "    </tr>\n",
       "    <tr>\n",
       "      <th>2</th>\n",
       "      <td>2</td>\n",
       "      <td>2</td>\n",
       "    </tr>\n",
       "    <tr>\n",
       "      <th>3</th>\n",
       "      <td>3</td>\n",
       "      <td>3</td>\n",
       "    </tr>\n",
       "    <tr>\n",
       "      <th>4</th>\n",
       "      <td>4</td>\n",
       "      <td>4</td>\n",
       "    </tr>\n",
       "  </tbody>\n",
       "</table>\n",
       "</div>"
      ],
      "text/plain": [
       "   x  y\n",
       "0  0  0\n",
       "1  1  1\n",
       "2  2  2\n",
       "3  3  3\n",
       "4  4  4"
      ]
     },
     "execution_count": 18,
     "metadata": {},
     "output_type": "execute_result"
    },
    {
     "data": {
      "application/vnd.plotly.v1+json": {
       "data": [
        {
         "name": "Name of Trace 1: Using pandas",
         "type": "scatter",
         "uid": "418480c2-3969-11e9-8ae3-080027daca25",
         "x": [
          0,
          1,
          2,
          3,
          4,
          5,
          6,
          7,
          8
         ],
         "y": [
          0,
          1,
          2,
          3,
          4,
          5,
          6,
          7,
          8
         ]
        },
        {
         "name": "Name of Trace 2. Not using pandas",
         "type": "scatter",
         "uid": "418480c3-3969-11e9-8ae3-080027daca25",
         "x": [
          0,
          1,
          2,
          3,
          4,
          5,
          6,
          7,
          8
         ],
         "y": [
          1,
          0,
          3,
          2,
          5,
          4,
          7,
          6,
          8
         ]
        }
       ],
       "layout": {
        "title": "Ex: Line Plot with Title",
        "xaxis": {
         "title": "x Axis",
         "titlefont": {
          "color": "#7f7f7f",
          "family": "Courier New, monospace",
          "size": 18
         }
        },
        "yaxis": {
         "title": "y Axis",
         "titlefont": {
          "color": "#7f7f7f",
          "family": "Courier New, monospace",
          "size": 18
         }
        }
       }
      },
      "text/html": [
       "<div id=\"bcd6634d-10a3-4dbb-ae10-c942b1d075bb\" style=\"height: 525px; width: 100%;\" class=\"plotly-graph-div\"></div><script type=\"text/javascript\">require([\"plotly\"], function(Plotly) { window.PLOTLYENV=window.PLOTLYENV || {};window.PLOTLYENV.BASE_URL=\"https://plot.ly\";Plotly.newPlot(\"bcd6634d-10a3-4dbb-ae10-c942b1d075bb\", [{\"name\": \"Name of Trace 1: Using pandas\", \"x\": [0, 1, 2, 3, 4, 5, 6, 7, 8], \"y\": [0, 1, 2, 3, 4, 5, 6, 7, 8], \"type\": \"scatter\", \"uid\": \"418480c2-3969-11e9-8ae3-080027daca25\"}, {\"name\": \"Name of Trace 2. Not using pandas\", \"x\": [0, 1, 2, 3, 4, 5, 6, 7, 8], \"y\": [1, 0, 3, 2, 5, 4, 7, 6, 8], \"type\": \"scatter\", \"uid\": \"418480c3-3969-11e9-8ae3-080027daca25\"}], {\"title\": \"Ex: Line Plot with Title\", \"xaxis\": {\"title\": \"x Axis\", \"titlefont\": {\"color\": \"#7f7f7f\", \"family\": \"Courier New, monospace\", \"size\": 18}}, \"yaxis\": {\"title\": \"y Axis\", \"titlefont\": {\"color\": \"#7f7f7f\", \"family\": \"Courier New, monospace\", \"size\": 18}}}, {\"showLink\": true, \"linkText\": \"Export to plot.ly\"})});</script>"
      ],
      "text/vnd.plotly.v1+html": [
       "<div id=\"bcd6634d-10a3-4dbb-ae10-c942b1d075bb\" style=\"height: 525px; width: 100%;\" class=\"plotly-graph-div\"></div><script type=\"text/javascript\">require([\"plotly\"], function(Plotly) { window.PLOTLYENV=window.PLOTLYENV || {};window.PLOTLYENV.BASE_URL=\"https://plot.ly\";Plotly.newPlot(\"bcd6634d-10a3-4dbb-ae10-c942b1d075bb\", [{\"name\": \"Name of Trace 1: Using pandas\", \"x\": [0, 1, 2, 3, 4, 5, 6, 7, 8], \"y\": [0, 1, 2, 3, 4, 5, 6, 7, 8], \"type\": \"scatter\", \"uid\": \"418480c2-3969-11e9-8ae3-080027daca25\"}, {\"name\": \"Name of Trace 2. Not using pandas\", \"x\": [0, 1, 2, 3, 4, 5, 6, 7, 8], \"y\": [1, 0, 3, 2, 5, 4, 7, 6, 8], \"type\": \"scatter\", \"uid\": \"418480c3-3969-11e9-8ae3-080027daca25\"}], {\"title\": \"Ex: Line Plot with Title\", \"xaxis\": {\"title\": \"x Axis\", \"titlefont\": {\"color\": \"#7f7f7f\", \"family\": \"Courier New, monospace\", \"size\": 18}}, \"yaxis\": {\"title\": \"y Axis\", \"titlefont\": {\"color\": \"#7f7f7f\", \"family\": \"Courier New, monospace\", \"size\": 18}}}, {\"showLink\": true, \"linkText\": \"Export to plot.ly\"})});</script>"
      ]
     },
     "metadata": {},
     "output_type": "display_data"
    }
   ],
   "source": [
    "\n",
    "x=[0, 1, 2, 3, 4, 5, 6, 7, 8]\n",
    "y=[0, 1, 2, 3, 4, 5, 6, 7, 8]\n",
    "\n",
    "df = pd.DataFrame({'x': x, 'y': y})\n",
    "df.head()\n",
    "\n",
    "\n",
    "trace1 =     go.Scatter(\n",
    "        x=df['x'], # assign x as the dataframe column 'x'\n",
    "        y=df['y'],\n",
    "        name='Name of Trace 1: Using pandas'\n",
    "    )\n",
    "\n",
    "trace2 = go.Scatter(\n",
    "    x=[0, 1, 2, 3, 4, 5, 6, 7, 8],\n",
    "    y=[1, 0, 3, 2, 5, 4, 7, 6, 8],\n",
    "    name='Name of Trace 2. Not using pandas'\n",
    ")\n",
    "\n",
    "layout = go.Layout(\n",
    "    title='Ex: Line Plot with Title',\n",
    "    xaxis=dict(\n",
    "        title='x Axis',\n",
    "        titlefont=dict(\n",
    "            family='Courier New, monospace',\n",
    "            size=18,\n",
    "            color='#7f7f7f'\n",
    "        )\n",
    "    ),\n",
    "    yaxis=dict(\n",
    "        title='y Axis',\n",
    "        titlefont=dict(\n",
    "            family='Courier New, monospace',\n",
    "            size=18,\n",
    "            color='#7f7f7f'\n",
    "        )\n",
    "    )\n",
    ")\n",
    "\n",
    "data = [ trace1, trace2]\n",
    "\n",
    "fig = go.Figure(data=data, layout=layout)\n",
    "plotly.offline.iplot(fig)\n"
   ]
  },
  {
   "cell_type": "markdown",
   "metadata": {
    "heading_collapsed": true
   },
   "source": [
    "## Model Trainning\n",
    "\n"
   ]
  },
  {
   "cell_type": "markdown",
   "metadata": {
    "hidden": true
   },
   "source": [
    "* Model tunning\n",
    "    1. gridseach\n",
    "    2. sthocastic search\n"
   ]
  },
  {
   "cell_type": "markdown",
   "metadata": {
    "heading_collapsed": true,
    "hidden": true
   },
   "source": [
    "### Evaluation metrics"
   ]
  },
  {
   "cell_type": "markdown",
   "metadata": {
    "ExecuteTime": {
     "end_time": "2018-09-11T18:45:22.985857Z",
     "start_time": "2018-09-11T18:45:22.979639Z"
    },
    "heading_collapsed": true,
    "hidden": true
   },
   "source": [
    "#### Accuracy  and confusion matrix"
   ]
  },
  {
   "cell_type": "code",
   "execution_count": 3,
   "metadata": {
    "ExecuteTime": {
     "end_time": "2018-12-18T23:25:12.339699Z",
     "start_time": "2018-12-18T23:25:12.321161Z"
    },
    "hidden": true
   },
   "outputs": [
    {
     "name": "stdout",
     "output_type": "stream",
     "text": [
      "Fake data\n",
      "y_true: [ True False  True False False  True  True]\n",
      "y_pred: [ True  True False  True  True  True False]\n",
      "accuracy: 0.2857142857142857\n",
      "|                 |   Predicted Positive |   Predicted Negative |\n",
      "|-----------------+----------------------+----------------------|\n",
      "| Actual Positive |                    0 |                    3 |\n",
      "| Actual Negative |                    2 |                    2 |\n",
      "\n",
      "FPR: 1.0\n",
      "FNR: 0.5\n",
      "\n"
     ]
    }
   ],
   "source": [
    "## Accuracy \n",
    "\n",
    "from sklearn.metrics import accuracy_score, confusion_matrix\n",
    "from tabulate import tabulate\n",
    "\n",
    "np.random.seed(2018)\n",
    "\n",
    "y_true = np.random.uniform(size=7) > .5\n",
    "y_pred = np.random.uniform(size=7) > .4\n",
    "\n",
    "acc = accuracy_score(y_true, y_pred)\n",
    "print('Fake data')\n",
    "print('y_true: {}'.format(y_true))\n",
    "print('y_pred: {}'.format(y_pred))\n",
    "\n",
    "print('accuracy: {}'.format(acc))\n",
    "\n",
    "cf_m = confusion_matrix(y_true, y_pred)\n",
    "\n",
    "cf_df = pd.DataFrame(cf_m, index=[\"Actual Positive\", \"Actual Negative\"], columns = [\"Predicted Positive\", \"Predicted Negative\"])\n",
    "tn, fp, fn, tp = confusion_matrix(y_true, y_pred).ravel()\n",
    "\n",
    "FPR = fp/(fp+tn)\n",
    "FNR = fn/(tp+fn)\n",
    "\n",
    "print(tabulate(cf_df, tablefmt=\"orgtbl\",\n",
    "               headers=\"keys\"))\n",
    "\n",
    "\n",
    "print()\n",
    "print('FPR: {}'.format(FPR))\n",
    "print('FNR: {}'.format(FNR))\n",
    "\n",
    "print()\n"
   ]
  },
  {
   "cell_type": "markdown",
   "metadata": {
    "hidden": true,
    "variables": {
     "print(tabulate(cf_df, headers=\"keys\", tablefmt=\"html\"))": {}
    }
   },
   "source": [
    "=================================\n",
    "\n",
    "For markdwon cells, insert the code in a markdown cell. \n",
    "\n",
    "```python\n",
    "\\{\\{print(tabulate(cf_df, headers=\"keys\", tablefmt=\"html\"))\\}\\}\n",
    "```\n",
    "\n",
    "\n",
    "{{print(tabulate(cf_df, headers=\"keys\", tablefmt=\"html\"))}}\n"
   ]
  },
  {
   "cell_type": "markdown",
   "metadata": {
    "heading_collapsed": true,
    "hidden": true
   },
   "source": [
    "#### Precision Recall Curve, AUC and F score\n"
   ]
  },
  {
   "cell_type": "markdown",
   "metadata": {
    "hidden": true
   },
   "source": [
    "#####  Downsampling data example\n",
    "\n",
    "Does need to run one time int he case we do not have data/creditcard_downsampled.csv.tar.bz2.\n",
    "\n",
    "Also is an example of downsampling data.\n",
    "\n",
    "Data downloaded from:\n",
    "https://www.kaggle.com/mlg-ulb/creditcardfraud\n",
    "\n",
    "\n",
    "* The original imbalance ratio (492:284315): 0.002\n",
    "* Downsample the majority to reach the ratio 1:3 , just to have small data set"
   ]
  },
  {
   "cell_type": "code",
   "execution_count": null,
   "metadata": {
    "ExecuteTime": {
     "end_time": "2018-12-18T23:25:29.891165Z",
     "start_time": "2018-12-18T23:25:29.734852Z"
    },
    "hidden": true
   },
   "outputs": [],
   "source": [
    "## Does not need to run this again once you have credicard_downsampled.csv.tar.bz2\n",
    "creditcard_df = pd.read_csv('data/creditcard.csv.zip', compression='zip', sep=',', quotechar='\"')\n",
    "\n",
    "creditcard_df.sample(3).head(3)\n",
    "\n",
    "n_pos = np.sum(creditcard_df.Class == True)\n",
    "print('#positives: {}'.format(n_pos))\n",
    "\n",
    "n_neg = np.sum(creditcard_df.Class == False)\n",
    "print('#negatives: {}'.format(n_neg))\n",
    "\n",
    "r = n_pos/(n_pos + n_neg)\n",
    "print('Imbalance data ratio ({0}:{1}): {2:.3f}'.format(n_pos,n_neg,r))"
   ]
  },
  {
   "cell_type": "markdown",
   "metadata": {
    "hidden": true
   },
   "source": [
    "downsample both class to have smaller dataset"
   ]
  },
  {
   "cell_type": "code",
   "execution_count": null,
   "metadata": {
    "ExecuteTime": {
     "end_time": "2018-12-18T23:28:02.127736Z",
     "start_time": "2018-12-18T23:28:02.112351Z"
    },
    "hidden": true
   },
   "outputs": [],
   "source": [
    "from sklearn.utils import resample\n",
    "\n",
    "# Separate majority and minority classes\n",
    "df_majority = creditcard_df[creditcard_df.Class==0]\n",
    "df_minority = creditcard_df[creditcard_df.Class==1]\n",
    " \n",
    "# Downsample majority class\n",
    "df_majority_downsampled = resample(df_majority, \n",
    "                                 replace=False,    # sample without replacement\n",
    "                                 n_samples=2000,     # to match minority class\n",
    "                                 random_state=123) # reproducible results\n",
    " \n",
    "\n",
    "# Combine minority class with downsampled majority class\n",
    "df_downsampled = pd.concat([df_majority_downsampled, df_minority])\n",
    "df_downsampled = df_downsampled.reset_index(drop=True)\n",
    "\n",
    "\n",
    "# Saving\n",
    "df_downsampled.to_csv('data/creditcard_downsampled.csv', index=False)"
   ]
  },
  {
   "cell_type": "code",
   "execution_count": null,
   "metadata": {
    "ExecuteTime": {
     "end_time": "2018-09-12T00:54:20.033096Z",
     "start_time": "2018-09-12T00:54:19.895823Z"
    },
    "hidden": true,
    "scrolled": true
   },
   "outputs": [],
   "source": [
    "%%bash\n",
    "\n",
    "# remove old file\n",
    "rm -v data/creditcard_downsampled.csv.tar.bz2 \n",
    "tar -cjvf  data/creditcard_downsampled.csv.tar.bz2 data/creditcard_downsampled.csv\n",
    "\n",
    "rm -v data/creditcard_downsampled.csv\n",
    "\n",
    "du -sh data/*"
   ]
  },
  {
   "cell_type": "markdown",
   "metadata": {
    "hidden": true
   },
   "source": [
    "##### Load downsampled data"
   ]
  },
  {
   "cell_type": "code",
   "execution_count": 6,
   "metadata": {
    "ExecuteTime": {
     "end_time": "2018-12-18T23:28:24.243220Z",
     "start_time": "2018-12-18T23:28:23.776243Z"
    },
    "code_folding": [],
    "hidden": true
   },
   "outputs": [
    {
     "data": {
      "text/html": [
       "<div>\n",
       "<style scoped>\n",
       "    .dataframe tbody tr th:only-of-type {\n",
       "        vertical-align: middle;\n",
       "    }\n",
       "\n",
       "    .dataframe tbody tr th {\n",
       "        vertical-align: top;\n",
       "    }\n",
       "\n",
       "    .dataframe thead th {\n",
       "        text-align: right;\n",
       "    }\n",
       "</style>\n",
       "<table border=\"1\" class=\"dataframe\">\n",
       "  <thead>\n",
       "    <tr style=\"text-align: right;\">\n",
       "      <th></th>\n",
       "      <th>Class</th>\n",
       "      <th>Amount</th>\n",
       "    </tr>\n",
       "  </thead>\n",
       "  <tbody>\n",
       "    <tr>\n",
       "      <th>count</th>\n",
       "      <td>2492.000000</td>\n",
       "      <td>2492.000000</td>\n",
       "    </tr>\n",
       "    <tr>\n",
       "      <th>mean</th>\n",
       "      <td>0.197432</td>\n",
       "      <td>97.498427</td>\n",
       "    </tr>\n",
       "    <tr>\n",
       "      <th>std</th>\n",
       "      <td>0.398141</td>\n",
       "      <td>224.284179</td>\n",
       "    </tr>\n",
       "    <tr>\n",
       "      <th>min</th>\n",
       "      <td>0.000000</td>\n",
       "      <td>0.000000</td>\n",
       "    </tr>\n",
       "    <tr>\n",
       "      <th>25%</th>\n",
       "      <td>0.000000</td>\n",
       "      <td>3.597500</td>\n",
       "    </tr>\n",
       "    <tr>\n",
       "      <th>50%</th>\n",
       "      <td>0.000000</td>\n",
       "      <td>21.030000</td>\n",
       "    </tr>\n",
       "    <tr>\n",
       "      <th>75%</th>\n",
       "      <td>0.000000</td>\n",
       "      <td>89.990000</td>\n",
       "    </tr>\n",
       "    <tr>\n",
       "      <th>max</th>\n",
       "      <td>1.000000</td>\n",
       "      <td>3249.730000</td>\n",
       "    </tr>\n",
       "  </tbody>\n",
       "</table>\n",
       "</div>"
      ],
      "text/plain": [
       "             Class       Amount\n",
       "count  2492.000000  2492.000000\n",
       "mean      0.197432    97.498427\n",
       "std       0.398141   224.284179\n",
       "min       0.000000     0.000000\n",
       "25%       0.000000     3.597500\n",
       "50%       0.000000    21.030000\n",
       "75%       0.000000    89.990000\n",
       "max       1.000000  3249.730000"
      ]
     },
     "execution_count": 6,
     "metadata": {},
     "output_type": "execute_result"
    },
    {
     "data": {
      "text/html": [
       "<div>\n",
       "<style scoped>\n",
       "    .dataframe tbody tr th:only-of-type {\n",
       "        vertical-align: middle;\n",
       "    }\n",
       "\n",
       "    .dataframe tbody tr th {\n",
       "        vertical-align: top;\n",
       "    }\n",
       "\n",
       "    .dataframe thead th {\n",
       "        text-align: right;\n",
       "    }\n",
       "</style>\n",
       "<table border=\"1\" class=\"dataframe\">\n",
       "  <thead>\n",
       "    <tr style=\"text-align: right;\">\n",
       "      <th></th>\n",
       "      <th>data/creditcard_downsampled.csv</th>\n",
       "      <th>V1</th>\n",
       "      <th>V2</th>\n",
       "      <th>V3</th>\n",
       "      <th>V4</th>\n",
       "      <th>V5</th>\n",
       "      <th>V6</th>\n",
       "      <th>V7</th>\n",
       "      <th>V8</th>\n",
       "      <th>V9</th>\n",
       "      <th>...</th>\n",
       "      <th>V21</th>\n",
       "      <th>V22</th>\n",
       "      <th>V23</th>\n",
       "      <th>V24</th>\n",
       "      <th>V25</th>\n",
       "      <th>V26</th>\n",
       "      <th>V27</th>\n",
       "      <th>V28</th>\n",
       "      <th>Amount</th>\n",
       "      <th>Class</th>\n",
       "    </tr>\n",
       "  </thead>\n",
       "  <tbody>\n",
       "    <tr>\n",
       "      <th>314</th>\n",
       "      <td>66360.0</td>\n",
       "      <td>-0.857350</td>\n",
       "      <td>0.127830</td>\n",
       "      <td>3.748614</td>\n",
       "      <td>2.542093</td>\n",
       "      <td>-1.032970</td>\n",
       "      <td>1.012139</td>\n",
       "      <td>-0.118369</td>\n",
       "      <td>0.284106</td>\n",
       "      <td>0.584708</td>\n",
       "      <td>...</td>\n",
       "      <td>0.174886</td>\n",
       "      <td>0.917499</td>\n",
       "      <td>-0.105810</td>\n",
       "      <td>0.752113</td>\n",
       "      <td>0.048024</td>\n",
       "      <td>0.177793</td>\n",
       "      <td>-0.025082</td>\n",
       "      <td>-0.088395</td>\n",
       "      <td>89.77</td>\n",
       "      <td>0</td>\n",
       "    </tr>\n",
       "    <tr>\n",
       "      <th>272</th>\n",
       "      <td>143287.0</td>\n",
       "      <td>1.415206</td>\n",
       "      <td>-1.132289</td>\n",
       "      <td>-2.227964</td>\n",
       "      <td>0.218964</td>\n",
       "      <td>0.711225</td>\n",
       "      <td>0.738274</td>\n",
       "      <td>0.414529</td>\n",
       "      <td>0.141893</td>\n",
       "      <td>0.432068</td>\n",
       "      <td>...</td>\n",
       "      <td>0.338770</td>\n",
       "      <td>0.536898</td>\n",
       "      <td>-0.202986</td>\n",
       "      <td>-1.625138</td>\n",
       "      <td>-0.006509</td>\n",
       "      <td>-0.114333</td>\n",
       "      <td>-0.048306</td>\n",
       "      <td>-0.044282</td>\n",
       "      <td>282.66</td>\n",
       "      <td>0</td>\n",
       "    </tr>\n",
       "    <tr>\n",
       "      <th>817</th>\n",
       "      <td>126766.0</td>\n",
       "      <td>-3.545717</td>\n",
       "      <td>2.514367</td>\n",
       "      <td>0.341468</td>\n",
       "      <td>-1.752160</td>\n",
       "      <td>0.577088</td>\n",
       "      <td>-0.982154</td>\n",
       "      <td>1.056871</td>\n",
       "      <td>-0.210027</td>\n",
       "      <td>1.566596</td>\n",
       "      <td>...</td>\n",
       "      <td>-0.681595</td>\n",
       "      <td>-0.947778</td>\n",
       "      <td>-0.432949</td>\n",
       "      <td>-0.002672</td>\n",
       "      <td>1.017919</td>\n",
       "      <td>0.233174</td>\n",
       "      <td>0.869123</td>\n",
       "      <td>0.550666</td>\n",
       "      <td>4.47</td>\n",
       "      <td>0</td>\n",
       "    </tr>\n",
       "  </tbody>\n",
       "</table>\n",
       "<p>3 rows × 31 columns</p>\n",
       "</div>"
      ],
      "text/plain": [
       "     data/creditcard_downsampled.csv        V1        V2        V3        V4  \\\n",
       "314                          66360.0 -0.857350  0.127830  3.748614  2.542093   \n",
       "272                         143287.0  1.415206 -1.132289 -2.227964  0.218964   \n",
       "817                         126766.0 -3.545717  2.514367  0.341468 -1.752160   \n",
       "\n",
       "           V5        V6        V7        V8        V9  ...         V21  \\\n",
       "314 -1.032970  1.012139 -0.118369  0.284106  0.584708  ...    0.174886   \n",
       "272  0.711225  0.738274  0.414529  0.141893  0.432068  ...    0.338770   \n",
       "817  0.577088 -0.982154  1.056871 -0.210027  1.566596  ...   -0.681595   \n",
       "\n",
       "          V22       V23       V24       V25       V26       V27       V28  \\\n",
       "314  0.917499 -0.105810  0.752113  0.048024  0.177793 -0.025082 -0.088395   \n",
       "272  0.536898 -0.202986 -1.625138 -0.006509 -0.114333 -0.048306 -0.044282   \n",
       "817 -0.947778 -0.432949 -0.002672  1.017919  0.233174  0.869123  0.550666   \n",
       "\n",
       "     Amount  Class  \n",
       "314   89.77      0  \n",
       "272  282.66      0  \n",
       "817    4.47      0  \n",
       "\n",
       "[3 rows x 31 columns]"
      ]
     },
     "execution_count": 6,
     "metadata": {},
     "output_type": "execute_result"
    },
    {
     "name": "stdout",
     "output_type": "stream",
     "text": [
      "#positives: 492\n",
      "#negatives: 2000\n",
      "Imbalance data ratio (492:2000): 0.197\n"
     ]
    }
   ],
   "source": [
    "## load\n",
    "creditcard_df = pd.read_csv('data/creditcard_downsampled.csv.tar.bz2', compression='bz2', \n",
    "                            sep=',', quotechar='\"', index_col=False)\n",
    "\n",
    "creditcard_df = creditcard_df.dropna()\n",
    "creditcard_df[['Class','Amount']].describe()\n",
    "\n",
    "creditcard_df['Class'] = creditcard_df.Class.astype(int)\n",
    "\n",
    "creditcard_df.sample(3).head(3)\n",
    "\n",
    "n_pos = np.sum(creditcard_df.Class == True)\n",
    "print('#positives: {}'.format(n_pos))\n",
    "\n",
    "n_neg = np.sum(creditcard_df.Class == False)\n",
    "print('#negatives: {}'.format(n_neg))\n",
    "\n",
    "r = n_pos/(n_pos + n_neg)\n",
    "print('Imbalance data ratio ({0}:{1}): {2:.3f}'.format(n_pos,n_neg,r))"
   ]
  },
  {
   "cell_type": "markdown",
   "metadata": {
    "ExecuteTime": {
     "end_time": "2018-09-11T22:48:44.360057Z",
     "start_time": "2018-09-11T22:48:44.354568Z"
    },
    "heading_collapsed": true,
    "hidden": true
   },
   "source": [
    "#### Training 2 models"
   ]
  },
  {
   "cell_type": "code",
   "execution_count": 7,
   "metadata": {
    "ExecuteTime": {
     "end_time": "2018-12-18T23:28:32.035711Z",
     "start_time": "2018-12-18T23:28:32.020487Z"
    },
    "hidden": true
   },
   "outputs": [],
   "source": [
    "from sklearn.model_selection import train_test_split\n",
    "\n",
    "X = creditcard_df[creditcard_df.columns[:-1]]\n",
    "y = creditcard_df[creditcard_df.columns[-1]]\n",
    "\n",
    "X_train, X_test, y_train, y_test = train_test_split(X, y, random_state=2018, test_size=0.3)\n"
   ]
  },
  {
   "cell_type": "code",
   "execution_count": 8,
   "metadata": {
    "ExecuteTime": {
     "end_time": "2018-12-18T23:28:35.440899Z",
     "start_time": "2018-12-18T23:28:35.267603Z"
    },
    "hidden": true
   },
   "outputs": [],
   "source": [
    "# random forests\n",
    "from sklearn.ensemble import RandomForestClassifier\n",
    "from sklearn.linear_model import LogisticRegression\n",
    "\n",
    "rf = RandomForestClassifier(n_estimators = 15,max_depth=5,\n",
    "                            random_state=0).fit(X_train, y_train)\n",
    "\n",
    "\n",
    "lr = LogisticRegression().fit(X_train, y_train)\n"
   ]
  },
  {
   "cell_type": "markdown",
   "metadata": {
    "ExecuteTime": {
     "end_time": "2018-09-11T23:58:38.823835Z",
     "start_time": "2018-09-11T23:58:38.818282Z"
    },
    "heading_collapsed": true,
    "hidden": true
   },
   "source": [
    "#### Precision n Recall Curves"
   ]
  },
  {
   "cell_type": "code",
   "execution_count": 9,
   "metadata": {
    "ExecuteTime": {
     "end_time": "2018-12-18T23:28:36.801429Z",
     "start_time": "2018-12-18T23:28:36.497983Z"
    },
    "hidden": true
   },
   "outputs": [
    {
     "name": "stdout",
     "output_type": "stream",
     "text": [
      "Imbalance data ratio (492:2000): 0.197\n"
     ]
    },
    {
     "data": {
      "image/png": "[encoded data removed]",
      "text/plain": [
       "<Figure size 432x288 with 1 Axes>"
      ]
     },
     "metadata": {},
     "output_type": "display_data"
    }
   ],
   "source": [
    "from sklearn.metrics import precision_recall_curve\n",
    "\n",
    "\n",
    "y_true = y_test > 0.5\n",
    "y_score_rf = rf.predict_proba(X_test)[:,-1]\n",
    "y_score_lr = lr.predict_proba(X_test)[:,-1]\n",
    "np.random.seed(2018)\n",
    "y_score_rd = np.random.uniform(size=y_test.shape[0])\n",
    "y_score_perfect = y_test\n",
    "\n",
    "r = n_pos/(n_pos + n_neg)\n",
    "print('Imbalance data ratio ({0}:{1}): {2:.3f}'.format(n_pos,n_neg,r))\n",
    "\n",
    "precision1, recall1, thrs1 = precision_recall_curve(y_true, y_score_rf)\n",
    "\n",
    "precision2, recall2, thrs2 = precision_recall_curve(y_true, y_score_lr)\n",
    "\n",
    "precision3, recall3, thrs3 = precision_recall_curve(y_true, y_score_rd)\n",
    "\n",
    "precision4, recall4, thrs4 = precision_recall_curve(y_true, y_score_perfect)\n",
    "\n",
    "\n",
    "plt.plot(recall1, precision1, marker='.',label='random florest');\n",
    "plt.plot(recall2, precision2, marker='.', label='logistic regression');\n",
    "plt.plot(recall3, precision3, marker='.', label='random uniform');\n",
    "plt.plot(recall4, precision4, marker='.', label='perfect classifier');\n",
    "plt.plot([0, 1], [r, r], linestyle='--',label='Random');\n",
    "plt.legend();\n",
    "                                              "
   ]
  },
  {
   "cell_type": "code",
   "execution_count": 10,
   "metadata": {
    "ExecuteTime": {
     "end_time": "2018-12-18T23:28:39.632561Z",
     "start_time": "2018-12-18T23:28:39.626206Z"
    },
    "hidden": true
   },
   "outputs": [],
   "source": [
    "# TODO: implement this later better. Give the options to pass multiple model for comparison\n",
    "def plot_prec_recall_vs_tresh(precisions, recalls, thresholds):\n",
    "    \n",
    "    plt.plot(thresholds, precisions[:-1], 'b--', label='precision')\n",
    "    plt.plot(thresholds, recalls[:-1], 'g--', label = 'recall')\n",
    "    plt.xlabel('Threshold')\n",
    "    plt.legend(loc='upper left')\n",
    "    plt.ylim([0,1])\n",
    "    "
   ]
  },
  {
   "cell_type": "code",
   "execution_count": 11,
   "metadata": {
    "ExecuteTime": {
     "end_time": "2018-12-18T23:28:40.330398Z",
     "start_time": "2018-12-18T23:28:40.132008Z"
    },
    "hidden": true
   },
   "outputs": [
    {
     "name": "stdout",
     "output_type": "stream",
     "text": [
      "AUCPRC: 0.9584156721781121\n",
      "f1 score: 0.9665775401069518\n"
     ]
    },
    {
     "data": {
      "image/png": "[encoded data removed]",
      "text/plain": [
       "<Figure size 432x288 with 1 Axes>"
      ]
     },
     "metadata": {},
     "output_type": "display_data"
    }
   ],
   "source": [
    "from sklearn.metrics import f1_score, auc\n",
    "\n",
    "area = auc(recall1, precision1)\n",
    "\n",
    "f = f1_score(y_true, y_score_rf > 0.5 , average='micro')\n",
    "\n",
    "print('AUCPRC: {}'.format(area))\n",
    "print('f1 score: {}'.format(f))\n",
    "\n",
    "\n",
    "# precision_recall_curve returns precision  and recall as a array od shape = [n_thresholds + 1] \n",
    "thrs1.shape\n",
    "recall1.shape\n",
    "precision1.shape\n",
    "\n",
    "precision = precision1[:-1]\n",
    "recall = recall1[:-1]\n",
    "\n",
    "precision.shape\n",
    "recall.shape\n",
    "\n",
    "f_scores = 2 * (precision * recall) / (precision + recall)\n",
    "\n",
    "plt.plot(thrs1, precision, marker='.',label='precision');\n",
    "plt.plot(thrs1, recall, marker='.', label='recall');\n",
    "plt.plot(thrs1, f_scores, marker='.', label='f score');\n",
    "plt.legend();"
   ]
  },
  {
   "cell_type": "markdown",
   "metadata": {
    "hidden": true
   },
   "source": [
    "#### EER: Equal error"
   ]
  },
  {
   "cell_type": "code",
   "execution_count": 15,
   "metadata": {
    "ExecuteTime": {
     "end_time": "2018-12-18T23:30:21.681402Z",
     "start_time": "2018-12-18T23:30:21.674328Z"
    },
    "hidden": true
   },
   "outputs": [
    {
     "name": "stdout",
     "output_type": "stream",
     "text": [
      "thr @ EER: 0.09090308538043898\n",
      "fpr @ EER: 0.07407407407407407\n",
      "fnr @ EER: 0.07792207792207795\n"
     ]
    }
   ],
   "source": [
    "from sklearn.metrics import roc_curve\n",
    "\n",
    "fpr1, tpr1, thr1 = roc_curve(y_true, y_score_rf)\n",
    "fnr1 = 1.0 - tpr1\n",
    "\n",
    "EER1_pos = np.argmin(abs(fnr1-fpr1))\n",
    "EER1_thr1 = thr1[EER1_pos]\n",
    "\n",
    "print('thr @ EER: {}'.format(EER1_thr1))\n",
    "print('fpr @ EER: {}'.format(fpr1[EER1_pos]))\n",
    "print('fnr @ EER: {}'.format(fnr1[EER1_pos]))\n"
   ]
  },
  {
   "cell_type": "markdown",
   "metadata": {
    "ExecuteTime": {
     "end_time": "2019-03-07T21:06:25.029566Z",
     "start_time": "2019-03-07T21:06:25.022393Z"
    },
    "heading_collapsed": true,
    "hidden": true
   },
   "source": [
    "### Model interpretation\n",
    "\n",
    "TODO: \n",
    "    \n",
    "1. importance plot\n",
    "2. LIME"
   ]
  },
  {
   "cell_type": "code",
   "execution_count": null,
   "metadata": {
    "hidden": true
   },
   "outputs": [],
   "source": []
  }
 ],
 "metadata": {
  "kernelspec": {
   "display_name": "Python [default]",
   "language": "python",
   "name": "python3"
  },
  "language_info": {
   "codemirror_mode": {
    "name": "ipython",
    "version": 3
   },
   "file_extension": ".py",
   "mimetype": "text/x-python",
   "name": "python",
   "nbconvert_exporter": "python",
   "pygments_lexer": "ipython3",
   "version": "3.6.5"
  }
 },
 "nbformat": 4,
 "nbformat_minor": 2
}
