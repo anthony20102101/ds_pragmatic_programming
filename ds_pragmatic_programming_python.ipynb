{
 "cells": [
  {
   "cell_type": "markdown",
   "metadata": {
    "ExecuteTime": {
     "end_time": "2018-09-11T18:09:18.303884Z",
     "start_time": "2018-09-11T18:09:18.300979Z"
    }
   },
   "source": [
    "# Data Science Pragmatic programming in Python\n",
    "\n",
    "\n",
    "Code snippets for quick consult (copy n paste)"
   ]
  },
  {
   "cell_type": "code",
   "execution_count": 1,
   "metadata": {
    "ExecuteTime": {
     "end_time": "2018-09-19T16:38:19.508563Z",
     "start_time": "2018-09-19T16:38:18.776272Z"
    }
   },
   "outputs": [],
   "source": [
    "import numpy as np\n",
    "import pandas as pd\n",
    "\n",
    "from scipy import stats\n",
    "\n",
    "import matplotlib\n",
    "import matplotlib.pyplot as plt\n",
    "%matplotlib inline \n",
    "\n",
    "import IPython\n",
    "from IPython.core.interactiveshell import InteractiveShell\n",
    "InteractiveShell.ast_node_interactivity = \"all\"\n"
   ]
  },
  {
   "cell_type": "code",
   "execution_count": 2,
   "metadata": {
    "ExecuteTime": {
     "end_time": "2018-09-19T16:38:24.296044Z",
     "start_time": "2018-09-19T16:38:24.176311Z"
    }
   },
   "outputs": [
    {
     "name": "stdout",
     "output_type": "stream",
     "text": [
      "/home/leandroohf/Documents/leandro/ds_pragmatic_programming\r\n"
     ]
    }
   ],
   "source": [
    "!pwd"
   ]
  },
  {
   "cell_type": "markdown",
   "metadata": {},
   "source": [
    "## Generate data \n",
    "\n",
    "* generate data\n",
    "* load data sets (toy)\n",
    "\n",
    "http://scikit-learn.org/stable/datasets/index.html"
   ]
  },
  {
   "cell_type": "markdown",
   "metadata": {
    "heading_collapsed": true
   },
   "source": [
    "### Gen random numbers\n",
    "\n",
    "* uniform\n",
    "* normal\n",
    "* multivariate\n",
    "* bolean\n",
    "* integer"
   ]
  },
  {
   "cell_type": "code",
   "execution_count": null,
   "metadata": {
    "ExecuteTime": {
     "end_time": "2018-09-12T00:53:28.393935Z",
     "start_time": "2018-09-12T00:53:28.346725Z"
    },
    "hidden": true
   },
   "outputs": [],
   "source": [
    "## random numbers\n",
    "np.random.seed(seed=2018)\n",
    "\n",
    "# random boolean\n",
    "b = np.random.uniform(size=3) > .5\n",
    "b\n",
    "\n",
    "# uniform\n",
    "u = np.random.uniform(size=3)\n",
    "u\n",
    "\n",
    "# random int\n",
    "i = np.random.randint(0,9,size=3)\n",
    "i\n",
    "\n",
    "# random choice\n",
    "c = np.random.choice(['a','b','c','e'],size=7)\n",
    "c\n",
    "\n",
    "# normal\n",
    "n = np.random.normal(size=5)\n",
    "n\n",
    "\n",
    "# multivariated normal 2d;\n",
    "_mean = (1, 2)\n",
    "_cov = [[1, 0], [0, 1]]\n",
    "m = np.random.multivariate_normal(_mean, _cov, 3 )\n",
    "m.shape\n",
    "m"
   ]
  },
  {
   "cell_type": "markdown",
   "metadata": {
    "heading_collapsed": true
   },
   "source": [
    "### Gen data for classifications and clustering\n",
    "\n",
    "Shameless stolen from:\n",
    "http://scikit-learn.org/stable/auto_examples/datasets/plot_random_dataset.html#sphx-glr-auto-examples-datasets-plot-random-dataset-py\n"
   ]
  },
  {
   "cell_type": "markdown",
   "metadata": {
    "hidden": true
   },
   "source": [
    "* **make_classification** create multiclass datasets by allocating each class one or more **normally-distributed** clusters of points\n",
    "\n",
    "   make_classification introducing noise by way of: correlated, redundant and uninformative features; multiple Gaussian clusters per class; and linear transformations of the feature space."
   ]
  },
  {
   "cell_type": "code",
   "execution_count": null,
   "metadata": {
    "ExecuteTime": {
     "end_time": "2018-09-12T00:53:34.450489Z",
     "start_time": "2018-09-12T00:53:33.898046Z"
    },
    "code_folding": [
     0
    ],
    "hidden": true
   },
   "outputs": [],
   "source": [
    "## classification (normal distributed)\n",
    "from sklearn.datasets import make_classification\n",
    "\n",
    "plt.figure(figsize=(10, 15));\n",
    "\n",
    "plt.subplots_adjust(bottom=.05, top=.9, left=.05, right=.95);\n",
    "\n",
    "X1, Y1 = make_classification(n_features=2, n_redundant=0, n_informative=1,\n",
    "                             n_clusters_per_class=1)\n",
    "\n",
    "plt.subplot(321);\n",
    "plt.title(\"One informative feature, one cluster per class\", fontsize='small');\n",
    "plt.scatter(X1[:, 0], X1[:, 1], marker='o', c=Y1,\n",
    "            s=25, edgecolor='k')\n",
    "\n",
    "X1, Y1 = make_classification(n_features=2, n_redundant=0, n_informative=2,\n",
    "                             n_clusters_per_class=1)\n",
    "\n",
    "plt.subplot(322);\n",
    "plt.title(\"Two informative features, one cluster per class\", fontsize='small');\n",
    "\n",
    "plt.scatter(X1[:, 0], X1[:, 1], marker='o', c=Y1,\n",
    "            s=25, edgecolor='k');\n",
    "\n",
    "\n",
    "X2, Y2 = make_classification(n_features=2, n_redundant=0, n_informative=2)\n",
    "\n",
    "plt.subplot(323);\n",
    "plt.title(\"Two informative features, two clusters per class\",\n",
    "          fontsize='small');\n",
    "\n",
    "plt.scatter(X2[:, 0], X2[:, 1], marker='o', c=Y2,\n",
    "            s=25, edgecolor='k')\n",
    "\n",
    "\n",
    "X1, Y1 = make_classification(n_features=2, n_redundant=0, n_informative=2,\n",
    "                             n_clusters_per_class=1, n_classes=3)\n",
    "\n",
    "plt.subplot(324);\n",
    "plt.title(\"Multi-class, two informative features, one cluster\",\n",
    "          fontsize='small');\n",
    "\n",
    "plt.scatter(X1[:, 0], X1[:, 1], marker='o', c=Y1,\n",
    "            s=25, edgecolor='k');\n",
    "\n",
    "plt.show();"
   ]
  },
  {
   "cell_type": "markdown",
   "metadata": {
    "ExecuteTime": {
     "end_time": "2018-09-11T18:37:11.959944Z",
     "start_time": "2018-09-11T18:37:11.956913Z"
    },
    "hidden": true
   },
   "source": [
    "* **make_blobs**: Generate isotropic (uniformity in all orientations) Gaussian blobs for clustering. \n",
    "\n",
    "* **make_gaussian_quantiles**: Generate isotropic Gaussian and label samples by quantile"
   ]
  },
  {
   "cell_type": "code",
   "execution_count": null,
   "metadata": {
    "ExecuteTime": {
     "end_time": "2018-09-12T00:53:37.806512Z",
     "start_time": "2018-09-12T00:53:37.536558Z"
    },
    "code_folding": [
     0
    ],
    "hidden": true
   },
   "outputs": [],
   "source": [
    "## Blobs n gaussian qunatiles\n",
    "from sklearn.datasets import make_blobs\n",
    "from sklearn.datasets import make_gaussian_quantiles\n",
    "\n",
    "X1, Y1 = make_blobs(n_features=2, centers=3, random_state=2018)\n",
    "\n",
    "plt.figure(figsize=(11,5));\n",
    "\n",
    "ax1 = plt.subplot(121);\n",
    "plt.title(\"Three blobs\", fontsize='small');\n",
    "plt.scatter(X1[:, 0], X1[:, 1], marker='o', c=Y1,\n",
    "            s=25, edgecolor='k');\n",
    "\n",
    "X1, Y1 = make_gaussian_quantiles(n_features=2, n_classes=3,n_samples=256,random_state=2018)\n",
    "\n",
    "ax2 = plt.subplot(122);\n",
    "plt.title(\"Gaussian divided into three quantiles\", fontsize='small');\n",
    "\n",
    "plt.scatter(X1[:, 0], X1[:, 1], marker='o', c=Y1,\n",
    "            s=25, edgecolor='k');\n",
    "\n",
    "ax2.set_xlim(-4,4);\n",
    "ax2.set_ylim(-4,4);\n",
    "\n",
    "plt.show()"
   ]
  },
  {
   "cell_type": "markdown",
   "metadata": {
    "hidden": true
   },
   "source": [
    "* **make_circles**: Make a large circle containing a smaller circle in 2d.\n",
    "\n",
    "* **make_moons**: Make two interleaving half circles"
   ]
  },
  {
   "cell_type": "code",
   "execution_count": null,
   "metadata": {
    "ExecuteTime": {
     "end_time": "2018-09-12T00:53:41.025344Z",
     "start_time": "2018-09-12T00:53:40.817521Z"
    },
    "hidden": true
   },
   "outputs": [],
   "source": [
    "## Clustering\n",
    "from sklearn.datasets import make_moons, make_circles\n",
    "\n",
    "X, y = make_circles(n_samples=400, factor=.3, noise=.05, random_state=2018)\n",
    "\n",
    "# scatter plot of original and reduced data\n",
    "fig = plt.figure(figsize=(9, 8));\n",
    "\n",
    "ax1 = plt.subplot(121,aspect='equal');\n",
    "ax1.scatter(X[:, 0], X[:, 1], c=y, s=50, edgecolor='k');\n",
    "ax1.set_title(\"Circle Data (2d)\");\n",
    "ax1.set_xticks(());\n",
    "ax1.set_yticks(());\n",
    "\n",
    "\n",
    "X, y = make_moons(n_samples=400, noise=.05,random_state=2018)\n",
    "\n",
    "ax2 = plt.subplot(122,aspect='equal');\n",
    "ax2.scatter(X[:, 0], X[:, 1], c=y, s=50, edgecolor='k');\n",
    "ax2.set_title(\"Moons Data (2d)\");\n",
    "ax2.set_xticks(());\n",
    "ax2.set_yticks(());\n",
    "\n",
    "plt.tight_layout();\n",
    "plt.show;\n"
   ]
  },
  {
   "cell_type": "markdown",
   "metadata": {},
   "source": [
    "### Load data sets\n"
   ]
  },
  {
   "cell_type": "markdown",
   "metadata": {},
   "source": [
    "* **load_iris** Load and return the iris dataset (classification).\n",
    "\n",
    "<img src=\"images/iris_petal_sepal.png\" width=\"250\" align=\"left\"/>\n"
   ]
  },
  {
   "cell_type": "code",
   "execution_count": null,
   "metadata": {
    "ExecuteTime": {
     "end_time": "2018-09-12T00:53:47.632419Z",
     "start_time": "2018-09-12T00:53:47.487355Z"
    },
    "code_folding": []
   },
   "outputs": [],
   "source": [
    "## datasets\n",
    "\n",
    "from sklearn.datasets import load_iris\n",
    "\n",
    "# Load the Iris flower dataset:\n",
    "iris = load_iris()\n",
    "X_iris = iris.data\n",
    "Y_iris = iris.target\n",
    "\n",
    "print('data size: {}'.format(X_iris.shape))\n",
    "print('features: {}'.format(iris.feature_names))\n",
    "print('labels: {}'.format(iris.target_names))\n",
    "\n",
    "print()\n",
    "\n",
    "plt.figure(2, figsize=(4, 3));\n",
    "plt.clf();\n",
    "\n",
    "# Plot \n",
    "plt.scatter(X_iris[:, 0], X_iris[:, 1], c=Y_iris, cmap=plt.cm.Set1,\n",
    "            edgecolor='k');\n",
    "plt.xlabel('Sepal length');\n",
    "plt.ylabel('Sepal width');"
   ]
  },
  {
   "cell_type": "markdown",
   "metadata": {},
   "source": [
    "* **load_boston**: Load and return the boston house-prices dataset (regression)."
   ]
  },
  {
   "cell_type": "code",
   "execution_count": null,
   "metadata": {
    "ExecuteTime": {
     "end_time": "2018-09-12T00:53:51.352130Z",
     "start_time": "2018-09-12T00:53:51.334019Z"
    }
   },
   "outputs": [],
   "source": [
    "# Boston house pricing\n",
    "\n",
    "from sklearn.datasets import load_boston\n",
    "\n",
    "boston = load_boston()\n",
    "\n",
    "print('data size: {}'.format(boston.data.shape))\n",
    "print('features: {}'.format(boston.feature_names))"
   ]
  },
  {
   "cell_type": "code",
   "execution_count": null,
   "metadata": {
    "ExecuteTime": {
     "end_time": "2018-09-14T18:39:54.664611Z",
     "start_time": "2018-09-14T18:39:54.645753Z"
    }
   },
   "outputs": [],
   "source": [
    "data = pd.read_csv('data/phone_data.csv')\n",
    "\n",
    "data.shape\n",
    "data.head(5)"
   ]
  },
  {
   "cell_type": "markdown",
   "metadata": {
    "heading_collapsed": true
   },
   "source": [
    "## Data wrangler (Remember, 80% of the project time is spent here)\n",
    "\n",
    "\n",
    "[pandas cheat sheet](http://pandas.pydata.org/Pandas_Cheat_Sheet.pdf)"
   ]
  },
  {
   "cell_type": "markdown",
   "metadata": {
    "hidden": true
   },
   "source": [
    "### Read and write data\n",
    "\n",
    "* pandas\n",
    "* dict\n",
    "* file handle\n"
   ]
  },
  {
   "cell_type": "code",
   "execution_count": null,
   "metadata": {
    "ExecuteTime": {
     "end_time": "2018-09-18T17:22:55.236101Z",
     "start_time": "2018-09-18T17:22:55.122782Z"
    },
    "hidden": true
   },
   "outputs": [],
   "source": [
    "!rm -v data/output.tsv"
   ]
  },
  {
   "cell_type": "code",
   "execution_count": 3,
   "metadata": {
    "ExecuteTime": {
     "end_time": "2018-09-19T16:38:39.075485Z",
     "start_time": "2018-09-19T16:38:39.065185Z"
    },
    "hidden": true
   },
   "outputs": [
    {
     "name": "stdout",
     "output_type": "stream",
     "text": [
      "Processing: 0\n",
      "Processing: 2\n",
      "Processing: 0\n",
      "Processing: 2\n"
     ]
    }
   ],
   "source": [
    "# lazzy way\n",
    "for k in range(0,3) :\n",
    "    \n",
    "    if k % 2 == 0:\n",
    "        print('Processing: {}'.format(k))\n",
    "\n",
    "    score =  np.random.normal(size=1)[0]\n",
    "    print(\"{k:d}\\t{score:.2f}\".format(k=k, score=score), file=open(\"data/output.tsv\", \"a\"))\n",
    " \n",
    "\n",
    "# bettre way\n",
    "with open('data/output.txt', 'a') as f:\n",
    "    for k in range(0,3) :\n",
    "    \n",
    "        if k % 2 == 0:\n",
    "            print('Processing: {}'.format(k))\n",
    "\n",
    "        score =  np.random.normal(size=1)[0]\n",
    "        print(\"{k:d}\\t{score:.2f}\".format(k=k, score=score), file=f)\n"
   ]
  },
  {
   "cell_type": "code",
   "execution_count": null,
   "metadata": {
    "ExecuteTime": {
     "end_time": "2018-09-18T17:22:58.536626Z",
     "start_time": "2018-09-18T17:22:58.418764Z"
    },
    "hidden": true
   },
   "outputs": [],
   "source": [
    "!cat data/output.tsv"
   ]
  },
  {
   "cell_type": "code",
   "execution_count": null,
   "metadata": {
    "ExecuteTime": {
     "end_time": "2018-09-18T19:08:35.185906Z",
     "start_time": "2018-09-18T19:08:35.174133Z"
    },
    "hidden": true
   },
   "outputs": [],
   "source": [
    "import csv\n",
    "\n",
    "my_dict = {'key1': 'value_a', 'key2': 1, 'key3': 2.0}\n",
    "\n",
    "# write\n",
    "with open('data/dict.csv', 'w') as f:\n",
    "    [f.write('{0},{1}\\n'.format(key, value)) for key, value in my_dict.items()];\n",
    "\n",
    "\n",
    "# read\n",
    "with open('data/dict.csv', 'r') as csv_file:\n",
    "    \n",
    "    reader = csv.reader(csv_file)\n",
    "    my_dict2 = dict(reader)\n",
    "    \n",
    "my_dict2"
   ]
  },
  {
   "cell_type": "code",
   "execution_count": null,
   "metadata": {
    "ExecuteTime": {
     "end_time": "2018-09-18T19:08:36.145011Z",
     "start_time": "2018-09-18T19:08:36.031360Z"
    },
    "hidden": true
   },
   "outputs": [],
   "source": [
    "!cat data/dict.csv"
   ]
  },
  {
   "cell_type": "markdown",
   "metadata": {
    "heading_collapsed": true,
    "hidden": true
   },
   "source": [
    "### Summarize data\n",
    "\n",
    "\n",
    "* descriptive (tables)\n",
    "* groupby\n",
    "\n"
   ]
  },
  {
   "cell_type": "markdown",
   "metadata": {
    "hidden": true
   },
   "source": [
    "#### Groupby\n",
    "\n",
    "Split-Apply-Combine\n",
    "\n",
    "<img src=\"images/split-apply-combine.png\" width=\"400\" align=\"left\"/>\n"
   ]
  },
  {
   "cell_type": "code",
   "execution_count": null,
   "metadata": {
    "ExecuteTime": {
     "end_time": "2018-09-14T19:07:34.007344Z",
     "start_time": "2018-09-14T19:07:33.987668Z"
    },
    "hidden": true
   },
   "outputs": [],
   "source": [
    "data = pd.read_csv('./data/phone_data.csv')\n",
    "\n",
    "data.shape\n",
    "\n",
    "data.head(5)"
   ]
  },
  {
   "cell_type": "code",
   "execution_count": null,
   "metadata": {
    "ExecuteTime": {
     "end_time": "2018-09-14T21:30:32.605679Z",
     "start_time": "2018-09-14T21:30:32.567873Z"
    },
    "hidden": true
   },
   "outputs": [],
   "source": [
    "# Group the data frame by month and item and extract a number of stats from each group\n",
    "data.groupby(['month', 'item'], as_index=False).aggregate({\n",
    "                                 'duration': [ 'std','median', sum, lambda d: d.mean()/(d.std()+1)],          # find the sum of the durations for each group\n",
    "                                 'date':  'first',       # get the first date per group\n",
    "                                 'network_type': ['nunique', 'count']\n",
    "                                    })"
   ]
  },
  {
   "cell_type": "markdown",
   "metadata": {},
   "source": [
    "## Evaluation metrics"
   ]
  },
  {
   "cell_type": "markdown",
   "metadata": {
    "ExecuteTime": {
     "end_time": "2018-09-11T18:45:22.985857Z",
     "start_time": "2018-09-11T18:45:22.979639Z"
    },
    "heading_collapsed": true
   },
   "source": [
    "### Accuracy  and confusion matrix"
   ]
  },
  {
   "cell_type": "code",
   "execution_count": null,
   "metadata": {
    "ExecuteTime": {
     "end_time": "2018-09-12T00:54:01.152732Z",
     "start_time": "2018-09-12T00:54:01.130484Z"
    },
    "hidden": true
   },
   "outputs": [],
   "source": [
    "## Accuracy \n",
    "\n",
    "from sklearn.metrics import accuracy_score, confusion_matrix\n",
    "from tabulate import tabulate\n",
    "\n",
    "np.random.seed(2018)\n",
    "\n",
    "y_true = np.random.uniform(size=7) > .5\n",
    "y_pred = np.random.uniform(size=7) > .4\n",
    "\n",
    "acc = accuracy_score(y_true, y_pred)\n",
    "print('Fake data')\n",
    "print('y_true: {}'.format(y_true))\n",
    "print('y_pred: {}'.format(y_pred))\n",
    "\n",
    "print('accuracy: {}'.format(acc))\n",
    "\n",
    "cf_m = confusion_matrix(y_true, y_pred)\n",
    "\n",
    "cf_df = pd.DataFrame(cf_m, index=[\"Actual Positive\", \"Actual Negative\"], columns = [\"Predicted Positive\", \"Predicted Negative\"])\n",
    "tn, fp, fn, tp = confusion_matrix(y_true, y_pred).ravel()\n",
    "\n",
    "FPR = fp/(fp+tn)\n",
    "FNR = fn/(tp+fn)\n",
    "\n",
    "print(tabulate(cf_df, tablefmt=\"orgtbl\",\n",
    "               headers=\"keys\"))\n",
    "\n",
    "\n",
    "print()\n",
    "print('FPR: {}'.format(FPR))\n",
    "print('FNR: {}'.format(FNR))\n",
    "\n",
    "print()\n"
   ]
  },
  {
   "cell_type": "markdown",
   "metadata": {
    "hidden": true
   },
   "source": [
    "=================================\n",
    "\n",
    "For markdwon cells, insert the code in a markdown cell. \n",
    "\n",
    "```python\n",
    "\\{\\{print(tabulate(cf_df, headers=\"keys\", tablefmt=\"html\"))\\}\\}\n",
    "```\n",
    "\n",
    "\n",
    "{{print(tabulate(cf_df, headers=\"keys\", tablefmt=\"html\"))}}\n"
   ]
  },
  {
   "cell_type": "markdown",
   "metadata": {},
   "source": [
    "### Precision Recall Curve, AUC and F score\n"
   ]
  },
  {
   "cell_type": "markdown",
   "metadata": {
    "heading_collapsed": true
   },
   "source": [
    "####  Downsampling data example\n",
    "\n",
    "Does need to run one time int he case we do not have data/creditcard_downsampled.csv.tar.bz2.\n",
    "\n",
    "Also is an example of downsampling data.\n",
    "\n",
    "Data downloaded from:\n",
    "https://www.kaggle.com/mlg-ulb/creditcardfraud\n",
    "\n",
    "\n",
    "* The original imbalance ratio (492:284315): 0.002\n",
    "* Downsample the majority to reach the ratio 1:3 , just to have small data set"
   ]
  },
  {
   "cell_type": "code",
   "execution_count": null,
   "metadata": {
    "ExecuteTime": {
     "end_time": "2018-09-12T00:54:14.992041Z",
     "start_time": "2018-09-12T00:54:10.554356Z"
    },
    "hidden": true
   },
   "outputs": [],
   "source": [
    "## Does not need to run this again once you have credicard_downsampled.csv.tar.bz2\n",
    "creditcard_df = pd.read_csv('data/creditcard.csv.zip', compression='zip', sep=',', quotechar='\"')\n",
    "\n",
    "creditcard_df.sample(3).head(3)\n",
    "\n",
    "n_pos = np.sum(creditcard_df.Class == True)\n",
    "print('#positives: {}'.format(n_pos))\n",
    "\n",
    "n_neg = np.sum(creditcard_df.Class == False)\n",
    "print('#negatives: {}'.format(n_neg))\n",
    "\n",
    "r = n_pos/(n_pos + n_neg)\n",
    "print('Imbalance data ratio ({0}:{1}): {2:.3f}'.format(n_pos,n_neg,r))"
   ]
  },
  {
   "cell_type": "markdown",
   "metadata": {
    "hidden": true
   },
   "source": [
    "downsample both class to have smaller dataset"
   ]
  },
  {
   "cell_type": "code",
   "execution_count": null,
   "metadata": {
    "ExecuteTime": {
     "end_time": "2018-09-12T00:54:17.547528Z",
     "start_time": "2018-09-12T00:54:17.337649Z"
    },
    "hidden": true
   },
   "outputs": [],
   "source": [
    "from sklearn.utils import resample\n",
    "\n",
    "# Separate majority and minority classes\n",
    "df_majority = creditcard_df[creditcard_df.Class==0]\n",
    "df_minority = creditcard_df[creditcard_df.Class==1]\n",
    " \n",
    "# Downsample majority class\n",
    "df_majority_downsampled = resample(df_majority, \n",
    "                                 replace=False,    # sample without replacement\n",
    "                                 n_samples=2000,     # to match minority class\n",
    "                                 random_state=123) # reproducible results\n",
    " \n",
    "\n",
    "# Combine minority class with downsampled majority class\n",
    "df_downsampled = pd.concat([df_majority_downsampled, df_minority])\n",
    "df_downsampled = df_downsampled.reset_index(drop=True)\n",
    "\n",
    "\n",
    "# Saving\n",
    "df_downsampled.to_csv('data/creditcard_downsampled.csv', index=False)"
   ]
  },
  {
   "cell_type": "code",
   "execution_count": null,
   "metadata": {
    "ExecuteTime": {
     "end_time": "2018-09-12T00:54:20.033096Z",
     "start_time": "2018-09-12T00:54:19.895823Z"
    },
    "hidden": true,
    "scrolled": true
   },
   "outputs": [],
   "source": [
    "%%bash\n",
    "\n",
    "# remove old file\n",
    "rm -v data/creditcard_downsampled.csv.tar.bz2 \n",
    "tar -cjvf  data/creditcard_downsampled.csv.tar.bz2 data/creditcard_downsampled.csv\n",
    "\n",
    "rm -v data/creditcard_downsampled.csv\n",
    "\n",
    "du -sh data/*"
   ]
  },
  {
   "cell_type": "markdown",
   "metadata": {},
   "source": [
    "#### Load downsampled data"
   ]
  },
  {
   "cell_type": "code",
   "execution_count": 4,
   "metadata": {
    "ExecuteTime": {
     "end_time": "2018-09-19T16:47:57.313186Z",
     "start_time": "2018-09-19T16:47:57.097116Z"
    }
   },
   "outputs": [
    {
     "data": {
      "text/html": [
       "<div>\n",
       "<style scoped>\n",
       "    .dataframe tbody tr th:only-of-type {\n",
       "        vertical-align: middle;\n",
       "    }\n",
       "\n",
       "    .dataframe tbody tr th {\n",
       "        vertical-align: top;\n",
       "    }\n",
       "\n",
       "    .dataframe thead th {\n",
       "        text-align: right;\n",
       "    }\n",
       "</style>\n",
       "<table border=\"1\" class=\"dataframe\">\n",
       "  <thead>\n",
       "    <tr style=\"text-align: right;\">\n",
       "      <th></th>\n",
       "      <th>Class</th>\n",
       "      <th>Amount</th>\n",
       "    </tr>\n",
       "  </thead>\n",
       "  <tbody>\n",
       "    <tr>\n",
       "      <th>count</th>\n",
       "      <td>2492.000000</td>\n",
       "      <td>2492.000000</td>\n",
       "    </tr>\n",
       "    <tr>\n",
       "      <th>mean</th>\n",
       "      <td>0.197432</td>\n",
       "      <td>97.498427</td>\n",
       "    </tr>\n",
       "    <tr>\n",
       "      <th>std</th>\n",
       "      <td>0.398141</td>\n",
       "      <td>224.284179</td>\n",
       "    </tr>\n",
       "    <tr>\n",
       "      <th>min</th>\n",
       "      <td>0.000000</td>\n",
       "      <td>0.000000</td>\n",
       "    </tr>\n",
       "    <tr>\n",
       "      <th>25%</th>\n",
       "      <td>0.000000</td>\n",
       "      <td>3.597500</td>\n",
       "    </tr>\n",
       "    <tr>\n",
       "      <th>50%</th>\n",
       "      <td>0.000000</td>\n",
       "      <td>21.030000</td>\n",
       "    </tr>\n",
       "    <tr>\n",
       "      <th>75%</th>\n",
       "      <td>0.000000</td>\n",
       "      <td>89.990000</td>\n",
       "    </tr>\n",
       "    <tr>\n",
       "      <th>max</th>\n",
       "      <td>1.000000</td>\n",
       "      <td>3249.730000</td>\n",
       "    </tr>\n",
       "  </tbody>\n",
       "</table>\n",
       "</div>"
      ],
      "text/plain": [
       "             Class       Amount\n",
       "count  2492.000000  2492.000000\n",
       "mean      0.197432    97.498427\n",
       "std       0.398141   224.284179\n",
       "min       0.000000     0.000000\n",
       "25%       0.000000     3.597500\n",
       "50%       0.000000    21.030000\n",
       "75%       0.000000    89.990000\n",
       "max       1.000000  3249.730000"
      ]
     },
     "execution_count": 4,
     "metadata": {},
     "output_type": "execute_result"
    },
    {
     "data": {
      "text/html": [
       "<div>\n",
       "<style scoped>\n",
       "    .dataframe tbody tr th:only-of-type {\n",
       "        vertical-align: middle;\n",
       "    }\n",
       "\n",
       "    .dataframe tbody tr th {\n",
       "        vertical-align: top;\n",
       "    }\n",
       "\n",
       "    .dataframe thead th {\n",
       "        text-align: right;\n",
       "    }\n",
       "</style>\n",
       "<table border=\"1\" class=\"dataframe\">\n",
       "  <thead>\n",
       "    <tr style=\"text-align: right;\">\n",
       "      <th></th>\n",
       "      <th>data/creditcard_downsampled.csv</th>\n",
       "      <th>V1</th>\n",
       "      <th>V2</th>\n",
       "      <th>V3</th>\n",
       "      <th>V4</th>\n",
       "      <th>V5</th>\n",
       "      <th>V6</th>\n",
       "      <th>V7</th>\n",
       "      <th>V8</th>\n",
       "      <th>V9</th>\n",
       "      <th>...</th>\n",
       "      <th>V21</th>\n",
       "      <th>V22</th>\n",
       "      <th>V23</th>\n",
       "      <th>V24</th>\n",
       "      <th>V25</th>\n",
       "      <th>V26</th>\n",
       "      <th>V27</th>\n",
       "      <th>V28</th>\n",
       "      <th>Amount</th>\n",
       "      <th>Class</th>\n",
       "    </tr>\n",
       "  </thead>\n",
       "  <tbody>\n",
       "    <tr>\n",
       "      <th>195</th>\n",
       "      <td>165154.0</td>\n",
       "      <td>-0.160398</td>\n",
       "      <td>1.150366</td>\n",
       "      <td>-0.914660</td>\n",
       "      <td>-0.575656</td>\n",
       "      <td>0.676407</td>\n",
       "      <td>-0.712468</td>\n",
       "      <td>0.693242</td>\n",
       "      <td>0.204050</td>\n",
       "      <td>-0.063282</td>\n",
       "      <td>...</td>\n",
       "      <td>0.341778</td>\n",
       "      <td>1.111552</td>\n",
       "      <td>-0.192421</td>\n",
       "      <td>-0.974365</td>\n",
       "      <td>-0.637401</td>\n",
       "      <td>-0.154244</td>\n",
       "      <td>0.379865</td>\n",
       "      <td>0.249296</td>\n",
       "      <td>7.74</td>\n",
       "      <td>0</td>\n",
       "    </tr>\n",
       "    <tr>\n",
       "      <th>397</th>\n",
       "      <td>109475.0</td>\n",
       "      <td>0.007556</td>\n",
       "      <td>0.875370</td>\n",
       "      <td>0.319915</td>\n",
       "      <td>-0.563118</td>\n",
       "      <td>0.702889</td>\n",
       "      <td>-0.595429</td>\n",
       "      <td>0.773443</td>\n",
       "      <td>-0.105382</td>\n",
       "      <td>1.038701</td>\n",
       "      <td>...</td>\n",
       "      <td>-0.380811</td>\n",
       "      <td>-0.723726</td>\n",
       "      <td>0.036538</td>\n",
       "      <td>-0.410010</td>\n",
       "      <td>-0.506232</td>\n",
       "      <td>0.102811</td>\n",
       "      <td>0.213901</td>\n",
       "      <td>0.077651</td>\n",
       "      <td>2.69</td>\n",
       "      <td>0</td>\n",
       "    </tr>\n",
       "    <tr>\n",
       "      <th>1387</th>\n",
       "      <td>145869.0</td>\n",
       "      <td>2.312615</td>\n",
       "      <td>-1.354371</td>\n",
       "      <td>-1.284908</td>\n",
       "      <td>-1.834981</td>\n",
       "      <td>-0.719941</td>\n",
       "      <td>0.012183</td>\n",
       "      <td>-1.132705</td>\n",
       "      <td>-0.048939</td>\n",
       "      <td>-1.510996</td>\n",
       "      <td>...</td>\n",
       "      <td>-0.161164</td>\n",
       "      <td>0.010353</td>\n",
       "      <td>0.170678</td>\n",
       "      <td>0.081469</td>\n",
       "      <td>-0.083867</td>\n",
       "      <td>-0.176077</td>\n",
       "      <td>0.001341</td>\n",
       "      <td>-0.060235</td>\n",
       "      <td>15.00</td>\n",
       "      <td>0</td>\n",
       "    </tr>\n",
       "  </tbody>\n",
       "</table>\n",
       "<p>3 rows × 31 columns</p>\n",
       "</div>"
      ],
      "text/plain": [
       "      data/creditcard_downsampled.csv        V1        V2        V3        V4  \\\n",
       "195                          165154.0 -0.160398  1.150366 -0.914660 -0.575656   \n",
       "397                          109475.0  0.007556  0.875370  0.319915 -0.563118   \n",
       "1387                         145869.0  2.312615 -1.354371 -1.284908 -1.834981   \n",
       "\n",
       "            V5        V6        V7        V8        V9  ...         V21  \\\n",
       "195   0.676407 -0.712468  0.693242  0.204050 -0.063282  ...    0.341778   \n",
       "397   0.702889 -0.595429  0.773443 -0.105382  1.038701  ...   -0.380811   \n",
       "1387 -0.719941  0.012183 -1.132705 -0.048939 -1.510996  ...   -0.161164   \n",
       "\n",
       "           V22       V23       V24       V25       V26       V27       V28  \\\n",
       "195   1.111552 -0.192421 -0.974365 -0.637401 -0.154244  0.379865  0.249296   \n",
       "397  -0.723726  0.036538 -0.410010 -0.506232  0.102811  0.213901  0.077651   \n",
       "1387  0.010353  0.170678  0.081469 -0.083867 -0.176077  0.001341 -0.060235   \n",
       "\n",
       "      Amount  Class  \n",
       "195     7.74      0  \n",
       "397     2.69      0  \n",
       "1387   15.00      0  \n",
       "\n",
       "[3 rows x 31 columns]"
      ]
     },
     "execution_count": 4,
     "metadata": {},
     "output_type": "execute_result"
    },
    {
     "name": "stdout",
     "output_type": "stream",
     "text": [
      "#positives: 492\n",
      "#negatives: 2000\n",
      "Imbalance data ratio (492:2000): 0.197\n"
     ]
    }
   ],
   "source": [
    "## load\n",
    "creditcard_df = pd.read_csv('data/creditcard_downsampled.csv.tar.bz2', compression='bz2', \n",
    "                            sep=',', quotechar='\"', index_col=False)\n",
    "\n",
    "creditcard_df = creditcard_df.dropna()\n",
    "creditcard_df[['Class','Amount']].describe()\n",
    "\n",
    "creditcard_df['Class'] = creditcard_df.Class.astype(int)\n",
    "\n",
    "creditcard_df.sample(3).head(3)\n",
    "\n",
    "n_pos = np.sum(creditcard_df.Class == True)\n",
    "print('#positives: {}'.format(n_pos))\n",
    "\n",
    "n_neg = np.sum(creditcard_df.Class == False)\n",
    "print('#negatives: {}'.format(n_neg))\n",
    "\n",
    "r = n_pos/(n_pos + n_neg)\n",
    "print('Imbalance data ratio ({0}:{1}): {2:.3f}'.format(n_pos,n_neg,r))"
   ]
  },
  {
   "cell_type": "markdown",
   "metadata": {
    "ExecuteTime": {
     "end_time": "2018-09-11T22:48:44.360057Z",
     "start_time": "2018-09-11T22:48:44.354568Z"
    }
   },
   "source": [
    "#### Training 2 models"
   ]
  },
  {
   "cell_type": "code",
   "execution_count": 5,
   "metadata": {
    "ExecuteTime": {
     "end_time": "2018-09-19T16:48:02.185968Z",
     "start_time": "2018-09-19T16:48:02.148114Z"
    }
   },
   "outputs": [],
   "source": [
    "from sklearn.model_selection import train_test_split\n",
    "\n",
    "X = creditcard_df[creditcard_df.columns[:-1]]\n",
    "y = creditcard_df[creditcard_df.columns[-1]]\n",
    "\n",
    "X_train, X_test, y_train, y_test = train_test_split(X, y, random_state=2018, test_size=0.3)\n"
   ]
  },
  {
   "cell_type": "code",
   "execution_count": 6,
   "metadata": {
    "ExecuteTime": {
     "end_time": "2018-09-19T16:48:02.770193Z",
     "start_time": "2018-09-19T16:48:02.619290Z"
    }
   },
   "outputs": [],
   "source": [
    "# random forests\n",
    "from sklearn.ensemble import RandomForestClassifier\n",
    "from sklearn.linear_model import LogisticRegression\n",
    "\n",
    "rf = RandomForestClassifier(n_estimators = 15,max_depth=5,\n",
    "                            random_state=0).fit(X_train, y_train)\n",
    "\n",
    "\n",
    "lr = LogisticRegression().fit(X_train, y_train)\n"
   ]
  },
  {
   "cell_type": "markdown",
   "metadata": {
    "ExecuteTime": {
     "end_time": "2018-09-11T23:58:38.823835Z",
     "start_time": "2018-09-11T23:58:38.818282Z"
    }
   },
   "source": [
    "#### Precision n Recall Curves"
   ]
  },
  {
   "cell_type": "code",
   "execution_count": 7,
   "metadata": {
    "ExecuteTime": {
     "end_time": "2018-09-19T16:48:06.474330Z",
     "start_time": "2018-09-19T16:48:06.196994Z"
    }
   },
   "outputs": [
    {
     "name": "stdout",
     "output_type": "stream",
     "text": [
      "Imbalance data ratio (492:2000): 0.197\n"
     ]
    },
    {
     "data": {
      "image/png": "[encoded data removed]",
      "text/plain": [
       "<Figure size 432x288 with 1 Axes>"
      ]
     },
     "metadata": {},
     "output_type": "display_data"
    }
   ],
   "source": [
    "from sklearn.metrics import precision_recall_curve\n",
    "\n",
    "\n",
    "y_true = y_test > 0.5\n",
    "y_score_rf = rf.predict_proba(X_test)[:,-1]\n",
    "y_score_lr = lr.predict_proba(X_test)[:,-1]\n",
    "np.random.seed(2018)\n",
    "y_score_rd = np.random.uniform(size=y_test.shape[0])\n",
    "y_score_perfect = y_test\n",
    "\n",
    "r = n_pos/(n_pos + n_neg)\n",
    "print('Imbalance data ratio ({0}:{1}): {2:.3f}'.format(n_pos,n_neg,r))\n",
    "\n",
    "precision1, recall1, thrs1 = precision_recall_curve(y_true, y_score_rf)\n",
    "\n",
    "precision2, recall2, thrs2 = precision_recall_curve(y_true, y_score_lr)\n",
    "\n",
    "precision3, recall3, thrs3 = precision_recall_curve(y_true, y_score_rd)\n",
    "\n",
    "precision4, recall4, thrs4 = precision_recall_curve(y_true, y_score_perfect)\n",
    "\n",
    "\n",
    "plt.plot(recall1, precision1, marker='.',label='random florest');\n",
    "plt.plot(recall2, precision2, marker='.', label='logistic regression');\n",
    "plt.plot(recall3, precision3, marker='.', label='random uniform');\n",
    "plt.plot(recall4, precision4, marker='.', label='perfect classifier');\n",
    "plt.plot([0, 1], [r, r], linestyle='--',label='Random');\n",
    "plt.legend();\n",
    "                                              "
   ]
  },
  {
   "cell_type": "code",
   "execution_count": null,
   "metadata": {},
   "outputs": [],
   "source": [
    "# TODO: implement this later better. Give the options to pass multiple model for comparison\n",
    "def plot_prec_recall_vs_tresh(precisions, recalls, thresholds):\n",
    "    \n",
    "    plt.plot(thresholds, precisions[:-1], 'b--', label='precision')\n",
    "    plt.plot(thresholds, recalls[:-1], 'g--', label = 'recall')\n",
    "    plt.xlabel('Threshold')\n",
    "    plt.legend(loc='upper left')\n",
    "    plt.ylim([0,1])\n",
    "    "
   ]
  },
  {
   "cell_type": "code",
   "execution_count": 8,
   "metadata": {
    "ExecuteTime": {
     "end_time": "2018-09-19T16:48:10.933238Z",
     "start_time": "2018-09-19T16:48:10.750028Z"
    }
   },
   "outputs": [
    {
     "name": "stdout",
     "output_type": "stream",
     "text": [
      "AUCPRC: 0.9584156721781121\n",
      "f1 score: 0.9665775401069518\n"
     ]
    },
    {
     "data": {
      "image/png": "[encoded data removed]",
      "text/plain": [
       "<Figure size 432x288 with 1 Axes>"
      ]
     },
     "metadata": {},
     "output_type": "display_data"
    }
   ],
   "source": [
    "from sklearn.metrics import f1_score, auc\n",
    "\n",
    "area = auc(recall1, precision1)\n",
    "\n",
    "f = f1_score(y_true, y_score_rf > 0.5 , average='micro')\n",
    "\n",
    "print('AUCPRC: {}'.format(area))\n",
    "print('f1 score: {}'.format(f))\n",
    "\n",
    "\n",
    "# precision_recall_curve returns precision  and recall as a array od shape = [n_thresholds + 1] \n",
    "thrs1.shape\n",
    "recall1.shape\n",
    "precision1.shape\n",
    "\n",
    "precision = precision1[:-1]\n",
    "recall = recall1[:-1]\n",
    "\n",
    "precision.shape\n",
    "recall.shape\n",
    "\n",
    "f_scores = 2 * (precision * recall) / (precision + recall)\n",
    "\n",
    "plt.plot(thrs1, precision, marker='.',label='precision');\n",
    "plt.plot(thrs1, recall, marker='.', label='recall');\n",
    "plt.plot(thrs1, f_scores, marker='.', label='f score');\n",
    "plt.legend();"
   ]
  },
  {
   "cell_type": "code",
   "execution_count": null,
   "metadata": {},
   "outputs": [],
   "source": []
  }
 ],
 "metadata": {
  "kernelspec": {
   "display_name": "Python [default]",
   "language": "python",
   "name": "python3"
  },
  "language_info": {
   "codemirror_mode": {
    "name": "ipython",
    "version": 3
   },
   "file_extension": ".py",
   "mimetype": "text/x-python",
   "name": "python",
   "nbconvert_exporter": "python",
   "pygments_lexer": "ipython3",
   "version": "3.6.5"
  }
 },
 "nbformat": 4,
 "nbformat_minor": 2
}
