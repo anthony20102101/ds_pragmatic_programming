{
 "cells": [
  {
   "cell_type": "markdown",
   "metadata": {
    "ExecuteTime": {
     "end_time": "2018-09-11T18:09:18.303884Z",
     "start_time": "2018-09-11T18:09:18.300979Z"
    }
   },
   "source": [
    "# Data Science Pragmatic programming in Python\n",
    "\n",
    "\n",
    "Code snippets for quick consult (copy n paste)"
   ]
  },
  {
   "cell_type": "code",
   "execution_count": 2,
   "metadata": {
    "ExecuteTime": {
     "end_time": "2018-11-19T22:39:37.781346Z",
     "start_time": "2018-11-19T22:39:37.067183Z"
    }
   },
   "outputs": [],
   "source": [
    "import numpy as np\n",
    "import pandas as pd\n",
    "\n",
    "from scipy import stats\n",
    "\n",
    "import matplotlib\n",
    "import matplotlib.pyplot as plt\n",
    "%matplotlib inline \n",
    "\n",
    "import IPython\n",
    "from IPython.core.interactiveshell import InteractiveShell\n",
    "InteractiveShell.ast_node_interactivity = \"all\"\n"
   ]
  },
  {
   "cell_type": "code",
   "execution_count": 2,
   "metadata": {
    "ExecuteTime": {
     "end_time": "2018-11-15T23:23:33.683690Z",
     "start_time": "2018-11-15T23:23:33.565029Z"
    }
   },
   "outputs": [
    {
     "name": "stdout",
     "output_type": "stream",
     "text": [
      "/home/leandroohf/Documents/leandro/ds_pragmatic_programming\r\n"
     ]
    }
   ],
   "source": [
    "!pwd"
   ]
  },
  {
   "cell_type": "markdown",
   "metadata": {
    "heading_collapsed": true
   },
   "source": [
    "## Generate data \n",
    "\n",
    "* generate data\n",
    "* load data sets (toy)\n",
    "\n",
    "http://scikit-learn.org/stable/datasets/index.html"
   ]
  },
  {
   "cell_type": "markdown",
   "metadata": {
    "heading_collapsed": true,
    "hidden": true
   },
   "source": [
    "### Gen random numbers\n",
    "\n",
    "* uniform\n",
    "* normal\n",
    "* multivariate\n",
    "* bolean\n",
    "* integer"
   ]
  },
  {
   "cell_type": "code",
   "execution_count": null,
   "metadata": {
    "ExecuteTime": {
     "end_time": "2018-09-12T00:53:28.393935Z",
     "start_time": "2018-09-12T00:53:28.346725Z"
    },
    "hidden": true
   },
   "outputs": [],
   "source": [
    "## random numbers\n",
    "np.random.seed(seed=2018)\n",
    "\n",
    "# random boolean\n",
    "b = np.random.uniform(size=3) > .5\n",
    "b\n",
    "\n",
    "# uniform\n",
    "u = np.random.uniform(size=3)\n",
    "u\n",
    "\n",
    "# random int\n",
    "i = np.random.randint(0,9,size=3)\n",
    "i\n",
    "\n",
    "# random choice\n",
    "c = np.random.choice(['a','b','c','e'],size=7)\n",
    "c\n",
    "\n",
    "# normal\n",
    "n = np.random.normal(size=5)\n",
    "n\n",
    "\n",
    "# multivariated normal 2d;\n",
    "_mean = (1, 2)\n",
    "_cov = [[1, 0], [0, 1]]\n",
    "m = np.random.multivariate_normal(_mean, _cov, 3 )\n",
    "m.shape\n",
    "m"
   ]
  },
  {
   "cell_type": "markdown",
   "metadata": {
    "heading_collapsed": true,
    "hidden": true
   },
   "source": [
    "### Gen data for classifications and clustering\n",
    "\n",
    "Shameless stolen from:\n",
    "http://scikit-learn.org/stable/auto_examples/datasets/plot_random_dataset.html#sphx-glr-auto-examples-datasets-plot-random-dataset-py\n"
   ]
  },
  {
   "cell_type": "markdown",
   "metadata": {
    "hidden": true
   },
   "source": [
    "* **make_classification** create multiclass datasets by allocating each class one or more **normally-distributed** clusters of points\n",
    "\n",
    "   make_classification introducing noise by way of: correlated, redundant and uninformative features; multiple Gaussian clusters per class; and linear transformations of the feature space."
   ]
  },
  {
   "cell_type": "code",
   "execution_count": null,
   "metadata": {
    "ExecuteTime": {
     "end_time": "2018-09-12T00:53:34.450489Z",
     "start_time": "2018-09-12T00:53:33.898046Z"
    },
    "code_folding": [
     0
    ],
    "hidden": true
   },
   "outputs": [],
   "source": [
    "## classification (normal distributed)\n",
    "from sklearn.datasets import make_classification\n",
    "\n",
    "plt.figure(figsize=(10, 15));\n",
    "\n",
    "plt.subplots_adjust(bottom=.05, top=.9, left=.05, right=.95);\n",
    "\n",
    "X1, Y1 = make_classification(n_features=2, n_redundant=0, n_informative=1,\n",
    "                             n_clusters_per_class=1)\n",
    "\n",
    "plt.subplot(321);\n",
    "plt.title(\"One informative feature, one cluster per class\", fontsize='small');\n",
    "plt.scatter(X1[:, 0], X1[:, 1], marker='o', c=Y1,\n",
    "            s=25, edgecolor='k')\n",
    "\n",
    "X1, Y1 = make_classification(n_features=2, n_redundant=0, n_informative=2,\n",
    "                             n_clusters_per_class=1)\n",
    "\n",
    "plt.subplot(322);\n",
    "plt.title(\"Two informative features, one cluster per class\", fontsize='small');\n",
    "\n",
    "plt.scatter(X1[:, 0], X1[:, 1], marker='o', c=Y1,\n",
    "            s=25, edgecolor='k');\n",
    "\n",
    "\n",
    "X2, Y2 = make_classification(n_features=2, n_redundant=0, n_informative=2)\n",
    "\n",
    "plt.subplot(323);\n",
    "plt.title(\"Two informative features, two clusters per class\",\n",
    "          fontsize='small');\n",
    "\n",
    "plt.scatter(X2[:, 0], X2[:, 1], marker='o', c=Y2,\n",
    "            s=25, edgecolor='k')\n",
    "\n",
    "\n",
    "X1, Y1 = make_classification(n_features=2, n_redundant=0, n_informative=2,\n",
    "                             n_clusters_per_class=1, n_classes=3)\n",
    "\n",
    "plt.subplot(324);\n",
    "plt.title(\"Multi-class, two informative features, one cluster\",\n",
    "          fontsize='small');\n",
    "\n",
    "plt.scatter(X1[:, 0], X1[:, 1], marker='o', c=Y1,\n",
    "            s=25, edgecolor='k');\n",
    "\n",
    "plt.show();"
   ]
  },
  {
   "cell_type": "markdown",
   "metadata": {
    "ExecuteTime": {
     "end_time": "2018-09-11T18:37:11.959944Z",
     "start_time": "2018-09-11T18:37:11.956913Z"
    },
    "hidden": true
   },
   "source": [
    "* **make_blobs**: Generate isotropic (uniformity in all orientations) Gaussian blobs for clustering. \n",
    "\n",
    "* **make_gaussian_quantiles**: Generate isotropic Gaussian and label samples by quantile"
   ]
  },
  {
   "cell_type": "code",
   "execution_count": null,
   "metadata": {
    "ExecuteTime": {
     "end_time": "2018-09-12T00:53:37.806512Z",
     "start_time": "2018-09-12T00:53:37.536558Z"
    },
    "code_folding": [
     0
    ],
    "hidden": true
   },
   "outputs": [],
   "source": [
    "## Blobs n gaussian qunatiles\n",
    "from sklearn.datasets import make_blobs\n",
    "from sklearn.datasets import make_gaussian_quantiles\n",
    "\n",
    "X1, Y1 = make_blobs(n_features=2, centers=3, random_state=2018)\n",
    "\n",
    "plt.figure(figsize=(11,5));\n",
    "\n",
    "ax1 = plt.subplot(121);\n",
    "plt.title(\"Three blobs\", fontsize='small');\n",
    "plt.scatter(X1[:, 0], X1[:, 1], marker='o', c=Y1,\n",
    "            s=25, edgecolor='k');\n",
    "\n",
    "X1, Y1 = make_gaussian_quantiles(n_features=2, n_classes=3,n_samples=256,random_state=2018)\n",
    "\n",
    "ax2 = plt.subplot(122);\n",
    "plt.title(\"Gaussian divided into three quantiles\", fontsize='small');\n",
    "\n",
    "plt.scatter(X1[:, 0], X1[:, 1], marker='o', c=Y1,\n",
    "            s=25, edgecolor='k');\n",
    "\n",
    "ax2.set_xlim(-4,4);\n",
    "ax2.set_ylim(-4,4);\n",
    "\n",
    "plt.show()"
   ]
  },
  {
   "cell_type": "markdown",
   "metadata": {
    "hidden": true
   },
   "source": [
    "* **make_circles**: Make a large circle containing a smaller circle in 2d.\n",
    "\n",
    "* **make_moons**: Make two interleaving half circles"
   ]
  },
  {
   "cell_type": "code",
   "execution_count": null,
   "metadata": {
    "ExecuteTime": {
     "end_time": "2018-09-12T00:53:41.025344Z",
     "start_time": "2018-09-12T00:53:40.817521Z"
    },
    "hidden": true
   },
   "outputs": [],
   "source": [
    "## Clustering\n",
    "from sklearn.datasets import make_moons, make_circles\n",
    "\n",
    "X, y = make_circles(n_samples=400, factor=.3, noise=.05, random_state=2018)\n",
    "\n",
    "# scatter plot of original and reduced data\n",
    "fig = plt.figure(figsize=(9, 8));\n",
    "\n",
    "ax1 = plt.subplot(121,aspect='equal');\n",
    "ax1.scatter(X[:, 0], X[:, 1], c=y, s=50, edgecolor='k');\n",
    "ax1.set_title(\"Circle Data (2d)\");\n",
    "ax1.set_xticks(());\n",
    "ax1.set_yticks(());\n",
    "\n",
    "\n",
    "X, y = make_moons(n_samples=400, noise=.05,random_state=2018)\n",
    "\n",
    "ax2 = plt.subplot(122,aspect='equal');\n",
    "ax2.scatter(X[:, 0], X[:, 1], c=y, s=50, edgecolor='k');\n",
    "ax2.set_title(\"Moons Data (2d)\");\n",
    "ax2.set_xticks(());\n",
    "ax2.set_yticks(());\n",
    "\n",
    "plt.tight_layout();\n",
    "plt.show;\n"
   ]
  },
  {
   "cell_type": "markdown",
   "metadata": {
    "heading_collapsed": true,
    "hidden": true
   },
   "source": [
    "### Load data sets\n"
   ]
  },
  {
   "cell_type": "markdown",
   "metadata": {
    "hidden": true
   },
   "source": [
    "* **load_iris** Load and return the iris dataset (classification).\n",
    "\n",
    "<img src=\"images/iris_petal_sepal.png\" width=\"250\" align=\"left\"/>\n"
   ]
  },
  {
   "cell_type": "code",
   "execution_count": null,
   "metadata": {
    "ExecuteTime": {
     "end_time": "2018-09-12T00:53:47.632419Z",
     "start_time": "2018-09-12T00:53:47.487355Z"
    },
    "code_folding": [],
    "hidden": true
   },
   "outputs": [],
   "source": [
    "## datasets\n",
    "\n",
    "from sklearn.datasets import load_iris\n",
    "\n",
    "# Load the Iris flower dataset:\n",
    "iris = load_iris()\n",
    "X_iris = iris.data\n",
    "Y_iris = iris.target\n",
    "\n",
    "print('data size: {}'.format(X_iris.shape))\n",
    "print('features: {}'.format(iris.feature_names))\n",
    "print('labels: {}'.format(iris.target_names))\n",
    "\n",
    "print()\n",
    "\n",
    "plt.figure(2, figsize=(4, 3));\n",
    "plt.clf();\n",
    "\n",
    "# Plot \n",
    "plt.scatter(X_iris[:, 0], X_iris[:, 1], c=Y_iris, cmap=plt.cm.Set1,\n",
    "            edgecolor='k');\n",
    "plt.xlabel('Sepal length');\n",
    "plt.ylabel('Sepal width');"
   ]
  },
  {
   "cell_type": "markdown",
   "metadata": {
    "hidden": true
   },
   "source": [
    "* **load_boston**: Load and return the boston house-prices dataset (regression)."
   ]
  },
  {
   "cell_type": "code",
   "execution_count": 46,
   "metadata": {
    "ExecuteTime": {
     "end_time": "2018-10-26T18:34:37.108941Z",
     "start_time": "2018-10-26T18:34:37.071503Z"
    },
    "hidden": true
   },
   "outputs": [
    {
     "name": "stdout",
     "output_type": "stream",
     "text": [
      "data size: (506, 13)\n",
      "features: ['CRIM' 'ZN' 'INDUS' 'CHAS' 'NOX' 'RM' 'AGE' 'DIS' 'RAD' 'TAX' 'PTRATIO'\n",
      " 'B' 'LSTAT']\n"
     ]
    },
    {
     "data": {
      "text/html": [
       "<div>\n",
       "<style scoped>\n",
       "    .dataframe tbody tr th:only-of-type {\n",
       "        vertical-align: middle;\n",
       "    }\n",
       "\n",
       "    .dataframe tbody tr th {\n",
       "        vertical-align: top;\n",
       "    }\n",
       "\n",
       "    .dataframe thead th {\n",
       "        text-align: right;\n",
       "    }\n",
       "</style>\n",
       "<table border=\"1\" class=\"dataframe\">\n",
       "  <thead>\n",
       "    <tr style=\"text-align: right;\">\n",
       "      <th></th>\n",
       "      <th>CRIM</th>\n",
       "      <th>ZN</th>\n",
       "      <th>INDUS</th>\n",
       "      <th>CHAS</th>\n",
       "      <th>NOX</th>\n",
       "      <th>RM</th>\n",
       "      <th>AGE</th>\n",
       "      <th>DIS</th>\n",
       "      <th>RAD</th>\n",
       "      <th>TAX</th>\n",
       "      <th>PTRATIO</th>\n",
       "      <th>B</th>\n",
       "      <th>LSTAT</th>\n",
       "      <th>target</th>\n",
       "    </tr>\n",
       "  </thead>\n",
       "  <tbody>\n",
       "    <tr>\n",
       "      <th>0</th>\n",
       "      <td>0.00632</td>\n",
       "      <td>18.0</td>\n",
       "      <td>2.31</td>\n",
       "      <td>0.0</td>\n",
       "      <td>0.538</td>\n",
       "      <td>6.575</td>\n",
       "      <td>65.2</td>\n",
       "      <td>4.0900</td>\n",
       "      <td>1.0</td>\n",
       "      <td>296.0</td>\n",
       "      <td>15.3</td>\n",
       "      <td>396.90</td>\n",
       "      <td>4.98</td>\n",
       "      <td>24.0</td>\n",
       "    </tr>\n",
       "    <tr>\n",
       "      <th>1</th>\n",
       "      <td>0.02731</td>\n",
       "      <td>0.0</td>\n",
       "      <td>7.07</td>\n",
       "      <td>0.0</td>\n",
       "      <td>0.469</td>\n",
       "      <td>6.421</td>\n",
       "      <td>78.9</td>\n",
       "      <td>4.9671</td>\n",
       "      <td>2.0</td>\n",
       "      <td>242.0</td>\n",
       "      <td>17.8</td>\n",
       "      <td>396.90</td>\n",
       "      <td>9.14</td>\n",
       "      <td>21.6</td>\n",
       "    </tr>\n",
       "    <tr>\n",
       "      <th>2</th>\n",
       "      <td>0.02729</td>\n",
       "      <td>0.0</td>\n",
       "      <td>7.07</td>\n",
       "      <td>0.0</td>\n",
       "      <td>0.469</td>\n",
       "      <td>7.185</td>\n",
       "      <td>61.1</td>\n",
       "      <td>4.9671</td>\n",
       "      <td>2.0</td>\n",
       "      <td>242.0</td>\n",
       "      <td>17.8</td>\n",
       "      <td>392.83</td>\n",
       "      <td>4.03</td>\n",
       "      <td>34.7</td>\n",
       "    </tr>\n",
       "    <tr>\n",
       "      <th>3</th>\n",
       "      <td>0.03237</td>\n",
       "      <td>0.0</td>\n",
       "      <td>2.18</td>\n",
       "      <td>0.0</td>\n",
       "      <td>0.458</td>\n",
       "      <td>6.998</td>\n",
       "      <td>45.8</td>\n",
       "      <td>6.0622</td>\n",
       "      <td>3.0</td>\n",
       "      <td>222.0</td>\n",
       "      <td>18.7</td>\n",
       "      <td>394.63</td>\n",
       "      <td>2.94</td>\n",
       "      <td>33.4</td>\n",
       "    </tr>\n",
       "  </tbody>\n",
       "</table>\n",
       "</div>"
      ],
      "text/plain": [
       "      CRIM    ZN  INDUS  CHAS    NOX     RM   AGE     DIS  RAD    TAX  \\\n",
       "0  0.00632  18.0   2.31   0.0  0.538  6.575  65.2  4.0900  1.0  296.0   \n",
       "1  0.02731   0.0   7.07   0.0  0.469  6.421  78.9  4.9671  2.0  242.0   \n",
       "2  0.02729   0.0   7.07   0.0  0.469  7.185  61.1  4.9671  2.0  242.0   \n",
       "3  0.03237   0.0   2.18   0.0  0.458  6.998  45.8  6.0622  3.0  222.0   \n",
       "\n",
       "   PTRATIO       B  LSTAT  target  \n",
       "0     15.3  396.90   4.98    24.0  \n",
       "1     17.8  396.90   9.14    21.6  \n",
       "2     17.8  392.83   4.03    34.7  \n",
       "3     18.7  394.63   2.94    33.4  "
      ]
     },
     "execution_count": 46,
     "metadata": {},
     "output_type": "execute_result"
    }
   ],
   "source": [
    "# Boston house pricing\n",
    "\n",
    "from sklearn.datasets import load_boston\n",
    "\n",
    "boston = load_boston()\n",
    "\n",
    "print('data size: {}'.format(boston.data.shape))\n",
    "print('features: {}'.format(boston.feature_names))\n",
    "\n",
    "# convert to data frame (but may times is not necessary)\n",
    "boston_df = pd.DataFrame(boston.data)\n",
    "boston_df.columns = boston.feature_names\n",
    "\n",
    "boston_df['target'] = boston.target\n",
    "\n",
    "boston_df.head(4)"
   ]
  },
  {
   "cell_type": "code",
   "execution_count": 41,
   "metadata": {
    "ExecuteTime": {
     "end_time": "2018-10-26T18:26:47.338288Z",
     "start_time": "2018-10-26T18:26:47.041497Z"
    },
    "hidden": true
   },
   "outputs": [
    {
     "data": {
      "text/plain": [
       "(830, 7)"
      ]
     },
     "execution_count": 41,
     "metadata": {},
     "output_type": "execute_result"
    },
    {
     "data": {
      "text/html": [
       "<div>\n",
       "<style scoped>\n",
       "    .dataframe tbody tr th:only-of-type {\n",
       "        vertical-align: middle;\n",
       "    }\n",
       "\n",
       "    .dataframe tbody tr th {\n",
       "        vertical-align: top;\n",
       "    }\n",
       "\n",
       "    .dataframe thead th {\n",
       "        text-align: right;\n",
       "    }\n",
       "</style>\n",
       "<table border=\"1\" class=\"dataframe\">\n",
       "  <thead>\n",
       "    <tr style=\"text-align: right;\">\n",
       "      <th></th>\n",
       "      <th>index</th>\n",
       "      <th>date</th>\n",
       "      <th>duration</th>\n",
       "      <th>item</th>\n",
       "      <th>month</th>\n",
       "      <th>network</th>\n",
       "      <th>network_type</th>\n",
       "    </tr>\n",
       "  </thead>\n",
       "  <tbody>\n",
       "    <tr>\n",
       "      <th>0</th>\n",
       "      <td>0</td>\n",
       "      <td>15/10/14 06:58</td>\n",
       "      <td>34.429</td>\n",
       "      <td>data</td>\n",
       "      <td>2014-11</td>\n",
       "      <td>data</td>\n",
       "      <td>data</td>\n",
       "    </tr>\n",
       "    <tr>\n",
       "      <th>1</th>\n",
       "      <td>1</td>\n",
       "      <td>15/10/14 06:58</td>\n",
       "      <td>13.000</td>\n",
       "      <td>call</td>\n",
       "      <td>2014-11</td>\n",
       "      <td>Vodafone</td>\n",
       "      <td>mobile</td>\n",
       "    </tr>\n",
       "    <tr>\n",
       "      <th>2</th>\n",
       "      <td>2</td>\n",
       "      <td>15/10/14 14:46</td>\n",
       "      <td>23.000</td>\n",
       "      <td>call</td>\n",
       "      <td>2014-11</td>\n",
       "      <td>Meteor</td>\n",
       "      <td>mobile</td>\n",
       "    </tr>\n",
       "    <tr>\n",
       "      <th>3</th>\n",
       "      <td>3</td>\n",
       "      <td>15/10/14 14:48</td>\n",
       "      <td>4.000</td>\n",
       "      <td>call</td>\n",
       "      <td>2014-11</td>\n",
       "      <td>Tesco</td>\n",
       "      <td>mobile</td>\n",
       "    </tr>\n",
       "    <tr>\n",
       "      <th>4</th>\n",
       "      <td>4</td>\n",
       "      <td>15/10/14 17:27</td>\n",
       "      <td>4.000</td>\n",
       "      <td>call</td>\n",
       "      <td>2014-11</td>\n",
       "      <td>Tesco</td>\n",
       "      <td>mobile</td>\n",
       "    </tr>\n",
       "  </tbody>\n",
       "</table>\n",
       "</div>"
      ],
      "text/plain": [
       "   index            date  duration  item    month   network network_type\n",
       "0      0  15/10/14 06:58    34.429  data  2014-11      data         data\n",
       "1      1  15/10/14 06:58    13.000  call  2014-11  Vodafone       mobile\n",
       "2      2  15/10/14 14:46    23.000  call  2014-11    Meteor       mobile\n",
       "3      3  15/10/14 14:48     4.000  call  2014-11     Tesco       mobile\n",
       "4      4  15/10/14 17:27     4.000  call  2014-11     Tesco       mobile"
      ]
     },
     "execution_count": 41,
     "metadata": {},
     "output_type": "execute_result"
    }
   ],
   "source": [
    "data = pd.read_csv('data/phone_data.csv')\n",
    "\n",
    "data.shape\n",
    "data.head(5)"
   ]
  },
  {
   "cell_type": "markdown",
   "metadata": {},
   "source": [
    "## Data wrangler (Remember, 80% of the project time is spent here)\n",
    "\n",
    "\n",
    "[pandas cheat sheet](http://pandas.pydata.org/Pandas_Cheat_Sheet.pdf)"
   ]
  },
  {
   "cell_type": "markdown",
   "metadata": {},
   "source": [
    "### Read and write data\n",
    "\n",
    "* pandas\n",
    "* dict\n",
    "* file handle\n"
   ]
  },
  {
   "cell_type": "markdown",
   "metadata": {
    "ExecuteTime": {
     "end_time": "2018-11-15T23:24:46.074944Z",
     "start_time": "2018-11-15T23:24:46.071949Z"
    }
   },
   "source": [
    "#### Pandas"
   ]
  },
  {
   "cell_type": "code",
   "execution_count": 3,
   "metadata": {
    "ExecuteTime": {
     "end_time": "2018-11-15T23:23:36.850539Z",
     "start_time": "2018-11-15T23:23:36.702654Z"
    }
   },
   "outputs": [
    {
     "data": {
      "text/html": [
       "<div>\n",
       "<style scoped>\n",
       "    .dataframe tbody tr th:only-of-type {\n",
       "        vertical-align: middle;\n",
       "    }\n",
       "\n",
       "    .dataframe tbody tr th {\n",
       "        vertical-align: top;\n",
       "    }\n",
       "\n",
       "    .dataframe thead th {\n",
       "        text-align: right;\n",
       "    }\n",
       "</style>\n",
       "<table border=\"1\" class=\"dataframe\">\n",
       "  <thead>\n",
       "    <tr style=\"text-align: right;\">\n",
       "      <th></th>\n",
       "      <th>index</th>\n",
       "      <th>id</th>\n",
       "      <th>name</th>\n",
       "      <th>alias</th>\n",
       "      <th>iata</th>\n",
       "      <th>icao</th>\n",
       "      <th>callsign</th>\n",
       "      <th>country</th>\n",
       "      <th>active</th>\n",
       "    </tr>\n",
       "  </thead>\n",
       "  <tbody>\n",
       "    <tr>\n",
       "      <th>0</th>\n",
       "      <td>0</td>\n",
       "      <td>1</td>\n",
       "      <td>Private flight</td>\n",
       "      <td>\\N</td>\n",
       "      <td>-</td>\n",
       "      <td>None</td>\n",
       "      <td>None</td>\n",
       "      <td>None</td>\n",
       "      <td>Y</td>\n",
       "    </tr>\n",
       "    <tr>\n",
       "      <th>1</th>\n",
       "      <td>1</td>\n",
       "      <td>2</td>\n",
       "      <td>135 Airways</td>\n",
       "      <td>\\N</td>\n",
       "      <td>None</td>\n",
       "      <td>GNL</td>\n",
       "      <td>GENERAL</td>\n",
       "      <td>United States</td>\n",
       "      <td>N</td>\n",
       "    </tr>\n",
       "    <tr>\n",
       "      <th>2</th>\n",
       "      <td>2</td>\n",
       "      <td>3</td>\n",
       "      <td>1Time Airline</td>\n",
       "      <td>\\N</td>\n",
       "      <td>1T</td>\n",
       "      <td>RNX</td>\n",
       "      <td>NEXTIME</td>\n",
       "      <td>South Africa</td>\n",
       "      <td>Y</td>\n",
       "    </tr>\n",
       "  </tbody>\n",
       "</table>\n",
       "</div>"
      ],
      "text/plain": [
       "   index id            name alias  iata  icao callsign        country active\n",
       "0      0  1  Private flight    \\N     -  None     None           None      Y\n",
       "1      1  2     135 Airways    \\N  None   GNL  GENERAL  United States      N\n",
       "2      2  3   1Time Airline    \\N    1T   RNX  NEXTIME   South Africa      Y"
      ]
     },
     "execution_count": 3,
     "metadata": {},
     "output_type": "execute_result"
    }
   ],
   "source": [
    "# reads form database\n",
    "import pandas as pd\n",
    "import sqlite3\n",
    "\n",
    "#conn = sqlite3.connect(\"data/flights.db\")\n",
    "with sqlite3.connect(\"data/flights.db\") as conn:\n",
    "    df = pd.read_sql_query(\"select * from airlines limit 11;\", conn)\n",
    "    \n",
    "df.head(3)"
   ]
  },
  {
   "cell_type": "code",
   "execution_count": 5,
   "metadata": {
    "ExecuteTime": {
     "end_time": "2018-11-15T23:24:27.164758Z",
     "start_time": "2018-11-15T23:24:26.868410Z"
    }
   },
   "outputs": [
    {
     "data": {
      "text/html": [
       "<div>\n",
       "<style scoped>\n",
       "    .dataframe tbody tr th:only-of-type {\n",
       "        vertical-align: middle;\n",
       "    }\n",
       "\n",
       "    .dataframe tbody tr th {\n",
       "        vertical-align: top;\n",
       "    }\n",
       "\n",
       "    .dataframe thead th {\n",
       "        text-align: right;\n",
       "    }\n",
       "</style>\n",
       "<table border=\"1\" class=\"dataframe\">\n",
       "  <thead>\n",
       "    <tr style=\"text-align: right;\">\n",
       "      <th></th>\n",
       "      <th>index</th>\n",
       "      <th>date</th>\n",
       "      <th>duration</th>\n",
       "      <th>item</th>\n",
       "      <th>month</th>\n",
       "      <th>network</th>\n",
       "      <th>network_type</th>\n",
       "    </tr>\n",
       "  </thead>\n",
       "  <tbody>\n",
       "    <tr>\n",
       "      <th>0</th>\n",
       "      <td>0</td>\n",
       "      <td>15/10/14 06:58</td>\n",
       "      <td>34.429</td>\n",
       "      <td>data</td>\n",
       "      <td>2014-11</td>\n",
       "      <td>data</td>\n",
       "      <td>data</td>\n",
       "    </tr>\n",
       "    <tr>\n",
       "      <th>1</th>\n",
       "      <td>1</td>\n",
       "      <td>15/10/14 06:58</td>\n",
       "      <td>13.000</td>\n",
       "      <td>call</td>\n",
       "      <td>2014-11</td>\n",
       "      <td>Vodafone</td>\n",
       "      <td>mobile</td>\n",
       "    </tr>\n",
       "    <tr>\n",
       "      <th>2</th>\n",
       "      <td>2</td>\n",
       "      <td>15/10/14 14:46</td>\n",
       "      <td>23.000</td>\n",
       "      <td>call</td>\n",
       "      <td>2014-11</td>\n",
       "      <td>Meteor</td>\n",
       "      <td>mobile</td>\n",
       "    </tr>\n",
       "  </tbody>\n",
       "</table>\n",
       "</div>"
      ],
      "text/plain": [
       "   index            date  duration  item    month   network network_type\n",
       "0      0  15/10/14 06:58    34.429  data  2014-11      data         data\n",
       "1      1  15/10/14 06:58    13.000  call  2014-11  Vodafone       mobile\n",
       "2      2  15/10/14 14:46    23.000  call  2014-11    Meteor       mobile"
      ]
     },
     "execution_count": 5,
     "metadata": {},
     "output_type": "execute_result"
    }
   ],
   "source": [
    "df = pd.read_csv('data/phone_data.csv')\n",
    "df.head(3)"
   ]
  },
  {
   "cell_type": "markdown",
   "metadata": {
    "heading_collapsed": true
   },
   "source": [
    "#### Basic and dict IO\n",
    " "
   ]
  },
  {
   "cell_type": "code",
   "execution_count": null,
   "metadata": {
    "ExecuteTime": {
     "end_time": "2018-09-18T17:22:55.236101Z",
     "start_time": "2018-09-18T17:22:55.122782Z"
    },
    "hidden": true
   },
   "outputs": [],
   "source": [
    "!rm -v data/output.tsv"
   ]
  },
  {
   "cell_type": "markdown",
   "metadata": {
    "hidden": true
   },
   "source": [
    "* **Write txt file line by line**"
   ]
  },
  {
   "cell_type": "code",
   "execution_count": 21,
   "metadata": {
    "ExecuteTime": {
     "end_time": "2018-10-01T05:12:56.284048Z",
     "start_time": "2018-10-01T05:12:56.276134Z"
    },
    "hidden": true
   },
   "outputs": [
    {
     "name": "stdout",
     "output_type": "stream",
     "text": [
      "Processing: 0\n",
      "Processing: 2\n",
      "Processing: 0\n",
      "Processing: 2\n"
     ]
    }
   ],
   "source": [
    "# lazzy way\n",
    "for k in range(0,3):\n",
    "    \n",
    "    if k % 2 == 0:\n",
    "        print('Processing: {}'.format(k))\n",
    "\n",
    "    score =  np.random.normal(size=1)[0]\n",
    "    print(\"{k:d}\\t{score:.2f}\".format(k=k, score=score), file=open(\"data/output.tsv\", \"a\"))\n",
    "\n",
    "# better way\n",
    "with open('data/output.txt', 'a') as f:\n",
    "    for k in range(0,3):\n",
    "    \n",
    "        if k % 2 == 0:\n",
    "            print('Processing: {}'.format(k))\n",
    "\n",
    "        score =  np.random.normal(size=1)[0]\n",
    "        print(\"{k:d}\\t{score:.2f}\".format(k=k, score=score), file=f)\n"
   ]
  },
  {
   "cell_type": "code",
   "execution_count": null,
   "metadata": {
    "ExecuteTime": {
     "end_time": "2018-09-18T17:22:58.536626Z",
     "start_time": "2018-09-18T17:22:58.418764Z"
    },
    "hidden": true
   },
   "outputs": [],
   "source": [
    "!cat data/output.tsv"
   ]
  },
  {
   "cell_type": "code",
   "execution_count": 3,
   "metadata": {
    "ExecuteTime": {
     "end_time": "2018-10-01T02:47:32.115397Z",
     "start_time": "2018-10-01T02:47:32.101680Z"
    },
    "hidden": true
   },
   "outputs": [
    {
     "data": {
      "text/plain": [
       "[13, 7, 9]"
      ]
     },
     "execution_count": 3,
     "metadata": {},
     "output_type": "execute_result"
    },
    {
     "data": {
      "text/plain": [
       "{'key1': 'value_a', 'key2': '1', 'key3': '2.0'}"
      ]
     },
     "execution_count": 3,
     "metadata": {},
     "output_type": "execute_result"
    }
   ],
   "source": [
    "import csv\n",
    "\n",
    "my_dict = {'key1': 'value_a', 'key2': 1, 'key3': 2.0}\n",
    "\n",
    "# write\n",
    "with open('data/dict.csv', 'w') as f:\n",
    "    [f.write('{0},{1}\\n'.format(key, value)) for key, value in my_dict.items()];\n",
    "\n",
    "\n",
    "# read\n",
    "with open('data/dict.csv', 'r') as csv_file:\n",
    "    \n",
    "    reader = csv.reader(csv_file)\n",
    "    my_dict2 = dict(reader)\n",
    "    \n",
    "my_dict2"
   ]
  },
  {
   "cell_type": "code",
   "execution_count": 4,
   "metadata": {
    "ExecuteTime": {
     "end_time": "2018-10-01T02:47:32.833929Z",
     "start_time": "2018-10-01T02:47:32.721161Z"
    },
    "hidden": true
   },
   "outputs": [
    {
     "name": "stdout",
     "output_type": "stream",
     "text": [
      "key1,value_a\r\n",
      "key2,1\r\n",
      "key3,2.0\r\n"
     ]
    }
   ],
   "source": [
    "!cat data/dict.csv"
   ]
  },
  {
   "cell_type": "code",
   "execution_count": 18,
   "metadata": {
    "ExecuteTime": {
     "end_time": "2018-10-01T02:59:22.441551Z",
     "start_time": "2018-10-01T02:59:22.424276Z"
    },
    "hidden": true
   },
   "outputs": [
    {
     "data": {
      "text/plain": [
       "[{'key1': '1', 'key2': 'a'}, {'key1': '2', 'key2': 'b'}]"
      ]
     },
     "execution_count": 18,
     "metadata": {},
     "output_type": "execute_result"
    }
   ],
   "source": [
    "dict_list = [ {'key1': 1, 'key2': 'a'}, {'key1': 2, 'key2': 'b'}]\n",
    "\n",
    "fieldnames = dict_list[0].keys()\n",
    "\n",
    "# write\n",
    "with open('data/people.csv', 'w') as output_file:\n",
    "    dict_writer = csv.DictWriter(output_file, fieldnames=fieldnames)\n",
    "    dict_writer.writeheader()\n",
    "    dict_writer.writerows(dict_list)\n",
    "    \n",
    "# read\n",
    "with open('data/people.csv', mode='r') as infile:\n",
    "    \n",
    "    reader = csv.reader(infile)\n",
    "    _ = next(reader, None)  # skip the headers\n",
    "    mydict = [{'key1': rows[0], 'key2': rows[1]} for rows in reader]\n",
    "    \n",
    "mydict"
   ]
  },
  {
   "cell_type": "code",
   "execution_count": 19,
   "metadata": {
    "ExecuteTime": {
     "end_time": "2018-10-01T02:59:34.177256Z",
     "start_time": "2018-10-01T02:59:34.065673Z"
    },
    "hidden": true
   },
   "outputs": [
    {
     "name": "stdout",
     "output_type": "stream",
     "text": [
      "key1,key2\r",
      "\r\n",
      "1,a\r",
      "\r\n",
      "2,b\r",
      "\r\n"
     ]
    }
   ],
   "source": [
    "!cat data/people.csv"
   ]
  },
  {
   "cell_type": "markdown",
   "metadata": {},
   "source": [
    "### Summarize data\n",
    "\n",
    "\n",
    "* descriptive (tables)\n",
    "* groupby\n",
    "\n"
   ]
  },
  {
   "cell_type": "markdown",
   "metadata": {
    "heading_collapsed": true
   },
   "source": [
    "#### Groupby\n",
    "\n",
    "Split-Apply-Combine\n",
    "\n",
    "<img src=\"images/split-apply-combine.png\" width=\"400\" align=\"left\"/>\n"
   ]
  },
  {
   "cell_type": "code",
   "execution_count": 7,
   "metadata": {
    "ExecuteTime": {
     "end_time": "2018-11-16T00:02:22.912066Z",
     "start_time": "2018-11-16T00:02:22.885631Z"
    },
    "hidden": true
   },
   "outputs": [
    {
     "data": {
      "text/plain": [
       "(830, 7)"
      ]
     },
     "execution_count": 7,
     "metadata": {},
     "output_type": "execute_result"
    },
    {
     "data": {
      "text/html": [
       "<div>\n",
       "<style scoped>\n",
       "    .dataframe tbody tr th:only-of-type {\n",
       "        vertical-align: middle;\n",
       "    }\n",
       "\n",
       "    .dataframe tbody tr th {\n",
       "        vertical-align: top;\n",
       "    }\n",
       "\n",
       "    .dataframe thead th {\n",
       "        text-align: right;\n",
       "    }\n",
       "</style>\n",
       "<table border=\"1\" class=\"dataframe\">\n",
       "  <thead>\n",
       "    <tr style=\"text-align: right;\">\n",
       "      <th></th>\n",
       "      <th>index</th>\n",
       "      <th>date</th>\n",
       "      <th>duration</th>\n",
       "      <th>item</th>\n",
       "      <th>month</th>\n",
       "      <th>network</th>\n",
       "      <th>network_type</th>\n",
       "    </tr>\n",
       "  </thead>\n",
       "  <tbody>\n",
       "    <tr>\n",
       "      <th>0</th>\n",
       "      <td>0</td>\n",
       "      <td>15/10/14 06:58</td>\n",
       "      <td>34.429</td>\n",
       "      <td>data</td>\n",
       "      <td>2014-11</td>\n",
       "      <td>data</td>\n",
       "      <td>data</td>\n",
       "    </tr>\n",
       "    <tr>\n",
       "      <th>1</th>\n",
       "      <td>1</td>\n",
       "      <td>15/10/14 06:58</td>\n",
       "      <td>13.000</td>\n",
       "      <td>call</td>\n",
       "      <td>2014-11</td>\n",
       "      <td>Vodafone</td>\n",
       "      <td>mobile</td>\n",
       "    </tr>\n",
       "    <tr>\n",
       "      <th>2</th>\n",
       "      <td>2</td>\n",
       "      <td>15/10/14 14:46</td>\n",
       "      <td>23.000</td>\n",
       "      <td>call</td>\n",
       "      <td>2014-11</td>\n",
       "      <td>Meteor</td>\n",
       "      <td>mobile</td>\n",
       "    </tr>\n",
       "    <tr>\n",
       "      <th>3</th>\n",
       "      <td>3</td>\n",
       "      <td>15/10/14 14:48</td>\n",
       "      <td>4.000</td>\n",
       "      <td>call</td>\n",
       "      <td>2014-11</td>\n",
       "      <td>Tesco</td>\n",
       "      <td>mobile</td>\n",
       "    </tr>\n",
       "    <tr>\n",
       "      <th>4</th>\n",
       "      <td>4</td>\n",
       "      <td>15/10/14 17:27</td>\n",
       "      <td>4.000</td>\n",
       "      <td>call</td>\n",
       "      <td>2014-11</td>\n",
       "      <td>Tesco</td>\n",
       "      <td>mobile</td>\n",
       "    </tr>\n",
       "  </tbody>\n",
       "</table>\n",
       "</div>"
      ],
      "text/plain": [
       "   index            date  duration  item    month   network network_type\n",
       "0      0  15/10/14 06:58    34.429  data  2014-11      data         data\n",
       "1      1  15/10/14 06:58    13.000  call  2014-11  Vodafone       mobile\n",
       "2      2  15/10/14 14:46    23.000  call  2014-11    Meteor       mobile\n",
       "3      3  15/10/14 14:48     4.000  call  2014-11     Tesco       mobile\n",
       "4      4  15/10/14 17:27     4.000  call  2014-11     Tesco       mobile"
      ]
     },
     "execution_count": 7,
     "metadata": {},
     "output_type": "execute_result"
    }
   ],
   "source": [
    "data = pd.read_csv('./data/phone_data.csv')\n",
    "\n",
    "data.shape\n",
    "\n",
    "data.head(5)"
   ]
  },
  {
   "cell_type": "code",
   "execution_count": 8,
   "metadata": {
    "ExecuteTime": {
     "end_time": "2018-11-16T00:02:23.975412Z",
     "start_time": "2018-11-16T00:02:23.919321Z"
    },
    "hidden": true
   },
   "outputs": [
    {
     "data": {
      "text/html": [
       "<div>\n",
       "<style scoped>\n",
       "    .dataframe tbody tr th:only-of-type {\n",
       "        vertical-align: middle;\n",
       "    }\n",
       "\n",
       "    .dataframe tbody tr th {\n",
       "        vertical-align: top;\n",
       "    }\n",
       "\n",
       "    .dataframe thead tr th {\n",
       "        text-align: left;\n",
       "    }\n",
       "</style>\n",
       "<table border=\"1\" class=\"dataframe\">\n",
       "  <thead>\n",
       "    <tr>\n",
       "      <th></th>\n",
       "      <th>month</th>\n",
       "      <th>item</th>\n",
       "      <th colspan=\"4\" halign=\"left\">duration</th>\n",
       "      <th>date</th>\n",
       "      <th colspan=\"2\" halign=\"left\">network_type</th>\n",
       "    </tr>\n",
       "    <tr>\n",
       "      <th></th>\n",
       "      <th></th>\n",
       "      <th></th>\n",
       "      <th>std</th>\n",
       "      <th>median</th>\n",
       "      <th>sum</th>\n",
       "      <th>&lt;lambda&gt;</th>\n",
       "      <th>first</th>\n",
       "      <th>nunique</th>\n",
       "      <th>count</th>\n",
       "    </tr>\n",
       "  </thead>\n",
       "  <tbody>\n",
       "    <tr>\n",
       "      <th>0</th>\n",
       "      <td>2014-11</td>\n",
       "      <td>call</td>\n",
       "      <td>387.128905</td>\n",
       "      <td>48.000</td>\n",
       "      <td>25547.000</td>\n",
       "      <td>0.615149</td>\n",
       "      <td>15/10/14 06:58</td>\n",
       "      <td>3</td>\n",
       "      <td>107</td>\n",
       "    </tr>\n",
       "    <tr>\n",
       "      <th>1</th>\n",
       "      <td>2014-11</td>\n",
       "      <td>data</td>\n",
       "      <td>0.000000</td>\n",
       "      <td>34.429</td>\n",
       "      <td>998.441</td>\n",
       "      <td>34.429000</td>\n",
       "      <td>15/10/14 06:58</td>\n",
       "      <td>1</td>\n",
       "      <td>29</td>\n",
       "    </tr>\n",
       "    <tr>\n",
       "      <th>2</th>\n",
       "      <td>2014-11</td>\n",
       "      <td>sms</td>\n",
       "      <td>0.000000</td>\n",
       "      <td>1.000</td>\n",
       "      <td>94.000</td>\n",
       "      <td>1.000000</td>\n",
       "      <td>16/10/14 22:18</td>\n",
       "      <td>2</td>\n",
       "      <td>94</td>\n",
       "    </tr>\n",
       "    <tr>\n",
       "      <th>3</th>\n",
       "      <td>2014-12</td>\n",
       "      <td>call</td>\n",
       "      <td>324.731798</td>\n",
       "      <td>55.000</td>\n",
       "      <td>13561.000</td>\n",
       "      <td>0.526993</td>\n",
       "      <td>14/11/14 17:24</td>\n",
       "      <td>3</td>\n",
       "      <td>79</td>\n",
       "    </tr>\n",
       "    <tr>\n",
       "      <th>4</th>\n",
       "      <td>2014-12</td>\n",
       "      <td>data</td>\n",
       "      <td>0.000000</td>\n",
       "      <td>34.429</td>\n",
       "      <td>1032.870</td>\n",
       "      <td>34.429000</td>\n",
       "      <td>13/11/14 06:58</td>\n",
       "      <td>1</td>\n",
       "      <td>30</td>\n",
       "    </tr>\n",
       "    <tr>\n",
       "      <th>5</th>\n",
       "      <td>2014-12</td>\n",
       "      <td>sms</td>\n",
       "      <td>0.000000</td>\n",
       "      <td>1.000</td>\n",
       "      <td>48.000</td>\n",
       "      <td>1.000000</td>\n",
       "      <td>14/11/14 17:28</td>\n",
       "      <td>2</td>\n",
       "      <td>48</td>\n",
       "    </tr>\n",
       "    <tr>\n",
       "      <th>6</th>\n",
       "      <td>2015-01</td>\n",
       "      <td>call</td>\n",
       "      <td>300.671661</td>\n",
       "      <td>55.500</td>\n",
       "      <td>17070.000</td>\n",
       "      <td>0.643008</td>\n",
       "      <td>15/12/14 20:03</td>\n",
       "      <td>3</td>\n",
       "      <td>88</td>\n",
       "    </tr>\n",
       "    <tr>\n",
       "      <th>7</th>\n",
       "      <td>2015-01</td>\n",
       "      <td>data</td>\n",
       "      <td>0.000000</td>\n",
       "      <td>34.429</td>\n",
       "      <td>1067.299</td>\n",
       "      <td>34.429000</td>\n",
       "      <td>13/12/14 06:58</td>\n",
       "      <td>1</td>\n",
       "      <td>31</td>\n",
       "    </tr>\n",
       "    <tr>\n",
       "      <th>8</th>\n",
       "      <td>2015-01</td>\n",
       "      <td>sms</td>\n",
       "      <td>0.000000</td>\n",
       "      <td>1.000</td>\n",
       "      <td>86.000</td>\n",
       "      <td>1.000000</td>\n",
       "      <td>15/12/14 19:56</td>\n",
       "      <td>1</td>\n",
       "      <td>86</td>\n",
       "    </tr>\n",
       "    <tr>\n",
       "      <th>9</th>\n",
       "      <td>2015-02</td>\n",
       "      <td>call</td>\n",
       "      <td>329.672914</td>\n",
       "      <td>89.000</td>\n",
       "      <td>14416.000</td>\n",
       "      <td>0.650686</td>\n",
       "      <td>15/01/15 10:36</td>\n",
       "      <td>3</td>\n",
       "      <td>67</td>\n",
       "    </tr>\n",
       "    <tr>\n",
       "      <th>10</th>\n",
       "      <td>2015-02</td>\n",
       "      <td>data</td>\n",
       "      <td>0.000000</td>\n",
       "      <td>34.429</td>\n",
       "      <td>1067.299</td>\n",
       "      <td>34.429000</td>\n",
       "      <td>13/01/15 06:58</td>\n",
       "      <td>1</td>\n",
       "      <td>31</td>\n",
       "    </tr>\n",
       "    <tr>\n",
       "      <th>11</th>\n",
       "      <td>2015-02</td>\n",
       "      <td>sms</td>\n",
       "      <td>0.000000</td>\n",
       "      <td>1.000</td>\n",
       "      <td>39.000</td>\n",
       "      <td>1.000000</td>\n",
       "      <td>15/01/15 12:23</td>\n",
       "      <td>2</td>\n",
       "      <td>39</td>\n",
       "    </tr>\n",
       "    <tr>\n",
       "      <th>12</th>\n",
       "      <td>2015-03</td>\n",
       "      <td>call</td>\n",
       "      <td>1552.192218</td>\n",
       "      <td>107.000</td>\n",
       "      <td>21727.000</td>\n",
       "      <td>0.297630</td>\n",
       "      <td>12/02/15 20:15</td>\n",
       "      <td>3</td>\n",
       "      <td>47</td>\n",
       "    </tr>\n",
       "    <tr>\n",
       "      <th>13</th>\n",
       "      <td>2015-03</td>\n",
       "      <td>data</td>\n",
       "      <td>0.000000</td>\n",
       "      <td>34.429</td>\n",
       "      <td>998.441</td>\n",
       "      <td>34.429000</td>\n",
       "      <td>13/02/15 06:58</td>\n",
       "      <td>1</td>\n",
       "      <td>29</td>\n",
       "    </tr>\n",
       "    <tr>\n",
       "      <th>14</th>\n",
       "      <td>2015-03</td>\n",
       "      <td>sms</td>\n",
       "      <td>0.000000</td>\n",
       "      <td>1.000</td>\n",
       "      <td>25.000</td>\n",
       "      <td>1.000000</td>\n",
       "      <td>19/02/15 18:46</td>\n",
       "      <td>2</td>\n",
       "      <td>25</td>\n",
       "    </tr>\n",
       "  </tbody>\n",
       "</table>\n",
       "</div>"
      ],
      "text/plain": [
       "      month  item     duration                                           date  \\\n",
       "                           std   median        sum   <lambda>           first   \n",
       "0   2014-11  call   387.128905   48.000  25547.000   0.615149  15/10/14 06:58   \n",
       "1   2014-11  data     0.000000   34.429    998.441  34.429000  15/10/14 06:58   \n",
       "2   2014-11   sms     0.000000    1.000     94.000   1.000000  16/10/14 22:18   \n",
       "3   2014-12  call   324.731798   55.000  13561.000   0.526993  14/11/14 17:24   \n",
       "4   2014-12  data     0.000000   34.429   1032.870  34.429000  13/11/14 06:58   \n",
       "5   2014-12   sms     0.000000    1.000     48.000   1.000000  14/11/14 17:28   \n",
       "6   2015-01  call   300.671661   55.500  17070.000   0.643008  15/12/14 20:03   \n",
       "7   2015-01  data     0.000000   34.429   1067.299  34.429000  13/12/14 06:58   \n",
       "8   2015-01   sms     0.000000    1.000     86.000   1.000000  15/12/14 19:56   \n",
       "9   2015-02  call   329.672914   89.000  14416.000   0.650686  15/01/15 10:36   \n",
       "10  2015-02  data     0.000000   34.429   1067.299  34.429000  13/01/15 06:58   \n",
       "11  2015-02   sms     0.000000    1.000     39.000   1.000000  15/01/15 12:23   \n",
       "12  2015-03  call  1552.192218  107.000  21727.000   0.297630  12/02/15 20:15   \n",
       "13  2015-03  data     0.000000   34.429    998.441  34.429000  13/02/15 06:58   \n",
       "14  2015-03   sms     0.000000    1.000     25.000   1.000000  19/02/15 18:46   \n",
       "\n",
       "   network_type        \n",
       "        nunique count  \n",
       "0             3   107  \n",
       "1             1    29  \n",
       "2             2    94  \n",
       "3             3    79  \n",
       "4             1    30  \n",
       "5             2    48  \n",
       "6             3    88  \n",
       "7             1    31  \n",
       "8             1    86  \n",
       "9             3    67  \n",
       "10            1    31  \n",
       "11            2    39  \n",
       "12            3    47  \n",
       "13            1    29  \n",
       "14            2    25  "
      ]
     },
     "execution_count": 8,
     "metadata": {},
     "output_type": "execute_result"
    }
   ],
   "source": [
    "# Group the data frame by month and item and extract a number of stats from each group\n",
    "data.groupby(['month', 'item'], as_index=False).aggregate({\n",
    "                                 'duration': [ 'std','median', sum, lambda d: d.mean()/(d.std()+1)],          # find the sum of the durations for each group\n",
    "                                 'date':  'first',       # get the first date per group\n",
    "                                 'network_type': ['nunique', 'count']\n",
    "                                    })"
   ]
  },
  {
   "cell_type": "markdown",
   "metadata": {
    "heading_collapsed": true
   },
   "source": [
    "#### left , right n inner join\n",
    "\n",
    "\n",
    "| Merge method | SQL Join Name    | Description                               |  \n",
    "|--------------|----------------- |-------------------------------------------|  \n",
    "| left         | LEFT OUTER JOIN  | Use keys from left frame only             |  \n",
    "| right        | RIGHT OUTER JOIN | Use keys from right frame only            |  \n",
    "| outer        | FULL OUTER JOIN  | Use union of keys from both frames        |  \n",
    "| inner        | INNER JOIN       | Use intersection of keys from both frames |\n",
    "\n"
   ]
  },
  {
   "cell_type": "code",
   "execution_count": 5,
   "metadata": {
    "ExecuteTime": {
     "end_time": "2018-11-19T22:43:45.755883Z",
     "start_time": "2018-11-19T22:43:45.710753Z"
    },
    "hidden": true
   },
   "outputs": [
    {
     "data": {
      "text/html": [
       "<div>\n",
       "<style scoped>\n",
       "    .dataframe tbody tr th:only-of-type {\n",
       "        vertical-align: middle;\n",
       "    }\n",
       "\n",
       "    .dataframe tbody tr th {\n",
       "        vertical-align: top;\n",
       "    }\n",
       "\n",
       "    .dataframe thead th {\n",
       "        text-align: right;\n",
       "    }\n",
       "</style>\n",
       "<table border=\"1\" class=\"dataframe\">\n",
       "  <thead>\n",
       "    <tr style=\"text-align: right;\">\n",
       "      <th></th>\n",
       "      <th>key1</th>\n",
       "      <th>key2</th>\n",
       "      <th>A</th>\n",
       "      <th>B</th>\n",
       "    </tr>\n",
       "  </thead>\n",
       "  <tbody>\n",
       "    <tr>\n",
       "      <th>0</th>\n",
       "      <td>K0</td>\n",
       "      <td>K0</td>\n",
       "      <td>A0</td>\n",
       "      <td>B0</td>\n",
       "    </tr>\n",
       "    <tr>\n",
       "      <th>1</th>\n",
       "      <td>K0</td>\n",
       "      <td>K1</td>\n",
       "      <td>A1</td>\n",
       "      <td>B1</td>\n",
       "    </tr>\n",
       "    <tr>\n",
       "      <th>2</th>\n",
       "      <td>K1</td>\n",
       "      <td>K0</td>\n",
       "      <td>A2</td>\n",
       "      <td>B2</td>\n",
       "    </tr>\n",
       "    <tr>\n",
       "      <th>3</th>\n",
       "      <td>K2</td>\n",
       "      <td>K1</td>\n",
       "      <td>A3</td>\n",
       "      <td>B3</td>\n",
       "    </tr>\n",
       "  </tbody>\n",
       "</table>\n",
       "</div>"
      ],
      "text/plain": [
       "  key1 key2   A   B\n",
       "0   K0   K0  A0  B0\n",
       "1   K0   K1  A1  B1\n",
       "2   K1   K0  A2  B2\n",
       "3   K2   K1  A3  B3"
      ]
     },
     "execution_count": 5,
     "metadata": {},
     "output_type": "execute_result"
    },
    {
     "data": {
      "text/html": [
       "<div>\n",
       "<style scoped>\n",
       "    .dataframe tbody tr th:only-of-type {\n",
       "        vertical-align: middle;\n",
       "    }\n",
       "\n",
       "    .dataframe tbody tr th {\n",
       "        vertical-align: top;\n",
       "    }\n",
       "\n",
       "    .dataframe thead th {\n",
       "        text-align: right;\n",
       "    }\n",
       "</style>\n",
       "<table border=\"1\" class=\"dataframe\">\n",
       "  <thead>\n",
       "    <tr style=\"text-align: right;\">\n",
       "      <th></th>\n",
       "      <th>key1</th>\n",
       "      <th>key2</th>\n",
       "      <th>C</th>\n",
       "      <th>D</th>\n",
       "    </tr>\n",
       "  </thead>\n",
       "  <tbody>\n",
       "    <tr>\n",
       "      <th>0</th>\n",
       "      <td>K0</td>\n",
       "      <td>K0</td>\n",
       "      <td>C0</td>\n",
       "      <td>D0</td>\n",
       "    </tr>\n",
       "    <tr>\n",
       "      <th>1</th>\n",
       "      <td>K1</td>\n",
       "      <td>K0</td>\n",
       "      <td>C1</td>\n",
       "      <td>D1</td>\n",
       "    </tr>\n",
       "    <tr>\n",
       "      <th>2</th>\n",
       "      <td>K1</td>\n",
       "      <td>K0</td>\n",
       "      <td>C2</td>\n",
       "      <td>D2</td>\n",
       "    </tr>\n",
       "    <tr>\n",
       "      <th>3</th>\n",
       "      <td>K2</td>\n",
       "      <td>K0</td>\n",
       "      <td>C3</td>\n",
       "      <td>D3</td>\n",
       "    </tr>\n",
       "  </tbody>\n",
       "</table>\n",
       "</div>"
      ],
      "text/plain": [
       "  key1 key2   C   D\n",
       "0   K0   K0  C0  D0\n",
       "1   K1   K0  C1  D1\n",
       "2   K1   K0  C2  D2\n",
       "3   K2   K0  C3  D3"
      ]
     },
     "execution_count": 5,
     "metadata": {},
     "output_type": "execute_result"
    },
    {
     "data": {
      "text/html": [
       "<div>\n",
       "<style scoped>\n",
       "    .dataframe tbody tr th:only-of-type {\n",
       "        vertical-align: middle;\n",
       "    }\n",
       "\n",
       "    .dataframe tbody tr th {\n",
       "        vertical-align: top;\n",
       "    }\n",
       "\n",
       "    .dataframe thead th {\n",
       "        text-align: right;\n",
       "    }\n",
       "</style>\n",
       "<table border=\"1\" class=\"dataframe\">\n",
       "  <thead>\n",
       "    <tr style=\"text-align: right;\">\n",
       "      <th></th>\n",
       "      <th>key1</th>\n",
       "      <th>key2</th>\n",
       "      <th>A</th>\n",
       "      <th>B</th>\n",
       "      <th>C</th>\n",
       "      <th>D</th>\n",
       "    </tr>\n",
       "  </thead>\n",
       "  <tbody>\n",
       "    <tr>\n",
       "      <th>0</th>\n",
       "      <td>K0</td>\n",
       "      <td>K0</td>\n",
       "      <td>A0</td>\n",
       "      <td>B0</td>\n",
       "      <td>C0</td>\n",
       "      <td>D0</td>\n",
       "    </tr>\n",
       "    <tr>\n",
       "      <th>1</th>\n",
       "      <td>K0</td>\n",
       "      <td>K1</td>\n",
       "      <td>A1</td>\n",
       "      <td>B1</td>\n",
       "      <td>NaN</td>\n",
       "      <td>NaN</td>\n",
       "    </tr>\n",
       "    <tr>\n",
       "      <th>2</th>\n",
       "      <td>K1</td>\n",
       "      <td>K0</td>\n",
       "      <td>A2</td>\n",
       "      <td>B2</td>\n",
       "      <td>C1</td>\n",
       "      <td>D1</td>\n",
       "    </tr>\n",
       "    <tr>\n",
       "      <th>3</th>\n",
       "      <td>K1</td>\n",
       "      <td>K0</td>\n",
       "      <td>A2</td>\n",
       "      <td>B2</td>\n",
       "      <td>C2</td>\n",
       "      <td>D2</td>\n",
       "    </tr>\n",
       "    <tr>\n",
       "      <th>4</th>\n",
       "      <td>K2</td>\n",
       "      <td>K1</td>\n",
       "      <td>A3</td>\n",
       "      <td>B3</td>\n",
       "      <td>NaN</td>\n",
       "      <td>NaN</td>\n",
       "    </tr>\n",
       "  </tbody>\n",
       "</table>\n",
       "</div>"
      ],
      "text/plain": [
       "  key1 key2   A   B    C    D\n",
       "0   K0   K0  A0  B0   C0   D0\n",
       "1   K0   K1  A1  B1  NaN  NaN\n",
       "2   K1   K0  A2  B2   C1   D1\n",
       "3   K1   K0  A2  B2   C2   D2\n",
       "4   K2   K1  A3  B3  NaN  NaN"
      ]
     },
     "execution_count": 5,
     "metadata": {},
     "output_type": "execute_result"
    }
   ],
   "source": [
    "left = pd.DataFrame({'key1': ['K0', 'K0', 'K1', 'K2'],\n",
    "                     'key2': ['K0', 'K1', 'K0', 'K1'],\n",
    "                     'A': ['A0', 'A1', 'A2', 'A3'], \n",
    "                     'B': ['B0', 'B1', 'B2', 'B3']})\n",
    "\n",
    "\n",
    "right = pd.DataFrame({'key1': ['K0', 'K1', 'K1', 'K2'],\n",
    "                      'key2': ['K0', 'K0', 'K0', 'K0'],  \n",
    "                      'C': ['C0', 'C1', 'C2', 'C3'],\n",
    "                      'D': ['D0', 'D1', 'D2', 'D3']})\n",
    "\n",
    "\n",
    "\n",
    "result = pd.merge(left, right, how='left', on=['key1', 'key2'])\n",
    "\n",
    "left\n",
    "\n",
    "right\n",
    "\n",
    "result"
   ]
  },
  {
   "cell_type": "markdown",
   "metadata": {
    "heading_collapsed": true
   },
   "source": [
    "#### String manipulation \n",
    "\n",
    "\n",
    "* basic string manipulation\n",
    "* vectorized string manipulation\n",
    "  (take notes of the pros n crons)\n",
    "    \n",
    "    https://jakevdp.github.io/PythonDataScienceHandbook/03.10-working-with-strings.html\n",
    "        "
   ]
  },
  {
   "cell_type": "markdown",
   "metadata": {},
   "source": [
    "#### High performance eval n query\n",
    "\n",
    "https://jakevdp.github.io/PythonDataScienceHandbook/03.12-performance-eval-and-query.html\n",
    "\n",
    "Motivations\n",
    "for large df n arrays eval n query are faster\n"
   ]
  },
  {
   "cell_type": "markdown",
   "metadata": {
    "heading_collapsed": true
   },
   "source": [
    "## Time Series\n",
    "\n",
    "https://jakevdp.github.io/PythonDataScienceHandbook/03.11-working-with-time-series.html\n"
   ]
  },
  {
   "cell_type": "markdown",
   "metadata": {
    "hidden": true
   },
   "source": [
    "### Data wrangler"
   ]
  },
  {
   "cell_type": "markdown",
   "metadata": {
    "heading_collapsed": true,
    "hidden": true
   },
   "source": [
    "#### Date manipulation"
   ]
  },
  {
   "cell_type": "code",
   "execution_count": 10,
   "metadata": {
    "ExecuteTime": {
     "end_time": "2018-10-25T19:25:36.135120Z",
     "start_time": "2018-10-25T19:25:36.101863Z"
    },
    "hidden": true
   },
   "outputs": [
    {
     "data": {
      "text/plain": [
       "datetime.datetime(2015, 7, 4, 0, 0)"
      ]
     },
     "execution_count": 10,
     "metadata": {},
     "output_type": "execute_result"
    },
    {
     "data": {
      "text/plain": [
       "datetime.datetime(2015, 7, 4, 0, 0)"
      ]
     },
     "execution_count": 10,
     "metadata": {},
     "output_type": "execute_result"
    },
    {
     "data": {
      "text/plain": [
       "array('2015-07-04', dtype='datetime64[D]')"
      ]
     },
     "execution_count": 10,
     "metadata": {},
     "output_type": "execute_result"
    },
    {
     "data": {
      "text/plain": [
       "array(['2015-07-04', '2015-07-05', '2015-07-06'], dtype='datetime64[D]')"
      ]
     },
     "execution_count": 10,
     "metadata": {},
     "output_type": "execute_result"
    },
    {
     "data": {
      "text/plain": [
       "Timestamp('2015-07-04 00:00:00')"
      ]
     },
     "execution_count": 10,
     "metadata": {},
     "output_type": "execute_result"
    },
    {
     "data": {
      "text/plain": [
       "DatetimeIndex(['2015-07-04', '2015-07-05', '2015-07-06'], dtype='datetime64[ns]', freq=None)"
      ]
     },
     "execution_count": 10,
     "metadata": {},
     "output_type": "execute_result"
    }
   ],
   "source": [
    "from datetime import datetime\n",
    "from dateutil import parser\n",
    "\n",
    "date = datetime(year=2015, month=7, day=4)\n",
    "date\n",
    "\n",
    "date = parser.parse(\"4th of July, 2015\")\n",
    "date\n",
    "\n",
    "date = pd.to_datetime(\"4th of July, 2015\")\n",
    "date\n",
    "\n",
    "\n",
    "date = np.array('2015-07-04', dtype=np.datetime64)\n",
    "date\n",
    "\n",
    "date + np.arange(3)\n"
   ]
  },
  {
   "cell_type": "markdown",
   "metadata": {
    "hidden": true
   },
   "source": [
    "**Pandas freq meanings**\n",
    "\n",
    "* D\tCalendar day\t\n",
    "* W\tWeekly\t\t\n",
    "* M\tMonth end\t\n",
    "* Q\tQuarter end\t\n",
    "* A\tYear end\t\n",
    "* H\tHours\t\n",
    "* T\tMinutes\t\t\n",
    "* S\tSeconds\t\t\n",
    "* L\tMilliseonds\t\t\n",
    "* U\tMicroseconds\t\t\n",
    "* N\tnanoseconds\n",
    "* B\tBusiness day\n",
    "* BM\tBusiness month end\n",
    "* BQ\tBusiness quarter end\n",
    "* BA\tBusiness year end\n",
    "* BH\tBusiness hours"
   ]
  },
  {
   "cell_type": "code",
   "execution_count": 16,
   "metadata": {
    "ExecuteTime": {
     "end_time": "2018-10-25T19:31:52.578678Z",
     "start_time": "2018-10-25T19:31:52.558550Z"
    },
    "hidden": true
   },
   "outputs": [
    {
     "data": {
      "text/plain": [
       "DatetimeIndex(['2015-07-03', '2015-07-04', '2015-07-05'], dtype='datetime64[ns]', freq='D')"
      ]
     },
     "execution_count": 16,
     "metadata": {},
     "output_type": "execute_result"
    },
    {
     "data": {
      "text/plain": [
       "PeriodIndex(['2015-11', '2015-12', '2016-01'], dtype='period[M]', freq='M')"
      ]
     },
     "execution_count": 16,
     "metadata": {},
     "output_type": "execute_result"
    },
    {
     "data": {
      "text/plain": [
       "TimedeltaIndex(['00:00:00', '01:00:00', '02:00:00'], dtype='timedelta64[ns]', freq='H')"
      ]
     },
     "execution_count": 16,
     "metadata": {},
     "output_type": "execute_result"
    }
   ],
   "source": [
    "pd.date_range('2015-07-03', periods=3, freq='D')\n",
    "\n",
    "pd.period_range('2015-11', periods=3, freq='M')\n",
    "\n",
    "pd.timedelta_range(0, periods=3, freq='H')"
   ]
  },
  {
   "cell_type": "markdown",
   "metadata": {
    "heading_collapsed": true,
    "hidden": true
   },
   "source": [
    "#### Rolling windows (TODO)\n",
    "https://jakevdp.github.io/PythonDataScienceHandbook/03.11-working-with-time-series.html"
   ]
  },
  {
   "cell_type": "markdown",
   "metadata": {
    "hidden": true
   },
   "source": [
    "### Time series visualization (TODO)"
   ]
  },
  {
   "cell_type": "code",
   "execution_count": 20,
   "metadata": {
    "ExecuteTime": {
     "end_time": "2018-10-26T17:54:10.186134Z",
     "start_time": "2018-10-26T17:54:10.180713Z"
    },
    "hidden": true
   },
   "outputs": [],
   "source": [
    "# TODO\n",
    "\n"
   ]
  },
  {
   "cell_type": "markdown",
   "metadata": {
    "heading_collapsed": true
   },
   "source": [
    "## Geo located data"
   ]
  },
  {
   "cell_type": "markdown",
   "metadata": {
    "ExecuteTime": {
     "end_time": "2018-10-27T00:05:22.990380Z",
     "start_time": "2018-10-27T00:05:22.977717Z"
    }
   },
   "source": [
    "## Visualizations\n",
    "WIP\n",
    "\n",
    "https://plot.ly/python/ipython-notebook-tutorial/\n",
    "\n",
    "about license offiline plotly\n",
    "https://stackoverflow.com/questions/35511111/plotly-python-totally-free\n",
    "\n",
    "1. free\n",
    "2. open source\n",
    "\n",
    "All the libraries API; Matlab, Python n R alwasy were free. pltly.js only form 2015\n",
    "\n",
    "The Accounts you can create on their website are just to host graphs online. Like with a free account you can host one private graph, with a professional account you can host unlimited private/public graphs\n"
   ]
  },
  {
   "cell_type": "markdown",
   "metadata": {},
   "source": [
    "\n",
    "================\n",
    "* Interactive plots  (good to examine the data)\n",
    "    1. Sactter plot\n",
    "    2. Boxplot per category n try the width is sample size\n",
    "    3. Histograms subplot\n",
    "    4. financial data https://help.plot.ly/make-a-candlestick/ candles and select periodo tool\n",
    "    5. maps (geo located plots)\n",
    "    6. tables with filters \n",
    "    7. mini plot inside a plot https://help.plot.ly/getting-data/\n",
    "    8. network graphs: https://plot.ly/python/network-graphs/\n",
    "\n",
    "* Analysis plots\n",
    "    1. correlation matrix with scatter plot\n",
    "    2. "
   ]
  },
  {
   "cell_type": "markdown",
   "metadata": {},
   "source": [
    "### Load data"
   ]
  },
  {
   "cell_type": "code",
   "execution_count": 9,
   "metadata": {
    "ExecuteTime": {
     "end_time": "2018-11-16T00:06:41.633140Z",
     "start_time": "2018-11-16T00:06:41.522253Z"
    }
   },
   "outputs": [
    {
     "data": {
      "text/plain": [
       "Index(['sepal length (cm)', 'sepal width (cm)', 'petal length (cm)',\n",
       "       'petal width (cm)', 'target', 'target_name'],\n",
       "      dtype='object')"
      ]
     },
     "execution_count": 9,
     "metadata": {},
     "output_type": "execute_result"
    },
    {
     "data": {
      "text/html": [
       "<div>\n",
       "<style scoped>\n",
       "    .dataframe tbody tr th:only-of-type {\n",
       "        vertical-align: middle;\n",
       "    }\n",
       "\n",
       "    .dataframe tbody tr th {\n",
       "        vertical-align: top;\n",
       "    }\n",
       "\n",
       "    .dataframe thead th {\n",
       "        text-align: right;\n",
       "    }\n",
       "</style>\n",
       "<table border=\"1\" class=\"dataframe\">\n",
       "  <thead>\n",
       "    <tr style=\"text-align: right;\">\n",
       "      <th></th>\n",
       "      <th>sepal length (cm)</th>\n",
       "      <th>sepal width (cm)</th>\n",
       "      <th>petal length (cm)</th>\n",
       "      <th>petal width (cm)</th>\n",
       "      <th>target</th>\n",
       "      <th>target_name</th>\n",
       "    </tr>\n",
       "  </thead>\n",
       "  <tbody>\n",
       "    <tr>\n",
       "      <th>0</th>\n",
       "      <td>5.1</td>\n",
       "      <td>3.5</td>\n",
       "      <td>1.4</td>\n",
       "      <td>0.2</td>\n",
       "      <td>0</td>\n",
       "      <td>setosa</td>\n",
       "    </tr>\n",
       "    <tr>\n",
       "      <th>1</th>\n",
       "      <td>4.9</td>\n",
       "      <td>3.0</td>\n",
       "      <td>1.4</td>\n",
       "      <td>0.2</td>\n",
       "      <td>0</td>\n",
       "      <td>setosa</td>\n",
       "    </tr>\n",
       "    <tr>\n",
       "      <th>2</th>\n",
       "      <td>4.7</td>\n",
       "      <td>3.2</td>\n",
       "      <td>1.3</td>\n",
       "      <td>0.2</td>\n",
       "      <td>0</td>\n",
       "      <td>setosa</td>\n",
       "    </tr>\n",
       "  </tbody>\n",
       "</table>\n",
       "</div>"
      ],
      "text/plain": [
       "   sepal length (cm)  sepal width (cm)  petal length (cm)  petal width (cm)  \\\n",
       "0                5.1               3.5                1.4               0.2   \n",
       "1                4.9               3.0                1.4               0.2   \n",
       "2                4.7               3.2                1.3               0.2   \n",
       "\n",
       "   target target_name  \n",
       "0       0      setosa  \n",
       "1       0      setosa  \n",
       "2       0      setosa  "
      ]
     },
     "execution_count": 9,
     "metadata": {},
     "output_type": "execute_result"
    }
   ],
   "source": [
    "from sklearn.datasets import load_iris\n",
    "\n",
    "# Load the Iris flower dataset:\n",
    "iris = load_iris()\n",
    "\n",
    "iris_df = pd.DataFrame(iris.data)\n",
    "iris_df.columns = iris.feature_names\n",
    "\n",
    "iris_df['target'] = iris.target\n",
    "\n",
    "iris_df['target_name'] = iris_df.target.map(lambda t: iris.target_names[int(t)])\n",
    "\n",
    "iris_df.columns\n",
    "iris_df.head(3)"
   ]
  },
  {
   "cell_type": "markdown",
   "metadata": {},
   "source": [
    "### Boxplot\n",
    "\n",
    "plotly does not support boxplot width proportional to variable or sample size"
   ]
  },
  {
   "cell_type": "code",
   "execution_count": 10,
   "metadata": {
    "ExecuteTime": {
     "end_time": "2018-11-16T00:06:46.422417Z",
     "start_time": "2018-11-16T00:06:45.605238Z"
    }
   },
   "outputs": [
    {
     "data": {
      "text/html": [
       "<script>requirejs.config({paths: { 'plotly': ['https://cdn.plot.ly/plotly-latest.min']},});if(!window.Plotly) {{require(['plotly'],function(plotly) {window.Plotly=plotly;});}}</script>"
      ],
      "text/vnd.plotly.v1+html": [
       "<script>requirejs.config({paths: { 'plotly': ['https://cdn.plot.ly/plotly-latest.min']},});if(!window.Plotly) {{require(['plotly'],function(plotly) {window.Plotly=plotly;});}}</script>"
      ]
     },
     "metadata": {},
     "output_type": "display_data"
    },
    {
     "name": "stdout",
     "output_type": "stream",
     "text": [
      "size of group setosa: 50\n",
      "size of group versicolor: 50\n",
      "size of group virginica: 50\n"
     ]
    },
    {
     "data": {
      "application/vnd.plotly.v1+json": {
       "data": [
        {
         "name": "setosa",
         "showlegend": false,
         "type": "box",
         "uid": "819d091c-e933-11e8-8577-080027daca25",
         "y": [
          5.1,
          4.9,
          4.7,
          4.6,
          5,
          5.4,
          4.6,
          5,
          4.4,
          4.9,
          5.4,
          4.8,
          4.8,
          4.3,
          5.8,
          5.7,
          5.4,
          5.1,
          5.7,
          5.1,
          5.4,
          5.1,
          4.6,
          5.1,
          4.8,
          5,
          5,
          5.2,
          5.2,
          4.7,
          4.8,
          5.4,
          5.2,
          5.5,
          4.9,
          5,
          5.5,
          4.9,
          4.4,
          5.1,
          5,
          4.5,
          4.4,
          5,
          5.1,
          4.8,
          5.1,
          4.6,
          5.3,
          5
         ]
        },
        {
         "name": "versicolor",
         "showlegend": false,
         "type": "box",
         "uid": "819d091d-e933-11e8-8577-080027daca25",
         "y": [
          7,
          6.4,
          6.9,
          5.5,
          6.5,
          5.7,
          6.3,
          4.9,
          6.6,
          5.2,
          5,
          5.9,
          6,
          6.1,
          5.6,
          6.7,
          5.6,
          5.8,
          6.2,
          5.6,
          5.9,
          6.1,
          6.3,
          6.1,
          6.4,
          6.6,
          6.8,
          6.7,
          6,
          5.7,
          5.5,
          5.5,
          5.8,
          6,
          5.4,
          6,
          6.7,
          6.3,
          5.6,
          5.5,
          5.5,
          6.1,
          5.8,
          5,
          5.6,
          5.7,
          5.7,
          6.2,
          5.1,
          5.7
         ]
        },
        {
         "name": "virginica",
         "showlegend": false,
         "type": "box",
         "uid": "819d091e-e933-11e8-8577-080027daca25",
         "y": [
          6.3,
          5.8,
          7.1,
          6.3,
          6.5,
          7.6,
          4.9,
          7.3,
          6.7,
          7.2,
          6.5,
          6.4,
          6.8,
          5.7,
          5.8,
          6.4,
          6.5,
          7.7,
          7.7,
          6,
          6.9,
          5.6,
          7.7,
          6.3,
          6.7,
          7.2,
          6.2,
          6.1,
          6.4,
          7.2,
          7.4,
          7.9,
          6.4,
          6.3,
          6.1,
          7.7,
          6.3,
          6.4,
          6,
          6.9,
          6.7,
          6.9,
          5.8,
          6.8,
          6.7,
          6.7,
          6.3,
          6.5,
          6.2,
          5.9
         ]
        }
       ],
       "layout": {}
      },
      "text/html": [
       "<div id=\"0267e519-a791-4151-8d78-c332ef8cd675\" style=\"height: 525px; width: 100%;\" class=\"plotly-graph-div\"></div><script type=\"text/javascript\">require([\"plotly\"], function(Plotly) { window.PLOTLYENV=window.PLOTLYENV || {};window.PLOTLYENV.BASE_URL=\"https://plot.ly\";Plotly.newPlot(\"0267e519-a791-4151-8d78-c332ef8cd675\", [{\"name\": \"setosa\", \"showlegend\": false, \"y\": [5.1, 4.9, 4.7, 4.6, 5.0, 5.4, 4.6, 5.0, 4.4, 4.9, 5.4, 4.8, 4.8, 4.3, 5.8, 5.7, 5.4, 5.1, 5.7, 5.1, 5.4, 5.1, 4.6, 5.1, 4.8, 5.0, 5.0, 5.2, 5.2, 4.7, 4.8, 5.4, 5.2, 5.5, 4.9, 5.0, 5.5, 4.9, 4.4, 5.1, 5.0, 4.5, 4.4, 5.0, 5.1, 4.8, 5.1, 4.6, 5.3, 5.0], \"type\": \"box\", \"uid\": \"819d091f-e933-11e8-8577-080027daca25\"}, {\"name\": \"versicolor\", \"showlegend\": false, \"y\": [7.0, 6.4, 6.9, 5.5, 6.5, 5.7, 6.3, 4.9, 6.6, 5.2, 5.0, 5.9, 6.0, 6.1, 5.6, 6.7, 5.6, 5.8, 6.2, 5.6, 5.9, 6.1, 6.3, 6.1, 6.4, 6.6, 6.8, 6.7, 6.0, 5.7, 5.5, 5.5, 5.8, 6.0, 5.4, 6.0, 6.7, 6.3, 5.6, 5.5, 5.5, 6.1, 5.8, 5.0, 5.6, 5.7, 5.7, 6.2, 5.1, 5.7], \"type\": \"box\", \"uid\": \"819d0920-e933-11e8-8577-080027daca25\"}, {\"name\": \"virginica\", \"showlegend\": false, \"y\": [6.3, 5.8, 7.1, 6.3, 6.5, 7.6, 4.9, 7.3, 6.7, 7.2, 6.5, 6.4, 6.8, 5.7, 5.8, 6.4, 6.5, 7.7, 7.7, 6.0, 6.9, 5.6, 7.7, 6.3, 6.7, 7.2, 6.2, 6.1, 6.4, 7.2, 7.4, 7.9, 6.4, 6.3, 6.1, 7.7, 6.3, 6.4, 6.0, 6.9, 6.7, 6.9, 5.8, 6.8, 6.7, 6.7, 6.3, 6.5, 6.2, 5.9], \"type\": \"box\", \"uid\": \"819d0921-e933-11e8-8577-080027daca25\"}], {}, {\"showLink\": true, \"linkText\": \"Export to plot.ly\"})});</script>"
      ],
      "text/vnd.plotly.v1+html": [
       "<div id=\"0267e519-a791-4151-8d78-c332ef8cd675\" style=\"height: 525px; width: 100%;\" class=\"plotly-graph-div\"></div><script type=\"text/javascript\">require([\"plotly\"], function(Plotly) { window.PLOTLYENV=window.PLOTLYENV || {};window.PLOTLYENV.BASE_URL=\"https://plot.ly\";Plotly.newPlot(\"0267e519-a791-4151-8d78-c332ef8cd675\", [{\"name\": \"setosa\", \"showlegend\": false, \"y\": [5.1, 4.9, 4.7, 4.6, 5.0, 5.4, 4.6, 5.0, 4.4, 4.9, 5.4, 4.8, 4.8, 4.3, 5.8, 5.7, 5.4, 5.1, 5.7, 5.1, 5.4, 5.1, 4.6, 5.1, 4.8, 5.0, 5.0, 5.2, 5.2, 4.7, 4.8, 5.4, 5.2, 5.5, 4.9, 5.0, 5.5, 4.9, 4.4, 5.1, 5.0, 4.5, 4.4, 5.0, 5.1, 4.8, 5.1, 4.6, 5.3, 5.0], \"type\": \"box\", \"uid\": \"819d091f-e933-11e8-8577-080027daca25\"}, {\"name\": \"versicolor\", \"showlegend\": false, \"y\": [7.0, 6.4, 6.9, 5.5, 6.5, 5.7, 6.3, 4.9, 6.6, 5.2, 5.0, 5.9, 6.0, 6.1, 5.6, 6.7, 5.6, 5.8, 6.2, 5.6, 5.9, 6.1, 6.3, 6.1, 6.4, 6.6, 6.8, 6.7, 6.0, 5.7, 5.5, 5.5, 5.8, 6.0, 5.4, 6.0, 6.7, 6.3, 5.6, 5.5, 5.5, 6.1, 5.8, 5.0, 5.6, 5.7, 5.7, 6.2, 5.1, 5.7], \"type\": \"box\", \"uid\": \"819d0920-e933-11e8-8577-080027daca25\"}, {\"name\": \"virginica\", \"showlegend\": false, \"y\": [6.3, 5.8, 7.1, 6.3, 6.5, 7.6, 4.9, 7.3, 6.7, 7.2, 6.5, 6.4, 6.8, 5.7, 5.8, 6.4, 6.5, 7.7, 7.7, 6.0, 6.9, 5.6, 7.7, 6.3, 6.7, 7.2, 6.2, 6.1, 6.4, 7.2, 7.4, 7.9, 6.4, 6.3, 6.1, 7.7, 6.3, 6.4, 6.0, 6.9, 6.7, 6.9, 5.8, 6.8, 6.7, 6.7, 6.3, 6.5, 6.2, 5.9], \"type\": \"box\", \"uid\": \"819d0921-e933-11e8-8577-080027daca25\"}], {}, {\"showLink\": true, \"linkText\": \"Export to plot.ly\"})});</script>"
      ]
     },
     "metadata": {},
     "output_type": "display_data"
    }
   ],
   "source": [
    "## offline plot\n",
    "import plotly\n",
    "import plotly.graph_objs as go\n",
    "from plotly.offline import download_plotlyjs, init_notebook_mode, plot, iplot\n",
    "\n",
    "init_notebook_mode(connected=True)\n",
    "\n",
    "data = []\n",
    "\n",
    "for tn in iris_df.target_name.unique():\n",
    "    \n",
    "    df = iris_df[iris_df.target_name == tn]\n",
    "    print('size of group {}: {}'.format(tn, df.shape[0]))\n",
    "    \n",
    "    data.append(  go.Box( y=df['sepal length (cm)'] , name=str(tn), showlegend=False ) )\n",
    "\n",
    "plotly.offline.iplot(data)"
   ]
  },
  {
   "cell_type": "code",
   "execution_count": 11,
   "metadata": {
    "ExecuteTime": {
     "end_time": "2018-11-16T00:07:05.289152Z",
     "start_time": "2018-11-16T00:07:05.221407Z"
    }
   },
   "outputs": [
    {
     "name": "stdout",
     "output_type": "stream",
     "text": [
      "size of group setosa: 50\n",
      "size of group versicolor: 50\n",
      "size of group virginica: 50\n"
     ]
    },
    {
     "data": {
      "application/vnd.plotly.v1+json": {
       "data": [
        {
         "name": "setosa",
         "showlegend": false,
         "type": "box",
         "uid": "8cf6ecce-e933-11e8-8577-080027daca25",
         "x": [
          5.1,
          4.9,
          4.7,
          4.6,
          5,
          5.4,
          4.6,
          5,
          4.4,
          4.9,
          5.4,
          4.8,
          4.8,
          4.3,
          5.8,
          5.7,
          5.4,
          5.1,
          5.7,
          5.1,
          5.4,
          5.1,
          4.6,
          5.1,
          4.8,
          5,
          5,
          5.2,
          5.2,
          4.7,
          4.8,
          5.4,
          5.2,
          5.5,
          4.9,
          5,
          5.5,
          4.9,
          4.4,
          5.1,
          5,
          4.5,
          4.4,
          5,
          5.1,
          4.8,
          5.1,
          4.6,
          5.3,
          5
         ]
        },
        {
         "name": "versicolor",
         "showlegend": false,
         "type": "box",
         "uid": "8cf6eccf-e933-11e8-8577-080027daca25",
         "x": [
          7,
          6.4,
          6.9,
          5.5,
          6.5,
          5.7,
          6.3,
          4.9,
          6.6,
          5.2,
          5,
          5.9,
          6,
          6.1,
          5.6,
          6.7,
          5.6,
          5.8,
          6.2,
          5.6,
          5.9,
          6.1,
          6.3,
          6.1,
          6.4,
          6.6,
          6.8,
          6.7,
          6,
          5.7,
          5.5,
          5.5,
          5.8,
          6,
          5.4,
          6,
          6.7,
          6.3,
          5.6,
          5.5,
          5.5,
          6.1,
          5.8,
          5,
          5.6,
          5.7,
          5.7,
          6.2,
          5.1,
          5.7
         ]
        },
        {
         "name": "virginica",
         "showlegend": false,
         "type": "box",
         "uid": "8cf6ecd0-e933-11e8-8577-080027daca25",
         "x": [
          6.3,
          5.8,
          7.1,
          6.3,
          6.5,
          7.6,
          4.9,
          7.3,
          6.7,
          7.2,
          6.5,
          6.4,
          6.8,
          5.7,
          5.8,
          6.4,
          6.5,
          7.7,
          7.7,
          6,
          6.9,
          5.6,
          7.7,
          6.3,
          6.7,
          7.2,
          6.2,
          6.1,
          6.4,
          7.2,
          7.4,
          7.9,
          6.4,
          6.3,
          6.1,
          7.7,
          6.3,
          6.4,
          6,
          6.9,
          6.7,
          6.9,
          5.8,
          6.8,
          6.7,
          6.7,
          6.3,
          6.5,
          6.2,
          5.9
         ]
        }
       ],
       "layout": {}
      },
      "text/html": [
       "<div id=\"51730b44-724d-4a80-beb4-c1f5558532a9\" style=\"height: 525px; width: 100%;\" class=\"plotly-graph-div\"></div><script type=\"text/javascript\">require([\"plotly\"], function(Plotly) { window.PLOTLYENV=window.PLOTLYENV || {};window.PLOTLYENV.BASE_URL=\"https://plot.ly\";Plotly.newPlot(\"51730b44-724d-4a80-beb4-c1f5558532a9\", [{\"name\": \"setosa\", \"showlegend\": false, \"x\": [5.1, 4.9, 4.7, 4.6, 5.0, 5.4, 4.6, 5.0, 4.4, 4.9, 5.4, 4.8, 4.8, 4.3, 5.8, 5.7, 5.4, 5.1, 5.7, 5.1, 5.4, 5.1, 4.6, 5.1, 4.8, 5.0, 5.0, 5.2, 5.2, 4.7, 4.8, 5.4, 5.2, 5.5, 4.9, 5.0, 5.5, 4.9, 4.4, 5.1, 5.0, 4.5, 4.4, 5.0, 5.1, 4.8, 5.1, 4.6, 5.3, 5.0], \"type\": \"box\", \"uid\": \"8cf6ecd1-e933-11e8-8577-080027daca25\"}, {\"name\": \"versicolor\", \"showlegend\": false, \"x\": [7.0, 6.4, 6.9, 5.5, 6.5, 5.7, 6.3, 4.9, 6.6, 5.2, 5.0, 5.9, 6.0, 6.1, 5.6, 6.7, 5.6, 5.8, 6.2, 5.6, 5.9, 6.1, 6.3, 6.1, 6.4, 6.6, 6.8, 6.7, 6.0, 5.7, 5.5, 5.5, 5.8, 6.0, 5.4, 6.0, 6.7, 6.3, 5.6, 5.5, 5.5, 6.1, 5.8, 5.0, 5.6, 5.7, 5.7, 6.2, 5.1, 5.7], \"type\": \"box\", \"uid\": \"8cf6ecd2-e933-11e8-8577-080027daca25\"}, {\"name\": \"virginica\", \"showlegend\": false, \"x\": [6.3, 5.8, 7.1, 6.3, 6.5, 7.6, 4.9, 7.3, 6.7, 7.2, 6.5, 6.4, 6.8, 5.7, 5.8, 6.4, 6.5, 7.7, 7.7, 6.0, 6.9, 5.6, 7.7, 6.3, 6.7, 7.2, 6.2, 6.1, 6.4, 7.2, 7.4, 7.9, 6.4, 6.3, 6.1, 7.7, 6.3, 6.4, 6.0, 6.9, 6.7, 6.9, 5.8, 6.8, 6.7, 6.7, 6.3, 6.5, 6.2, 5.9], \"type\": \"box\", \"uid\": \"8cf6ecd3-e933-11e8-8577-080027daca25\"}], {}, {\"showLink\": true, \"linkText\": \"Export to plot.ly\"})});</script>"
      ],
      "text/vnd.plotly.v1+html": [
       "<div id=\"51730b44-724d-4a80-beb4-c1f5558532a9\" style=\"height: 525px; width: 100%;\" class=\"plotly-graph-div\"></div><script type=\"text/javascript\">require([\"plotly\"], function(Plotly) { window.PLOTLYENV=window.PLOTLYENV || {};window.PLOTLYENV.BASE_URL=\"https://plot.ly\";Plotly.newPlot(\"51730b44-724d-4a80-beb4-c1f5558532a9\", [{\"name\": \"setosa\", \"showlegend\": false, \"x\": [5.1, 4.9, 4.7, 4.6, 5.0, 5.4, 4.6, 5.0, 4.4, 4.9, 5.4, 4.8, 4.8, 4.3, 5.8, 5.7, 5.4, 5.1, 5.7, 5.1, 5.4, 5.1, 4.6, 5.1, 4.8, 5.0, 5.0, 5.2, 5.2, 4.7, 4.8, 5.4, 5.2, 5.5, 4.9, 5.0, 5.5, 4.9, 4.4, 5.1, 5.0, 4.5, 4.4, 5.0, 5.1, 4.8, 5.1, 4.6, 5.3, 5.0], \"type\": \"box\", \"uid\": \"8cf6ecd1-e933-11e8-8577-080027daca25\"}, {\"name\": \"versicolor\", \"showlegend\": false, \"x\": [7.0, 6.4, 6.9, 5.5, 6.5, 5.7, 6.3, 4.9, 6.6, 5.2, 5.0, 5.9, 6.0, 6.1, 5.6, 6.7, 5.6, 5.8, 6.2, 5.6, 5.9, 6.1, 6.3, 6.1, 6.4, 6.6, 6.8, 6.7, 6.0, 5.7, 5.5, 5.5, 5.8, 6.0, 5.4, 6.0, 6.7, 6.3, 5.6, 5.5, 5.5, 6.1, 5.8, 5.0, 5.6, 5.7, 5.7, 6.2, 5.1, 5.7], \"type\": \"box\", \"uid\": \"8cf6ecd2-e933-11e8-8577-080027daca25\"}, {\"name\": \"virginica\", \"showlegend\": false, \"x\": [6.3, 5.8, 7.1, 6.3, 6.5, 7.6, 4.9, 7.3, 6.7, 7.2, 6.5, 6.4, 6.8, 5.7, 5.8, 6.4, 6.5, 7.7, 7.7, 6.0, 6.9, 5.6, 7.7, 6.3, 6.7, 7.2, 6.2, 6.1, 6.4, 7.2, 7.4, 7.9, 6.4, 6.3, 6.1, 7.7, 6.3, 6.4, 6.0, 6.9, 6.7, 6.9, 5.8, 6.8, 6.7, 6.7, 6.3, 6.5, 6.2, 5.9], \"type\": \"box\", \"uid\": \"8cf6ecd3-e933-11e8-8577-080027daca25\"}], {}, {\"showLink\": true, \"linkText\": \"Export to plot.ly\"})});</script>"
      ]
     },
     "metadata": {},
     "output_type": "display_data"
    }
   ],
   "source": [
    "data = []\n",
    "\n",
    "for tn in iris_df.target_name.unique():\n",
    "    \n",
    "    df = iris_df[iris_df.target_name == tn]\n",
    "    print('size of group {}: {}'.format(tn, df.shape[0]))\n",
    "    \n",
    "    data.append(  go.Box( x=df['sepal length (cm)'] , name=str(tn), showlegend=False ) )\n",
    "\n",
    "plotly.offline.iplot(data)"
   ]
  },
  {
   "cell_type": "code",
   "execution_count": 12,
   "metadata": {
    "ExecuteTime": {
     "end_time": "2018-11-16T00:07:16.732421Z",
     "start_time": "2018-11-16T00:07:15.425807Z"
    }
   },
   "outputs": [
    {
     "name": "stdout",
     "output_type": "stream",
     "text": [
      "\n",
      "\n"
     ]
    },
    {
     "data": {
      "image/png": "[encoded data removed]",
      "text/plain": [
       "<Figure size 720x288 with 1 Axes>"
      ]
     },
     "metadata": {},
     "output_type": "display_data"
    },
    {
     "data": {
      "image/png": "[encoded data removed]",
      "text/plain": [
       "<Figure size 720x288 with 1 Axes>"
      ]
     },
     "metadata": {},
     "output_type": "display_data"
    },
    {
     "data": {
      "image/png": "[encoded data removed]",
      "text/plain": [
       "<Figure size 720x576 with 4 Axes>"
      ]
     },
     "metadata": {},
     "output_type": "display_data"
    }
   ],
   "source": [
    "iris_df.boxplot(column=['sepal length (cm)', 'sepal width (cm)', 'petal length (cm)'],\n",
    "               figsize=(10,4));\n",
    "\n",
    "print()\n",
    "# The iris is not a good example for this visualization because the classes are balanced\n",
    "# This is better in ggplot n R\n",
    "dfg = iris_df.groupby('target_name')\n",
    "\n",
    "counts = [len(v) for k, v in dfg]\n",
    "total = float(sum(counts))\n",
    "cases = len(counts)\n",
    "\n",
    "widths = [c/total for c in counts] \n",
    "\n",
    "ax = iris_df.boxplot(by='target_name', \n",
    "                column=['sepal length (cm)'],\n",
    "                widths=widths,\n",
    "                   figsize=(10,4));\n",
    "\n",
    "ax.set_xticklabels(['%s\\n$n$=%d'%(k, len(v)) for k, v in dfg])\n",
    "\n",
    "print()\n",
    "ax = iris_df.boxplot(by='target_name', \n",
    "                column=['sepal length (cm)', 'sepal width (cm)', 'petal length (cm)'],\n",
    "               figsize=(10,8));"
   ]
  },
  {
   "cell_type": "markdown",
   "metadata": {},
   "source": [
    "### Histograms"
   ]
  },
  {
   "cell_type": "code",
   "execution_count": 30,
   "metadata": {
    "ExecuteTime": {
     "end_time": "2018-11-16T00:20:03.906984Z",
     "start_time": "2018-11-16T00:20:03.851721Z"
    }
   },
   "outputs": [
    {
     "data": {
      "application/vnd.plotly.v1+json": {
       "data": [
        {
         "nbinsx": 8,
         "type": "histogram",
         "uid": "5d0f17c8-e935-11e8-8577-080027daca25",
         "x": [
          5.1,
          4.9,
          4.7,
          4.6,
          5,
          5.4,
          4.6,
          5,
          4.4,
          4.9,
          5.4,
          4.8,
          4.8,
          4.3,
          5.8,
          5.7,
          5.4,
          5.1,
          5.7,
          5.1,
          5.4,
          5.1,
          4.6,
          5.1,
          4.8,
          5,
          5,
          5.2,
          5.2,
          4.7,
          4.8,
          5.4,
          5.2,
          5.5,
          4.9,
          5,
          5.5,
          4.9,
          4.4,
          5.1,
          5,
          4.5,
          4.4,
          5,
          5.1,
          4.8,
          5.1,
          4.6,
          5.3,
          5,
          7,
          6.4,
          6.9,
          5.5,
          6.5,
          5.7,
          6.3,
          4.9,
          6.6,
          5.2,
          5,
          5.9,
          6,
          6.1,
          5.6,
          6.7,
          5.6,
          5.8,
          6.2,
          5.6,
          5.9,
          6.1,
          6.3,
          6.1,
          6.4,
          6.6,
          6.8,
          6.7,
          6,
          5.7,
          5.5,
          5.5,
          5.8,
          6,
          5.4,
          6,
          6.7,
          6.3,
          5.6,
          5.5,
          5.5,
          6.1,
          5.8,
          5,
          5.6,
          5.7,
          5.7,
          6.2,
          5.1,
          5.7,
          6.3,
          5.8,
          7.1,
          6.3,
          6.5,
          7.6,
          4.9,
          7.3,
          6.7,
          7.2,
          6.5,
          6.4,
          6.8,
          5.7,
          5.8,
          6.4,
          6.5,
          7.7,
          7.7,
          6,
          6.9,
          5.6,
          7.7,
          6.3,
          6.7,
          7.2,
          6.2,
          6.1,
          6.4,
          7.2,
          7.4,
          7.9,
          6.4,
          6.3,
          6.1,
          7.7,
          6.3,
          6.4,
          6,
          6.9,
          6.7,
          6.9,
          5.8,
          6.8,
          6.7,
          6.7,
          6.3,
          6.5,
          6.2,
          5.9
         ]
        }
       ],
       "layout": {}
      },
      "text/html": [
       "<div id=\"b1c6a434-9b97-4adb-8b69-a0f99e9de9d1\" style=\"height: 525px; width: 100%;\" class=\"plotly-graph-div\"></div><script type=\"text/javascript\">require([\"plotly\"], function(Plotly) { window.PLOTLYENV=window.PLOTLYENV || {};window.PLOTLYENV.BASE_URL=\"https://plot.ly\";Plotly.newPlot(\"b1c6a434-9b97-4adb-8b69-a0f99e9de9d1\", [{\"nbinsx\": 8, \"x\": [5.1, 4.9, 4.7, 4.6, 5.0, 5.4, 4.6, 5.0, 4.4, 4.9, 5.4, 4.8, 4.8, 4.3, 5.8, 5.7, 5.4, 5.1, 5.7, 5.1, 5.4, 5.1, 4.6, 5.1, 4.8, 5.0, 5.0, 5.2, 5.2, 4.7, 4.8, 5.4, 5.2, 5.5, 4.9, 5.0, 5.5, 4.9, 4.4, 5.1, 5.0, 4.5, 4.4, 5.0, 5.1, 4.8, 5.1, 4.6, 5.3, 5.0, 7.0, 6.4, 6.9, 5.5, 6.5, 5.7, 6.3, 4.9, 6.6, 5.2, 5.0, 5.9, 6.0, 6.1, 5.6, 6.7, 5.6, 5.8, 6.2, 5.6, 5.9, 6.1, 6.3, 6.1, 6.4, 6.6, 6.8, 6.7, 6.0, 5.7, 5.5, 5.5, 5.8, 6.0, 5.4, 6.0, 6.7, 6.3, 5.6, 5.5, 5.5, 6.1, 5.8, 5.0, 5.6, 5.7, 5.7, 6.2, 5.1, 5.7, 6.3, 5.8, 7.1, 6.3, 6.5, 7.6, 4.9, 7.3, 6.7, 7.2, 6.5, 6.4, 6.8, 5.7, 5.8, 6.4, 6.5, 7.7, 7.7, 6.0, 6.9, 5.6, 7.7, 6.3, 6.7, 7.2, 6.2, 6.1, 6.4, 7.2, 7.4, 7.9, 6.4, 6.3, 6.1, 7.7, 6.3, 6.4, 6.0, 6.9, 6.7, 6.9, 5.8, 6.8, 6.7, 6.7, 6.3, 6.5, 6.2, 5.9], \"type\": \"histogram\", \"uid\": \"5d0f17c9-e935-11e8-8577-080027daca25\"}], {}, {\"showLink\": true, \"linkText\": \"Export to plot.ly\"})});</script>"
      ],
      "text/vnd.plotly.v1+html": [
       "<div id=\"b1c6a434-9b97-4adb-8b69-a0f99e9de9d1\" style=\"height: 525px; width: 100%;\" class=\"plotly-graph-div\"></div><script type=\"text/javascript\">require([\"plotly\"], function(Plotly) { window.PLOTLYENV=window.PLOTLYENV || {};window.PLOTLYENV.BASE_URL=\"https://plot.ly\";Plotly.newPlot(\"b1c6a434-9b97-4adb-8b69-a0f99e9de9d1\", [{\"nbinsx\": 8, \"x\": [5.1, 4.9, 4.7, 4.6, 5.0, 5.4, 4.6, 5.0, 4.4, 4.9, 5.4, 4.8, 4.8, 4.3, 5.8, 5.7, 5.4, 5.1, 5.7, 5.1, 5.4, 5.1, 4.6, 5.1, 4.8, 5.0, 5.0, 5.2, 5.2, 4.7, 4.8, 5.4, 5.2, 5.5, 4.9, 5.0, 5.5, 4.9, 4.4, 5.1, 5.0, 4.5, 4.4, 5.0, 5.1, 4.8, 5.1, 4.6, 5.3, 5.0, 7.0, 6.4, 6.9, 5.5, 6.5, 5.7, 6.3, 4.9, 6.6, 5.2, 5.0, 5.9, 6.0, 6.1, 5.6, 6.7, 5.6, 5.8, 6.2, 5.6, 5.9, 6.1, 6.3, 6.1, 6.4, 6.6, 6.8, 6.7, 6.0, 5.7, 5.5, 5.5, 5.8, 6.0, 5.4, 6.0, 6.7, 6.3, 5.6, 5.5, 5.5, 6.1, 5.8, 5.0, 5.6, 5.7, 5.7, 6.2, 5.1, 5.7, 6.3, 5.8, 7.1, 6.3, 6.5, 7.6, 4.9, 7.3, 6.7, 7.2, 6.5, 6.4, 6.8, 5.7, 5.8, 6.4, 6.5, 7.7, 7.7, 6.0, 6.9, 5.6, 7.7, 6.3, 6.7, 7.2, 6.2, 6.1, 6.4, 7.2, 7.4, 7.9, 6.4, 6.3, 6.1, 7.7, 6.3, 6.4, 6.0, 6.9, 6.7, 6.9, 5.8, 6.8, 6.7, 6.7, 6.3, 6.5, 6.2, 5.9], \"type\": \"histogram\", \"uid\": \"5d0f17c9-e935-11e8-8577-080027daca25\"}], {}, {\"showLink\": true, \"linkText\": \"Export to plot.ly\"})});</script>"
      ]
     },
     "metadata": {},
     "output_type": "display_data"
    }
   ],
   "source": [
    "x = iris_df['sepal length (cm)']\n",
    "data = [ go.Histogram(x=x, nbinsx=8) ]\n",
    "\n",
    "# trace3 = go.Histogram(\n",
    "#     x=x,\n",
    "#     xbins=dict(\n",
    "#         start='1969-11-15',\n",
    "#         end='1972-03-31',\n",
    "#         size= 'M18'),\n",
    "#     autobinx = False\n",
    "# )\n",
    "\n",
    "plotly.offline.iplot(data)"
   ]
  },
  {
   "cell_type": "code",
   "execution_count": 37,
   "metadata": {
    "ExecuteTime": {
     "end_time": "2018-11-16T00:23:20.946695Z",
     "start_time": "2018-11-16T00:23:20.823137Z"
    }
   },
   "outputs": [
    {
     "data": {
      "application/vnd.plotly.v1+json": {
       "data": [
        {
         "opacity": 0.75,
         "type": "histogram",
         "uid": "d27ac108-e935-11e8-8577-080027daca25",
         "x": [
          -1.3413812071125872,
          -0.8510226074792673,
          -0.5818831222642066,
          -1.7290968844527217,
          1.852937054150087,
          -0.97167026859863,
          0.5748033579429769,
          0.1740261117862107,
          -0.6922234855467403,
          1.1682962286654697,
          0.8323002215098241,
          -1.3586334781915703,
          -0.17574778735426394,
          -0.4647752789296366,
          -0.5627100181978699,
          -0.6020893467795473,
          -1.8649284298922661,
          -1.3509023815227799,
          1.2605100814919483,
          -0.5438619044616272,
          0.38466385970566846,
          0.1251428339074968,
          -0.22903819897728878,
          -0.6757240078353974,
          -0.018377951535798135,
          1.6442817837861337,
          0.36207039503895516,
          1.11516949537457,
          -0.5875018946336844,
          0.9983036888716278,
          -0.6628837602127154,
          0.5307227592856234,
          -1.0289834885214195,
          0.9279137887223318,
          -0.5130421911215839,
          0.6924492331888571,
          -0.7538613453745738,
          0.050154727298202854,
          1.5252118516181787,
          0.6699317554165364,
          0.09279287741304293,
          -0.5421990243016965,
          1.4220291566584542,
          0.5604289046997103,
          -2.1883504453174543,
          1.6497125231021461,
          1.4086709221660778,
          -0.14364098739062295,
          -0.40330825888240546,
          0.6027609969356028,
          -0.3588792020725003,
          -0.21610829468946824,
          -0.3827249720643406,
          -1.2060903401468477,
          0.23344759615103905,
          0.41077536105305584,
          0.47815540685868513,
          1.2843987247447293,
          0.5234354896508271,
          1.7070738885684982,
          -0.4944031683926492,
          2.674307062582139,
          -0.3337134673661542,
          -0.2687326213783529,
          -0.22899459990185783,
          0.9080051327697977,
          -0.3704409874692546,
          1.5609483995909246,
          -1.1667290993759658,
          -0.28341316720902304,
          -0.9893155128874603,
          1.7437288732392928,
          1.1275863076725234,
          0.6191882382262199,
          -0.2566922963163329,
          -0.1919677736791007,
          1.7452153727697595,
          0.01439183366998136,
          1.0027958631231553,
          1.1799129214026123,
          0.23233456831748772,
          1.759974268759328,
          1.0063676959608057,
          1.5997359988203343,
          -1.7892629336722217,
          0.02009863703741223,
          -1.3237454662424541,
          -0.24866100576916234,
          2.345765480865284,
          1.0153802187073575,
          1.9787078107889065,
          -0.07944633616781677,
          1.0764448768373558,
          0.5209116832843406,
          0.4070749185148018,
          -0.6246981627012602,
          1.506678746826816,
          -0.43911104614595625,
          -0.6257420302282363,
          0.9891337982499704,
          1.0118508897343992,
          -0.8832166200740281,
          -0.9120104357677031,
          0.5762398595989389,
          -0.8827738072109,
          1.4171539337471408,
          0.5509588074744329,
          -1.3513072362166882,
          -0.32178638014751954,
          0.117419710127996,
          -0.15786940383186057,
          -0.22504074389506312,
          1.028678817145844,
          -0.31966135587723915,
          -0.06749646104459431,
          -0.10162394213469968,
          0.7518012345527592,
          -0.2577998560415592,
          -0.28167908267580805,
          0.8622075644479994,
          0.9099830190480499,
          -0.9466765453347254,
          -0.1490398293212978,
          1.2513867025570475,
          -0.24088273590750964,
          1.2383045902267602,
          -0.18522056849682553,
          0.7929050081140032,
          -0.06258945082958978,
          1.312725395337355,
          1.0712292528975367,
          0.21354334003270445,
          0.841595931550972,
          1.2542091267010531,
          -0.07977509247515356,
          1.2877784547298776,
          0.24470756508497013,
          1.312979731758043,
          1.0972599611560734,
          -0.7553976684560396,
          -0.1598727102398296,
          0.3645485119350741,
          1.2989925533766042,
          -0.3860521405956978,
          0.7106103039524051,
          0.4299335236874685,
          -0.853193434717318,
          -0.37404280826329295,
          -0.10099789642648721,
          -0.05936807586590297,
          -0.7964797003605598,
          0.77473599684022,
          -0.1291469616434825,
          -0.14490720557202844,
          0.9939724261417904,
          1.5965256582982084,
          2.579554316414176,
          0.8482225341884878,
          -0.28506089693820186,
          -1.5843519587055637,
          1.4026045036729096,
          -2.6947199006003113,
          0.3292883218970251,
          0.5931219220465545,
          -1.0628054565435658,
          -1.4645953003724475,
          0.37882871968009807,
          -0.8345551585499227,
          0.7949455972745562,
          -1.5441981759054473,
          0.7731466696735978,
          -0.7307959350949347,
          -0.6941001820006313,
          -1.9322434258151817,
          2.37713709756545,
          -0.8229889756527471,
          0.5382936240727966,
          -1.2092844601880763,
          0.4780595684735145,
          -1.6197508199985127,
          0.32435909976603905,
          -0.38646452188155506,
          -0.3285886646789516,
          -1.156745447076863,
          -0.6482301309091281,
          -1.2650290938890716,
          -2.0363645929317644,
          -1.6429016365392437,
          -0.9910238600007959,
          0.22078020184383856,
          0.511068130527851,
          0.5064223828102167,
          0.9862298101977298,
          -0.1833148617074636,
          -1.4412394289494614,
          0.1784853498834135,
          0.4218283715139982,
          -1.6811659328322688,
          -1.1061057613675773,
          1.0226325438231667,
          -0.056620590296867536,
          -0.8861317112122007,
          -0.6440248507689984,
          0.45863815330434615,
          1.610257311913575,
          1.3032500282804345,
          -0.4269266908634968,
          -0.5180280307273415,
          -0.4792411693156745,
          0.23173836154818456,
          0.12776264894974926,
          -0.13249924853854758,
          1.11419985554801,
          0.1344240137691857,
          0.40854576450991525,
          -0.8908290846287308,
          1.6062353492614,
          -0.3331487801049354,
          -0.8902954703098657,
          -0.2505055011166507,
          0.7152313612604485,
          -1.0329511588914269,
          1.1636576351212813,
          0.8342549994127261,
          2.4042732346602156,
          1.8965108030844895,
          0.11883117869995401,
          -0.2291031553426648,
          1.4833797191613327,
          -0.04517788870748137,
          -0.26137104491346813,
          -1.184024868746004,
          -0.16748016317116607,
          -0.9215851452617645,
          -1.547459437801359,
          -0.7964387863442097,
          -0.8128344350590911,
          -0.1397700065385103,
          2.1245443680238183,
          0.34991603422740086,
          -1.4451586348656396,
          -0.7685680424611928,
          0.1480686896641564,
          -0.7263889816410068,
          0.07576233437145523,
          1.4451055041959158,
          1.1040977738026632,
          1.2579186333358683,
          1.0657300522577902,
          -0.2077056437046716,
          -0.019390676062080392,
          -0.2441270939670262,
          1.3528991862154758,
          0.04918506011857315,
          -1.453216883495548,
          0.9101068810755765,
          -0.1774709977359486,
          -0.28428220218691364,
          -0.40818426363795973,
          0.5425657541416542,
          -0.1950104888676685,
          -1.0128560900104304,
          0.08221248848029367,
          0.38849759135204925,
          0.9290910133733439,
          0.033775757093587336,
          -0.19760777257319673,
          0.2494036635544254,
          -0.39568083795172343,
          -1.3179083790211512,
          -0.12934475488848,
          -0.5948282185766252,
          -0.013219531409619224,
          -0.6681929921444822,
          -0.794813573792054,
          -1.4749256452362007,
          0.3496882260718252,
          0.19077293149281377,
          0.8434335429341999,
          0.6239357825759728,
          -0.23340786396358923,
          -0.09630963393599526,
          1.5201270572869356,
          -0.3674719289666754,
          0.845333526198322,
          -0.6975299237276964,
          0.7418240754609939,
          -0.5557708416453263,
          0.8950942743986604,
          1.0681866826732784,
          0.6247230315209124,
          0.32814523727128386,
          -0.7793100697619857,
          0.14721364724030953,
          -1.2748816683956041,
          0.8996927503831879,
          -0.2598852969023602,
          1.5090607982415338,
          -1.3464234560535575,
          0.3999068090203537,
          0.15265823688930188,
          -0.6800180113048762,
          -1.1168710158651136,
          0.20505997610221388,
          0.3920529733530209,
          -0.9930074135446422,
          -1.9655593356137937,
          -0.8067303642371443,
          -0.40788105926669954,
          2.26105561972426,
          -2.014207311382037,
          0.3519151286719147,
          -0.22342448054448966,
          1.4485582116821358,
          1.123353283520397,
          -0.5767691483744166,
          0.09202071116610865,
          1.2330712210967925,
          0.6190584280728044,
          -1.4400991210703407,
          -0.6183148559719353,
          -0.11283394202603932,
          -0.5322487677013942,
          -2.3329922848698033,
          0.005863192531520771,
          0.11523195625970888,
          2.2816131777845583,
          0.9093766985491868,
          1.2610286788883949,
          0.26856291905337365,
          -0.5678832043840505,
          0.579780532246026,
          -0.8499119526903509,
          -0.8464355764586149,
          -0.10087165771688998,
          -0.5710925280568538,
          -0.1371383934450851,
          1.7424316971869278,
          1.43384818440192,
          -0.29987538231349553,
          0.5191932948902442,
          0.7484689228616551,
          0.3643019565700156,
          0.41948063135937225,
          -0.7324866670982172,
          1.1290131766582219,
          -0.2138150378124775,
          -0.4676357784996919,
          0.8353821223585044,
          0.40852913138311203,
          0.708605612869634,
          0.7553446632061137,
          -0.9634098111620791,
          1.7418702751913124,
          -2.13786802548205,
          0.1906641848245997,
          0.5641696034784172,
          -1.3800185618231966,
          -0.4838779882707213,
          -0.4680646592963545,
          -2.148075893682943,
          -0.022283917737741774,
          -0.05597148808985304,
          -2.2252615668481774,
          0.3957340680087754,
          0.9786340107758786,
          -1.1570998063293874,
          2.2687432408171424,
          -1.5653426039910696,
          -0.19816166049984177,
          0.9352323981852776,
          0.2306699671727862,
          -0.5145641928969543,
          0.32336110110312033,
          0.3007566062381218,
          0.7833635960934144,
          0.8280749591972887,
          -2.303554286308695,
          0.6727391301482756,
          -0.30510323028574876,
          1.5610323635315093,
          0.23140902749530867,
          -1.7972792092891872,
          0.011207415114274382,
          0.733443763982814,
          0.8605748858431326,
          -1.8002554350873334,
          -1.3769636120179716,
          1.9247807844531708,
          -0.45281434546534943,
          0.40926342731291704,
          2.2320791329233245,
          -0.30083765295010606,
          -1.2083915982359705,
          1.163661797066573,
          0.854089999675362,
          -0.9904264238337243,
          0.46307736919787357,
          -0.3211693357698799,
          0.25865636681316323,
          -1.4126542802216042,
          0.465756111695199,
          0.7907173385350518,
          1.2874185814064656,
          0.5253283089408699,
          -1.033913629789751,
          -1.3967612999575507,
          -1.0467708560350264,
          0.0030434876640123938,
          -0.08840918972606925,
          -0.1935957032988824,
          -0.9964740992656541,
          -0.4296983828329634,
          -0.09968097982956227,
          1.0718956701317572,
          1.797928773978937,
          0.8821506895711184,
          -2.2486659494545447,
          0.7375673935109146,
          0.3273230965877029,
          -1.0109014951052053,
          0.8844406855172817,
          1.8126435755618404,
          -1.2497092898958455,
          0.31593522218138226,
          -0.25515952656499186,
          0.5861765817147686,
          0.8981128490247045,
          -0.15087037650600135,
          -0.6418339740165157,
          1.9318840275869031,
          -0.9292906044137337,
          0.5722156976366083,
          -0.1264946433181824,
          -0.6425621853486954,
          0.4975681089104875,
          -0.37122810814140134,
          0.16185943555021887,
          0.6239533315976957,
          0.5393408419734977,
          -0.18554105550115738,
          -1.3949867843708608,
          1.1278653801168614,
          -0.5753826967240846,
          -0.6744774014289008,
          1.1502128237562848,
          1.3624363037198612,
          0.5865318794325035,
          0.3077603502229714,
          -0.6242516122172668,
          -1.7508309845776717,
          -2.188349999085538,
          0.7129434184129302,
          -0.507732006475956,
          1.393061701913734,
          -0.450206758729948,
          2.727846909211781,
          1.9696230903969654,
          -1.4392300276816472,
          1.5688366682603203,
          -0.8461713216198998,
          -1.1938698720138743,
          0.7476790866265082,
          -1.1825308654970568,
          -0.5435901908632964,
          -0.15342752305050722,
          1.63772292493192,
          0.3711395025977247,
          -0.45530794962716653,
          1.0039903018288645,
          -0.16049460981527172,
          1.9562261523144142,
          0.06225218352801409,
          1.0524808475638077,
          0.46600549431581423,
          0.09929103844896234,
          1.6881045016186957,
          -0.5910690313042534,
          0.952539075157584,
          0.7788920123548977,
          -0.07199498882902693,
          0.4089274900617975,
          -0.45049525987597366,
          0.22719474979517157,
          0.39031432523157494,
          -0.15681865738796325,
          1.0327694170993194,
          -1.5751812510432661,
          1.3217600995959633,
          0.2370938864544285,
          0.08524178768352145,
          0.779052636707408,
          -0.2660102031323569,
          -1.362983176816857,
          -0.19792982484958183,
          -0.16981104875270542,
          -1.8291261601893392,
          1.3137155116499284,
          -0.3983076580870794,
          -0.6512882792357507
         ]
        },
        {
         "opacity": 0.75,
         "type": "histogram",
         "uid": "d27ac109-e935-11e8-8577-080027daca25",
         "x": [
          0.6347428507352286,
          2.0181295123634775,
          0.8050510949803832,
          1.8807746724522272,
          1.0489614887289853,
          3.173498871693112,
          3.3711031701602407,
          0.21297267909090922,
          2.1432827844127673,
          2.398198104570525,
          1.7752708499307819,
          0.9215241461750556,
          2.634917003005021,
          1.503627334366601,
          0.9134709209172648,
          0.6280313812153431,
          0.17393506144241289,
          1.779409480450895,
          2.365675861683557,
          3.11102900668687,
          -0.9689635765585276,
          1.322574696965068,
          0.5777666486032504,
          0.43474755257936093,
          2.3638689247391005,
          -0.39729767524173054,
          2.86395351977944,
          1.4271055788721645,
          1.7657487716823173,
          2.0711752616137953,
          1.9829376267342056,
          0.9741584728882549,
          1.2940366686545866,
          1.7391527042360133,
          1.5714885852308977,
          0.6754236523177182,
          2.9737181086815907,
          0.38848880042050093,
          2.095723538480578,
          2.255888770416547,
          1.51899397419715,
          1.6822381044359678,
          1.4065754928753742,
          1.8332083114976123,
          1.6079888983237243,
          1.6734121725351743,
          2.5619329244374627,
          2.1575553825600338,
          1.7449433559399128,
          2.4617613611544695,
          -0.30849958120275,
          1.0810803593867644,
          2.93321583504767,
          2.735410967420691,
          3.0252339216086943,
          2.30401072253851,
          0.746943457938004,
          2.696728036967125,
          1.247096247983254,
          1.83402797466359,
          0.3162957015759662,
          1.6196912941275983,
          1.4221549878220046,
          0.9947560476635106,
          0.7360963205967369,
          1.4567902941149278,
          1.3711509576331504,
          -0.8166702680001388,
          2.2924616251083676,
          2.5844121262730457,
          3.471321344225605,
          0.7940926735437878,
          1.2515285922002093,
          -1.4245046210125794,
          0.8428371692004824,
          2.591559820563754,
          2.055295739934829,
          2.6631983928508483,
          4.643365550815526,
          2.4059776850435237,
          1.4238260323629388,
          2.2693163023356493,
          2.825384175325012,
          -0.14452131911665744,
          0.34011908569328764,
          0.9318809272921572,
          2.507139680156448,
          0.43403645144800507,
          2.148563635866126,
          0.29314544464454784,
          1.6265473097297267,
          2.789501302100195,
          0.8500268033018309,
          1.3714854378021832,
          0.7181861069579057,
          0.7010601017139795,
          2.0122026521213385,
          1.8866133751006715,
          0.8985695597906127,
          1.9411082732403724,
          1.9795941936225456,
          3.0186229934886013,
          0.6872654146632833,
          1.3162492230599632,
          2.026570244020505,
          1.6480965233974563,
          0.2704171550565402,
          1.5229975243819147,
          -0.3668691503917836,
          2.1187951730688335,
          0.28668818255519124,
          2.0705508784495015,
          -0.6077327453515404,
          1.7669526320969104,
          0.5273345885282423,
          2.6569716705151767,
          1.214700671969359,
          2.651546456061612,
          2.9745194747231456,
          0.7428849583419521,
          1.4208318870027328,
          2.0144090983416905,
          3.034214472382237,
          0.11114761454859168,
          3.27261921722839,
          1.222756527709942,
          2.749611322597804,
          1.1857202526368706,
          2.195793845728955,
          1.679142075065236,
          1.7959309358425681,
          3.1123957906954676,
          3.5570340387600052,
          1.3408522267101786,
          2.207179758713048,
          1.5397563732577377,
          2.394106345442372,
          4.176048129831728,
          1.7327397346508282,
          1.6977168513189485,
          2.464153754618925,
          1.3463799181753286,
          1.3593793637447122,
          2.049267255778946,
          2.5243787664803614,
          2.5085625066058546,
          0.2390880359007146,
          1.673112462726079,
          2.1036982353518603,
          0.18793096514743168,
          0.4488319719394067,
          0.25878624107521153,
          0.22524616399535913,
          0.6599106145056494,
          -0.19665681204578078,
          1.4252263714866744,
          -0.1449325880419865,
          3.07866032806438,
          2.260076719683063,
          1.115298906551584,
          1.8664674670512216,
          0.37678095016326063,
          2.303043757379948,
          1.299079025620895,
          0.3876894948877223,
          0.15716996945652362,
          0.5632671825470682,
          0.8785479317790825,
          1.0763587149943552,
          -0.02152238807500817,
          2.104250323307174,
          0.6286282854665894,
          2.168306291582069,
          1.5372441862810131,
          1.66682798370736,
          1.3335186383043256,
          1.9877891484385122,
          1.603112332316703,
          1.548723431662077,
          1.6187729012515542,
          1.8905639758160668,
          2.8236954676842894,
          0.9360569765626913,
          -0.3919679990757017,
          2.330583183927076,
          2.110653250012361,
          0.5176336191149842,
          2.9275727670738787,
          2.509885890202109,
          1.8234942955810405,
          0.7337394131012801,
          2.1696891337612203,
          -0.6199503979437391,
          1.3484261441811383,
          1.4008399875034838,
          2.1006863408860426,
          1.8118723815166011,
          0.4305789839371008,
          2.0082539471473013,
          1.8356670977601621,
          2.0039419483999876,
          1.5406875405428202,
          3.1290771224411342,
          2.6054585012155504,
          1.5783163265506535,
          -0.1388166343744206,
          1.5068249046185291,
          2.105540344563801,
          1.9125034874312017,
          2.8264844199837422,
          1.5247142616410436,
          1.9803104960737061,
          2.0109409835457583,
          3.1040310305964107,
          0.7133162918976594,
          -0.4978093058619617,
          1.2685785017952909,
          3.537332578123089,
          0.49299914362885233,
          2.455156572996377,
          0.726791630016485,
          2.23397637895237,
          2.8549500553721647,
          -0.6827062593220443,
          1.51464624909136,
          1.7058944988656384,
          0.08231254159192147,
          0.8693845841430048,
          2.3224651180983553,
          1.7809179165461828,
          0.043008221300543825,
          0.6677045079351277,
          1.4322541455178308,
          1.6992416578609735,
          1.1571388981559085,
          2.1367781191024204,
          2.537375858128236,
          1.802552546054335,
          -0.4315949966309358,
          0.7366568419127358,
          1.9081048760836732,
          2.1515277970674065,
          0.511470734056763,
          2.3569845013346016,
          0.9408456718732202,
          3.597225506547507,
          2.473887800477951,
          0.5238151244575255,
          1.794609661938407,
          2.7445828550637588,
          -0.5975274730343525,
          0.3393593229764986,
          1.700004968556351,
          2.5879547677582173,
          1.5056839691575234,
          0.6593834752796018,
          1.630847535860124,
          0.7344965410206052,
          1.865735146111285,
          1.1977140644022382,
          2.3566629794518916,
          2.7597915257807157,
          2.0111083814190214,
          1.845450905448389,
          2.680588369813374,
          1.2314570961214086,
          3.131148998878115,
          2.223298007368347,
          2.816963671832432,
          2.176530795355309,
          0.43195692565174637,
          2.5357445808916017,
          0.47102151176105056,
          1.5891336613677975,
          0.9382585269332462,
          1.5176274394679292,
          0.010543583330617778,
          1.6711086148768906,
          2.506846551666738,
          1.9012361434271434,
          1.0153584024316593,
          -0.08645621564108352,
          3.455997434908314,
          4.4379700278126775,
          2.3638139318618254,
          2.104440861772566,
          1.144365259057028,
          2.355511866564009,
          2.4917453326714853,
          2.325848514486955,
          1.1149270800801205,
          1.7376828773943933,
          0.7488959693647209,
          -0.4062070571352354,
          1.0520944779633568,
          0.3548487853194009,
          1.043042044078803,
          -0.9439397009615003,
          1.4830864369050563,
          1.0537516060237833,
          1.8236679671299039,
          1.3942111291916404,
          0.7197013094115274,
          1.6028956132372687,
          3.337976139060056,
          0.8249842640752669,
          1.6689329528048373,
          -0.6656352863129222,
          -0.12806776058452773,
          0.6205293080754386,
          0.6746753435283659,
          1.3545583330429884,
          -0.37217118205586286,
          2.107491423530031,
          3.464781707419087,
          0.6276526100733977,
          0.8367576062034164,
          1.1775381622900647,
          0.8377882132007779,
          0.9175269653606712,
          2.651297131808646,
          1.7654046156660665,
          0.8220693440322668,
          2.276084633915555,
          0.3287424865605004,
          1.1565231051306881,
          1.4233731369329337,
          3.26146066877906,
          1.1212578480286979,
          0.3108161552417681,
          1.1098148616968384,
          2.3409776535414513,
          1.2318431384801072,
          0.706787898257029,
          0.6720247910284481,
          0.7792096564449907,
          2.5623231160635873,
          0.7172631372287787,
          1.659454581935184,
          1.144757527162693,
          2.2118892250033833,
          1.175571016953346,
          0.3105608105475466,
          2.4244289937014925,
          -0.2151364193517078,
          0.40867422399714126,
          2.400553295529641,
          3.1428254104942495,
          2.2416466589505823,
          2.4892103453204717,
          -0.12417368889087221,
          0.3498311281278055,
          0.8564298797677415,
          1.7136569936112145,
          1.200562293951238,
          1.4660030398041461,
          2.5306177959844587,
          0.7697536156111147,
          1.8999229955672219,
          1.5251494673195891,
          2.1582346022831356,
          1.8484996294000582,
          1.6435936527283619,
          0.6768633657379732,
          1.0049008134010835,
          4.058485568002791,
          0.2398859605182413,
          2.1684887120780703,
          1.551203528718209,
          -1.1181804615512525,
          1.9466209614549141,
          2.432240290912818,
          0.733341101787036,
          2.391347565687573,
          1.73824996318681,
          1.591592839816785,
          1.4617918020029315,
          2.1912076029733987,
          1.8402494697585547,
          2.3081734349168883,
          3.4075868792701027,
          1.8568804802728756,
          -0.8246100735119528,
          2.085379313721769,
          2.171716374990045,
          1.7318552674058758,
          1.5612125595798472,
          1.6148656575668106,
          2.3435598786802343,
          1.8456540390138692,
          2.696509940774067,
          1.1470046529198117,
          2.3346642181664095,
          1.35451438388907,
          1.192955176980864,
          2.076583293148368,
          1.8350464929881376,
          2.4716583118700504,
          2.6661284520186666,
          1.1608987246605542,
          1.8334876772011555,
          1.2172256873810992,
          -0.3786764216778342,
          0.6035207665478886,
          0.14827462679864234,
          1.5066333977784867,
          0.7756980088996741,
          -0.05773294385961192,
          1.0527499233752,
          1.27175820833877,
          2.8029121874014296,
          0.9982773142984064,
          0.9762514014973492,
          2.1725099070387652,
          2.586327988112618,
          2.246120165544188,
          1.0095502329303037,
          1.3367064455574,
          2.0026327539627866,
          3.7747580406135577,
          2.21625407668155,
          1.5711398047401932,
          2.1921318055394043,
          1.155883884059976,
          1.340673824630633,
          -1.6464974742060625,
          2.6472760596682026,
          2.7627641189016208,
          1.3564227222612002,
          1.2953310650671443,
          1.4725457588593645,
          3.1527157788616904,
          1.509216975995288,
          1.1010856009874337,
          0.6067089673697347,
          1.9558929485484204,
          1.4449898988007435,
          0.8621678007230887,
          0.9789727447327485,
          2.1826383663614637,
          1.5674104708073853,
          0.9440337863787792,
          1.5664456036620606,
          3.185212246972031,
          1.9436754157392633,
          0.6728002284394148,
          1.1545269470373547,
          0.6958655319857677,
          0.3112922557559019,
          0.47931959401113855,
          1.8181885576928447,
          1.601321337043153,
          3.193026982688094,
          2.0467335871880974,
          -0.91667230559844,
          2.564364915123803,
          2.3606312937528147,
          0.2872024323744713,
          -1.7329126102311858,
          1.0714941548091852,
          1.5101250924494019,
          1.3841824168520471,
          1.1802854088699972,
          2.2746974747073354,
          0.3376068987536336,
          2.3645154308852465,
          1.8062005770162775,
          2.2211517301964814,
          0.29893418196816235,
          2.2880439509775825,
          0.940309177931788,
          -0.6372875330822061,
          1.7474875466089617,
          0.5264988770794763,
          0.7472601624367591,
          0.9517012197659238,
          1.9634619425910986,
          0.9240599638230611,
          1.7408613092882566,
          1.3700040564979548,
          1.0059375960843093,
          0.7025587429040461,
          0.13571894866784162,
          1.1637071500023584,
          0.7728072360555288,
          1.8636950927687932,
          1.7476797253591392,
          2.1969605509034453,
          1.6785749419449312,
          2.2658765858514274,
          1.972413132149558,
          2.7397649794802015,
          0.8443586333318144,
          2.342915630315235,
          1.9953602225445717,
          1.2469740544716854,
          -0.05643552151410036,
          3.862473135407424,
          0.7349876623556645,
          0.28445391028775724
         ]
        }
       ],
       "layout": {}
      },
      "text/html": [
       "<div id=\"050fe9d9-589f-4155-bfce-77cd71bfa485\" style=\"height: 525px; width: 100%;\" class=\"plotly-graph-div\"></div><script type=\"text/javascript\">require([\"plotly\"], function(Plotly) { window.PLOTLYENV=window.PLOTLYENV || {};window.PLOTLYENV.BASE_URL=\"https://plot.ly\";Plotly.newPlot(\"050fe9d9-589f-4155-bfce-77cd71bfa485\", [{\"opacity\": 0.75, \"x\": [-1.3413812071125872, -0.8510226074792673, -0.5818831222642066, -1.7290968844527217, 1.852937054150087, -0.97167026859863, 0.5748033579429769, 0.1740261117862107, -0.6922234855467403, 1.1682962286654697, 0.8323002215098241, -1.3586334781915703, -0.17574778735426394, -0.4647752789296366, -0.5627100181978699, -0.6020893467795473, -1.8649284298922661, -1.3509023815227799, 1.2605100814919483, -0.5438619044616272, 0.38466385970566846, 0.1251428339074968, -0.22903819897728878, -0.6757240078353974, -0.018377951535798135, 1.6442817837861337, 0.36207039503895516, 1.11516949537457, -0.5875018946336844, 0.9983036888716278, -0.6628837602127154, 0.5307227592856234, -1.0289834885214195, 0.9279137887223318, -0.5130421911215839, 0.6924492331888571, -0.7538613453745738, 0.050154727298202854, 1.5252118516181787, 0.6699317554165364, 0.09279287741304293, -0.5421990243016965, 1.4220291566584542, 0.5604289046997103, -2.1883504453174543, 1.6497125231021461, 1.4086709221660778, -0.14364098739062295, -0.40330825888240546, 0.6027609969356028, -0.3588792020725003, -0.21610829468946824, -0.3827249720643406, -1.2060903401468477, 0.23344759615103905, 0.41077536105305584, 0.47815540685868513, 1.2843987247447293, 0.5234354896508271, 1.7070738885684982, -0.4944031683926492, 2.674307062582139, -0.3337134673661542, -0.2687326213783529, -0.22899459990185783, 0.9080051327697977, -0.3704409874692546, 1.5609483995909246, -1.1667290993759658, -0.28341316720902304, -0.9893155128874603, 1.7437288732392928, 1.1275863076725234, 0.6191882382262199, -0.2566922963163329, -0.1919677736791007, 1.7452153727697595, 0.01439183366998136, 1.0027958631231553, 1.1799129214026123, 0.23233456831748772, 1.759974268759328, 1.0063676959608057, 1.5997359988203343, -1.7892629336722217, 0.02009863703741223, -1.3237454662424541, -0.24866100576916234, 2.345765480865284, 1.0153802187073575, 1.9787078107889065, -0.07944633616781677, 1.0764448768373558, 0.5209116832843406, 0.4070749185148018, -0.6246981627012602, 1.506678746826816, -0.43911104614595625, -0.6257420302282363, 0.9891337982499704, 1.0118508897343992, -0.8832166200740281, -0.9120104357677031, 0.5762398595989389, -0.8827738072109, 1.4171539337471408, 0.5509588074744329, -1.3513072362166882, -0.32178638014751954, 0.117419710127996, -0.15786940383186057, -0.22504074389506312, 1.028678817145844, -0.31966135587723915, -0.06749646104459431, -0.10162394213469968, 0.7518012345527592, -0.2577998560415592, -0.28167908267580805, 0.8622075644479994, 0.9099830190480499, -0.9466765453347254, -0.1490398293212978, 1.2513867025570475, -0.24088273590750964, 1.2383045902267602, -0.18522056849682553, 0.7929050081140032, -0.06258945082958978, 1.312725395337355, 1.0712292528975367, 0.21354334003270445, 0.841595931550972, 1.2542091267010531, -0.07977509247515356, 1.2877784547298776, 0.24470756508497013, 1.312979731758043, 1.0972599611560734, -0.7553976684560396, -0.1598727102398296, 0.3645485119350741, 1.2989925533766042, -0.3860521405956978, 0.7106103039524051, 0.4299335236874685, -0.853193434717318, -0.37404280826329295, -0.10099789642648721, -0.05936807586590297, -0.7964797003605598, 0.77473599684022, -0.1291469616434825, -0.14490720557202844, 0.9939724261417904, 1.5965256582982084, 2.579554316414176, 0.8482225341884878, -0.28506089693820186, -1.5843519587055637, 1.4026045036729096, -2.6947199006003113, 0.3292883218970251, 0.5931219220465545, -1.0628054565435658, -1.4645953003724475, 0.37882871968009807, -0.8345551585499227, 0.7949455972745562, -1.5441981759054473, 0.7731466696735978, -0.7307959350949347, -0.6941001820006313, -1.9322434258151817, 2.37713709756545, -0.8229889756527471, 0.5382936240727966, -1.2092844601880763, 0.4780595684735145, -1.6197508199985127, 0.32435909976603905, -0.38646452188155506, -0.3285886646789516, -1.156745447076863, -0.6482301309091281, -1.2650290938890716, -2.0363645929317644, -1.6429016365392437, -0.9910238600007959, 0.22078020184383856, 0.511068130527851, 0.5064223828102167, 0.9862298101977298, -0.1833148617074636, -1.4412394289494614, 0.1784853498834135, 0.4218283715139982, -1.6811659328322688, -1.1061057613675773, 1.0226325438231667, -0.056620590296867536, -0.8861317112122007, -0.6440248507689984, 0.45863815330434615, 1.610257311913575, 1.3032500282804345, -0.4269266908634968, -0.5180280307273415, -0.4792411693156745, 0.23173836154818456, 0.12776264894974926, -0.13249924853854758, 1.11419985554801, 0.1344240137691857, 0.40854576450991525, -0.8908290846287308, 1.6062353492614, -0.3331487801049354, -0.8902954703098657, -0.2505055011166507, 0.7152313612604485, -1.0329511588914269, 1.1636576351212813, 0.8342549994127261, 2.4042732346602156, 1.8965108030844895, 0.11883117869995401, -0.2291031553426648, 1.4833797191613327, -0.04517788870748137, -0.26137104491346813, -1.184024868746004, -0.16748016317116607, -0.9215851452617645, -1.547459437801359, -0.7964387863442097, -0.8128344350590911, -0.1397700065385103, 2.1245443680238183, 0.34991603422740086, -1.4451586348656396, -0.7685680424611928, 0.1480686896641564, -0.7263889816410068, 0.07576233437145523, 1.4451055041959158, 1.1040977738026632, 1.2579186333358683, 1.0657300522577902, -0.2077056437046716, -0.019390676062080392, -0.2441270939670262, 1.3528991862154758, 0.04918506011857315, -1.453216883495548, 0.9101068810755765, -0.1774709977359486, -0.28428220218691364, -0.40818426363795973, 0.5425657541416542, -0.1950104888676685, -1.0128560900104304, 0.08221248848029367, 0.38849759135204925, 0.9290910133733439, 0.033775757093587336, -0.19760777257319673, 0.2494036635544254, -0.39568083795172343, -1.3179083790211512, -0.12934475488848, -0.5948282185766252, -0.013219531409619224, -0.6681929921444822, -0.794813573792054, -1.4749256452362007, 0.3496882260718252, 0.19077293149281377, 0.8434335429341999, 0.6239357825759728, -0.23340786396358923, -0.09630963393599526, 1.5201270572869356, -0.3674719289666754, 0.845333526198322, -0.6975299237276964, 0.7418240754609939, -0.5557708416453263, 0.8950942743986604, 1.0681866826732784, 0.6247230315209124, 0.32814523727128386, -0.7793100697619857, 0.14721364724030953, -1.2748816683956041, 0.8996927503831879, -0.2598852969023602, 1.5090607982415338, -1.3464234560535575, 0.3999068090203537, 0.15265823688930188, -0.6800180113048762, -1.1168710158651136, 0.20505997610221388, 0.3920529733530209, -0.9930074135446422, -1.9655593356137937, -0.8067303642371443, -0.40788105926669954, 2.26105561972426, -2.014207311382037, 0.3519151286719147, -0.22342448054448966, 1.4485582116821358, 1.123353283520397, -0.5767691483744166, 0.09202071116610865, 1.2330712210967925, 0.6190584280728044, -1.4400991210703407, -0.6183148559719353, -0.11283394202603932, -0.5322487677013942, -2.3329922848698033, 0.005863192531520771, 0.11523195625970888, 2.2816131777845583, 0.9093766985491868, 1.2610286788883949, 0.26856291905337365, -0.5678832043840505, 0.579780532246026, -0.8499119526903509, -0.8464355764586149, -0.10087165771688998, -0.5710925280568538, -0.1371383934450851, 1.7424316971869278, 1.43384818440192, -0.29987538231349553, 0.5191932948902442, 0.7484689228616551, 0.3643019565700156, 0.41948063135937225, -0.7324866670982172, 1.1290131766582219, -0.2138150378124775, -0.4676357784996919, 0.8353821223585044, 0.40852913138311203, 0.708605612869634, 0.7553446632061137, -0.9634098111620791, 1.7418702751913124, -2.13786802548205, 0.1906641848245997, 0.5641696034784172, -1.3800185618231966, -0.4838779882707213, -0.4680646592963545, -2.148075893682943, -0.022283917737741774, -0.05597148808985304, -2.2252615668481774, 0.3957340680087754, 0.9786340107758786, -1.1570998063293874, 2.2687432408171424, -1.5653426039910696, -0.19816166049984177, 0.9352323981852776, 0.2306699671727862, -0.5145641928969543, 0.32336110110312033, 0.3007566062381218, 0.7833635960934144, 0.8280749591972887, -2.303554286308695, 0.6727391301482756, -0.30510323028574876, 1.5610323635315093, 0.23140902749530867, -1.7972792092891872, 0.011207415114274382, 0.733443763982814, 0.8605748858431326, -1.8002554350873334, -1.3769636120179716, 1.9247807844531708, -0.45281434546534943, 0.40926342731291704, 2.2320791329233245, -0.30083765295010606, -1.2083915982359705, 1.163661797066573, 0.854089999675362, -0.9904264238337243, 0.46307736919787357, -0.3211693357698799, 0.25865636681316323, -1.4126542802216042, 0.465756111695199, 0.7907173385350518, 1.2874185814064656, 0.5253283089408699, -1.033913629789751, -1.3967612999575507, -1.0467708560350264, 0.0030434876640123938, -0.08840918972606925, -0.1935957032988824, -0.9964740992656541, -0.4296983828329634, -0.09968097982956227, 1.0718956701317572, 1.797928773978937, 0.8821506895711184, -2.2486659494545447, 0.7375673935109146, 0.3273230965877029, -1.0109014951052053, 0.8844406855172817, 1.8126435755618404, -1.2497092898958455, 0.31593522218138226, -0.25515952656499186, 0.5861765817147686, 0.8981128490247045, -0.15087037650600135, -0.6418339740165157, 1.9318840275869031, -0.9292906044137337, 0.5722156976366083, -0.1264946433181824, -0.6425621853486954, 0.4975681089104875, -0.37122810814140134, 0.16185943555021887, 0.6239533315976957, 0.5393408419734977, -0.18554105550115738, -1.3949867843708608, 1.1278653801168614, -0.5753826967240846, -0.6744774014289008, 1.1502128237562848, 1.3624363037198612, 0.5865318794325035, 0.3077603502229714, -0.6242516122172668, -1.7508309845776717, -2.188349999085538, 0.7129434184129302, -0.507732006475956, 1.393061701913734, -0.450206758729948, 2.727846909211781, 1.9696230903969654, -1.4392300276816472, 1.5688366682603203, -0.8461713216198998, -1.1938698720138743, 0.7476790866265082, -1.1825308654970568, -0.5435901908632964, -0.15342752305050722, 1.63772292493192, 0.3711395025977247, -0.45530794962716653, 1.0039903018288645, -0.16049460981527172, 1.9562261523144142, 0.06225218352801409, 1.0524808475638077, 0.46600549431581423, 0.09929103844896234, 1.6881045016186957, -0.5910690313042534, 0.952539075157584, 0.7788920123548977, -0.07199498882902693, 0.4089274900617975, -0.45049525987597366, 0.22719474979517157, 0.39031432523157494, -0.15681865738796325, 1.0327694170993194, -1.5751812510432661, 1.3217600995959633, 0.2370938864544285, 0.08524178768352145, 0.779052636707408, -0.2660102031323569, -1.362983176816857, -0.19792982484958183, -0.16981104875270542, -1.8291261601893392, 1.3137155116499284, -0.3983076580870794, -0.6512882792357507], \"type\": \"histogram\", \"uid\": \"d27ac10a-e935-11e8-8577-080027daca25\"}, {\"opacity\": 0.75, \"x\": [0.6347428507352286, 2.0181295123634775, 0.8050510949803832, 1.8807746724522272, 1.0489614887289853, 3.173498871693112, 3.3711031701602407, 0.21297267909090922, 2.1432827844127673, 2.398198104570525, 1.7752708499307819, 0.9215241461750556, 2.634917003005021, 1.503627334366601, 0.9134709209172648, 0.6280313812153431, 0.17393506144241289, 1.779409480450895, 2.365675861683557, 3.11102900668687, -0.9689635765585276, 1.322574696965068, 0.5777666486032504, 0.43474755257936093, 2.3638689247391005, -0.39729767524173054, 2.86395351977944, 1.4271055788721645, 1.7657487716823173, 2.0711752616137953, 1.9829376267342056, 0.9741584728882549, 1.2940366686545866, 1.7391527042360133, 1.5714885852308977, 0.6754236523177182, 2.9737181086815907, 0.38848880042050093, 2.095723538480578, 2.255888770416547, 1.51899397419715, 1.6822381044359678, 1.4065754928753742, 1.8332083114976123, 1.6079888983237243, 1.6734121725351743, 2.5619329244374627, 2.1575553825600338, 1.7449433559399128, 2.4617613611544695, -0.30849958120275, 1.0810803593867644, 2.93321583504767, 2.735410967420691, 3.0252339216086943, 2.30401072253851, 0.746943457938004, 2.696728036967125, 1.247096247983254, 1.83402797466359, 0.3162957015759662, 1.6196912941275983, 1.4221549878220046, 0.9947560476635106, 0.7360963205967369, 1.4567902941149278, 1.3711509576331504, -0.8166702680001388, 2.2924616251083676, 2.5844121262730457, 3.471321344225605, 0.7940926735437878, 1.2515285922002093, -1.4245046210125794, 0.8428371692004824, 2.591559820563754, 2.055295739934829, 2.6631983928508483, 4.643365550815526, 2.4059776850435237, 1.4238260323629388, 2.2693163023356493, 2.825384175325012, -0.14452131911665744, 0.34011908569328764, 0.9318809272921572, 2.507139680156448, 0.43403645144800507, 2.148563635866126, 0.29314544464454784, 1.6265473097297267, 2.789501302100195, 0.8500268033018309, 1.3714854378021832, 0.7181861069579057, 0.7010601017139795, 2.0122026521213385, 1.8866133751006715, 0.8985695597906127, 1.9411082732403724, 1.9795941936225456, 3.0186229934886013, 0.6872654146632833, 1.3162492230599632, 2.026570244020505, 1.6480965233974563, 0.2704171550565402, 1.5229975243819147, -0.3668691503917836, 2.1187951730688335, 0.28668818255519124, 2.0705508784495015, -0.6077327453515404, 1.7669526320969104, 0.5273345885282423, 2.6569716705151767, 1.214700671969359, 2.651546456061612, 2.9745194747231456, 0.7428849583419521, 1.4208318870027328, 2.0144090983416905, 3.034214472382237, 0.11114761454859168, 3.27261921722839, 1.222756527709942, 2.749611322597804, 1.1857202526368706, 2.195793845728955, 1.679142075065236, 1.7959309358425681, 3.1123957906954676, 3.5570340387600052, 1.3408522267101786, 2.207179758713048, 1.5397563732577377, 2.394106345442372, 4.176048129831728, 1.7327397346508282, 1.6977168513189485, 2.464153754618925, 1.3463799181753286, 1.3593793637447122, 2.049267255778946, 2.5243787664803614, 2.5085625066058546, 0.2390880359007146, 1.673112462726079, 2.1036982353518603, 0.18793096514743168, 0.4488319719394067, 0.25878624107521153, 0.22524616399535913, 0.6599106145056494, -0.19665681204578078, 1.4252263714866744, -0.1449325880419865, 3.07866032806438, 2.260076719683063, 1.115298906551584, 1.8664674670512216, 0.37678095016326063, 2.303043757379948, 1.299079025620895, 0.3876894948877223, 0.15716996945652362, 0.5632671825470682, 0.8785479317790825, 1.0763587149943552, -0.02152238807500817, 2.104250323307174, 0.6286282854665894, 2.168306291582069, 1.5372441862810131, 1.66682798370736, 1.3335186383043256, 1.9877891484385122, 1.603112332316703, 1.548723431662077, 1.6187729012515542, 1.8905639758160668, 2.8236954676842894, 0.9360569765626913, -0.3919679990757017, 2.330583183927076, 2.110653250012361, 0.5176336191149842, 2.9275727670738787, 2.509885890202109, 1.8234942955810405, 0.7337394131012801, 2.1696891337612203, -0.6199503979437391, 1.3484261441811383, 1.4008399875034838, 2.1006863408860426, 1.8118723815166011, 0.4305789839371008, 2.0082539471473013, 1.8356670977601621, 2.0039419483999876, 1.5406875405428202, 3.1290771224411342, 2.6054585012155504, 1.5783163265506535, -0.1388166343744206, 1.5068249046185291, 2.105540344563801, 1.9125034874312017, 2.8264844199837422, 1.5247142616410436, 1.9803104960737061, 2.0109409835457583, 3.1040310305964107, 0.7133162918976594, -0.4978093058619617, 1.2685785017952909, 3.537332578123089, 0.49299914362885233, 2.455156572996377, 0.726791630016485, 2.23397637895237, 2.8549500553721647, -0.6827062593220443, 1.51464624909136, 1.7058944988656384, 0.08231254159192147, 0.8693845841430048, 2.3224651180983553, 1.7809179165461828, 0.043008221300543825, 0.6677045079351277, 1.4322541455178308, 1.6992416578609735, 1.1571388981559085, 2.1367781191024204, 2.537375858128236, 1.802552546054335, -0.4315949966309358, 0.7366568419127358, 1.9081048760836732, 2.1515277970674065, 0.511470734056763, 2.3569845013346016, 0.9408456718732202, 3.597225506547507, 2.473887800477951, 0.5238151244575255, 1.794609661938407, 2.7445828550637588, -0.5975274730343525, 0.3393593229764986, 1.700004968556351, 2.5879547677582173, 1.5056839691575234, 0.6593834752796018, 1.630847535860124, 0.7344965410206052, 1.865735146111285, 1.1977140644022382, 2.3566629794518916, 2.7597915257807157, 2.0111083814190214, 1.845450905448389, 2.680588369813374, 1.2314570961214086, 3.131148998878115, 2.223298007368347, 2.816963671832432, 2.176530795355309, 0.43195692565174637, 2.5357445808916017, 0.47102151176105056, 1.5891336613677975, 0.9382585269332462, 1.5176274394679292, 0.010543583330617778, 1.6711086148768906, 2.506846551666738, 1.9012361434271434, 1.0153584024316593, -0.08645621564108352, 3.455997434908314, 4.4379700278126775, 2.3638139318618254, 2.104440861772566, 1.144365259057028, 2.355511866564009, 2.4917453326714853, 2.325848514486955, 1.1149270800801205, 1.7376828773943933, 0.7488959693647209, -0.4062070571352354, 1.0520944779633568, 0.3548487853194009, 1.043042044078803, -0.9439397009615003, 1.4830864369050563, 1.0537516060237833, 1.8236679671299039, 1.3942111291916404, 0.7197013094115274, 1.6028956132372687, 3.337976139060056, 0.8249842640752669, 1.6689329528048373, -0.6656352863129222, -0.12806776058452773, 0.6205293080754386, 0.6746753435283659, 1.3545583330429884, -0.37217118205586286, 2.107491423530031, 3.464781707419087, 0.6276526100733977, 0.8367576062034164, 1.1775381622900647, 0.8377882132007779, 0.9175269653606712, 2.651297131808646, 1.7654046156660665, 0.8220693440322668, 2.276084633915555, 0.3287424865605004, 1.1565231051306881, 1.4233731369329337, 3.26146066877906, 1.1212578480286979, 0.3108161552417681, 1.1098148616968384, 2.3409776535414513, 1.2318431384801072, 0.706787898257029, 0.6720247910284481, 0.7792096564449907, 2.5623231160635873, 0.7172631372287787, 1.659454581935184, 1.144757527162693, 2.2118892250033833, 1.175571016953346, 0.3105608105475466, 2.4244289937014925, -0.2151364193517078, 0.40867422399714126, 2.400553295529641, 3.1428254104942495, 2.2416466589505823, 2.4892103453204717, -0.12417368889087221, 0.3498311281278055, 0.8564298797677415, 1.7136569936112145, 1.200562293951238, 1.4660030398041461, 2.5306177959844587, 0.7697536156111147, 1.8999229955672219, 1.5251494673195891, 2.1582346022831356, 1.8484996294000582, 1.6435936527283619, 0.6768633657379732, 1.0049008134010835, 4.058485568002791, 0.2398859605182413, 2.1684887120780703, 1.551203528718209, -1.1181804615512525, 1.9466209614549141, 2.432240290912818, 0.733341101787036, 2.391347565687573, 1.73824996318681, 1.591592839816785, 1.4617918020029315, 2.1912076029733987, 1.8402494697585547, 2.3081734349168883, 3.4075868792701027, 1.8568804802728756, -0.8246100735119528, 2.085379313721769, 2.171716374990045, 1.7318552674058758, 1.5612125595798472, 1.6148656575668106, 2.3435598786802343, 1.8456540390138692, 2.696509940774067, 1.1470046529198117, 2.3346642181664095, 1.35451438388907, 1.192955176980864, 2.076583293148368, 1.8350464929881376, 2.4716583118700504, 2.6661284520186666, 1.1608987246605542, 1.8334876772011555, 1.2172256873810992, -0.3786764216778342, 0.6035207665478886, 0.14827462679864234, 1.5066333977784867, 0.7756980088996741, -0.05773294385961192, 1.0527499233752, 1.27175820833877, 2.8029121874014296, 0.9982773142984064, 0.9762514014973492, 2.1725099070387652, 2.586327988112618, 2.246120165544188, 1.0095502329303037, 1.3367064455574, 2.0026327539627866, 3.7747580406135577, 2.21625407668155, 1.5711398047401932, 2.1921318055394043, 1.155883884059976, 1.340673824630633, -1.6464974742060625, 2.6472760596682026, 2.7627641189016208, 1.3564227222612002, 1.2953310650671443, 1.4725457588593645, 3.1527157788616904, 1.509216975995288, 1.1010856009874337, 0.6067089673697347, 1.9558929485484204, 1.4449898988007435, 0.8621678007230887, 0.9789727447327485, 2.1826383663614637, 1.5674104708073853, 0.9440337863787792, 1.5664456036620606, 3.185212246972031, 1.9436754157392633, 0.6728002284394148, 1.1545269470373547, 0.6958655319857677, 0.3112922557559019, 0.47931959401113855, 1.8181885576928447, 1.601321337043153, 3.193026982688094, 2.0467335871880974, -0.91667230559844, 2.564364915123803, 2.3606312937528147, 0.2872024323744713, -1.7329126102311858, 1.0714941548091852, 1.5101250924494019, 1.3841824168520471, 1.1802854088699972, 2.2746974747073354, 0.3376068987536336, 2.3645154308852465, 1.8062005770162775, 2.2211517301964814, 0.29893418196816235, 2.2880439509775825, 0.940309177931788, -0.6372875330822061, 1.7474875466089617, 0.5264988770794763, 0.7472601624367591, 0.9517012197659238, 1.9634619425910986, 0.9240599638230611, 1.7408613092882566, 1.3700040564979548, 1.0059375960843093, 0.7025587429040461, 0.13571894866784162, 1.1637071500023584, 0.7728072360555288, 1.8636950927687932, 1.7476797253591392, 2.1969605509034453, 1.6785749419449312, 2.2658765858514274, 1.972413132149558, 2.7397649794802015, 0.8443586333318144, 2.342915630315235, 1.9953602225445717, 1.2469740544716854, -0.05643552151410036, 3.862473135407424, 0.7349876623556645, 0.28445391028775724], \"type\": \"histogram\", \"uid\": \"d27ac10b-e935-11e8-8577-080027daca25\"}], {}, {\"showLink\": true, \"linkText\": \"Export to plot.ly\"})});</script>"
      ],
      "text/vnd.plotly.v1+html": [
       "<div id=\"050fe9d9-589f-4155-bfce-77cd71bfa485\" style=\"height: 525px; width: 100%;\" class=\"plotly-graph-div\"></div><script type=\"text/javascript\">require([\"plotly\"], function(Plotly) { window.PLOTLYENV=window.PLOTLYENV || {};window.PLOTLYENV.BASE_URL=\"https://plot.ly\";Plotly.newPlot(\"050fe9d9-589f-4155-bfce-77cd71bfa485\", [{\"opacity\": 0.75, \"x\": [-1.3413812071125872, -0.8510226074792673, -0.5818831222642066, -1.7290968844527217, 1.852937054150087, -0.97167026859863, 0.5748033579429769, 0.1740261117862107, -0.6922234855467403, 1.1682962286654697, 0.8323002215098241, -1.3586334781915703, -0.17574778735426394, -0.4647752789296366, -0.5627100181978699, -0.6020893467795473, -1.8649284298922661, -1.3509023815227799, 1.2605100814919483, -0.5438619044616272, 0.38466385970566846, 0.1251428339074968, -0.22903819897728878, -0.6757240078353974, -0.018377951535798135, 1.6442817837861337, 0.36207039503895516, 1.11516949537457, -0.5875018946336844, 0.9983036888716278, -0.6628837602127154, 0.5307227592856234, -1.0289834885214195, 0.9279137887223318, -0.5130421911215839, 0.6924492331888571, -0.7538613453745738, 0.050154727298202854, 1.5252118516181787, 0.6699317554165364, 0.09279287741304293, -0.5421990243016965, 1.4220291566584542, 0.5604289046997103, -2.1883504453174543, 1.6497125231021461, 1.4086709221660778, -0.14364098739062295, -0.40330825888240546, 0.6027609969356028, -0.3588792020725003, -0.21610829468946824, -0.3827249720643406, -1.2060903401468477, 0.23344759615103905, 0.41077536105305584, 0.47815540685868513, 1.2843987247447293, 0.5234354896508271, 1.7070738885684982, -0.4944031683926492, 2.674307062582139, -0.3337134673661542, -0.2687326213783529, -0.22899459990185783, 0.9080051327697977, -0.3704409874692546, 1.5609483995909246, -1.1667290993759658, -0.28341316720902304, -0.9893155128874603, 1.7437288732392928, 1.1275863076725234, 0.6191882382262199, -0.2566922963163329, -0.1919677736791007, 1.7452153727697595, 0.01439183366998136, 1.0027958631231553, 1.1799129214026123, 0.23233456831748772, 1.759974268759328, 1.0063676959608057, 1.5997359988203343, -1.7892629336722217, 0.02009863703741223, -1.3237454662424541, -0.24866100576916234, 2.345765480865284, 1.0153802187073575, 1.9787078107889065, -0.07944633616781677, 1.0764448768373558, 0.5209116832843406, 0.4070749185148018, -0.6246981627012602, 1.506678746826816, -0.43911104614595625, -0.6257420302282363, 0.9891337982499704, 1.0118508897343992, -0.8832166200740281, -0.9120104357677031, 0.5762398595989389, -0.8827738072109, 1.4171539337471408, 0.5509588074744329, -1.3513072362166882, -0.32178638014751954, 0.117419710127996, -0.15786940383186057, -0.22504074389506312, 1.028678817145844, -0.31966135587723915, -0.06749646104459431, -0.10162394213469968, 0.7518012345527592, -0.2577998560415592, -0.28167908267580805, 0.8622075644479994, 0.9099830190480499, -0.9466765453347254, -0.1490398293212978, 1.2513867025570475, -0.24088273590750964, 1.2383045902267602, -0.18522056849682553, 0.7929050081140032, -0.06258945082958978, 1.312725395337355, 1.0712292528975367, 0.21354334003270445, 0.841595931550972, 1.2542091267010531, -0.07977509247515356, 1.2877784547298776, 0.24470756508497013, 1.312979731758043, 1.0972599611560734, -0.7553976684560396, -0.1598727102398296, 0.3645485119350741, 1.2989925533766042, -0.3860521405956978, 0.7106103039524051, 0.4299335236874685, -0.853193434717318, -0.37404280826329295, -0.10099789642648721, -0.05936807586590297, -0.7964797003605598, 0.77473599684022, -0.1291469616434825, -0.14490720557202844, 0.9939724261417904, 1.5965256582982084, 2.579554316414176, 0.8482225341884878, -0.28506089693820186, -1.5843519587055637, 1.4026045036729096, -2.6947199006003113, 0.3292883218970251, 0.5931219220465545, -1.0628054565435658, -1.4645953003724475, 0.37882871968009807, -0.8345551585499227, 0.7949455972745562, -1.5441981759054473, 0.7731466696735978, -0.7307959350949347, -0.6941001820006313, -1.9322434258151817, 2.37713709756545, -0.8229889756527471, 0.5382936240727966, -1.2092844601880763, 0.4780595684735145, -1.6197508199985127, 0.32435909976603905, -0.38646452188155506, -0.3285886646789516, -1.156745447076863, -0.6482301309091281, -1.2650290938890716, -2.0363645929317644, -1.6429016365392437, -0.9910238600007959, 0.22078020184383856, 0.511068130527851, 0.5064223828102167, 0.9862298101977298, -0.1833148617074636, -1.4412394289494614, 0.1784853498834135, 0.4218283715139982, -1.6811659328322688, -1.1061057613675773, 1.0226325438231667, -0.056620590296867536, -0.8861317112122007, -0.6440248507689984, 0.45863815330434615, 1.610257311913575, 1.3032500282804345, -0.4269266908634968, -0.5180280307273415, -0.4792411693156745, 0.23173836154818456, 0.12776264894974926, -0.13249924853854758, 1.11419985554801, 0.1344240137691857, 0.40854576450991525, -0.8908290846287308, 1.6062353492614, -0.3331487801049354, -0.8902954703098657, -0.2505055011166507, 0.7152313612604485, -1.0329511588914269, 1.1636576351212813, 0.8342549994127261, 2.4042732346602156, 1.8965108030844895, 0.11883117869995401, -0.2291031553426648, 1.4833797191613327, -0.04517788870748137, -0.26137104491346813, -1.184024868746004, -0.16748016317116607, -0.9215851452617645, -1.547459437801359, -0.7964387863442097, -0.8128344350590911, -0.1397700065385103, 2.1245443680238183, 0.34991603422740086, -1.4451586348656396, -0.7685680424611928, 0.1480686896641564, -0.7263889816410068, 0.07576233437145523, 1.4451055041959158, 1.1040977738026632, 1.2579186333358683, 1.0657300522577902, -0.2077056437046716, -0.019390676062080392, -0.2441270939670262, 1.3528991862154758, 0.04918506011857315, -1.453216883495548, 0.9101068810755765, -0.1774709977359486, -0.28428220218691364, -0.40818426363795973, 0.5425657541416542, -0.1950104888676685, -1.0128560900104304, 0.08221248848029367, 0.38849759135204925, 0.9290910133733439, 0.033775757093587336, -0.19760777257319673, 0.2494036635544254, -0.39568083795172343, -1.3179083790211512, -0.12934475488848, -0.5948282185766252, -0.013219531409619224, -0.6681929921444822, -0.794813573792054, -1.4749256452362007, 0.3496882260718252, 0.19077293149281377, 0.8434335429341999, 0.6239357825759728, -0.23340786396358923, -0.09630963393599526, 1.5201270572869356, -0.3674719289666754, 0.845333526198322, -0.6975299237276964, 0.7418240754609939, -0.5557708416453263, 0.8950942743986604, 1.0681866826732784, 0.6247230315209124, 0.32814523727128386, -0.7793100697619857, 0.14721364724030953, -1.2748816683956041, 0.8996927503831879, -0.2598852969023602, 1.5090607982415338, -1.3464234560535575, 0.3999068090203537, 0.15265823688930188, -0.6800180113048762, -1.1168710158651136, 0.20505997610221388, 0.3920529733530209, -0.9930074135446422, -1.9655593356137937, -0.8067303642371443, -0.40788105926669954, 2.26105561972426, -2.014207311382037, 0.3519151286719147, -0.22342448054448966, 1.4485582116821358, 1.123353283520397, -0.5767691483744166, 0.09202071116610865, 1.2330712210967925, 0.6190584280728044, -1.4400991210703407, -0.6183148559719353, -0.11283394202603932, -0.5322487677013942, -2.3329922848698033, 0.005863192531520771, 0.11523195625970888, 2.2816131777845583, 0.9093766985491868, 1.2610286788883949, 0.26856291905337365, -0.5678832043840505, 0.579780532246026, -0.8499119526903509, -0.8464355764586149, -0.10087165771688998, -0.5710925280568538, -0.1371383934450851, 1.7424316971869278, 1.43384818440192, -0.29987538231349553, 0.5191932948902442, 0.7484689228616551, 0.3643019565700156, 0.41948063135937225, -0.7324866670982172, 1.1290131766582219, -0.2138150378124775, -0.4676357784996919, 0.8353821223585044, 0.40852913138311203, 0.708605612869634, 0.7553446632061137, -0.9634098111620791, 1.7418702751913124, -2.13786802548205, 0.1906641848245997, 0.5641696034784172, -1.3800185618231966, -0.4838779882707213, -0.4680646592963545, -2.148075893682943, -0.022283917737741774, -0.05597148808985304, -2.2252615668481774, 0.3957340680087754, 0.9786340107758786, -1.1570998063293874, 2.2687432408171424, -1.5653426039910696, -0.19816166049984177, 0.9352323981852776, 0.2306699671727862, -0.5145641928969543, 0.32336110110312033, 0.3007566062381218, 0.7833635960934144, 0.8280749591972887, -2.303554286308695, 0.6727391301482756, -0.30510323028574876, 1.5610323635315093, 0.23140902749530867, -1.7972792092891872, 0.011207415114274382, 0.733443763982814, 0.8605748858431326, -1.8002554350873334, -1.3769636120179716, 1.9247807844531708, -0.45281434546534943, 0.40926342731291704, 2.2320791329233245, -0.30083765295010606, -1.2083915982359705, 1.163661797066573, 0.854089999675362, -0.9904264238337243, 0.46307736919787357, -0.3211693357698799, 0.25865636681316323, -1.4126542802216042, 0.465756111695199, 0.7907173385350518, 1.2874185814064656, 0.5253283089408699, -1.033913629789751, -1.3967612999575507, -1.0467708560350264, 0.0030434876640123938, -0.08840918972606925, -0.1935957032988824, -0.9964740992656541, -0.4296983828329634, -0.09968097982956227, 1.0718956701317572, 1.797928773978937, 0.8821506895711184, -2.2486659494545447, 0.7375673935109146, 0.3273230965877029, -1.0109014951052053, 0.8844406855172817, 1.8126435755618404, -1.2497092898958455, 0.31593522218138226, -0.25515952656499186, 0.5861765817147686, 0.8981128490247045, -0.15087037650600135, -0.6418339740165157, 1.9318840275869031, -0.9292906044137337, 0.5722156976366083, -0.1264946433181824, -0.6425621853486954, 0.4975681089104875, -0.37122810814140134, 0.16185943555021887, 0.6239533315976957, 0.5393408419734977, -0.18554105550115738, -1.3949867843708608, 1.1278653801168614, -0.5753826967240846, -0.6744774014289008, 1.1502128237562848, 1.3624363037198612, 0.5865318794325035, 0.3077603502229714, -0.6242516122172668, -1.7508309845776717, -2.188349999085538, 0.7129434184129302, -0.507732006475956, 1.393061701913734, -0.450206758729948, 2.727846909211781, 1.9696230903969654, -1.4392300276816472, 1.5688366682603203, -0.8461713216198998, -1.1938698720138743, 0.7476790866265082, -1.1825308654970568, -0.5435901908632964, -0.15342752305050722, 1.63772292493192, 0.3711395025977247, -0.45530794962716653, 1.0039903018288645, -0.16049460981527172, 1.9562261523144142, 0.06225218352801409, 1.0524808475638077, 0.46600549431581423, 0.09929103844896234, 1.6881045016186957, -0.5910690313042534, 0.952539075157584, 0.7788920123548977, -0.07199498882902693, 0.4089274900617975, -0.45049525987597366, 0.22719474979517157, 0.39031432523157494, -0.15681865738796325, 1.0327694170993194, -1.5751812510432661, 1.3217600995959633, 0.2370938864544285, 0.08524178768352145, 0.779052636707408, -0.2660102031323569, -1.362983176816857, -0.19792982484958183, -0.16981104875270542, -1.8291261601893392, 1.3137155116499284, -0.3983076580870794, -0.6512882792357507], \"type\": \"histogram\", \"uid\": \"d27ac10a-e935-11e8-8577-080027daca25\"}, {\"opacity\": 0.75, \"x\": [0.6347428507352286, 2.0181295123634775, 0.8050510949803832, 1.8807746724522272, 1.0489614887289853, 3.173498871693112, 3.3711031701602407, 0.21297267909090922, 2.1432827844127673, 2.398198104570525, 1.7752708499307819, 0.9215241461750556, 2.634917003005021, 1.503627334366601, 0.9134709209172648, 0.6280313812153431, 0.17393506144241289, 1.779409480450895, 2.365675861683557, 3.11102900668687, -0.9689635765585276, 1.322574696965068, 0.5777666486032504, 0.43474755257936093, 2.3638689247391005, -0.39729767524173054, 2.86395351977944, 1.4271055788721645, 1.7657487716823173, 2.0711752616137953, 1.9829376267342056, 0.9741584728882549, 1.2940366686545866, 1.7391527042360133, 1.5714885852308977, 0.6754236523177182, 2.9737181086815907, 0.38848880042050093, 2.095723538480578, 2.255888770416547, 1.51899397419715, 1.6822381044359678, 1.4065754928753742, 1.8332083114976123, 1.6079888983237243, 1.6734121725351743, 2.5619329244374627, 2.1575553825600338, 1.7449433559399128, 2.4617613611544695, -0.30849958120275, 1.0810803593867644, 2.93321583504767, 2.735410967420691, 3.0252339216086943, 2.30401072253851, 0.746943457938004, 2.696728036967125, 1.247096247983254, 1.83402797466359, 0.3162957015759662, 1.6196912941275983, 1.4221549878220046, 0.9947560476635106, 0.7360963205967369, 1.4567902941149278, 1.3711509576331504, -0.8166702680001388, 2.2924616251083676, 2.5844121262730457, 3.471321344225605, 0.7940926735437878, 1.2515285922002093, -1.4245046210125794, 0.8428371692004824, 2.591559820563754, 2.055295739934829, 2.6631983928508483, 4.643365550815526, 2.4059776850435237, 1.4238260323629388, 2.2693163023356493, 2.825384175325012, -0.14452131911665744, 0.34011908569328764, 0.9318809272921572, 2.507139680156448, 0.43403645144800507, 2.148563635866126, 0.29314544464454784, 1.6265473097297267, 2.789501302100195, 0.8500268033018309, 1.3714854378021832, 0.7181861069579057, 0.7010601017139795, 2.0122026521213385, 1.8866133751006715, 0.8985695597906127, 1.9411082732403724, 1.9795941936225456, 3.0186229934886013, 0.6872654146632833, 1.3162492230599632, 2.026570244020505, 1.6480965233974563, 0.2704171550565402, 1.5229975243819147, -0.3668691503917836, 2.1187951730688335, 0.28668818255519124, 2.0705508784495015, -0.6077327453515404, 1.7669526320969104, 0.5273345885282423, 2.6569716705151767, 1.214700671969359, 2.651546456061612, 2.9745194747231456, 0.7428849583419521, 1.4208318870027328, 2.0144090983416905, 3.034214472382237, 0.11114761454859168, 3.27261921722839, 1.222756527709942, 2.749611322597804, 1.1857202526368706, 2.195793845728955, 1.679142075065236, 1.7959309358425681, 3.1123957906954676, 3.5570340387600052, 1.3408522267101786, 2.207179758713048, 1.5397563732577377, 2.394106345442372, 4.176048129831728, 1.7327397346508282, 1.6977168513189485, 2.464153754618925, 1.3463799181753286, 1.3593793637447122, 2.049267255778946, 2.5243787664803614, 2.5085625066058546, 0.2390880359007146, 1.673112462726079, 2.1036982353518603, 0.18793096514743168, 0.4488319719394067, 0.25878624107521153, 0.22524616399535913, 0.6599106145056494, -0.19665681204578078, 1.4252263714866744, -0.1449325880419865, 3.07866032806438, 2.260076719683063, 1.115298906551584, 1.8664674670512216, 0.37678095016326063, 2.303043757379948, 1.299079025620895, 0.3876894948877223, 0.15716996945652362, 0.5632671825470682, 0.8785479317790825, 1.0763587149943552, -0.02152238807500817, 2.104250323307174, 0.6286282854665894, 2.168306291582069, 1.5372441862810131, 1.66682798370736, 1.3335186383043256, 1.9877891484385122, 1.603112332316703, 1.548723431662077, 1.6187729012515542, 1.8905639758160668, 2.8236954676842894, 0.9360569765626913, -0.3919679990757017, 2.330583183927076, 2.110653250012361, 0.5176336191149842, 2.9275727670738787, 2.509885890202109, 1.8234942955810405, 0.7337394131012801, 2.1696891337612203, -0.6199503979437391, 1.3484261441811383, 1.4008399875034838, 2.1006863408860426, 1.8118723815166011, 0.4305789839371008, 2.0082539471473013, 1.8356670977601621, 2.0039419483999876, 1.5406875405428202, 3.1290771224411342, 2.6054585012155504, 1.5783163265506535, -0.1388166343744206, 1.5068249046185291, 2.105540344563801, 1.9125034874312017, 2.8264844199837422, 1.5247142616410436, 1.9803104960737061, 2.0109409835457583, 3.1040310305964107, 0.7133162918976594, -0.4978093058619617, 1.2685785017952909, 3.537332578123089, 0.49299914362885233, 2.455156572996377, 0.726791630016485, 2.23397637895237, 2.8549500553721647, -0.6827062593220443, 1.51464624909136, 1.7058944988656384, 0.08231254159192147, 0.8693845841430048, 2.3224651180983553, 1.7809179165461828, 0.043008221300543825, 0.6677045079351277, 1.4322541455178308, 1.6992416578609735, 1.1571388981559085, 2.1367781191024204, 2.537375858128236, 1.802552546054335, -0.4315949966309358, 0.7366568419127358, 1.9081048760836732, 2.1515277970674065, 0.511470734056763, 2.3569845013346016, 0.9408456718732202, 3.597225506547507, 2.473887800477951, 0.5238151244575255, 1.794609661938407, 2.7445828550637588, -0.5975274730343525, 0.3393593229764986, 1.700004968556351, 2.5879547677582173, 1.5056839691575234, 0.6593834752796018, 1.630847535860124, 0.7344965410206052, 1.865735146111285, 1.1977140644022382, 2.3566629794518916, 2.7597915257807157, 2.0111083814190214, 1.845450905448389, 2.680588369813374, 1.2314570961214086, 3.131148998878115, 2.223298007368347, 2.816963671832432, 2.176530795355309, 0.43195692565174637, 2.5357445808916017, 0.47102151176105056, 1.5891336613677975, 0.9382585269332462, 1.5176274394679292, 0.010543583330617778, 1.6711086148768906, 2.506846551666738, 1.9012361434271434, 1.0153584024316593, -0.08645621564108352, 3.455997434908314, 4.4379700278126775, 2.3638139318618254, 2.104440861772566, 1.144365259057028, 2.355511866564009, 2.4917453326714853, 2.325848514486955, 1.1149270800801205, 1.7376828773943933, 0.7488959693647209, -0.4062070571352354, 1.0520944779633568, 0.3548487853194009, 1.043042044078803, -0.9439397009615003, 1.4830864369050563, 1.0537516060237833, 1.8236679671299039, 1.3942111291916404, 0.7197013094115274, 1.6028956132372687, 3.337976139060056, 0.8249842640752669, 1.6689329528048373, -0.6656352863129222, -0.12806776058452773, 0.6205293080754386, 0.6746753435283659, 1.3545583330429884, -0.37217118205586286, 2.107491423530031, 3.464781707419087, 0.6276526100733977, 0.8367576062034164, 1.1775381622900647, 0.8377882132007779, 0.9175269653606712, 2.651297131808646, 1.7654046156660665, 0.8220693440322668, 2.276084633915555, 0.3287424865605004, 1.1565231051306881, 1.4233731369329337, 3.26146066877906, 1.1212578480286979, 0.3108161552417681, 1.1098148616968384, 2.3409776535414513, 1.2318431384801072, 0.706787898257029, 0.6720247910284481, 0.7792096564449907, 2.5623231160635873, 0.7172631372287787, 1.659454581935184, 1.144757527162693, 2.2118892250033833, 1.175571016953346, 0.3105608105475466, 2.4244289937014925, -0.2151364193517078, 0.40867422399714126, 2.400553295529641, 3.1428254104942495, 2.2416466589505823, 2.4892103453204717, -0.12417368889087221, 0.3498311281278055, 0.8564298797677415, 1.7136569936112145, 1.200562293951238, 1.4660030398041461, 2.5306177959844587, 0.7697536156111147, 1.8999229955672219, 1.5251494673195891, 2.1582346022831356, 1.8484996294000582, 1.6435936527283619, 0.6768633657379732, 1.0049008134010835, 4.058485568002791, 0.2398859605182413, 2.1684887120780703, 1.551203528718209, -1.1181804615512525, 1.9466209614549141, 2.432240290912818, 0.733341101787036, 2.391347565687573, 1.73824996318681, 1.591592839816785, 1.4617918020029315, 2.1912076029733987, 1.8402494697585547, 2.3081734349168883, 3.4075868792701027, 1.8568804802728756, -0.8246100735119528, 2.085379313721769, 2.171716374990045, 1.7318552674058758, 1.5612125595798472, 1.6148656575668106, 2.3435598786802343, 1.8456540390138692, 2.696509940774067, 1.1470046529198117, 2.3346642181664095, 1.35451438388907, 1.192955176980864, 2.076583293148368, 1.8350464929881376, 2.4716583118700504, 2.6661284520186666, 1.1608987246605542, 1.8334876772011555, 1.2172256873810992, -0.3786764216778342, 0.6035207665478886, 0.14827462679864234, 1.5066333977784867, 0.7756980088996741, -0.05773294385961192, 1.0527499233752, 1.27175820833877, 2.8029121874014296, 0.9982773142984064, 0.9762514014973492, 2.1725099070387652, 2.586327988112618, 2.246120165544188, 1.0095502329303037, 1.3367064455574, 2.0026327539627866, 3.7747580406135577, 2.21625407668155, 1.5711398047401932, 2.1921318055394043, 1.155883884059976, 1.340673824630633, -1.6464974742060625, 2.6472760596682026, 2.7627641189016208, 1.3564227222612002, 1.2953310650671443, 1.4725457588593645, 3.1527157788616904, 1.509216975995288, 1.1010856009874337, 0.6067089673697347, 1.9558929485484204, 1.4449898988007435, 0.8621678007230887, 0.9789727447327485, 2.1826383663614637, 1.5674104708073853, 0.9440337863787792, 1.5664456036620606, 3.185212246972031, 1.9436754157392633, 0.6728002284394148, 1.1545269470373547, 0.6958655319857677, 0.3112922557559019, 0.47931959401113855, 1.8181885576928447, 1.601321337043153, 3.193026982688094, 2.0467335871880974, -0.91667230559844, 2.564364915123803, 2.3606312937528147, 0.2872024323744713, -1.7329126102311858, 1.0714941548091852, 1.5101250924494019, 1.3841824168520471, 1.1802854088699972, 2.2746974747073354, 0.3376068987536336, 2.3645154308852465, 1.8062005770162775, 2.2211517301964814, 0.29893418196816235, 2.2880439509775825, 0.940309177931788, -0.6372875330822061, 1.7474875466089617, 0.5264988770794763, 0.7472601624367591, 0.9517012197659238, 1.9634619425910986, 0.9240599638230611, 1.7408613092882566, 1.3700040564979548, 1.0059375960843093, 0.7025587429040461, 0.13571894866784162, 1.1637071500023584, 0.7728072360555288, 1.8636950927687932, 1.7476797253591392, 2.1969605509034453, 1.6785749419449312, 2.2658765858514274, 1.972413132149558, 2.7397649794802015, 0.8443586333318144, 2.342915630315235, 1.9953602225445717, 1.2469740544716854, -0.05643552151410036, 3.862473135407424, 0.7349876623556645, 0.28445391028775724], \"type\": \"histogram\", \"uid\": \"d27ac10b-e935-11e8-8577-080027daca25\"}], {}, {\"showLink\": true, \"linkText\": \"Export to plot.ly\"})});</script>"
      ]
     },
     "metadata": {},
     "output_type": "display_data"
    }
   ],
   "source": [
    "x0 = np.random.randn(500)\n",
    "x1 = np.random.randn(500) + 1.5\n",
    "\n",
    "trace1 = go.Histogram(\n",
    "    x=x0,\n",
    "    opacity=0.75\n",
    ")\n",
    "\n",
    "trace2 = go.Histogram(\n",
    "    x=x1,\n",
    "    opacity=0.75\n",
    ")\n",
    "\n",
    "data = [ trace1, trace2 ]\n",
    "layout = go.Layout(barmode='overlay')\n",
    "fig = go.Figure(data=data, layout=layout)\n",
    "\n",
    "plotly.offline.iplot(data)"
   ]
  },
  {
   "cell_type": "markdown",
   "metadata": {},
   "source": [
    "## Model Trainning\n",
    "\n"
   ]
  },
  {
   "cell_type": "markdown",
   "metadata": {},
   "source": [
    "* Model tunning\n",
    "    1. gridseach\n",
    "    2. sthocastic search\n"
   ]
  },
  {
   "cell_type": "markdown",
   "metadata": {
    "heading_collapsed": true
   },
   "source": [
    "## Evaluation metrics"
   ]
  },
  {
   "cell_type": "markdown",
   "metadata": {
    "ExecuteTime": {
     "end_time": "2018-09-11T18:45:22.985857Z",
     "start_time": "2018-09-11T18:45:22.979639Z"
    },
    "heading_collapsed": true,
    "hidden": true
   },
   "source": [
    "### Accuracy  and confusion matrix"
   ]
  },
  {
   "cell_type": "code",
   "execution_count": null,
   "metadata": {
    "ExecuteTime": {
     "end_time": "2018-09-12T00:54:01.152732Z",
     "start_time": "2018-09-12T00:54:01.130484Z"
    },
    "hidden": true
   },
   "outputs": [],
   "source": [
    "## Accuracy \n",
    "\n",
    "from sklearn.metrics import accuracy_score, confusion_matrix\n",
    "from tabulate import tabulate\n",
    "\n",
    "np.random.seed(2018)\n",
    "\n",
    "y_true = np.random.uniform(size=7) > .5\n",
    "y_pred = np.random.uniform(size=7) > .4\n",
    "\n",
    "acc = accuracy_score(y_true, y_pred)\n",
    "print('Fake data')\n",
    "print('y_true: {}'.format(y_true))\n",
    "print('y_pred: {}'.format(y_pred))\n",
    "\n",
    "print('accuracy: {}'.format(acc))\n",
    "\n",
    "cf_m = confusion_matrix(y_true, y_pred)\n",
    "\n",
    "cf_df = pd.DataFrame(cf_m, index=[\"Actual Positive\", \"Actual Negative\"], columns = [\"Predicted Positive\", \"Predicted Negative\"])\n",
    "tn, fp, fn, tp = confusion_matrix(y_true, y_pred).ravel()\n",
    "\n",
    "FPR = fp/(fp+tn)\n",
    "FNR = fn/(tp+fn)\n",
    "\n",
    "print(tabulate(cf_df, tablefmt=\"orgtbl\",\n",
    "               headers=\"keys\"))\n",
    "\n",
    "\n",
    "print()\n",
    "print('FPR: {}'.format(FPR))\n",
    "print('FNR: {}'.format(FNR))\n",
    "\n",
    "print()\n"
   ]
  },
  {
   "cell_type": "markdown",
   "metadata": {
    "hidden": true
   },
   "source": [
    "=================================\n",
    "\n",
    "For markdwon cells, insert the code in a markdown cell. \n",
    "\n",
    "```python\n",
    "\\{\\{print(tabulate(cf_df, headers=\"keys\", tablefmt=\"html\"))\\}\\}\n",
    "```\n",
    "\n",
    "\n",
    "{{print(tabulate(cf_df, headers=\"keys\", tablefmt=\"html\"))}}\n"
   ]
  },
  {
   "cell_type": "markdown",
   "metadata": {
    "hidden": true
   },
   "source": [
    "### Precision Recall Curve, AUC and F score\n"
   ]
  },
  {
   "cell_type": "markdown",
   "metadata": {
    "heading_collapsed": true,
    "hidden": true
   },
   "source": [
    "####  Downsampling data example\n",
    "\n",
    "Does need to run one time int he case we do not have data/creditcard_downsampled.csv.tar.bz2.\n",
    "\n",
    "Also is an example of downsampling data.\n",
    "\n",
    "Data downloaded from:\n",
    "https://www.kaggle.com/mlg-ulb/creditcardfraud\n",
    "\n",
    "\n",
    "* The original imbalance ratio (492:284315): 0.002\n",
    "* Downsample the majority to reach the ratio 1:3 , just to have small data set"
   ]
  },
  {
   "cell_type": "code",
   "execution_count": null,
   "metadata": {
    "ExecuteTime": {
     "end_time": "2018-09-12T00:54:14.992041Z",
     "start_time": "2018-09-12T00:54:10.554356Z"
    },
    "hidden": true
   },
   "outputs": [],
   "source": [
    "## Does not need to run this again once you have credicard_downsampled.csv.tar.bz2\n",
    "creditcard_df = pd.read_csv('data/creditcard.csv.zip', compression='zip', sep=',', quotechar='\"')\n",
    "\n",
    "creditcard_df.sample(3).head(3)\n",
    "\n",
    "n_pos = np.sum(creditcard_df.Class == True)\n",
    "print('#positives: {}'.format(n_pos))\n",
    "\n",
    "n_neg = np.sum(creditcard_df.Class == False)\n",
    "print('#negatives: {}'.format(n_neg))\n",
    "\n",
    "r = n_pos/(n_pos + n_neg)\n",
    "print('Imbalance data ratio ({0}:{1}): {2:.3f}'.format(n_pos,n_neg,r))"
   ]
  },
  {
   "cell_type": "markdown",
   "metadata": {
    "hidden": true
   },
   "source": [
    "downsample both class to have smaller dataset"
   ]
  },
  {
   "cell_type": "code",
   "execution_count": null,
   "metadata": {
    "ExecuteTime": {
     "end_time": "2018-09-12T00:54:17.547528Z",
     "start_time": "2018-09-12T00:54:17.337649Z"
    },
    "hidden": true
   },
   "outputs": [],
   "source": [
    "from sklearn.utils import resample\n",
    "\n",
    "# Separate majority and minority classes\n",
    "df_majority = creditcard_df[creditcard_df.Class==0]\n",
    "df_minority = creditcard_df[creditcard_df.Class==1]\n",
    " \n",
    "# Downsample majority class\n",
    "df_majority_downsampled = resample(df_majority, \n",
    "                                 replace=False,    # sample without replacement\n",
    "                                 n_samples=2000,     # to match minority class\n",
    "                                 random_state=123) # reproducible results\n",
    " \n",
    "\n",
    "# Combine minority class with downsampled majority class\n",
    "df_downsampled = pd.concat([df_majority_downsampled, df_minority])\n",
    "df_downsampled = df_downsampled.reset_index(drop=True)\n",
    "\n",
    "\n",
    "# Saving\n",
    "df_downsampled.to_csv('data/creditcard_downsampled.csv', index=False)"
   ]
  },
  {
   "cell_type": "code",
   "execution_count": null,
   "metadata": {
    "ExecuteTime": {
     "end_time": "2018-09-12T00:54:20.033096Z",
     "start_time": "2018-09-12T00:54:19.895823Z"
    },
    "hidden": true,
    "scrolled": true
   },
   "outputs": [],
   "source": [
    "%%bash\n",
    "\n",
    "# remove old file\n",
    "rm -v data/creditcard_downsampled.csv.tar.bz2 \n",
    "tar -cjvf  data/creditcard_downsampled.csv.tar.bz2 data/creditcard_downsampled.csv\n",
    "\n",
    "rm -v data/creditcard_downsampled.csv\n",
    "\n",
    "du -sh data/*"
   ]
  },
  {
   "cell_type": "markdown",
   "metadata": {
    "hidden": true
   },
   "source": [
    "#### Load downsampled data"
   ]
  },
  {
   "cell_type": "code",
   "execution_count": 4,
   "metadata": {
    "ExecuteTime": {
     "end_time": "2018-09-19T16:47:57.313186Z",
     "start_time": "2018-09-19T16:47:57.097116Z"
    },
    "hidden": true
   },
   "outputs": [
    {
     "data": {
      "text/html": [
       "<div>\n",
       "<style scoped>\n",
       "    .dataframe tbody tr th:only-of-type {\n",
       "        vertical-align: middle;\n",
       "    }\n",
       "\n",
       "    .dataframe tbody tr th {\n",
       "        vertical-align: top;\n",
       "    }\n",
       "\n",
       "    .dataframe thead th {\n",
       "        text-align: right;\n",
       "    }\n",
       "</style>\n",
       "<table border=\"1\" class=\"dataframe\">\n",
       "  <thead>\n",
       "    <tr style=\"text-align: right;\">\n",
       "      <th></th>\n",
       "      <th>Class</th>\n",
       "      <th>Amount</th>\n",
       "    </tr>\n",
       "  </thead>\n",
       "  <tbody>\n",
       "    <tr>\n",
       "      <th>count</th>\n",
       "      <td>2492.000000</td>\n",
       "      <td>2492.000000</td>\n",
       "    </tr>\n",
       "    <tr>\n",
       "      <th>mean</th>\n",
       "      <td>0.197432</td>\n",
       "      <td>97.498427</td>\n",
       "    </tr>\n",
       "    <tr>\n",
       "      <th>std</th>\n",
       "      <td>0.398141</td>\n",
       "      <td>224.284179</td>\n",
       "    </tr>\n",
       "    <tr>\n",
       "      <th>min</th>\n",
       "      <td>0.000000</td>\n",
       "      <td>0.000000</td>\n",
       "    </tr>\n",
       "    <tr>\n",
       "      <th>25%</th>\n",
       "      <td>0.000000</td>\n",
       "      <td>3.597500</td>\n",
       "    </tr>\n",
       "    <tr>\n",
       "      <th>50%</th>\n",
       "      <td>0.000000</td>\n",
       "      <td>21.030000</td>\n",
       "    </tr>\n",
       "    <tr>\n",
       "      <th>75%</th>\n",
       "      <td>0.000000</td>\n",
       "      <td>89.990000</td>\n",
       "    </tr>\n",
       "    <tr>\n",
       "      <th>max</th>\n",
       "      <td>1.000000</td>\n",
       "      <td>3249.730000</td>\n",
       "    </tr>\n",
       "  </tbody>\n",
       "</table>\n",
       "</div>"
      ],
      "text/plain": [
       "             Class       Amount\n",
       "count  2492.000000  2492.000000\n",
       "mean      0.197432    97.498427\n",
       "std       0.398141   224.284179\n",
       "min       0.000000     0.000000\n",
       "25%       0.000000     3.597500\n",
       "50%       0.000000    21.030000\n",
       "75%       0.000000    89.990000\n",
       "max       1.000000  3249.730000"
      ]
     },
     "execution_count": 4,
     "metadata": {},
     "output_type": "execute_result"
    },
    {
     "data": {
      "text/html": [
       "<div>\n",
       "<style scoped>\n",
       "    .dataframe tbody tr th:only-of-type {\n",
       "        vertical-align: middle;\n",
       "    }\n",
       "\n",
       "    .dataframe tbody tr th {\n",
       "        vertical-align: top;\n",
       "    }\n",
       "\n",
       "    .dataframe thead th {\n",
       "        text-align: right;\n",
       "    }\n",
       "</style>\n",
       "<table border=\"1\" class=\"dataframe\">\n",
       "  <thead>\n",
       "    <tr style=\"text-align: right;\">\n",
       "      <th></th>\n",
       "      <th>data/creditcard_downsampled.csv</th>\n",
       "      <th>V1</th>\n",
       "      <th>V2</th>\n",
       "      <th>V3</th>\n",
       "      <th>V4</th>\n",
       "      <th>V5</th>\n",
       "      <th>V6</th>\n",
       "      <th>V7</th>\n",
       "      <th>V8</th>\n",
       "      <th>V9</th>\n",
       "      <th>...</th>\n",
       "      <th>V21</th>\n",
       "      <th>V22</th>\n",
       "      <th>V23</th>\n",
       "      <th>V24</th>\n",
       "      <th>V25</th>\n",
       "      <th>V26</th>\n",
       "      <th>V27</th>\n",
       "      <th>V28</th>\n",
       "      <th>Amount</th>\n",
       "      <th>Class</th>\n",
       "    </tr>\n",
       "  </thead>\n",
       "  <tbody>\n",
       "    <tr>\n",
       "      <th>195</th>\n",
       "      <td>165154.0</td>\n",
       "      <td>-0.160398</td>\n",
       "      <td>1.150366</td>\n",
       "      <td>-0.914660</td>\n",
       "      <td>-0.575656</td>\n",
       "      <td>0.676407</td>\n",
       "      <td>-0.712468</td>\n",
       "      <td>0.693242</td>\n",
       "      <td>0.204050</td>\n",
       "      <td>-0.063282</td>\n",
       "      <td>...</td>\n",
       "      <td>0.341778</td>\n",
       "      <td>1.111552</td>\n",
       "      <td>-0.192421</td>\n",
       "      <td>-0.974365</td>\n",
       "      <td>-0.637401</td>\n",
       "      <td>-0.154244</td>\n",
       "      <td>0.379865</td>\n",
       "      <td>0.249296</td>\n",
       "      <td>7.74</td>\n",
       "      <td>0</td>\n",
       "    </tr>\n",
       "    <tr>\n",
       "      <th>397</th>\n",
       "      <td>109475.0</td>\n",
       "      <td>0.007556</td>\n",
       "      <td>0.875370</td>\n",
       "      <td>0.319915</td>\n",
       "      <td>-0.563118</td>\n",
       "      <td>0.702889</td>\n",
       "      <td>-0.595429</td>\n",
       "      <td>0.773443</td>\n",
       "      <td>-0.105382</td>\n",
       "      <td>1.038701</td>\n",
       "      <td>...</td>\n",
       "      <td>-0.380811</td>\n",
       "      <td>-0.723726</td>\n",
       "      <td>0.036538</td>\n",
       "      <td>-0.410010</td>\n",
       "      <td>-0.506232</td>\n",
       "      <td>0.102811</td>\n",
       "      <td>0.213901</td>\n",
       "      <td>0.077651</td>\n",
       "      <td>2.69</td>\n",
       "      <td>0</td>\n",
       "    </tr>\n",
       "    <tr>\n",
       "      <th>1387</th>\n",
       "      <td>145869.0</td>\n",
       "      <td>2.312615</td>\n",
       "      <td>-1.354371</td>\n",
       "      <td>-1.284908</td>\n",
       "      <td>-1.834981</td>\n",
       "      <td>-0.719941</td>\n",
       "      <td>0.012183</td>\n",
       "      <td>-1.132705</td>\n",
       "      <td>-0.048939</td>\n",
       "      <td>-1.510996</td>\n",
       "      <td>...</td>\n",
       "      <td>-0.161164</td>\n",
       "      <td>0.010353</td>\n",
       "      <td>0.170678</td>\n",
       "      <td>0.081469</td>\n",
       "      <td>-0.083867</td>\n",
       "      <td>-0.176077</td>\n",
       "      <td>0.001341</td>\n",
       "      <td>-0.060235</td>\n",
       "      <td>15.00</td>\n",
       "      <td>0</td>\n",
       "    </tr>\n",
       "  </tbody>\n",
       "</table>\n",
       "<p>3 rows × 31 columns</p>\n",
       "</div>"
      ],
      "text/plain": [
       "      data/creditcard_downsampled.csv        V1        V2        V3        V4  \\\n",
       "195                          165154.0 -0.160398  1.150366 -0.914660 -0.575656   \n",
       "397                          109475.0  0.007556  0.875370  0.319915 -0.563118   \n",
       "1387                         145869.0  2.312615 -1.354371 -1.284908 -1.834981   \n",
       "\n",
       "            V5        V6        V7        V8        V9  ...         V21  \\\n",
       "195   0.676407 -0.712468  0.693242  0.204050 -0.063282  ...    0.341778   \n",
       "397   0.702889 -0.595429  0.773443 -0.105382  1.038701  ...   -0.380811   \n",
       "1387 -0.719941  0.012183 -1.132705 -0.048939 -1.510996  ...   -0.161164   \n",
       "\n",
       "           V22       V23       V24       V25       V26       V27       V28  \\\n",
       "195   1.111552 -0.192421 -0.974365 -0.637401 -0.154244  0.379865  0.249296   \n",
       "397  -0.723726  0.036538 -0.410010 -0.506232  0.102811  0.213901  0.077651   \n",
       "1387  0.010353  0.170678  0.081469 -0.083867 -0.176077  0.001341 -0.060235   \n",
       "\n",
       "      Amount  Class  \n",
       "195     7.74      0  \n",
       "397     2.69      0  \n",
       "1387   15.00      0  \n",
       "\n",
       "[3 rows x 31 columns]"
      ]
     },
     "execution_count": 4,
     "metadata": {},
     "output_type": "execute_result"
    },
    {
     "name": "stdout",
     "output_type": "stream",
     "text": [
      "#positives: 492\n",
      "#negatives: 2000\n",
      "Imbalance data ratio (492:2000): 0.197\n"
     ]
    }
   ],
   "source": [
    "## load\n",
    "creditcard_df = pd.read_csv('data/creditcard_downsampled.csv.tar.bz2', compression='bz2', \n",
    "                            sep=',', quotechar='\"', index_col=False)\n",
    "\n",
    "creditcard_df = creditcard_df.dropna()\n",
    "creditcard_df[['Class','Amount']].describe()\n",
    "\n",
    "creditcard_df['Class'] = creditcard_df.Class.astype(int)\n",
    "\n",
    "creditcard_df.sample(3).head(3)\n",
    "\n",
    "n_pos = np.sum(creditcard_df.Class == True)\n",
    "print('#positives: {}'.format(n_pos))\n",
    "\n",
    "n_neg = np.sum(creditcard_df.Class == False)\n",
    "print('#negatives: {}'.format(n_neg))\n",
    "\n",
    "r = n_pos/(n_pos + n_neg)\n",
    "print('Imbalance data ratio ({0}:{1}): {2:.3f}'.format(n_pos,n_neg,r))"
   ]
  },
  {
   "cell_type": "markdown",
   "metadata": {
    "ExecuteTime": {
     "end_time": "2018-09-11T22:48:44.360057Z",
     "start_time": "2018-09-11T22:48:44.354568Z"
    },
    "hidden": true
   },
   "source": [
    "#### Training 2 models"
   ]
  },
  {
   "cell_type": "code",
   "execution_count": 5,
   "metadata": {
    "ExecuteTime": {
     "end_time": "2018-09-19T16:48:02.185968Z",
     "start_time": "2018-09-19T16:48:02.148114Z"
    },
    "hidden": true
   },
   "outputs": [],
   "source": [
    "from sklearn.model_selection import train_test_split\n",
    "\n",
    "X = creditcard_df[creditcard_df.columns[:-1]]\n",
    "y = creditcard_df[creditcard_df.columns[-1]]\n",
    "\n",
    "X_train, X_test, y_train, y_test = train_test_split(X, y, random_state=2018, test_size=0.3)\n"
   ]
  },
  {
   "cell_type": "code",
   "execution_count": 6,
   "metadata": {
    "ExecuteTime": {
     "end_time": "2018-09-19T16:48:02.770193Z",
     "start_time": "2018-09-19T16:48:02.619290Z"
    },
    "hidden": true
   },
   "outputs": [],
   "source": [
    "# random forests\n",
    "from sklearn.ensemble import RandomForestClassifier\n",
    "from sklearn.linear_model import LogisticRegression\n",
    "\n",
    "rf = RandomForestClassifier(n_estimators = 15,max_depth=5,\n",
    "                            random_state=0).fit(X_train, y_train)\n",
    "\n",
    "\n",
    "lr = LogisticRegression().fit(X_train, y_train)\n"
   ]
  },
  {
   "cell_type": "markdown",
   "metadata": {
    "ExecuteTime": {
     "end_time": "2018-09-11T23:58:38.823835Z",
     "start_time": "2018-09-11T23:58:38.818282Z"
    },
    "hidden": true
   },
   "source": [
    "#### Precision n Recall Curves"
   ]
  },
  {
   "cell_type": "code",
   "execution_count": 7,
   "metadata": {
    "ExecuteTime": {
     "end_time": "2018-09-19T16:48:06.474330Z",
     "start_time": "2018-09-19T16:48:06.196994Z"
    },
    "hidden": true
   },
   "outputs": [
    {
     "name": "stdout",
     "output_type": "stream",
     "text": [
      "Imbalance data ratio (492:2000): 0.197\n"
     ]
    },
    {
     "data": {
      "image/png": "[encoded data removed]",
      "text/plain": [
       "<Figure size 432x288 with 1 Axes>"
      ]
     },
     "metadata": {},
     "output_type": "display_data"
    }
   ],
   "source": [
    "from sklearn.metrics import precision_recall_curve\n",
    "\n",
    "\n",
    "y_true = y_test > 0.5\n",
    "y_score_rf = rf.predict_proba(X_test)[:,-1]\n",
    "y_score_lr = lr.predict_proba(X_test)[:,-1]\n",
    "np.random.seed(2018)\n",
    "y_score_rd = np.random.uniform(size=y_test.shape[0])\n",
    "y_score_perfect = y_test\n",
    "\n",
    "r = n_pos/(n_pos + n_neg)\n",
    "print('Imbalance data ratio ({0}:{1}): {2:.3f}'.format(n_pos,n_neg,r))\n",
    "\n",
    "precision1, recall1, thrs1 = precision_recall_curve(y_true, y_score_rf)\n",
    "\n",
    "precision2, recall2, thrs2 = precision_recall_curve(y_true, y_score_lr)\n",
    "\n",
    "precision3, recall3, thrs3 = precision_recall_curve(y_true, y_score_rd)\n",
    "\n",
    "precision4, recall4, thrs4 = precision_recall_curve(y_true, y_score_perfect)\n",
    "\n",
    "\n",
    "plt.plot(recall1, precision1, marker='.',label='random florest');\n",
    "plt.plot(recall2, precision2, marker='.', label='logistic regression');\n",
    "plt.plot(recall3, precision3, marker='.', label='random uniform');\n",
    "plt.plot(recall4, precision4, marker='.', label='perfect classifier');\n",
    "plt.plot([0, 1], [r, r], linestyle='--',label='Random');\n",
    "plt.legend();\n",
    "                                              "
   ]
  },
  {
   "cell_type": "code",
   "execution_count": null,
   "metadata": {
    "hidden": true
   },
   "outputs": [],
   "source": [
    "# TODO: implement this later better. Give the options to pass multiple model for comparison\n",
    "def plot_prec_recall_vs_tresh(precisions, recalls, thresholds):\n",
    "    \n",
    "    plt.plot(thresholds, precisions[:-1], 'b--', label='precision')\n",
    "    plt.plot(thresholds, recalls[:-1], 'g--', label = 'recall')\n",
    "    plt.xlabel('Threshold')\n",
    "    plt.legend(loc='upper left')\n",
    "    plt.ylim([0,1])\n",
    "    "
   ]
  },
  {
   "cell_type": "code",
   "execution_count": 8,
   "metadata": {
    "ExecuteTime": {
     "end_time": "2018-09-19T16:48:10.933238Z",
     "start_time": "2018-09-19T16:48:10.750028Z"
    },
    "hidden": true
   },
   "outputs": [
    {
     "name": "stdout",
     "output_type": "stream",
     "text": [
      "AUCPRC: 0.9584156721781121\n",
      "f1 score: 0.9665775401069518\n"
     ]
    },
    {
     "data": {
      "image/png": "[encoded data removed]",
      "text/plain": [
       "<Figure size 432x288 with 1 Axes>"
      ]
     },
     "metadata": {},
     "output_type": "display_data"
    }
   ],
   "source": [
    "from sklearn.metrics import f1_score, auc\n",
    "\n",
    "area = auc(recall1, precision1)\n",
    "\n",
    "f = f1_score(y_true, y_score_rf > 0.5 , average='micro')\n",
    "\n",
    "print('AUCPRC: {}'.format(area))\n",
    "print('f1 score: {}'.format(f))\n",
    "\n",
    "\n",
    "# precision_recall_curve returns precision  and recall as a array od shape = [n_thresholds + 1] \n",
    "thrs1.shape\n",
    "recall1.shape\n",
    "precision1.shape\n",
    "\n",
    "precision = precision1[:-1]\n",
    "recall = recall1[:-1]\n",
    "\n",
    "precision.shape\n",
    "recall.shape\n",
    "\n",
    "f_scores = 2 * (precision * recall) / (precision + recall)\n",
    "\n",
    "plt.plot(thrs1, precision, marker='.',label='precision');\n",
    "plt.plot(thrs1, recall, marker='.', label='recall');\n",
    "plt.plot(thrs1, f_scores, marker='.', label='f score');\n",
    "plt.legend();"
   ]
  },
  {
   "cell_type": "code",
   "execution_count": null,
   "metadata": {
    "hidden": true
   },
   "outputs": [],
   "source": []
  }
 ],
 "metadata": {
  "kernelspec": {
   "display_name": "Python [default]",
   "language": "python",
   "name": "python3"
  },
  "language_info": {
   "codemirror_mode": {
    "name": "ipython",
    "version": 3
   },
   "file_extension": ".py",
   "mimetype": "text/x-python",
   "name": "python",
   "nbconvert_exporter": "python",
   "pygments_lexer": "ipython3",
   "version": "3.6.5"
  }
 },
 "nbformat": 4,
 "nbformat_minor": 2
}
