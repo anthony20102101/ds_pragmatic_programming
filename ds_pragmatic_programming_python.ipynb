{
 "cells": [
  {
   "cell_type": "markdown",
   "metadata": {
    "ExecuteTime": {
     "end_time": "2018-09-11T18:09:18.303884Z",
     "start_time": "2018-09-11T18:09:18.300979Z"
    }
   },
   "source": [
    "# Data Science Pragmatic programming in Python\n",
    "\n",
    "\n",
    "Code snippets for quick consult (copy n paste)"
   ]
  },
  {
   "cell_type": "code",
   "execution_count": 1,
   "metadata": {
    "ExecuteTime": {
     "end_time": "2019-05-07T21:14:19.566157Z",
     "start_time": "2019-05-07T21:14:18.854185Z"
    }
   },
   "outputs": [],
   "source": [
    "import numpy as np\n",
    "import pandas as pd\n",
    "\n",
    "from scipy import stats\n",
    "\n",
    "import matplotlib\n",
    "import matplotlib.pyplot as plt\n",
    "%matplotlib inline \n",
    "\n",
    "import IPython\n",
    "from IPython.core.interactiveshell import InteractiveShell\n",
    "InteractiveShell.ast_node_interactivity = \"all\"\n"
   ]
  },
  {
   "cell_type": "code",
   "execution_count": 2,
   "metadata": {
    "ExecuteTime": {
     "end_time": "2019-05-07T21:14:19.686361Z",
     "start_time": "2019-05-07T21:14:19.568970Z"
    }
   },
   "outputs": [
    {
     "name": "stdout",
     "output_type": "stream",
     "text": [
      "/media/leandroohf/sdb1/leandro/ds_pragmatic_programming\r\n"
     ]
    }
   ],
   "source": [
    "!pwd"
   ]
  },
  {
   "cell_type": "markdown",
   "metadata": {
    "heading_collapsed": true
   },
   "source": [
    "## Bash"
   ]
  },
  {
   "cell_type": "markdown",
   "metadata": {
    "heading_collapsed": true,
    "hidden": true
   },
   "source": [
    "### Random sample"
   ]
  },
  {
   "cell_type": "code",
   "execution_count": null,
   "metadata": {
    "ExecuteTime": {
     "end_time": "2019-04-01T21:25:13.342795Z",
     "start_time": "2019-04-01T21:25:13.320892Z"
    },
    "hidden": true
   },
   "outputs": [],
   "source": [
    "%%bash \n",
    "# take random sample of lines in file (log analysys was useful)\n",
    "\n",
    "shuf data/FremontBridge.csv | head -n 3 \n"
   ]
  },
  {
   "cell_type": "markdown",
   "metadata": {
    "heading_collapsed": true,
    "hidden": true
   },
   "source": [
    "### Filter with grep"
   ]
  },
  {
   "cell_type": "code",
   "execution_count": null,
   "metadata": {
    "ExecuteTime": {
     "end_time": "2019-04-01T21:27:20.017282Z",
     "start_time": "2019-04-01T21:27:20.000616Z"
    },
    "hidden": true
   },
   "outputs": [],
   "source": [
    "%%bash \n",
    "\n",
    "# Use grep to filter out pattern\n",
    "cat data/FremontBridge.csv | grep -v 2013 | head -n 5\n",
    "\n",
    "echo\n",
    "# keep only 2013 and ignore case sensitive\n",
    "cat data/FremontBridge.csv | grep -i 2013 | head -n 5\n",
    "\n",
    "# Using regular expression (start with 12)\n",
    "echo\n",
    "cat data/FremontBridge.csv | grep -E \"^12\" | head -n 5"
   ]
  },
  {
   "cell_type": "markdown",
   "metadata": {
    "heading_collapsed": true,
    "hidden": true
   },
   "source": [
    "### run process in parralell"
   ]
  },
  {
   "cell_type": "code",
   "execution_count": null,
   "metadata": {
    "hidden": true
   },
   "outputs": [],
   "source": [
    "# Use pararlels to speedup bash"
   ]
  },
  {
   "cell_type": "markdown",
   "metadata": {
    "ExecuteTime": {
     "end_time": "2019-03-07T20:56:53.499721Z",
     "start_time": "2019-03-07T20:56:53.490921Z"
    }
   },
   "source": [
    "## Notebooks tricks \n"
   ]
  },
  {
   "cell_type": "markdown",
   "metadata": {},
   "source": [
    "* *Run notebook in remote jupyter server*"
   ]
  },
  {
   "cell_type": "code",
   "execution_count": null,
   "metadata": {
    "ExecuteTime": {
     "end_time": "2019-04-05T18:58:25.531398Z",
     "start_time": "2019-04-05T18:58:25.523618Z"
    }
   },
   "outputs": [],
   "source": [
    "%bash\n",
    "\n",
    "# run in thew remote machine\n",
    "jupyter notebook --no-browser --port 8889\n",
    "\n",
    "# run local machine\n",
    "ssh -N -f -L localhost:8888:localhost:8889 datalab@172.21.1.4\n",
    "\n",
    "# Copy token from the remote machine shell\n",
    "# access jupyter notebook\n",
    "http://localhost:8888/?token=054a85cc962d8c7ee5ba99517bfc5303020c7e2736f4b268\n"
   ]
  },
  {
   "cell_type": "markdown",
   "metadata": {
    "ExecuteTime": {
     "end_time": "2019-03-07T20:57:43.950467Z",
     "start_time": "2019-03-07T20:57:43.942384Z"
    }
   },
   "source": [
    "This can help with interacting with shell\n",
    "* share variables between python and bash cell"
   ]
  },
  {
   "cell_type": "code",
   "execution_count": null,
   "metadata": {
    "ExecuteTime": {
     "end_time": "2019-04-20T01:12:26.884256Z",
     "start_time": "2019-04-20T01:12:26.400777Z"
    }
   },
   "outputs": [],
   "source": [
    "python_var = 'test1'\n",
    "var_test2 = 10.3\n",
    "\n",
    "# Option 1\n",
    "data =  './mydata'\n",
    "\n",
    "!mkdir -p {data}"
   ]
  },
  {
   "cell_type": "code",
   "execution_count": null,
   "metadata": {
    "ExecuteTime": {
     "end_time": "2019-04-20T01:24:02.955660Z",
     "start_time": "2019-04-20T01:24:02.943768Z"
    }
   },
   "outputs": [],
   "source": [
    "%%bash -s \"$python_var\" \"$var_test2\" \"position_3\"\n",
    "\n",
    "echo $1\n",
    "echo $2\n",
    "echo $3\n",
    "echo $data ## will not work"
   ]
  },
  {
   "cell_type": "markdown",
   "metadata": {},
   "source": [
    "* define enviroment variable shared between bash cells"
   ]
  },
  {
   "cell_type": "code",
   "execution_count": null,
   "metadata": {
    "ExecuteTime": {
     "end_time": "2019-03-07T21:00:39.525129Z",
     "start_time": "2019-03-07T21:00:39.520079Z"
    }
   },
   "outputs": [],
   "source": [
    "%env MY_VAR=env_test_var\n",
    "%env  v1=$python_var"
   ]
  },
  {
   "cell_type": "code",
   "execution_count": null,
   "metadata": {
    "ExecuteTime": {
     "end_time": "2019-03-07T21:00:40.608121Z",
     "start_time": "2019-03-07T21:00:40.600269Z"
    }
   },
   "outputs": [],
   "source": [
    "%%bash \n",
    "\n",
    "echo $MY_VAR\n",
    "echo $v1"
   ]
  },
  {
   "cell_type": "markdown",
   "metadata": {},
   "source": [
    "* **Run R code in cell**"
   ]
  },
  {
   "cell_type": "code",
   "execution_count": 3,
   "metadata": {
    "ExecuteTime": {
     "end_time": "2019-05-07T21:14:23.345159Z",
     "start_time": "2019-05-07T21:14:22.886530Z"
    }
   },
   "outputs": [],
   "source": [
    "# enables the %%R magic, not necessary if you've already done this\n",
    "%load_ext rpy2.ipython\n",
    "\n",
    "import pandas as pd\n",
    "df = pd.DataFrame({\n",
    "    'cups_of_coffee': [0, 1, 2, 3, 4, 5, 6, 7, 8, 9],\n",
    "    'productivity': [2, 5, 6, 8, 9, 8, 0, 1, 0, -1]\n",
    "})"
   ]
  },
  {
   "cell_type": "code",
   "execution_count": 4,
   "metadata": {
    "ExecuteTime": {
     "end_time": "2019-05-07T21:14:25.873300Z",
     "start_time": "2019-05-07T21:14:23.541877Z"
    }
   },
   "outputs": [
    {
     "name": "stderr",
     "output_type": "stream",
     "text": [
      "/home/leandroohf/anaconda3/lib/python3.6/site-packages/rpy2/rinterface/__init__.py:145: RRuntimeWarning: Warning:\n",
      "  warnings.warn(x, RRuntimeWarning)\n",
      "/home/leandroohf/anaconda3/lib/python3.6/site-packages/rpy2/rinterface/__init__.py:145: RRuntimeWarning:  unable to access index for repository http://cran.us.r-project.org/src/contrib:\n",
      "  Line starting '<!DOCTYPE HTML PUBLI ...' is malformed!\n",
      "\n",
      "  warnings.warn(x, RRuntimeWarning)\n"
     ]
    },
    {
     "data": {
      "image/png": "[encoded data removed]"
     },
     "metadata": {},
     "output_type": "display_data"
    }
   ],
   "source": [
    "%%R -i df -w 3 -h 2 --units in -r 200\n",
    "# import df from global environment\n",
    "# make default figure size 3 by 3 inches with 200 dpi resolution\n",
    "\n",
    "install.packages(\"ggplot2\", repos='http://cran.us.r-project.org', quiet=TRUE)\n",
    "library(ggplot2)\n",
    "ggplot(df, aes(x=cups_of_coffee, y=productivity)) + geom_line()"
   ]
  },
  {
   "cell_type": "markdown",
   "metadata": {
    "heading_collapsed": true
   },
   "source": [
    "## Generate data \n",
    "\n",
    "* random numbers generation\n",
    "* generate data\n",
    "* load data sets (toy)\n",
    "\n",
    "http://scikit-learn.org/stable/datasets/index.html"
   ]
  },
  {
   "cell_type": "markdown",
   "metadata": {
    "heading_collapsed": true,
    "hidden": true
   },
   "source": [
    "### Gen random numbers\n",
    "\n",
    "* uniform\n",
    "* normal\n",
    "* multivariate\n",
    "* bolean\n",
    "* integer"
   ]
  },
  {
   "cell_type": "code",
   "execution_count": null,
   "metadata": {
    "ExecuteTime": {
     "end_time": "2018-09-12T00:53:28.393935Z",
     "start_time": "2018-09-12T00:53:28.346725Z"
    },
    "hidden": true
   },
   "outputs": [],
   "source": [
    "## random numbers\n",
    "np.random.seed(seed=2018)\n",
    "\n",
    "n = 3\n",
    "a = np.random.rand(n,n)\n",
    "\n",
    "# random boolean\n",
    "b = np.random.uniform(size=3) > .5\n",
    "b\n",
    "\n",
    "# uniform\n",
    "u = np.random.uniform(size=3)\n",
    "u\n",
    "\n",
    "# random int\n",
    "i = np.random.randint(0,9,size=3)\n",
    "i\n",
    "\n",
    "# random choice\n",
    "c = np.random.choice(['a','b','c','e'],size=7)\n",
    "c\n",
    "\n",
    "# normal\n",
    "n = np.random.normal(size=5)\n",
    "n\n",
    "\n",
    "# multivariated normal 2d;\n",
    "_mean = (1, 2)\n",
    "_cov = [[1, 0], [0, 1]]\n",
    "m = np.random.multivariate_normal(_mean, _cov, 3 )\n",
    "m.shape\n",
    "m"
   ]
  },
  {
   "cell_type": "markdown",
   "metadata": {
    "heading_collapsed": true,
    "hidden": true
   },
   "source": [
    "### Create dataframes"
   ]
  },
  {
   "cell_type": "code",
   "execution_count": null,
   "metadata": {
    "ExecuteTime": {
     "end_time": "2019-03-27T03:55:37.789517Z",
     "start_time": "2019-03-27T03:55:37.757067Z"
    },
    "hidden": true
   },
   "outputs": [],
   "source": [
    "data = {'col_1': [3, 2, 1, 0], 'col_2': ['a', 'b', 'c', 'd']}\n",
    "\n",
    "pd.DataFrame.from_dict(data)\n",
    "\n",
    "\n",
    "data = {'row_1': [3, 2, 1, 0], 'row_2': ['a', 'b', 'c', 'd']}\n",
    "pd.DataFrame.from_dict(data, orient='index')\n",
    "\n",
    "\n",
    "\n",
    "# HOW to fixe: If using all scalar values, you must pass an index\n",
    "# pd.DataFrame.from_dict({'col1': 1, 'col2': 3}) # <= RUN THIS LINE TO SEE THE ERROR\n",
    "#pd.DataFrame({'A': 1, 'B': 2}) # # <= RUN THIS LINE TO SEE THE ERROR\n",
    "pd.DataFrame({'A': 1, 'B': 2}, index=[0])\n",
    "\n",
    "# OR\n",
    "pd.DataFrame({'A': [1], 'B': [2]})"
   ]
  },
  {
   "cell_type": "markdown",
   "metadata": {
    "hidden": true
   },
   "source": [
    "### Gen data for classifications and clustering\n",
    "\n",
    "Shameless stolen from:\n",
    "http://scikit-learn.org/stable/auto_examples/datasets/plot_random_dataset.html#sphx-glr-auto-examples-datasets-plot-random-dataset-py\n"
   ]
  },
  {
   "cell_type": "markdown",
   "metadata": {
    "hidden": true
   },
   "source": [
    "* **make_classification** create multiclass datasets by allocating each class one or more **normally-distributed** clusters of points\n",
    "\n",
    "   make_classification introducing noise by way of: correlated, redundant and uninformative features; multiple Gaussian clusters per class; and linear transformations of the feature space."
   ]
  },
  {
   "cell_type": "code",
   "execution_count": null,
   "metadata": {
    "ExecuteTime": {
     "end_time": "2018-12-03T07:41:12.482847Z",
     "start_time": "2018-12-03T07:41:11.864863Z"
    },
    "code_folding": [],
    "hidden": true
   },
   "outputs": [],
   "source": [
    "## classification (normal distributed)\n",
    "from sklearn.datasets import make_classification\n",
    "\n",
    "plt.figure(figsize=(10, 15));\n",
    "\n",
    "plt.subplots_adjust(bottom=.05, top=.9, left=.05, right=.95);\n",
    "\n",
    "X1, Y1 = make_classification(n_features=2, n_redundant=0, n_informative=1,\n",
    "                             n_clusters_per_class=1)\n",
    "\n",
    "plt.subplot(321);\n",
    "plt.title(\"One informative feature, one cluster per class\", fontsize='small');\n",
    "plt.scatter(X1[:, 0], X1[:, 1], marker='o', c=Y1,\n",
    "            s=25, edgecolor='k')\n",
    "\n",
    "X1, Y1 = make_classification(n_features=2, n_redundant=0, n_informative=2,\n",
    "                             n_clusters_per_class=1)\n",
    "\n",
    "plt.subplot(322);\n",
    "plt.title(\"Two informative features, one cluster per class\", fontsize='small');\n",
    "\n",
    "plt.scatter(X1[:, 0], X1[:, 1], marker='o', c=Y1,\n",
    "            s=25, edgecolor='k');\n",
    "\n",
    "\n",
    "X2, Y2 = make_classification(n_features=2, n_redundant=0, n_informative=2)\n",
    "\n",
    "plt.subplot(323);\n",
    "plt.title(\"Two informative features, two clusters per class\",\n",
    "          fontsize='small');\n",
    "\n",
    "plt.scatter(X2[:, 0], X2[:, 1], marker='o', c=Y2,\n",
    "            s=25, edgecolor='k')\n",
    "\n",
    "\n",
    "X1, Y1 = make_classification(n_features=2, n_redundant=0, n_informative=2,\n",
    "                             n_clusters_per_class=1, n_classes=3)\n",
    "\n",
    "plt.subplot(324);\n",
    "plt.title(\"Multi-class, two informative features, one cluster\",\n",
    "          fontsize='small');\n",
    "\n",
    "plt.scatter(X1[:, 0], X1[:, 1], marker='o', c=Y1,\n",
    "            s=25, edgecolor='k');\n",
    "\n",
    "plt.show();"
   ]
  },
  {
   "cell_type": "markdown",
   "metadata": {
    "ExecuteTime": {
     "end_time": "2018-09-11T18:37:11.959944Z",
     "start_time": "2018-09-11T18:37:11.956913Z"
    },
    "hidden": true
   },
   "source": [
    "* **make_blobs**: Generate isotropic (uniformity in all orientations) Gaussian blobs for clustering. \n",
    "\n",
    "* **make_gaussian_quantiles**: Generate isotropic Gaussian and label samples by quantile"
   ]
  },
  {
   "cell_type": "code",
   "execution_count": null,
   "metadata": {
    "ExecuteTime": {
     "end_time": "2018-09-12T00:53:37.806512Z",
     "start_time": "2018-09-12T00:53:37.536558Z"
    },
    "code_folding": [],
    "hidden": true
   },
   "outputs": [],
   "source": [
    "## Blobs n gaussian qunatiles\n",
    "from sklearn.datasets import make_blobs\n",
    "from sklearn.datasets import make_gaussian_quantiles\n",
    "\n",
    "X1, Y1 = make_blobs(n_features=2, centers=3, random_state=2018)\n",
    "\n",
    "plt.figure(figsize=(11,5));\n",
    "\n",
    "ax1 = plt.subplot(121);\n",
    "plt.title(\"Three blobs\", fontsize='small');\n",
    "plt.scatter(X1[:, 0], X1[:, 1], marker='o', c=Y1,\n",
    "            s=25, edgecolor='k');\n",
    "\n",
    "X1, Y1 = make_gaussian_quantiles(n_features=2, n_classes=3,n_samples=256,random_state=2018)\n",
    "\n",
    "ax2 = plt.subplot(122);\n",
    "plt.title(\"Gaussian divided into three quantiles\", fontsize='small');\n",
    "\n",
    "plt.scatter(X1[:, 0], X1[:, 1], marker='o', c=Y1,\n",
    "            s=25, edgecolor='k');\n",
    "\n",
    "ax2.set_xlim(-4,4);\n",
    "ax2.set_ylim(-4,4);\n",
    "\n",
    "plt.show()"
   ]
  },
  {
   "cell_type": "markdown",
   "metadata": {
    "hidden": true
   },
   "source": [
    "* **make_circles**: Make a large circle containing a smaller circle in 2d.\n",
    "\n",
    "* **make_moons**: Make two interleaving half circles"
   ]
  },
  {
   "cell_type": "code",
   "execution_count": null,
   "metadata": {
    "ExecuteTime": {
     "end_time": "2018-09-12T00:53:41.025344Z",
     "start_time": "2018-09-12T00:53:40.817521Z"
    },
    "hidden": true
   },
   "outputs": [],
   "source": [
    "## Clustering\n",
    "from sklearn.datasets import make_moons, make_circles\n",
    "\n",
    "X, y = make_circles(n_samples=400, factor=.3, noise=.05, random_state=2018)\n",
    "\n",
    "# scatter plot of original and reduced data\n",
    "fig = plt.figure(figsize=(9, 8));\n",
    "\n",
    "ax1 = plt.subplot(121,aspect='equal');\n",
    "ax1.scatter(X[:, 0], X[:, 1], c=y, s=50, edgecolor='k');\n",
    "ax1.set_title(\"Circle Data (2d)\");\n",
    "ax1.set_xticks(());\n",
    "ax1.set_yticks(());\n",
    "\n",
    "\n",
    "X, y = make_moons(n_samples=400, noise=.05,random_state=2018)\n",
    "\n",
    "ax2 = plt.subplot(122,aspect='equal');\n",
    "ax2.scatter(X[:, 0], X[:, 1], c=y, s=50, edgecolor='k');\n",
    "ax2.set_title(\"Moons Data (2d)\");\n",
    "ax2.set_xticks(());\n",
    "ax2.set_yticks(());\n",
    "\n",
    "plt.tight_layout();\n",
    "plt.show;\n"
   ]
  },
  {
   "cell_type": "markdown",
   "metadata": {
    "hidden": true
   },
   "source": [
    "### Load data sets\n"
   ]
  },
  {
   "cell_type": "markdown",
   "metadata": {
    "hidden": true
   },
   "source": [
    "* **load_iris** Load and return the iris dataset (classification).\n",
    "\n",
    "<img src=\"images/iris_petal_sepal.png\" width=\"250\" align=\"left\"/>\n"
   ]
  },
  {
   "cell_type": "code",
   "execution_count": null,
   "metadata": {
    "ExecuteTime": {
     "end_time": "2018-09-12T00:53:47.632419Z",
     "start_time": "2018-09-12T00:53:47.487355Z"
    },
    "code_folding": [],
    "hidden": true
   },
   "outputs": [],
   "source": [
    "## datasets\n",
    "\n",
    "from sklearn.datasets import load_iris\n",
    "\n",
    "# Load the Iris flower dataset:\n",
    "iris = load_iris()\n",
    "X_iris = iris.data\n",
    "Y_iris = iris.target\n",
    "\n",
    "print('data size: {}'.format(X_iris.shape))\n",
    "print('features: {}'.format(iris.feature_names))\n",
    "print('labels: {}'.format(iris.target_names))\n",
    "\n",
    "print()\n",
    "\n",
    "plt.figure(2, figsize=(4, 3));\n",
    "plt.clf();\n",
    "\n",
    "# Plot \n",
    "plt.scatter(X_iris[:, 0], X_iris[:, 1], c=Y_iris, cmap=plt.cm.Set1,\n",
    "            edgecolor='k');\n",
    "plt.xlabel('Sepal length');\n",
    "plt.ylabel('Sepal width');"
   ]
  },
  {
   "cell_type": "markdown",
   "metadata": {
    "hidden": true
   },
   "source": [
    "* **load_boston**: Load and return the boston house-prices dataset (regression)."
   ]
  },
  {
   "cell_type": "code",
   "execution_count": null,
   "metadata": {
    "ExecuteTime": {
     "end_time": "2018-10-26T18:34:37.108941Z",
     "start_time": "2018-10-26T18:34:37.071503Z"
    },
    "hidden": true
   },
   "outputs": [],
   "source": [
    "# Boston house pricing\n",
    "\n",
    "from sklearn.datasets import load_boston\n",
    "\n",
    "boston = load_boston()\n",
    "\n",
    "print('data size: {}'.format(boston.data.shape))\n",
    "print('features: {}'.format(boston.feature_names))\n",
    "\n",
    "# convert to data frame (but may times is not necessary)\n",
    "boston_df = pd.DataFrame(boston.data)\n",
    "boston_df.columns = boston.feature_names\n",
    "\n",
    "boston_df['target'] = boston.target\n",
    "\n",
    "boston_df.head(4)"
   ]
  },
  {
   "cell_type": "code",
   "execution_count": null,
   "metadata": {
    "ExecuteTime": {
     "end_time": "2018-10-26T18:26:47.338288Z",
     "start_time": "2018-10-26T18:26:47.041497Z"
    },
    "hidden": true
   },
   "outputs": [],
   "source": [
    "data = pd.read_csv('data/phone_data.csv')\n",
    "\n",
    "data.shape\n",
    "data.head(5)"
   ]
  },
  {
   "cell_type": "markdown",
   "metadata": {},
   "source": [
    "## Read and write data\n",
    "\n",
    "* pandas\n",
    "* dict\n",
    "* file handle\n"
   ]
  },
  {
   "cell_type": "markdown",
   "metadata": {
    "ExecuteTime": {
     "end_time": "2018-11-15T23:24:46.074944Z",
     "start_time": "2018-11-15T23:24:46.071949Z"
    }
   },
   "source": [
    "### Pandas\n",
    "\n",
    "* read from compressed csv\n",
    "* read from sql db"
   ]
  },
  {
   "cell_type": "code",
   "execution_count": null,
   "metadata": {
    "ExecuteTime": {
     "end_time": "2019-04-02T00:50:57.696862Z",
     "start_time": "2019-04-02T00:50:57.468273Z"
    }
   },
   "outputs": [],
   "source": [
    "#See the first rows\n",
    "pd.read_csv('data/phone_data.csv', nrows=2).head()\n",
    "\n",
    "## load\n",
    "creditcard_df = pd.read_csv('data/creditcard_downsampled.csv.tar.bz2', compression='bz2', \n",
    "                            sep=',', quotechar='\"', index_col=False)\n",
    "\n",
    "\n",
    "creditcard_df.head(3)"
   ]
  },
  {
   "cell_type": "code",
   "execution_count": null,
   "metadata": {
    "ExecuteTime": {
     "end_time": "2018-11-15T23:23:36.850539Z",
     "start_time": "2018-11-15T23:23:36.702654Z"
    }
   },
   "outputs": [],
   "source": [
    "# reads form database\n",
    "import pandas as pd\n",
    "import sqlite3\n",
    "\n",
    "#conn = sqlite3.connect(\"data/flights.db\")\n",
    "with sqlite3.connect(\"data/flights.db\") as conn:\n",
    "    df = pd.read_sql_query(\"select * from airlines limit 11;\", conn)\n",
    "    \n",
    "df.head(3)"
   ]
  },
  {
   "cell_type": "code",
   "execution_count": null,
   "metadata": {
    "ExecuteTime": {
     "end_time": "2018-11-15T23:24:27.164758Z",
     "start_time": "2018-11-15T23:24:26.868410Z"
    }
   },
   "outputs": [],
   "source": [
    "df = pd.read_csv('data/phone_data.csv')\n",
    "df.head(3)"
   ]
  },
  {
   "cell_type": "markdown",
   "metadata": {},
   "source": [
    "### Basic and dict IO"
   ]
  },
  {
   "cell_type": "code",
   "execution_count": null,
   "metadata": {},
   "outputs": [],
   "source": [
    "!rm -v data/output.tsv"
   ]
  },
  {
   "cell_type": "markdown",
   "metadata": {},
   "source": [
    "* **Write txt file line by line**"
   ]
  },
  {
   "cell_type": "code",
   "execution_count": null,
   "metadata": {},
   "outputs": [],
   "source": [
    "# lazzy way\n",
    "for k in range(0,3):\n",
    "    \n",
    "    if k % 2 == 0:\n",
    "        print('Processing: {}'.format(k))\n",
    "\n",
    "    score =  np.random.normal(size=1)[0]\n",
    "    print(\"{k:d}\\t{score:.2f}\".format(k=k, score=score), file=open(\"data/output.tsv\", \"a\"))\n",
    "\n",
    "# better way\n",
    "with open('data/output.txt', 'a') as f:\n",
    "    for k in range(0,3):\n",
    "    \n",
    "        if k % 2 == 0:\n",
    "            print('Processing: {}'.format(k))\n",
    "\n",
    "        score =  np.random.normal(size=1)[0]\n",
    "        print(\"{k:d}\\t{score:.2f}\".format(k=k, score=score), file=f)\n"
   ]
  },
  {
   "cell_type": "code",
   "execution_count": null,
   "metadata": {},
   "outputs": [],
   "source": [
    "!cat data/output.tsv"
   ]
  },
  {
   "cell_type": "code",
   "execution_count": null,
   "metadata": {},
   "outputs": [],
   "source": [
    "import csv\n",
    "\n",
    "my_dict = {'key1': 'value_a', 'key2': 1, 'key3': 2.0}\n",
    "\n",
    "# write\n",
    "with open('data/dict.csv', 'w') as f:\n",
    "    [f.write('{0},{1}\\n'.format(key, value)) for key, value in my_dict.items()];\n",
    "\n",
    "\n",
    "# read\n",
    "with open('data/dict.csv', 'r') as csv_file:\n",
    "    \n",
    "    reader = csv.reader(csv_file)\n",
    "    my_dict2 = dict(reader)\n",
    "    \n",
    "my_dict2"
   ]
  },
  {
   "cell_type": "code",
   "execution_count": null,
   "metadata": {},
   "outputs": [],
   "source": [
    "!cat data/dict.csv"
   ]
  },
  {
   "cell_type": "code",
   "execution_count": null,
   "metadata": {},
   "outputs": [],
   "source": [
    "dict_list = [ {'key1': 1, 'key2': 'a'}, {'key1': 2, 'key2': 'b'}]\n",
    "\n",
    "fieldnames = dict_list[0].keys()\n",
    "\n",
    "# write\n",
    "with open('data/people.csv', 'w') as output_file:\n",
    "    dict_writer = csv.DictWriter(output_file, fieldnames=fieldnames)\n",
    "    dict_writer.writeheader()\n",
    "    dict_writer.writerows(dict_list)\n",
    "    \n",
    "# read\n",
    "with open('data/people.csv', mode='r') as infile:\n",
    "    \n",
    "    reader = csv.reader(infile)\n",
    "    _ = next(reader, None)  # skip the headers\n",
    "    mydict = [{'key1': rows[0], 'key2': rows[1]} for rows in reader]\n",
    "    \n",
    "mydict"
   ]
  },
  {
   "cell_type": "code",
   "execution_count": null,
   "metadata": {},
   "outputs": [],
   "source": [
    "!cat data/people.csv"
   ]
  },
  {
   "cell_type": "markdown",
   "metadata": {},
   "source": [
    "## Get data from internet "
   ]
  },
  {
   "cell_type": "code",
   "execution_count": null,
   "metadata": {
    "ExecuteTime": {
     "end_time": "2019-03-08T05:01:30.751603Z",
     "start_time": "2019-03-08T05:01:27.275688Z"
    }
   },
   "outputs": [],
   "source": [
    "!curl -o data/FremontBridge.csv https://data.seattle.gov/api/views/65db-xm6k/rows.csv?accessType=DOWNLOAD"
   ]
  },
  {
   "cell_type": "code",
   "execution_count": null,
   "metadata": {
    "ExecuteTime": {
     "end_time": "2019-03-08T05:01:44.151728Z",
     "start_time": "2019-03-08T05:01:33.234614Z"
    }
   },
   "outputs": [],
   "source": [
    "bikes = pd.read_csv('data/FremontBridge.csv', index_col='Date', parse_dates=True)\n",
    "bikes.head()"
   ]
  },
  {
   "cell_type": "markdown",
   "metadata": {},
   "source": [
    "## Data wrangler (Remember, 80% of the project time is spent here)\n",
    "\n",
    "\n",
    "[pandas cheat sheet](http://pandas.pydata.org/Pandas_Cheat_Sheet.pdf)"
   ]
  },
  {
   "cell_type": "markdown",
   "metadata": {},
   "source": [
    "refs:\n",
    "https://medium.com/dunder-data/selecting-subsets-of-data-in-pandas-6fcd0170be9c  \n",
    "\n",
    "https://github.com/tdpetrou/Learn-Pandas\n",
    "\n",
    "<img src=\"images/data_frame.png\" width=\"800\" align=\"left\"/>"
   ]
  },
  {
   "cell_type": "markdown",
   "metadata": {
    "heading_collapsed": true
   },
   "source": [
    "### Slicing or selection\n",
    "\n",
    "pandas terminology are the indexers that do selections or subsetting: \"[]\", .loc and .iloc"
   ]
  },
  {
   "cell_type": "code",
   "execution_count": null,
   "metadata": {
    "ExecuteTime": {
     "end_time": "2019-03-26T17:38:25.455822Z",
     "start_time": "2019-03-26T17:38:25.431864Z"
    },
    "hidden": true
   },
   "outputs": [],
   "source": [
    "data = {\n",
    "'state': ['NY','TX','FL','AL','AK','TX','TX' ],\n",
    "'color': ['blue','green','red','white','gray','black','red'],\n",
    "'food': [ 'Steak', 'Lamb', 'Mango', 'Apple', 'Cheese', 'Melon', 'Beans' ],\n",
    "'age': [ 30, 2, 12, 4, 32, 33, 69 ],\n",
    "'height': [ 165, 70, 120, 80, 180, 172, 150 ],\n",
    "'score': [ 4.6, 8.3, 9.0, 3.3, 1.8, 9.5, 2.2 ]\n",
    "}\n",
    "\n",
    "df = pd.DataFrame.from_dict(data, )\n",
    "df.index = ['Jane', 'Niko', 'Aaron', 'Penelope', 'Dean', 'Christina', 'Cornelia' ]\n",
    "\n",
    "values = df.values\n",
    "df\n",
    "\n",
    "df.columns\n",
    "values"
   ]
  },
  {
   "cell_type": "markdown",
   "metadata": {
    "hidden": true
   },
   "source": [
    "* *indexing operator: []**"
   ]
  },
  {
   "cell_type": "code",
   "execution_count": null,
   "metadata": {
    "ExecuteTime": {
     "end_time": "2019-03-26T17:41:39.660126Z",
     "start_time": "2019-03-26T17:41:39.640740Z"
    },
    "hidden": true
   },
   "outputs": [],
   "source": [
    "# returns a series\n",
    "# A Series is a one-dimensional sequence of labeled data. \n",
    "df['food']\n",
    "    \n",
    "# Select multiple columns as a DataFrame by passing a list to it\n",
    "# return dataframe\n",
    "# the order of the column does not matter for selecting\n",
    "df[['color', 'food', 'score']]"
   ]
  },
  {
   "cell_type": "markdown",
   "metadata": {
    "hidden": true
   },
   "source": [
    "* **.loc** subset rows and columns\n",
    "\n",
    "only selects data by the LABEL of the rows and columns.\n"
   ]
  },
  {
   "cell_type": "code",
   "execution_count": null,
   "metadata": {
    "ExecuteTime": {
     "end_time": "2019-03-26T17:49:45.762125Z",
     "start_time": "2019-03-26T17:49:45.726768Z"
    },
    "hidden": true
   },
   "outputs": [],
   "source": [
    "# Select rows  n returns serries\n",
    "df.loc['Niko']\n",
    "\n",
    "# select mutliple rows n return data frames\n",
    "df.loc[['Niko', 'Penelope']]\n",
    "\n",
    "\n",
    "# Slicing between range of rows\n",
    "df.loc['Niko':'Dean']\n",
    "\n",
    "# from begin to Aaron\n",
    "df.loc[:'Aaron']\n",
    "\n",
    "# from Dean to end\n",
    "df.loc['Dean':]\n",
    "\n",
    "# controling the step\n",
    "df.loc['Niko':'Christina':2]\n",
    "\n",
    "\n",
    "# selecting rows n columns\n",
    "# df.loc[row_selection, column_selection]\n",
    "df.loc[['Dean', 'Cornelia'], ['age', 'state', 'score']]\n"
   ]
  },
  {
   "cell_type": "markdown",
   "metadata": {
    "hidden": true
   },
   "source": [
    "* **.iloc**\n",
    "\n",
    "only uses integer locations to make its selections."
   ]
  },
  {
   "cell_type": "code",
   "execution_count": null,
   "metadata": {
    "ExecuteTime": {
     "end_time": "2019-03-26T18:00:47.280125Z",
     "start_time": "2019-03-26T18:00:47.100115Z"
    },
    "hidden": true
   },
   "outputs": [],
   "source": [
    "df.iloc[[5, 2, 4]]  \n",
    "\n",
    "df.iloc[3:5]\n",
    "\n",
    "# Select 3rd position to end by 2:\n",
    "df.iloc[3::2]\n",
    "\n",
    "# Select two rows and two columns:\n",
    "df.iloc[[2,3], [0, 4]]\n",
    "\n",
    "# slices for both axes\n",
    "df.iloc[2:5, 2:5]\n",
    "\n",
    "df.iloc[:,2:5]"
   ]
  },
  {
   "cell_type": "markdown",
   "metadata": {
    "hidden": true
   },
   "source": [
    "* Selecting hierarchical columns like the ones returned by grouby\n",
    "\n",
    "**TODO**: How to select multiple rows? "
   ]
  },
  {
   "cell_type": "code",
   "execution_count": null,
   "metadata": {
    "hidden": true
   },
   "outputs": [],
   "source": [
    "# Example\n",
    "df[('loading_time','median')]"
   ]
  },
  {
   "cell_type": "markdown",
   "metadata": {
    "heading_collapsed": true
   },
   "source": [
    "### Delete colum or row,  reset index,  convert to a type, concat dataframes and sort\n"
   ]
  },
  {
   "cell_type": "markdown",
   "metadata": {
    "hidden": true
   },
   "source": [
    "\n",
    "\n",
    "| Pandas dtype  | Python type | NumPy type                                                     | Usage        |\n",
    "|-------------- | ----------- | -------------------------------------------------------------- | -------------|\n",
    "| object        | str         | string_, unicode_                                              | Text         |\n",
    "| int64         | int         | int_, int8, int16, int32, int64, uint8, uint16, uint32, uint64 | Int,numbers  |\n",
    "| float64       | float       | float_, float16, float32, float64                              | Floa, numbers|\n",
    "| bool          | bool        | bool_                                                          | True/False   |\n",
    "| datetime64    | NA          | datetime64[ns]                                                 | Date n time  |\n",
    "| timedelta[ns] | NA          | NA                                                             | Dif btw times|\n",
    "| category      | NA          | NA                                                             | factors      |\n"
   ]
  },
  {
   "cell_type": "code",
   "execution_count": null,
   "metadata": {
    "ExecuteTime": {
     "end_time": "2019-03-09T00:03:53.127894Z",
     "start_time": "2019-03-09T00:03:53.098330Z"
    },
    "hidden": true
   },
   "outputs": [],
   "source": [
    "# drop columns\n",
    "df = df.drop(columns=['B', 'C'])\n",
    "\n",
    "#drop rows by index\n",
    "df = df.drop([0, 1])\n",
    "\n",
    "# reset index\n",
    "df = df.reset_index()\n",
    "\n",
    "# see the types\n",
    "df.dtypes\n",
    "\n",
    "# see more info <= BETTER THAN dtypes for inspection\n",
    "df.info()\n",
    "\n",
    "# convert to a type\n",
    "df['Customer Number'] = df['Customer Number'].astype('int')\n"
   ]
  },
  {
   "cell_type": "code",
   "execution_count": null,
   "metadata": {
    "hidden": true
   },
   "outputs": [],
   "source": [
    "pages_view = pd.concat(pages, ignore_index= True)"
   ]
  },
  {
   "cell_type": "code",
   "execution_count": null,
   "metadata": {
    "hidden": true
   },
   "outputs": [],
   "source": [
    "df.sort_values(['a', 'b'], ascending=[True, False])"
   ]
  },
  {
   "cell_type": "markdown",
   "metadata": {
    "heading_collapsed": true
   },
   "source": [
    "### Work with category (factors) data\n",
    "\n",
    "https://pbpython.com/categorical-encoding.html\n",
    "\n",
    "* How to convert to category\n",
    "* Label encoding\n",
    "* One hot encode\n",
    "*\n",
    "\n",
    "\n",
    "Only if I see values\n",
    "See this article http://www.willmcginnis.com/2015/11/29/beyond-one-hot-an-exploration-of-categorical-variables/\n",
    "and the package is here http://contrib.scikit-learn.org/categorical-encoding/\n",
    "    \n",
    "    "
   ]
  },
  {
   "cell_type": "markdown",
   "metadata": {
    "heading_collapsed": true
   },
   "source": [
    "### Missings"
   ]
  },
  {
   "cell_type": "code",
   "execution_count": null,
   "metadata": {
    "ExecuteTime": {
     "end_time": "2019-03-08T04:46:54.534947Z",
     "start_time": "2019-03-08T04:46:44.034255Z"
    },
    "hidden": true
   },
   "outputs": [],
   "source": [
    "bikes = pd.read_csv('data/FremontBridge.csv', index_col='Date', parse_dates=True)\n",
    "\n",
    "bikes.columns = ['West', 'East']\n",
    "\n",
    "bikes.shape\n",
    "\n",
    "bikes = bikes.dropna()\n",
    "bikes.shape\n",
    "\n",
    "bikes.head()"
   ]
  },
  {
   "cell_type": "markdown",
   "metadata": {
    "heading_collapsed": true
   },
   "source": [
    "### duplicates"
   ]
  },
  {
   "cell_type": "code",
   "execution_count": null,
   "metadata": {
    "ExecuteTime": {
     "end_time": "2019-04-08T22:55:55.100277Z",
     "start_time": "2019-04-08T22:55:55.053383Z"
    },
    "hidden": true
   },
   "outputs": [],
   "source": [
    "data = {'col_1': [3, 2, 3, 0], 'col_2': ['a', 'b', 'a', 'd']}\n",
    "\n",
    "df = pd.DataFrame.from_dict(data)\n",
    "df.head()\n",
    "\n",
    "# last or first <= default or False = drop all cases\n",
    "# subset to ignore olther columns while considering duplicated\n",
    "df = df.drop_duplicates(keep='last',subset=['col_1','col_2'])\n",
    "\n",
    "df.head()"
   ]
  },
  {
   "cell_type": "markdown",
   "metadata": {
    "ExecuteTime": {
     "end_time": "2018-12-03T07:31:05.742891Z",
     "start_time": "2018-12-03T07:31:05.736887Z"
    },
    "heading_collapsed": true
   },
   "source": [
    "### Path manipulations\n",
    "\n",
    "http://pbpython.com/pathlib-intro.html\n"
   ]
  },
  {
   "cell_type": "markdown",
   "metadata": {
    "hidden": true
   },
   "source": [
    "<img src=\"images/pathlib_cheatsheet_p1.png\" width=\"600\" align=\"left\"/>"
   ]
  },
  {
   "cell_type": "code",
   "execution_count": null,
   "metadata": {
    "ExecuteTime": {
     "end_time": "2018-12-03T07:35:23.231606Z",
     "start_time": "2018-12-03T07:35:23.211789Z"
    },
    "hidden": true
   },
   "outputs": [],
   "source": [
    "from pathlib import Path\n",
    "\n",
    "in_file_1 = Path.cwd() / \"in\" / \"input.xlsx\"\n",
    "\n",
    "p = Path.cwd()\n",
    "\n",
    "\n",
    "print('logical checks: is a dir , is a file?')\n",
    "p.is_dir()\n",
    "\n",
    "p.is_file()\n",
    "\n",
    "\n",
    "print('Get parts (split)')\n",
    "p.parts\n",
    "\n",
    "\n",
    "print('paths, parents ...')\n",
    "p.absolute()\n",
    "\n",
    "p.parent\n",
    "\n",
    "p.as_uri()\n"
   ]
  },
  {
   "cell_type": "markdown",
   "metadata": {},
   "source": [
    "### String manipulation \n",
    "\n",
    "\n",
    "* basic string manipulation\n",
    "* vectorized string manipulation\n",
    "  (take notes of the pros n crons)\n",
    "    \n",
    "    https://jakevdp.github.io/PythonDataScienceHandbook/03.10-working-with-strings.html\n",
    "        "
   ]
  },
  {
   "cell_type": "markdown",
   "metadata": {
    "heading_collapsed": true
   },
   "source": [
    "## Data summarizations and merge data"
   ]
  },
  {
   "cell_type": "markdown",
   "metadata": {
    "hidden": true
   },
   "source": [
    "### Summarize data\n",
    "\n",
    "\n",
    "* descriptive (tables)\n",
    "* groupby\n",
    "* count frequency \n"
   ]
  },
  {
   "cell_type": "code",
   "execution_count": null,
   "metadata": {
    "ExecuteTime": {
     "end_time": "2019-05-07T18:35:32.642754Z",
     "start_time": "2019-05-07T18:35:32.327759Z"
    },
    "hidden": true
   },
   "outputs": [],
   "source": [
    "data = pd.read_csv('./data/phone_data.csv')\n",
    "\n",
    "data.shape\n",
    "\n",
    "data.head(5)"
   ]
  },
  {
   "cell_type": "markdown",
   "metadata": {
    "hidden": true
   },
   "source": [
    "#### Count frequency"
   ]
  },
  {
   "cell_type": "code",
   "execution_count": null,
   "metadata": {
    "ExecuteTime": {
     "end_time": "2019-05-07T18:35:35.594665Z",
     "start_time": "2019-05-07T18:35:35.586566Z"
    },
    "hidden": true
   },
   "outputs": [],
   "source": [
    "data.item.unique()\n",
    "print()\n",
    "data.item.value_counts()"
   ]
  },
  {
   "cell_type": "markdown",
   "metadata": {
    "hidden": true
   },
   "source": [
    "#### Groupby\n"
   ]
  },
  {
   "cell_type": "markdown",
   "metadata": {
    "hidden": true
   },
   "source": [
    "\n",
    "Split-Apply-Combine\n",
    "\n",
    "<img src=\"images/split-apply-combine.png\" width=\"400\" align=\"left\"/>\n"
   ]
  },
  {
   "cell_type": "code",
   "execution_count": null,
   "metadata": {
    "ExecuteTime": {
     "end_time": "2019-05-07T18:36:41.326929Z",
     "start_time": "2019-05-07T18:36:41.275471Z"
    },
    "hidden": true
   },
   "outputs": [],
   "source": [
    "# Group the data frame by month and item and extract a number of stats from each group\n",
    "data.groupby(['month', 'item'], as_index=False).aggregate({\n",
    "                                 'duration': {'min': min, '1q': lambda x: np.percentile(x,25),'median': np.median,\n",
    "                                                          '3q': lambda x: np.percentile(x,75), 'max': max,\n",
    "                                                          'std': np.std, 'cv': lambda x: np.median(x)/np.std(x)},\n",
    "                                 'date':  'first',       # get the first date per group\n",
    "                                 'network_type': ['nunique', 'count']\n",
    "                                    }).sort_values(by=[('duration','min')],ascending=False, na_position='last').head(7)\n"
   ]
  },
  {
   "cell_type": "markdown",
   "metadata": {
    "hidden": true
   },
   "source": [
    "#### crosstab"
   ]
  },
  {
   "cell_type": "code",
   "execution_count": null,
   "metadata": {
    "ExecuteTime": {
     "end_time": "2018-12-03T06:31:58.058543Z",
     "start_time": "2018-12-03T06:31:57.994453Z"
    },
    "hidden": true
   },
   "outputs": [],
   "source": [
    "pd.crosstab(data.network_type, data.item, margins=True, margins_name=\"Total\")\n",
    "\n",
    "pd.crosstab(data.network_type, data.item, normalize=True)"
   ]
  },
  {
   "cell_type": "markdown",
   "metadata": {
    "hidden": true
   },
   "source": [
    "**comparing with groub by and pivot table**\n",
    "\n",
    "crosstabe is more easy to read and do not have the extr steps"
   ]
  },
  {
   "cell_type": "code",
   "execution_count": null,
   "metadata": {
    "ExecuteTime": {
     "end_time": "2018-12-03T06:36:33.987575Z",
     "start_time": "2018-12-03T06:36:33.936219Z"
    },
    "hidden": true
   },
   "outputs": [],
   "source": [
    "pd.crosstab(data.network_type, data.item)\n",
    "\n",
    "data.groupby(['network_type', 'item'])['network_type'].count().unstack().fillna(0)\n",
    "\n",
    "data.pivot_table(index='item', columns='network_type', aggfunc={'network_type':len}, fill_value=0)\n"
   ]
  },
  {
   "cell_type": "markdown",
   "metadata": {
    "ExecuteTime": {
     "end_time": "2018-12-03T06:42:36.398408Z",
     "start_time": "2018-12-03T06:42:36.392896Z"
    },
    "hidden": true
   },
   "source": [
    "#### pivot table\n",
    "\n",
    "http://pbpython.com/pandas-pivot-table-explained.html\n",
    "\n"
   ]
  },
  {
   "cell_type": "markdown",
   "metadata": {
    "hidden": true
   },
   "source": [
    "<img src=\"images/pivot-table-datasheet.png\" width=\"500\" align=\"left\"/>"
   ]
  },
  {
   "cell_type": "code",
   "execution_count": null,
   "metadata": {
    "ExecuteTime": {
     "end_time": "2018-12-03T06:49:40.134135Z",
     "start_time": "2018-12-03T06:49:40.091664Z"
    },
    "hidden": true,
    "scrolled": true
   },
   "outputs": [],
   "source": [
    "table = pd.pivot_table(data,index=[\"item\",\"network_type\"],\n",
    "               values=[\"duration\"],\n",
    "               aggfunc=[np.sum,np.mean],fill_value=0,margins=True)\n",
    "\n",
    "table"
   ]
  },
  {
   "cell_type": "code",
   "execution_count": null,
   "metadata": {
    "ExecuteTime": {
     "end_time": "2018-12-03T06:56:33.823133Z",
     "start_time": "2018-12-03T06:56:33.805852Z"
    },
    "hidden": true
   },
   "outputs": [],
   "source": [
    "table.query('network_type == [\"data\", \"sms\", \"mobile\"]')"
   ]
  },
  {
   "cell_type": "markdown",
   "metadata": {
    "hidden": true
   },
   "source": [
    "### Joins\n",
    "\n",
    "\n",
    "left , right n inner join\n",
    "\n",
    "| Merge method | SQL Join Name    | Description                               |  \n",
    "|--------------|----------------- |-------------------------------------------|  \n",
    "| left         | LEFT OUTER JOIN  | Use keys from left frame only             |  \n",
    "| right        | RIGHT OUTER JOIN | Use keys from right frame only            |  \n",
    "| outer        | FULL OUTER JOIN  | Use union of keys from both frames        |  \n",
    "| inner        | INNER JOIN       | Use intersection of keys from both frames |\n",
    "\n"
   ]
  },
  {
   "cell_type": "code",
   "execution_count": null,
   "metadata": {
    "ExecuteTime": {
     "end_time": "2018-11-19T22:43:45.755883Z",
     "start_time": "2018-11-19T22:43:45.710753Z"
    },
    "hidden": true
   },
   "outputs": [],
   "source": [
    "left = pd.DataFrame({'key1': ['K0', 'K0', 'K1', 'K2'],\n",
    "                     'key2': ['K0', 'K1', 'K0', 'K1'],\n",
    "                     'A': ['A0', 'A1', 'A2', 'A3'], \n",
    "                     'B': ['B0', 'B1', 'B2', 'B3']})\n",
    "\n",
    "\n",
    "right = pd.DataFrame({'key1': ['K0', 'K1', 'K1', 'K2'],\n",
    "                      'key2': ['K0', 'K0', 'K0', 'K0'],  \n",
    "                      'C': ['C0', 'C1', 'C2', 'C3'],\n",
    "                      'D': ['D0', 'D1', 'D2', 'D3']})\n",
    "\n",
    "result = pd.merge(left, right, how='left', on=['key1', 'key2'])\n",
    "\n",
    "left\n",
    "\n",
    "right\n",
    "\n",
    "result"
   ]
  },
  {
   "cell_type": "markdown",
   "metadata": {
    "hidden": true
   },
   "source": [
    "### Cartesian product or cross join"
   ]
  },
  {
   "cell_type": "code",
   "execution_count": null,
   "metadata": {
    "ExecuteTime": {
     "end_time": "2019-04-26T17:55:51.186981Z",
     "start_time": "2019-04-26T17:55:51.165505Z"
    },
    "hidden": true
   },
   "outputs": [],
   "source": [
    "df1 = pd.DataFrame({'key1': ['K0', 'K1', 'K2', 'K3'],\n",
    "                     'A': ['A0', 'A1', 'A2', 'A3']})\n",
    "\n",
    "\n",
    "df2 = pd.DataFrame({'key1': ['Q0', 'Q1', 'Q2', 'Q3'],\n",
    "                     'B': ['B0', 'B1', 'B2', 'B3']})\n",
    "\n",
    "\n",
    "# Add dummy key\n",
    "df1['_tmpkey'] = 1\n",
    "df2['_tmpkey'] = 1\n",
    "\n",
    "cartesian_df = pd.merge(df1[['_tmpkey',\"A\"]], df2[['_tmpkey',\"B\"]], on='_tmpkey').drop('_tmpkey', axis=1)\n",
    "#cartesian_df.index = pd.MultiIndex.from_product((df1.index, df2.index))\n",
    "cartesian_df = cartesian_df.reset_index(drop=True)\n",
    "\n",
    "df1.drop('_tmpkey', axis=1, inplace=True)\n",
    "df2.drop('_tmpkey', axis=1, inplace=True)\n",
    "\n",
    "\n",
    "cartesian_df.head(11)"
   ]
  },
  {
   "cell_type": "markdown",
   "metadata": {
    "hidden": true
   },
   "source": [
    "### High performance eval n query\n",
    "\n",
    "https://jakevdp.github.io/PythonDataScienceHandbook/03.12-performance-eval-and-query.html\n",
    "\n",
    "Motivations\n",
    "for large df n arrays eval n query are faster\n"
   ]
  },
  {
   "cell_type": "markdown",
   "metadata": {
    "heading_collapsed": true
   },
   "source": [
    "## Time Series\n",
    "\n",
    "https://jakevdp.github.io/PythonDataScienceHandbook/03.11-working-with-time-series.html\n"
   ]
  },
  {
   "cell_type": "markdown",
   "metadata": {
    "hidden": true
   },
   "source": [
    "### Data wrangler"
   ]
  },
  {
   "cell_type": "markdown",
   "metadata": {
    "heading_collapsed": true,
    "hidden": true
   },
   "source": [
    "#### Date manipulation"
   ]
  },
  {
   "cell_type": "code",
   "execution_count": null,
   "metadata": {
    "ExecuteTime": {
     "end_time": "2018-10-25T19:25:36.135120Z",
     "start_time": "2018-10-25T19:25:36.101863Z"
    },
    "hidden": true
   },
   "outputs": [],
   "source": [
    "from datetime import datetime\n",
    "from dateutil import parser\n",
    "\n",
    "date = datetime(year=2015, month=7, day=4)\n",
    "date\n",
    "\n",
    "date = parser.parse(\"4th of July, 2015\")\n",
    "date\n",
    "\n",
    "date = pd.to_datetime(\"4th of July, 2015\")\n",
    "date\n",
    "\n",
    "\n",
    "date = np.array('2015-07-04', dtype=np.datetime64)\n",
    "date\n",
    "\n",
    "date + np.arange(3)\n"
   ]
  },
  {
   "cell_type": "markdown",
   "metadata": {
    "hidden": true
   },
   "source": [
    "**Pandas freq meanings**\n",
    "\n",
    "* D\tCalendar day\t\n",
    "* W\tWeekly\t\t\n",
    "* M\tMonth end\t\n",
    "* Q\tQuarter end\t\n",
    "* A\tYear end\t\n",
    "* H\tHours\t\n",
    "* T\tMinutes\t\t\n",
    "* S\tSeconds\t\t\n",
    "* L\tMilliseonds\t\t\n",
    "* U\tMicroseconds\t\t\n",
    "* N\tnanoseconds\n",
    "* B\tBusiness day\n",
    "* BM\tBusiness month end\n",
    "* BQ\tBusiness quarter end\n",
    "* BA\tBusiness year end\n",
    "* BH\tBusiness hours"
   ]
  },
  {
   "cell_type": "code",
   "execution_count": null,
   "metadata": {
    "ExecuteTime": {
     "end_time": "2018-10-25T19:31:52.578678Z",
     "start_time": "2018-10-25T19:31:52.558550Z"
    },
    "hidden": true
   },
   "outputs": [],
   "source": [
    "pd.date_range('2015-07-03', periods=3, freq='D')\n",
    "\n",
    "pd.period_range('2015-11', periods=3, freq='M')\n",
    "\n",
    "pd.timedelta_range(0, periods=3, freq='H')"
   ]
  },
  {
   "cell_type": "markdown",
   "metadata": {
    "hidden": true
   },
   "source": [
    "#### Indexing dataframe by date\n",
    "\n",
    "It is useful because you can pass any valu that can be coerced into dates:"
   ]
  },
  {
   "cell_type": "code",
   "execution_count": null,
   "metadata": {
    "ExecuteTime": {
     "end_time": "2019-03-08T01:48:56.037657Z",
     "start_time": "2019-03-08T01:48:56.024864Z"
    },
    "hidden": true
   },
   "outputs": [],
   "source": [
    "index = pd.DatetimeIndex(['2014-07-04', '2014-08-04',\n",
    "                          '2015-07-04', '2015-08-04'])\n",
    "data = pd.Series([0, 1, 2, 3], index=index)\n",
    "data"
   ]
  },
  {
   "cell_type": "code",
   "execution_count": null,
   "metadata": {
    "ExecuteTime": {
     "end_time": "2019-03-08T01:49:59.135387Z",
     "start_time": "2019-03-08T01:49:59.121520Z"
    },
    "hidden": true
   },
   "outputs": [],
   "source": [
    "print('Filter by selected days')\n",
    "data['2014-07-04':'2015-07-04']\n",
    "print()\n",
    "\n",
    "print('get all rows in a year')\n",
    "data['2015']"
   ]
  },
  {
   "cell_type": "code",
   "execution_count": null,
   "metadata": {
    "ExecuteTime": {
     "end_time": "2019-03-08T04:30:05.902477Z",
     "start_time": "2019-03-08T04:30:03.824686Z"
    },
    "hidden": true
   },
   "outputs": [],
   "source": [
    "import quandl\n",
    "import datetime\n",
    "\n",
    "# We will look at stock prices over the past year, starting at January 1, 2016\n",
    "start = datetime.datetime(2004,1,1)\n",
    "end = datetime.date.today()\n",
    "\n",
    "s = \"AAPL\"\n",
    "apple = quandl.get(\"WIKI/\" + s, start_date=start, end_date=end)\n",
    " \n",
    "type(apple)\n",
    "\n",
    "apple.head(3)"
   ]
  },
  {
   "cell_type": "code",
   "execution_count": null,
   "metadata": {
    "ExecuteTime": {
     "end_time": "2019-03-08T04:30:08.766723Z",
     "start_time": "2019-03-08T04:30:08.562256Z"
    },
    "hidden": true
   },
   "outputs": [],
   "source": [
    "import matplotlib.pyplot as plt\n",
    "import seaborn; seaborn.set()\n",
    "\n",
    "apple.plot(y='Open');"
   ]
  },
  {
   "cell_type": "markdown",
   "metadata": {
    "hidden": true
   },
   "source": [
    "### resampling\n",
    "\n",
    "see pandas frequency legends  \n",
    "BA =>  Business year end\n"
   ]
  },
  {
   "cell_type": "code",
   "execution_count": null,
   "metadata": {
    "ExecuteTime": {
     "end_time": "2019-03-08T04:31:06.507607Z",
     "start_time": "2019-03-08T04:31:06.260671Z"
    },
    "hidden": true
   },
   "outputs": [],
   "source": [
    "apple = apple.Close\n",
    "\n",
    "apple.plot(alpha=0.5, style='-')\n",
    "apple.resample('BA').mean().plot(style=':')\n",
    "apple.asfreq('BA').plot(style='--');\n",
    "plt.legend(['input', 'resample', 'asfreq'],\n",
    "           loc='upper left');"
   ]
  },
  {
   "cell_type": "markdown",
   "metadata": {
    "hidden": true
   },
   "source": [
    "**Summarize data: daily, weekly n monthly **\n"
   ]
  },
  {
   "cell_type": "code",
   "execution_count": null,
   "metadata": {
    "ExecuteTime": {
     "end_time": "2019-03-08T04:33:07.773218Z",
     "start_time": "2019-03-08T04:33:07.650461Z"
    },
    "hidden": true
   },
   "outputs": [],
   "source": [
    "daily = apple.resample('D').sum()\n",
    "weekly = apple.resample('W').sum()\n",
    "monthly = apple.resample('M').sum()\n",
    "quartely = apple.resample('Q').sum()\n",
    "\n",
    "type(weekly)\n",
    "weekly.head(5)\n",
    "\n",
    "print()\n",
    "monthly.head(3)\n",
    "\n",
    "print()\n",
    "quartely.head(3)"
   ]
  },
  {
   "cell_type": "code",
   "execution_count": null,
   "metadata": {
    "ExecuteTime": {
     "end_time": "2019-03-08T04:33:36.039499Z",
     "start_time": "2019-03-08T04:33:35.842398Z"
    },
    "hidden": true
   },
   "outputs": [],
   "source": [
    "weekly.plot(style=[':', '--', '-'])\n",
    "plt.ylabel('Weekly bicycle count');"
   ]
  },
  {
   "cell_type": "markdown",
   "metadata": {
    "hidden": true
   },
   "source": [
    "#### Rolling windows (TODO)\n",
    "https://jakevdp.github.io/PythonDataScienceHandbook/03.11-working-with-time-series.html"
   ]
  },
  {
   "cell_type": "code",
   "execution_count": null,
   "metadata": {
    "ExecuteTime": {
     "end_time": "2019-03-08T04:09:47.383382Z",
     "start_time": "2019-03-08T04:09:47.133646Z"
    },
    "hidden": true
   },
   "outputs": [],
   "source": [
    "rolling = apple.rolling(182, center=True)\n",
    "\n",
    "data = pd.DataFrame({'input': apple,\n",
    "                     'one-year rolling_mean': rolling.mean(),\n",
    "                     'one-year rolling_std': rolling.std()})\n",
    "ax = data.plot(style=['-', '--', ':'])\n",
    "ax.lines[0].set_alpha(0.3)"
   ]
  },
  {
   "cell_type": "markdown",
   "metadata": {
    "hidden": true
   },
   "source": [
    "**Get smoother version of a rolling mean using a window function–for example, a Gaussian window.**"
   ]
  },
  {
   "cell_type": "code",
   "execution_count": null,
   "metadata": {
    "ExecuteTime": {
     "end_time": "2019-03-08T04:31:12.818428Z",
     "start_time": "2019-03-08T04:31:12.541914Z"
    },
    "hidden": true
   },
   "outputs": [],
   "source": [
    "\n",
    "daily.rolling(30, center=True).sum().plot(style=[':', '--', '-'])\n",
    "plt.ylabel('mean hourly count');\n",
    "\n",
    "\n",
    "# smotth version\n",
    "daily.rolling(50, center=True,\n",
    "              win_type='gaussian').sum(std=10).plot(style=[':', '--', '-']);\n"
   ]
  },
  {
   "cell_type": "markdown",
   "metadata": {
    "heading_collapsed": true,
    "hidden": true
   },
   "source": [
    "### lag (shift) operations\n",
    "\n",
    "shift is specified in multiples of the frequency. So we need to set it first\n"
   ]
  },
  {
   "cell_type": "code",
   "execution_count": null,
   "metadata": {
    "ExecuteTime": {
     "end_time": "2019-03-08T04:15:23.877223Z",
     "start_time": "2019-03-08T04:15:23.646284Z"
    },
    "hidden": true
   },
   "outputs": [],
   "source": [
    "# apply a frequency to the data\n",
    "apple = apple.asfreq('D', method='pad')\n",
    "\n",
    "ROI = 100 * (apple.tshift(-365) / apple - 1)\n",
    "ROI.plot()\n",
    "plt.ylabel('% Return on Investment');"
   ]
  },
  {
   "cell_type": "markdown",
   "metadata": {
    "hidden": true
   },
   "source": [
    "### Aggregation n group by\n",
    "\n",
    "\n",
    "data is bike sharing in seattle\n",
    "\n",
    "\n",
    "we  can use aggregation to see sazonality in the data"
   ]
  },
  {
   "cell_type": "code",
   "execution_count": null,
   "metadata": {
    "ExecuteTime": {
     "end_time": "2019-03-08T04:54:48.510988Z",
     "start_time": "2019-03-08T04:54:37.482924Z"
    },
    "hidden": true
   },
   "outputs": [],
   "source": [
    "bikes = pd.read_csv('data/FremontBridge.csv', index_col='Date', parse_dates=True)\n",
    "\n",
    "bikes.columns = ['West', 'East']\n",
    "bikes['Total'] = bikes.eval('West + East')\n",
    "\n",
    "bikes.head()"
   ]
  },
  {
   "cell_type": "code",
   "execution_count": null,
   "metadata": {
    "ExecuteTime": {
     "end_time": "2019-03-08T04:42:56.341130Z",
     "start_time": "2019-03-08T04:42:56.300102Z"
    },
    "hidden": true
   },
   "outputs": [],
   "source": [
    "bikes.dropna().describe()"
   ]
  },
  {
   "cell_type": "code",
   "execution_count": null,
   "metadata": {
    "ExecuteTime": {
     "end_time": "2019-03-08T04:56:38.007440Z",
     "start_time": "2019-03-08T04:56:37.797502Z"
    },
    "hidden": true
   },
   "outputs": [],
   "source": [
    "by_time = bikes.groupby(bikes.index.time).mean()\n",
    "hourly_ticks = 4 * 60 * 60 * np.arange(6)\n",
    "by_time.plot(xticks=hourly_ticks, style=[':', '--', '-']);"
   ]
  },
  {
   "cell_type": "markdown",
   "metadata": {
    "hidden": true
   },
   "source": [
    "The hourly traffic is a strongly bimodal distribution, with peaks around 8:00 in the morning and 5:00 in the evening. This is likely evidence of a strong component of commuter traffic crossing the bridge. "
   ]
  },
  {
   "cell_type": "code",
   "execution_count": null,
   "metadata": {
    "ExecuteTime": {
     "end_time": "2019-03-08T04:57:33.327440Z",
     "start_time": "2019-03-08T04:57:33.183032Z"
    },
    "hidden": true
   },
   "outputs": [],
   "source": [
    "by_weekday = bikes.groupby(bikes.index.dayofweek).mean()\n",
    "by_weekday.index = ['Mon', 'Tues', 'Wed', 'Thurs', 'Fri', 'Sat', 'Sun']\n",
    "by_weekday.plot(style=[':', '--', '-']);"
   ]
  },
  {
   "cell_type": "markdown",
   "metadata": {
    "hidden": true
   },
   "source": [
    "This shows a strong distinction between weekday and weekend totals, with around twice as many average riders crossing the bridge on Monday through Friday than on Saturday and Sunday.\n",
    "\n",
    "\n",
    "With this in mind, let's do a compound GroupBy and look at the hourly trend on weekdays versus weekends.\n"
   ]
  },
  {
   "cell_type": "code",
   "execution_count": null,
   "metadata": {
    "ExecuteTime": {
     "end_time": "2019-03-08T04:59:29.208381Z",
     "start_time": "2019-03-08T04:59:29.144279Z"
    },
    "hidden": true
   },
   "outputs": [],
   "source": [
    "weekend = np.where(bikes.index.weekday < 5, 'Weekday', 'Weekend')\n",
    "by_time = bikes.groupby([weekend, bikes.index.time]).mean()\n"
   ]
  },
  {
   "cell_type": "code",
   "execution_count": null,
   "metadata": {
    "ExecuteTime": {
     "end_time": "2019-03-08T05:00:00.093909Z",
     "start_time": "2019-03-08T04:59:59.792573Z"
    },
    "hidden": true
   },
   "outputs": [],
   "source": [
    "import matplotlib.pyplot as plt\n",
    "fig, ax = plt.subplots(1, 2, figsize=(14, 5));\n",
    "by_time.ix['Weekday'].plot(ax=ax[0], title='Weekdays',\n",
    "                           xticks=hourly_ticks, style=[':', '--', '-']);\n",
    "by_time.ix['Weekend'].plot(ax=ax[1], title='Weekends',\n",
    "                           xticks=hourly_ticks, style=[':', '--', '-']);"
   ]
  },
  {
   "cell_type": "markdown",
   "metadata": {
    "ExecuteTime": {
     "end_time": "2019-03-07T21:07:04.863540Z",
     "start_time": "2019-03-07T21:07:04.855274Z"
    },
    "heading_collapsed": true
   },
   "source": [
    "## NLP\n"
   ]
  },
  {
   "cell_type": "markdown",
   "metadata": {
    "hidden": true
   },
   "source": [
    "TODO: \n",
    "\n",
    "ADD explanations of the terms in NLP\n",
    "\n",
    "1. corpora\n",
    "2. semantics\n",
    "3. stop words\n",
    "4. n-gram\n",
    "5. skip_grma\n",
    "\n",
    "\n",
    "TODO: ADD Code to do \n",
    "    \n",
    "1. bag of words\n",
    "2. use wrodvec\n",
    "3. glove\n"
   ]
  },
  {
   "cell_type": "markdown",
   "metadata": {
    "heading_collapsed": true
   },
   "source": [
    "## Graph Data\n",
    "\n",
    "TODO:\n",
    "\n",
    "1. Create graphs from tables\n",
    "2. Get connected components\n",
    "3. Graph visualizations\n"
   ]
  },
  {
   "cell_type": "markdown",
   "metadata": {},
   "source": [
    "## Geo located data"
   ]
  },
  {
   "cell_type": "markdown",
   "metadata": {},
   "source": [
    "\n",
    "TODO:\n",
    "\n",
    "1. Read images\n",
    "2. combine raster n data images with vectorial images\n",
    "3. do kring interpolation in a sparse data\n"
   ]
  },
  {
   "cell_type": "markdown",
   "metadata": {},
   "source": [
    "## Neural network\n",
    "\n"
   ]
  },
  {
   "cell_type": "markdown",
   "metadata": {
    "ExecuteTime": {
     "end_time": "2018-10-27T00:05:22.990380Z",
     "start_time": "2018-10-27T00:05:22.977717Z"
    },
    "heading_collapsed": true
   },
   "source": [
    "## Visualizations\n"
   ]
  },
  {
   "cell_type": "markdown",
   "metadata": {
    "hidden": true
   },
   "source": [
    "\n",
    "Plotly does not work vercy well with large data (too slow), at least with jupyter  notebook\n",
    "https://plot.ly/python/ipython-notebook-tutorial/\n",
    "\n",
    "about license offiline plotly\n",
    "https://stackoverflow.com/questions/35511111/plotly-python-totally-free\n",
    "\n",
    "1. free\n",
    "2. open source\n",
    "\n",
    "All the libraries API; Matlab, Python n R alwasy were free. pltly.js only form 2015\n",
    "\n",
    "The Accounts you can create on their website are just to host graphs online. Like with a free account you can host one private graph, with a professional account you can host unlimited private/public graphs\n",
    "\n",
    "\n",
    "### Interactive plots  (good to examine the data)\n",
    "\n",
    "    1. Scatter plot\n",
    "    2. Boxplot per category n try the width is sample size\n",
    "    3. Histograms subplot\n",
    "    4. financial data https://help.plot.ly/make-a-candlestick/ candles and select periodo tool\n",
    "    5. maps (geo located plots)\n",
    "    6. tables with filters \n",
    "    7. mini plot inside a plot https://help.plot.ly/getting-data/\n",
    "    8. network graphs: https://plot.ly/python/network-graphs/\n",
    "\n",
    "\n",
    "### Analysis plots\n",
    "\n",
    "    1. correlation matrix with scatter plot\n",
    "    2. pair plot"
   ]
  },
  {
   "cell_type": "markdown",
   "metadata": {
    "hidden": true
   },
   "source": [
    "### Load data"
   ]
  },
  {
   "cell_type": "code",
   "execution_count": null,
   "metadata": {
    "ExecuteTime": {
     "end_time": "2019-05-01T18:37:05.259394Z",
     "start_time": "2019-05-01T18:37:05.103104Z"
    },
    "hidden": true
   },
   "outputs": [],
   "source": [
    "from sklearn.datasets import load_iris\n",
    "\n",
    "# Load the Iris flower dataset:\n",
    "iris = load_iris()\n",
    "\n",
    "iris_df = pd.DataFrame(iris.data)\n",
    "iris_df.columns = iris.feature_names\n",
    "\n",
    "iris_df['target'] = iris.target\n",
    "\n",
    "iris_df['target_name'] = iris_df.target.map(lambda t: iris.target_names[int(t)])\n",
    "\n",
    "iris_df.columns\n",
    "iris_df.head(3)"
   ]
  },
  {
   "cell_type": "markdown",
   "metadata": {
    "hidden": true
   },
   "source": [
    "### Corr plots, pair plots and heat map plots"
   ]
  },
  {
   "cell_type": "code",
   "execution_count": null,
   "metadata": {
    "ExecuteTime": {
     "end_time": "2019-05-01T18:52:39.619956Z",
     "start_time": "2019-05-01T18:52:38.078052Z"
    },
    "hidden": true
   },
   "outputs": [],
   "source": [
    "import seaborn as sns\n",
    "\n",
    "sns.pairplot(iris_df.loc[:,iris_df.dtypes == 'float64'])"
   ]
  },
  {
   "cell_type": "code",
   "execution_count": null,
   "metadata": {
    "ExecuteTime": {
     "end_time": "2019-05-01T18:53:46.159736Z",
     "start_time": "2019-05-01T18:53:45.949150Z"
    },
    "hidden": true
   },
   "outputs": [],
   "source": [
    "corr = iris_df.loc[:,iris_df.dtypes == 'float64'].corr()\n",
    "sns.heatmap(corr, xticklabels=corr.columns, yticklabels=corr.columns, \n",
    "            cmap=sns.diverging_palette(220, 10, as_cmap=True))"
   ]
  },
  {
   "cell_type": "markdown",
   "metadata": {
    "hidden": true
   },
   "source": []
  },
  {
   "cell_type": "markdown",
   "metadata": {
    "heading_collapsed": true,
    "hidden": true
   },
   "source": [
    "### Boxplot"
   ]
  },
  {
   "cell_type": "markdown",
   "metadata": {
    "hidden": true
   },
   "source": [
    "**plotly does not support boxplot width proportional to variable or sample size**"
   ]
  },
  {
   "cell_type": "code",
   "execution_count": null,
   "metadata": {
    "ExecuteTime": {
     "end_time": "2019-05-01T18:37:09.450723Z",
     "start_time": "2019-05-01T18:37:07.661543Z"
    },
    "hidden": true
   },
   "outputs": [],
   "source": [
    "## offline plot\n",
    "import plotly\n",
    "import plotly.graph_objs as go\n",
    "from plotly.offline import download_plotlyjs, init_notebook_mode, plot, iplot\n",
    "\n",
    "init_notebook_mode(connected=True)\n",
    "\n",
    "data = []\n",
    "\n",
    "for tn in iris_df.target_name.unique():\n",
    "    \n",
    "    df = iris_df[iris_df.target_name == tn]\n",
    "    print('size of group {}: {}'.format(tn, df.shape[0]))\n",
    "    \n",
    "    data.append(  go.Box( y=df['sepal length (cm)'] , name=str(tn), showlegend=False ) )\n",
    "\n",
    "plotly.offline.iplot(data)"
   ]
  },
  {
   "cell_type": "code",
   "execution_count": null,
   "metadata": {
    "ExecuteTime": {
     "end_time": "2019-05-01T18:37:10.553740Z",
     "start_time": "2019-05-01T18:37:10.484166Z"
    },
    "hidden": true
   },
   "outputs": [],
   "source": [
    "data = []\n",
    "\n",
    "for tn in iris_df.target_name.unique():\n",
    "    \n",
    "    df = iris_df[iris_df.target_name == tn]\n",
    "    print('size of group {}: {}'.format(tn, df.shape[0]))\n",
    "    \n",
    "    data.append(  go.Box( x=df['sepal length (cm)'] , name=str(tn), showlegend=False ) )\n",
    "\n",
    "plotly.offline.iplot(data)"
   ]
  },
  {
   "cell_type": "code",
   "execution_count": null,
   "metadata": {
    "ExecuteTime": {
     "end_time": "2019-03-21T21:21:35.269127Z",
     "start_time": "2019-03-21T21:21:33.893310Z"
    },
    "hidden": true
   },
   "outputs": [],
   "source": [
    "iris_df.boxplot(column=['sepal length (cm)', 'sepal width (cm)', 'petal length (cm)'],\n",
    "               figsize=(10,4));\n",
    "\n",
    "print()\n",
    "# The iris is not a good example for this visualization because the classes are balanced\n",
    "# This is better in ggplot n R\n",
    "dfg = iris_df.groupby('target_name')\n",
    "\n",
    "counts = [len(v) for k, v in dfg]\n",
    "total = float(sum(counts))\n",
    "cases = len(counts)\n",
    "\n",
    "widths = [c/total for c in counts] \n",
    "\n",
    "ax = iris_df.boxplot(by='target_name', \n",
    "                column=['sepal length (cm)'],\n",
    "                widths=widths,\n",
    "                   figsize=(10,4));\n",
    "\n",
    "ax.set_xticklabels(['%s\\n$n$=%d'%(k, len(v)) for k, v in dfg])\n",
    "\n",
    "print()\n",
    "ax = iris_df.boxplot(by='target_name', \n",
    "                column=['sepal length (cm)', 'sepal width (cm)', 'petal length (cm)'],\n",
    "               figsize=(10,8));"
   ]
  },
  {
   "cell_type": "markdown",
   "metadata": {
    "heading_collapsed": true,
    "hidden": true
   },
   "source": [
    "### Histograms"
   ]
  },
  {
   "cell_type": "code",
   "execution_count": null,
   "metadata": {
    "ExecuteTime": {
     "end_time": "2019-03-21T21:21:38.060179Z",
     "start_time": "2019-03-21T21:21:37.788920Z"
    },
    "hidden": true
   },
   "outputs": [],
   "source": [
    "x = iris_df['sepal length (cm)']\n",
    "data = [ go.Histogram(x=x, nbinsx=8) ]\n",
    "\n",
    "# trace3 = go.Histogram(\n",
    "#     x=x,\n",
    "#     xbins=dict(\n",
    "#         start='1969-11-15',\n",
    "#         end='1972-03-31',\n",
    "#         size= 'M18'),\n",
    "#     autobinx = False\n",
    "# )\n",
    "\n",
    "plotly.offline.iplot(data)"
   ]
  },
  {
   "cell_type": "code",
   "execution_count": null,
   "metadata": {
    "ExecuteTime": {
     "end_time": "2019-03-21T21:23:36.847868Z",
     "start_time": "2019-03-21T21:23:36.836276Z"
    },
    "hidden": true
   },
   "outputs": [],
   "source": [
    "# Get the hist n bind edges\n",
    "hist, bin_edges = np.histogram(iris_df['sepal length (cm)'], density=True)\n",
    "\n",
    "hist\n",
    "bin_edges\n"
   ]
  },
  {
   "cell_type": "code",
   "execution_count": null,
   "metadata": {
    "ExecuteTime": {
     "end_time": "2019-03-21T21:27:37.937135Z",
     "start_time": "2019-03-21T21:27:37.784804Z"
    },
    "hidden": true
   },
   "outputs": [],
   "source": [
    "binwidth = 0.5\n",
    "\n",
    "data = iris_df['sepal length (cm)'].tolist()\n",
    "\n",
    "plt.hist(data, bins=np.arange(min(data), max(data) + binwidth, binwidth))"
   ]
  },
  {
   "cell_type": "code",
   "execution_count": null,
   "metadata": {
    "ExecuteTime": {
     "end_time": "2019-02-25T23:45:34.746750Z",
     "start_time": "2019-02-25T23:45:34.605926Z"
    },
    "hidden": true
   },
   "outputs": [],
   "source": [
    "x0 = np.random.randn(500)\n",
    "x1 = np.random.randn(500) + 1.5\n",
    "\n",
    "trace1 = go.Histogram(\n",
    "    x=x0,\n",
    "    opacity=0.75\n",
    ")\n",
    "\n",
    "trace2 = go.Histogram(\n",
    "    x=x1,\n",
    "    opacity=0.75\n",
    ")\n",
    "\n",
    "data = [ trace1, trace2 ]\n",
    "layout = go.Layout(barmode='overlay')\n",
    "fig = go.Figure(data=data, layout=layout)\n",
    "\n",
    "plotly.offline.iplot(data)"
   ]
  },
  {
   "cell_type": "markdown",
   "metadata": {
    "heading_collapsed": true,
    "hidden": true
   },
   "source": [
    "### Subplot"
   ]
  },
  {
   "cell_type": "code",
   "execution_count": null,
   "metadata": {
    "ExecuteTime": {
     "end_time": "2019-02-25T23:47:57.067426Z",
     "start_time": "2019-02-25T23:47:56.626179Z"
    },
    "hidden": true
   },
   "outputs": [],
   "source": [
    "import cufflinks as cf"
   ]
  },
  {
   "cell_type": "markdown",
   "metadata": {
    "heading_collapsed": true,
    "hidden": true
   },
   "source": [
    "### Scatter plot\n",
    "\n",
    "* text\n",
    "* vline n hline\n",
    "* legends\n",
    "* xlabel n ylabel\n",
    "* title\n"
   ]
  },
  {
   "cell_type": "code",
   "execution_count": null,
   "metadata": {
    "ExecuteTime": {
     "end_time": "2019-05-01T18:59:36.146393Z",
     "start_time": "2019-05-01T18:59:35.949845Z"
    },
    "hidden": true
   },
   "outputs": [],
   "source": [
    "iris_df.columns\n",
    "iris_df.plot(x='sepal length (cm)', y=['sepal width (cm)', 'petal length (cm)'], \n",
    "             style='o',\n",
    "             figsize=(10,5), \n",
    "             grid=True)"
   ]
  },
  {
   "cell_type": "code",
   "execution_count": null,
   "metadata": {
    "ExecuteTime": {
     "end_time": "2019-02-26T01:53:04.529025Z",
     "start_time": "2019-02-26T01:53:04.355104Z"
    },
    "hidden": true
   },
   "outputs": [],
   "source": [
    "\n",
    "x=[0, 1, 2, 3, 4, 5, 6, 7, 8]\n",
    "y=[0, 1, 2, 3, 4, 5, 6, 7, 8]\n",
    "\n",
    "df = pd.DataFrame({'x': x, 'y': y})\n",
    "df.head()\n",
    "\n",
    "\n",
    "trace1 =     go.Scatter(\n",
    "        x=df['x'], # assign x as the dataframe column 'x'\n",
    "        y=df['y'],\n",
    "        name='Name of Trace 1: Using pandas'\n",
    "    )\n",
    "\n",
    "trace2 = go.Scatter(\n",
    "    x=[0, 1, 2, 3, 4, 5, 6, 7, 8],\n",
    "    y=[1, 0, 3, 2, 5, 4, 7, 6, 8],\n",
    "    name='Name of Trace 2. Not using pandas'\n",
    ")\n",
    "\n",
    "layout = go.Layout(\n",
    "    title='Ex: Line Plot with Title',\n",
    "    xaxis=dict(\n",
    "        title='x Axis',\n",
    "        titlefont=dict(\n",
    "            family='Courier New, monospace',\n",
    "            size=18,\n",
    "            color='#7f7f7f'\n",
    "        )\n",
    "    ),\n",
    "    yaxis=dict(\n",
    "        title='y Axis',\n",
    "        titlefont=dict(\n",
    "            family='Courier New, monospace',\n",
    "            size=18,\n",
    "            color='#7f7f7f'\n",
    "        )\n",
    "    )\n",
    ")\n",
    "\n",
    "data = [ trace1, trace2]\n",
    "\n",
    "fig = go.Figure(data=data, layout=layout)\n",
    "plotly.offline.iplot(fig)\n"
   ]
  },
  {
   "cell_type": "markdown",
   "metadata": {},
   "source": [
    "## Modeling \n",
    "\n"
   ]
  },
  {
   "cell_type": "markdown",
   "metadata": {
    "heading_collapsed": true
   },
   "source": [
    "### Model validation\n",
    "\n",
    "* k-fold\n",
    "* split train, val n test"
   ]
  },
  {
   "cell_type": "markdown",
   "metadata": {
    "heading_collapsed": true
   },
   "source": [
    "### Model tunning\n",
    "    1. gridseach\n",
    "    2. sthocastic search\n"
   ]
  },
  {
   "cell_type": "markdown",
   "metadata": {},
   "source": [
    "### Evaluation metrics"
   ]
  },
  {
   "cell_type": "markdown",
   "metadata": {
    "ExecuteTime": {
     "end_time": "2018-09-11T18:45:22.985857Z",
     "start_time": "2018-09-11T18:45:22.979639Z"
    },
    "heading_collapsed": true
   },
   "source": [
    "#### Accuracy  and confusion matrix"
   ]
  },
  {
   "cell_type": "code",
   "execution_count": null,
   "metadata": {
    "ExecuteTime": {
     "end_time": "2018-12-18T23:25:12.339699Z",
     "start_time": "2018-12-18T23:25:12.321161Z"
    },
    "hidden": true
   },
   "outputs": [],
   "source": [
    "## Accuracy \n",
    "\n",
    "from sklearn.metrics import accuracy_score, confusion_matrix\n",
    "from tabulate import tabulate\n",
    "\n",
    "np.random.seed(2018)\n",
    "\n",
    "y_true = np.random.uniform(size=7) > .5\n",
    "y_pred = np.random.uniform(size=7) > .4\n",
    "\n",
    "acc = accuracy_score(y_true, y_pred)\n",
    "print('Fake data')\n",
    "print('y_true: {}'.format(y_true))\n",
    "print('y_pred: {}'.format(y_pred))\n",
    "\n",
    "print('accuracy: {}'.format(acc))\n",
    "\n",
    "cf_m = confusion_matrix(y_true, y_pred)\n",
    "\n",
    "cf_df = pd.DataFrame(cf_m, index=[\"Actual Positive\", \"Actual Negative\"], columns = [\"Predicted Positive\", \"Predicted Negative\"])\n",
    "tn, fp, fn, tp = confusion_matrix(y_true, y_pred).ravel()\n",
    "\n",
    "FPR = fp/(fp+tn)\n",
    "FNR = fn/(tp+fn)\n",
    "\n",
    "print(tabulate(cf_df, tablefmt=\"orgtbl\",\n",
    "               headers=\"keys\"))\n",
    "\n",
    "\n",
    "print()\n",
    "print('FPR: {}'.format(FPR))\n",
    "print('FNR: {}'.format(FNR))\n",
    "\n",
    "print()\n"
   ]
  },
  {
   "cell_type": "markdown",
   "metadata": {
    "hidden": true,
    "variables": {
     "print(tabulate(cf_df, headers=\"keys\", tablefmt=\"html\"))": "<p><strong>NameError</strong>: name &#39;tabulate&#39; is not defined</p>\n"
    }
   },
   "source": [
    "=================================\n",
    "\n",
    "For markdwon cells, insert the code in a markdown cell. \n",
    "\n",
    "```python\n",
    "\\{\\{print(tabulate(cf_df, headers=\"keys\", tablefmt=\"html\"))\\}\\}\n",
    "```\n",
    "\n",
    "\n",
    "{{print(tabulate(cf_df, headers=\"keys\", tablefmt=\"html\"))}}\n"
   ]
  },
  {
   "cell_type": "markdown",
   "metadata": {},
   "source": [
    "#### Precision Recall Curve, AUC and F score\n"
   ]
  },
  {
   "cell_type": "markdown",
   "metadata": {
    "heading_collapsed": true
   },
   "source": [
    "#####  Downsampling data example\n",
    "\n",
    "Does need to run one time int he case we do not have data/creditcard_downsampled.csv.tar.bz2.\n",
    "\n",
    "Also is an example of downsampling data.\n",
    "\n",
    "Data downloaded from:\n",
    "https://www.kaggle.com/mlg-ulb/creditcardfraud\n",
    "\n",
    "\n",
    "* The original imbalance ratio (492:284315): 0.002\n",
    "* Downsample the majority to reach the ratio 1:3 , just to have small data set"
   ]
  },
  {
   "cell_type": "code",
   "execution_count": null,
   "metadata": {
    "ExecuteTime": {
     "end_time": "2018-12-18T23:25:29.891165Z",
     "start_time": "2018-12-18T23:25:29.734852Z"
    },
    "hidden": true
   },
   "outputs": [],
   "source": [
    "## Does not need to run this again once you have credicard_downsampled.csv.tar.bz2\n",
    "creditcard_df = pd.read_csv('data/creditcard.csv.zip', compression='zip', sep=',', quotechar='\"')\n",
    "\n",
    "creditcard_df.sample(3).head(3)\n",
    "\n",
    "n_pos = np.sum(creditcard_df.Class == True)\n",
    "print('#positives: {}'.format(n_pos))\n",
    "\n",
    "n_neg = np.sum(creditcard_df.Class == False)\n",
    "print('#negatives: {}'.format(n_neg))\n",
    "\n",
    "r = n_pos/(n_pos + n_neg)\n",
    "print('Imbalance data ratio ({0}:{1}): {2:.3f}'.format(n_pos,n_neg,r))"
   ]
  },
  {
   "cell_type": "markdown",
   "metadata": {
    "hidden": true
   },
   "source": [
    "downsample both class to have smaller dataset"
   ]
  },
  {
   "cell_type": "code",
   "execution_count": null,
   "metadata": {
    "ExecuteTime": {
     "end_time": "2018-12-18T23:28:02.127736Z",
     "start_time": "2018-12-18T23:28:02.112351Z"
    },
    "hidden": true
   },
   "outputs": [],
   "source": [
    "from sklearn.utils import resample\n",
    "\n",
    "# Separate majority and minority classes\n",
    "df_majority = creditcard_df[creditcard_df.Class==0]\n",
    "df_minority = creditcard_df[creditcard_df.Class==1]\n",
    " \n",
    "# Downsample majority class\n",
    "df_majority_downsampled = resample(df_majority, \n",
    "                                 replace=False,    # sample without replacement\n",
    "                                 n_samples=2000,     # to match minority class\n",
    "                                 random_state=123) # reproducible results\n",
    " \n",
    "\n",
    "# Combine minority class with downsampled majority class\n",
    "df_downsampled = pd.concat([df_majority_downsampled, df_minority])\n",
    "df_downsampled = df_downsampled.reset_index(drop=True)\n",
    "\n",
    "\n",
    "# Saving\n",
    "df_downsampled.to_csv('data/creditcard_downsampled.csv', index=False)"
   ]
  },
  {
   "cell_type": "code",
   "execution_count": null,
   "metadata": {
    "ExecuteTime": {
     "end_time": "2018-09-12T00:54:20.033096Z",
     "start_time": "2018-09-12T00:54:19.895823Z"
    },
    "hidden": true,
    "scrolled": true
   },
   "outputs": [],
   "source": [
    "%%bash\n",
    "\n",
    "# remove old file\n",
    "rm -v data/creditcard_downsampled.csv.tar.bz2 \n",
    "tar -cjvf  data/creditcard_downsampled.csv.tar.bz2 data/creditcard_downsampled.csv\n",
    "\n",
    "rm -v data/creditcard_downsampled.csv\n",
    "\n",
    "du -sh data/*"
   ]
  },
  {
   "cell_type": "markdown",
   "metadata": {
    "heading_collapsed": true
   },
   "source": [
    "##### Load downsampled data"
   ]
  },
  {
   "cell_type": "code",
   "execution_count": null,
   "metadata": {
    "ExecuteTime": {
     "end_time": "2018-12-18T23:28:24.243220Z",
     "start_time": "2018-12-18T23:28:23.776243Z"
    },
    "code_folding": [],
    "hidden": true
   },
   "outputs": [],
   "source": [
    "## load\n",
    "creditcard_df = pd.read_csv('data/creditcard_downsampled.csv.tar.bz2', compression='bz2', \n",
    "                            sep=',', quotechar='\"', index_col=False)\n",
    "\n",
    "creditcard_df = creditcard_df.dropna()\n",
    "creditcard_df[['Class','Amount']].describe()\n",
    "\n",
    "creditcard_df['Class'] = creditcard_df.Class.astype(int)\n",
    "\n",
    "creditcard_df.sample(3).head(3)\n",
    "\n",
    "n_pos = np.sum(creditcard_df.Class == True)\n",
    "print('#positives: {}'.format(n_pos))\n",
    "\n",
    "n_neg = np.sum(creditcard_df.Class == False)\n",
    "print('#negatives: {}'.format(n_neg))\n",
    "\n",
    "r = n_pos/(n_pos + n_neg)\n",
    "print('Imbalance data ratio ({0}:{1}): {2:.3f}'.format(n_pos,n_neg,r))"
   ]
  },
  {
   "cell_type": "markdown",
   "metadata": {
    "ExecuteTime": {
     "end_time": "2018-09-11T22:48:44.360057Z",
     "start_time": "2018-09-11T22:48:44.354568Z"
    },
    "heading_collapsed": true
   },
   "source": [
    "#### Training 2 models"
   ]
  },
  {
   "cell_type": "code",
   "execution_count": null,
   "metadata": {
    "ExecuteTime": {
     "end_time": "2018-12-18T23:28:32.035711Z",
     "start_time": "2018-12-18T23:28:32.020487Z"
    },
    "hidden": true
   },
   "outputs": [],
   "source": [
    "from sklearn.model_selection import train_test_split\n",
    "\n",
    "X = creditcard_df[creditcard_df.columns[:-1]]\n",
    "y = creditcard_df[creditcard_df.columns[-1]]\n",
    "\n",
    "X_train, X_test, y_train, y_test = train_test_split(X, y, random_state=2018, test_size=0.3)\n"
   ]
  },
  {
   "cell_type": "code",
   "execution_count": null,
   "metadata": {
    "ExecuteTime": {
     "end_time": "2018-12-18T23:28:35.440899Z",
     "start_time": "2018-12-18T23:28:35.267603Z"
    },
    "hidden": true
   },
   "outputs": [],
   "source": [
    "# random forests\n",
    "from sklearn.ensemble import RandomForestClassifier\n",
    "from sklearn.linear_model import LogisticRegression\n",
    "\n",
    "rf = RandomForestClassifier(n_estimators = 15,max_depth=5,\n",
    "                            random_state=0).fit(X_train, y_train)\n",
    "\n",
    "\n",
    "lr = LogisticRegression().fit(X_train, y_train)\n"
   ]
  },
  {
   "cell_type": "markdown",
   "metadata": {
    "ExecuteTime": {
     "end_time": "2018-09-11T23:58:38.823835Z",
     "start_time": "2018-09-11T23:58:38.818282Z"
    },
    "heading_collapsed": true
   },
   "source": [
    "#### Precision n Recall Curves"
   ]
  },
  {
   "cell_type": "code",
   "execution_count": null,
   "metadata": {
    "ExecuteTime": {
     "end_time": "2018-12-18T23:28:36.801429Z",
     "start_time": "2018-12-18T23:28:36.497983Z"
    },
    "hidden": true
   },
   "outputs": [],
   "source": [
    "from sklearn.metrics import precision_recall_curve\n",
    "\n",
    "\n",
    "y_true = y_test > 0.5\n",
    "y_score_rf = rf.predict_proba(X_test)[:,-1]\n",
    "y_score_lr = lr.predict_proba(X_test)[:,-1]\n",
    "np.random.seed(2018)\n",
    "y_score_rd = np.random.uniform(size=y_test.shape[0])\n",
    "y_score_perfect = y_test\n",
    "\n",
    "r = n_pos/(n_pos + n_neg)\n",
    "print('Imbalance data ratio ({0}:{1}): {2:.3f}'.format(n_pos,n_neg,r))\n",
    "\n",
    "precision1, recall1, thrs1 = precision_recall_curve(y_true, y_score_rf)\n",
    "\n",
    "precision2, recall2, thrs2 = precision_recall_curve(y_true, y_score_lr)\n",
    "\n",
    "precision3, recall3, thrs3 = precision_recall_curve(y_true, y_score_rd)\n",
    "\n",
    "precision4, recall4, thrs4 = precision_recall_curve(y_true, y_score_perfect)\n",
    "\n",
    "\n",
    "plt.plot(recall1, precision1, marker='.',label='random florest');\n",
    "plt.plot(recall2, precision2, marker='.', label='logistic regression');\n",
    "plt.plot(recall3, precision3, marker='.', label='random uniform');\n",
    "plt.plot(recall4, precision4, marker='.', label='perfect classifier');\n",
    "plt.plot([0, 1], [r, r], linestyle='--',label='Random');\n",
    "plt.legend();\n",
    "                                              "
   ]
  },
  {
   "cell_type": "code",
   "execution_count": null,
   "metadata": {
    "ExecuteTime": {
     "end_time": "2018-12-18T23:28:39.632561Z",
     "start_time": "2018-12-18T23:28:39.626206Z"
    },
    "hidden": true
   },
   "outputs": [],
   "source": [
    "# TODO: implement this later better. Give the options to pass multiple model for comparison\n",
    "def plot_prec_recall_vs_tresh(precisions, recalls, thresholds):\n",
    "    \n",
    "    plt.plot(thresholds, precisions[:-1], 'b--', label='precision')\n",
    "    plt.plot(thresholds, recalls[:-1], 'g--', label = 'recall')\n",
    "    plt.xlabel('Threshold')\n",
    "    plt.legend(loc='upper left')\n",
    "    plt.ylim([0,1])\n",
    "    "
   ]
  },
  {
   "cell_type": "code",
   "execution_count": null,
   "metadata": {
    "ExecuteTime": {
     "end_time": "2018-12-18T23:28:40.330398Z",
     "start_time": "2018-12-18T23:28:40.132008Z"
    },
    "hidden": true
   },
   "outputs": [],
   "source": [
    "from sklearn.metrics import f1_score, auc\n",
    "\n",
    "area = auc(recall1, precision1)\n",
    "\n",
    "f = f1_score(y_true, y_score_rf > 0.5 , average='micro')\n",
    "\n",
    "print('AUCPRC: {}'.format(area))\n",
    "print('f1 score: {}'.format(f))\n",
    "\n",
    "\n",
    "# precision_recall_curve returns precision  and recall as a array od shape = [n_thresholds + 1] \n",
    "thrs1.shape\n",
    "recall1.shape\n",
    "precision1.shape\n",
    "\n",
    "precision = precision1[:-1]\n",
    "recall = recall1[:-1]\n",
    "\n",
    "precision.shape\n",
    "recall.shape\n",
    "\n",
    "f_scores = 2 * (precision * recall) / (precision + recall)\n",
    "\n",
    "plt.plot(thrs1, precision, marker='.',label='precision');\n",
    "plt.plot(thrs1, recall, marker='.', label='recall');\n",
    "plt.plot(thrs1, f_scores, marker='.', label='f score');\n",
    "plt.legend();"
   ]
  },
  {
   "cell_type": "markdown",
   "metadata": {
    "heading_collapsed": true
   },
   "source": [
    "#### EER: Equal error"
   ]
  },
  {
   "cell_type": "code",
   "execution_count": null,
   "metadata": {
    "ExecuteTime": {
     "end_time": "2018-12-18T23:30:21.681402Z",
     "start_time": "2018-12-18T23:30:21.674328Z"
    },
    "hidden": true
   },
   "outputs": [],
   "source": [
    "from sklearn.metrics import roc_curve\n",
    "\n",
    "fpr1, tpr1, thr1 = roc_curve(y_true, y_score_rf)\n",
    "fnr1 = 1.0 - tpr1\n",
    "\n",
    "EER1_pos = np.argmin(abs(fnr1-fpr1))\n",
    "EER1_thr1 = thr1[EER1_pos]\n",
    "\n",
    "print('thr @ EER: {}'.format(EER1_thr1))\n",
    "print('fpr @ EER: {}'.format(fpr1[EER1_pos]))\n",
    "print('fnr @ EER: {}'.format(fnr1[EER1_pos]))\n"
   ]
  },
  {
   "cell_type": "markdown",
   "metadata": {
    "ExecuteTime": {
     "end_time": "2019-03-07T21:06:25.029566Z",
     "start_time": "2019-03-07T21:06:25.022393Z"
    }
   },
   "source": [
    "### Model interpretation\n",
    "\n",
    "TODO: \n",
    "    \n",
    "1. importance plot\n",
    "2. LIME"
   ]
  },
  {
   "cell_type": "markdown",
   "metadata": {},
   "source": [
    "### Model report\n",
    "\n",
    "* Graphs, statistics n tables to report to business (non-thecnicak) persons\n",
    "* Prhases templates to use when describe n report the model performance (one per model type)\n"
   ]
  },
  {
   "cell_type": "code",
   "execution_count": null,
   "metadata": {},
   "outputs": [],
   "source": []
  }
 ],
 "metadata": {
  "kernelspec": {
   "display_name": "Python [default]",
   "language": "python",
   "name": "python3"
  },
  "language_info": {
   "codemirror_mode": {
    "name": "ipython",
    "version": 3
   },
   "file_extension": ".py",
   "mimetype": "text/x-python",
   "name": "python",
   "nbconvert_exporter": "python",
   "pygments_lexer": "ipython3",
   "version": "3.6.5"
  }
 },
 "nbformat": 4,
 "nbformat_minor": 2
}
