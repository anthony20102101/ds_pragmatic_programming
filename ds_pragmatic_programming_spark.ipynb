{
 "cells": [
  {
   "cell_type": "markdown",
   "metadata": {},
   "source": [
    "# Spark \n",
    "\n",
    "\n",
    "* how to run using docker image for spark\n",
    "\n",
    "    * options is the course docker image: ucsddse230/cse255-dse230\n",
    " \n",
    "```sh\n",
    "docker run --name edx_big_data -it -p 8889:8888 -v /media/leandroohf/sdb1/leandro/edx_big_data_analytics_using_spark:/home/ucsddse230/ ucsddse230/cse255-dse230 /bin/bash\n",
    "\n",
    "# If you need to ssh to the container\n",
    "docker exec -it edx_big_data /bin/bash\n",
    "\n",
    "```\n",
    "    * serach a simple docker image in docker hub\n",
    "\n",
    "\n",
    "* Basic operations\n",
    "\n"
   ]
  },
  {
   "cell_type": "code",
   "execution_count": 4,
   "metadata": {
    "ExecuteTime": {
     "end_time": "2019-04-26T17:39:21.932370Z",
     "start_time": "2019-04-26T17:39:20.476800Z"
    }
   },
   "outputs": [],
   "source": [
    "import numpy as np\n",
    "import pandas as pd\n",
    "\n",
    "from scipy import stats\n",
    "\n",
    "import matplotlib\n",
    "import matplotlib.pyplot as plt\n",
    "%matplotlib inline \n",
    "\n",
    "import IPython\n",
    "from IPython.core.interactiveshell import InteractiveShell\n",
    "InteractiveShell.ast_node_interactivity = \"all\"\n",
    "\n",
    "from sqlalchemy import create_engine\n",
    "import datetime as dt\n"
   ]
  },
  {
   "cell_type": "markdown",
   "metadata": {},
   "source": [
    "## Creation"
   ]
  },
  {
   "cell_type": "code",
   "execution_count": null,
   "metadata": {},
   "outputs": [],
   "source": []
  },
  {
   "cell_type": "markdown",
   "metadata": {},
   "source": [
    "## Transfortmations\n",
    "\n"
   ]
  },
  {
   "cell_type": "markdown",
   "metadata": {},
   "source": [
    "* You cannot use any operation on the map functio. The operation should NOT depend of the other like subtraction or division. Will get different results while runnning multiple times"
   ]
  },
  {
   "cell_type": "code",
   "execution_count": null,
   "metadata": {},
   "outputs": [],
   "source": [
    "# groupByKey return (key, <iterator>)\n",
    "\n",
    "A = sc.parallelize([(1,3), (3,100),(1,-5),(3,2)])\n",
    "A.groupByKey().mapValues(lambda x: [elem for elem in x ])\n",
    "\n",
    "# output\n",
    "#[ (1, [3,-5]), (3, [100, 2]) ]\n",
    "\n",
    "#  countByKey: returns dictionary\n",
    "A = sc.parallelize([(1,3), (3,100),(1,-5),(3,2)])\n",
    "\n",
    "A.countByKey()\n",
    "\n",
    "# output (dictionnary\n",
    "# {1:2, 3:2}\n",
    "\n",
    "# lookup (key): returns the list of all of the values associated with key\n",
    "A = sc.parallelize([(1,3), (3,100),(1,-5),(3,2)])\n",
    "\n",
    "A.lookup(3)\n",
    "\n",
    "# output (list)\n",
    "# [100,2]\n",
    "\n",
    "#  collectAsMap(): like collect() - collect returns list of tuples -  but returns a map = Dictionary\n",
    "A = sc.parallelize([(1,3), (3,100),(1,-5),(3,2)])\n",
    "A.collectAsMap()\n",
    "\n",
    "# output Dictionary\n",
    "# {1:[3,-5], 3: [100,2]}"
   ]
  },
  {
   "cell_type": "code",
   "execution_count": null,
   "metadata": {},
   "outputs": [],
   "source": [
    "## Famous word count example (hello word)\n",
    "\n",
    "words = ['this', 'is', 'the', 'best', 'mac', 'ever']\n",
    "\n",
    "wordRDD = sc.parallelize(words)\n",
    "\n",
    "wordRDD.reduce(lambda w,v: w if len(w) < len(v) else v)\n",
    "\n",
    "# another example is sum (the prder does not matter)\n",
    "B=sc.parallelize([1,3,5,2])\n",
    "\n",
    "B.reduce(lambda x,y: x+y)\n"
   ]
  },
  {
   "cell_type": "markdown",
   "metadata": {},
   "source": [
    "## Actions"
   ]
  },
  {
   "cell_type": "code",
   "execution_count": null,
   "metadata": {},
   "outputs": [],
   "source": []
  }
 ],
 "metadata": {
  "kernelspec": {
   "display_name": "Python [conda root]",
   "language": "python",
   "name": "conda-root-py"
  },
  "language_info": {
   "codemirror_mode": {
    "name": "ipython",
    "version": 3
   },
   "file_extension": ".py",
   "mimetype": "text/x-python",
   "name": "python",
   "nbconvert_exporter": "python",
   "pygments_lexer": "ipython3",
   "version": "3.6.8"
  }
 },
 "nbformat": 4,
 "nbformat_minor": 2
}
